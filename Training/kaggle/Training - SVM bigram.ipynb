{
 "cells": [
  {
   "cell_type": "code",
   "execution_count": 1,
   "metadata": {
    "pycharm": {
     "name": "#%%\n"
    }
   },
   "outputs": [],
   "source": [
    "import pandas as pd\n",
    "import numpy as np\n",
    "import nltk\n",
    "from tqdm import tqdm\n",
    "tqdm.pandas()\n",
    "import matplotlib.pyplot as plt\n",
    "plt.style.use('ggplot')\n",
    "from nltk.corpus import stopwords\n",
    "from nltk.tokenize import word_tokenize\n",
    "import contractions\n",
    "from contractions import contractions_dict\n",
    "contractions.add(\"n't\", \"not\")\n",
    "contractions.add(\"nt\", \"not\")\n",
    "import string\n",
    "punctuation_string = string.punctuation\n",
    "import re\n",
    "import spacy\n",
    "nlp = spacy.load('en_core_web_sm', disable=['parser', 'ner']) # Initialize spacy 'en' model, keeping only tagger component needed for lemmatization\n",
    "from sklearn.model_selection import train_test_split\n",
    "from sklearn.model_selection import cross_val_score\n",
    "from sklearn.model_selection import KFold\n",
    "import time as t\n",
    "import sklearn.metrics as sm\n",
    "from sklearn.feature_extraction.text import TfidfVectorizer\n",
    "from sklearn.naive_bayes import MultinomialNB\n",
    "from sklearn.model_selection import cross_val_predict\n",
    "from sklearn.pipeline import Pipeline\n",
    "from sklearn.svm import LinearSVC\n",
    "from sklearn.model_selection import GridSearchCV\n",
    "from sklearn.linear_model import LogisticRegression\n",
    "from sklearn.model_selection import RepeatedStratifiedKFold\n",
    "#from jsondataset import files_in_directory\n",
    "from pickle import dump\n",
    "from pickle import load\n",
    "from sklearn.preprocessing import StandardScaler\n",
    "from sklearn.ensemble import VotingClassifier\n",
    "from sklearn.ensemble import RandomForestClassifier\n",
    "from sklearn.tree import DecisionTreeClassifier\n",
    "import time\n",
    "from sklearn.preprocessing import label_binarize\n",
    "from sklearn.model_selection import RandomizedSearchCV"
   ]
  },
  {
   "cell_type": "code",
   "execution_count": 2,
   "metadata": {
    "pycharm": {
     "name": "#%%\n"
    }
   },
   "outputs": [],
   "source": [
    "df = pd.read_csv('/Users/shaheedismail/Documents/A- MSc Data Science/Msc Thesis/Msc-Project/combo_Am_Hand.csv')"
   ]
  },
  {
   "cell_type": "code",
   "execution_count": 3,
   "metadata": {
    "pycharm": {
     "name": "#%%\n"
    }
   },
   "outputs": [
    {
     "name": "stdout",
     "output_type": "stream",
     "text": [
      "<class 'pandas.core.frame.DataFrame'>\n",
      "RangeIndex: 55347 entries, 0 to 55346\n",
      "Data columns (total 3 columns):\n",
      " #   Column      Non-Null Count  Dtype \n",
      "---  ------      --------------  ----- \n",
      " 0   review      55346 non-null  object\n",
      " 1   polarity    55347 non-null  object\n",
      " 2   nltk_texts  55347 non-null  object\n",
      "dtypes: object(3)\n",
      "memory usage: 1.3+ MB\n"
     ]
    }
   ],
   "source": [
    "df.info()"
   ]
  },
  {
   "cell_type": "code",
   "execution_count": 4,
   "metadata": {
    "pycharm": {
     "name": "#%%\n"
    }
   },
   "outputs": [
    {
     "data": {
      "text/html": [
       "<div>\n",
       "<style scoped>\n",
       "    .dataframe tbody tr th:only-of-type {\n",
       "        vertical-align: middle;\n",
       "    }\n",
       "\n",
       "    .dataframe tbody tr th {\n",
       "        vertical-align: top;\n",
       "    }\n",
       "\n",
       "    .dataframe thead th {\n",
       "        text-align: right;\n",
       "    }\n",
       "</style>\n",
       "<table border=\"1\" class=\"dataframe\">\n",
       "  <thead>\n",
       "    <tr style=\"text-align: right;\">\n",
       "      <th></th>\n",
       "      <th>review</th>\n",
       "      <th>polarity</th>\n",
       "      <th>nltk_texts</th>\n",
       "    </tr>\n",
       "  </thead>\n",
       "  <tbody>\n",
       "    <tr>\n",
       "      <th>0</th>\n",
       "      <td>order   op   nail polish receive one   please ...</td>\n",
       "      <td>pos</td>\n",
       "      <td>&lt;Text: I ordered 2 of the OP! nail polish...&gt;</td>\n",
       "    </tr>\n",
       "    <tr>\n",
       "      <th>1</th>\n",
       "      <td>love color opi   product come timely manner   ...</td>\n",
       "      <td>pos</td>\n",
       "      <td>&lt;Text: Love this color and OPI. Product came i...</td>\n",
       "    </tr>\n",
       "    <tr>\n",
       "      <th>2</th>\n",
       "      <td>not like definitely not worth price    s thick...</td>\n",
       "      <td>neg</td>\n",
       "      <td>&lt;Text: because I didn't like this at all and...&gt;</td>\n",
       "    </tr>\n",
       "    <tr>\n",
       "      <th>3</th>\n",
       "      <td>cool pen five star</td>\n",
       "      <td>pos</td>\n",
       "      <td>&lt;Text: Cool pen Five Stars...&gt;</td>\n",
       "    </tr>\n",
       "    <tr>\n",
       "      <th>4</th>\n",
       "      <td>immortan joe carry way valhalla tell    shiny ...</td>\n",
       "      <td>neg</td>\n",
       "      <td>&lt;Text: Immortan Joe carried me all the way to...&gt;</td>\n",
       "    </tr>\n",
       "    <tr>\n",
       "      <th>...</th>\n",
       "      <td>...</td>\n",
       "      <td>...</td>\n",
       "      <td>...</td>\n",
       "    </tr>\n",
       "    <tr>\n",
       "      <th>55342</th>\n",
       "      <td>bmw</td>\n",
       "      <td>neut</td>\n",
       "      <td>&lt;Text: 15  Any BMW...&gt;</td>\n",
       "    </tr>\n",
       "    <tr>\n",
       "      <th>55343</th>\n",
       "      <td>top world kidé</td>\n",
       "      <td>pos</td>\n",
       "      <td>&lt;Text: On top of the world kidüòé...&gt;</td>\n",
       "    </tr>\n",
       "    <tr>\n",
       "      <th>55344</th>\n",
       "      <td>tudent oicer conduct midnight patrol around ci...</td>\n",
       "      <td>neg</td>\n",
       "      <td>&lt;Text: Student officers conducting midnight pa...</td>\n",
       "    </tr>\n",
       "    <tr>\n",
       "      <th>55345</th>\n",
       "      <td>a red notice</td>\n",
       "      <td>neut</td>\n",
       "      <td>&lt;Text: SAS Red Notice https://t.co/8io4GGQMXT...&gt;</td>\n",
       "    </tr>\n",
       "    <tr>\n",
       "      <th>55346</th>\n",
       "      <td>womb enough gender twice dr maybe</td>\n",
       "      <td>neut</td>\n",
       "      <td>&lt;Text:  The Womb Is Not Enough\\nYou only Gende...</td>\n",
       "    </tr>\n",
       "  </tbody>\n",
       "</table>\n",
       "<p>55346 rows × 3 columns</p>\n",
       "</div>"
      ],
      "text/plain": [
       "                                                  review polarity  \\\n",
       "0      order   op   nail polish receive one   please ...      pos   \n",
       "1      love color opi   product come timely manner   ...      pos   \n",
       "2      not like definitely not worth price    s thick...      neg   \n",
       "3                                     cool pen five star      pos   \n",
       "4      immortan joe carry way valhalla tell    shiny ...      neg   \n",
       "...                                                  ...      ...   \n",
       "55342                                                bmw     neut   \n",
       "55343                                     top world kidé      pos   \n",
       "55344  tudent oicer conduct midnight patrol around ci...      neg   \n",
       "55345                                       a red notice     neut   \n",
       "55346                  womb enough gender twice dr maybe     neut   \n",
       "\n",
       "                                              nltk_texts  \n",
       "0          <Text: I ordered 2 of the OP! nail polish...>  \n",
       "1      <Text: Love this color and OPI. Product came i...  \n",
       "2       <Text: because I didn't like this at all and...>  \n",
       "3                         <Text: Cool pen Five Stars...>  \n",
       "4      <Text: Immortan Joe carried me all the way to...>  \n",
       "...                                                  ...  \n",
       "55342                             <Text: 15  Any BMW...>  \n",
       "55343              <Text: On top of the world kidüòé...>  \n",
       "55344  <Text: Student officers conducting midnight pa...  \n",
       "55345  <Text: SAS Red Notice https://t.co/8io4GGQMXT...>  \n",
       "55346  <Text:  The Womb Is Not Enough\\nYou only Gende...  \n",
       "\n",
       "[55346 rows x 3 columns]"
      ]
     },
     "execution_count": 4,
     "metadata": {},
     "output_type": "execute_result"
    }
   ],
   "source": [
    "df.dropna()"
   ]
  },
  {
   "cell_type": "code",
   "execution_count": 5,
   "metadata": {
    "pycharm": {
     "name": "#%%\n"
    }
   },
   "outputs": [
    {
     "data": {
      "text/plain": [
       "0        order   op   nail polish receive one   please ...\n",
       "1        love color opi   product come timely manner   ...\n",
       "2        not like definitely not worth price    s thick...\n",
       "3                                       cool pen five star\n",
       "4        immortan joe carry way valhalla tell    shiny ...\n",
       "                               ...                        \n",
       "55342                                                  bmw\n",
       "55343                                       top world kidé\n",
       "55344    tudent oicer conduct midnight patrol around ci...\n",
       "55345                                         a red notice\n",
       "55346                    womb enough gender twice dr maybe\n",
       "Name: review, Length: 55347, dtype: object"
      ]
     },
     "execution_count": 5,
     "metadata": {},
     "output_type": "execute_result"
    }
   ],
   "source": [
    "df['review']"
   ]
  },
  {
   "cell_type": "code",
   "execution_count": 6,
   "metadata": {
    "pycharm": {
     "name": "#%%\n"
    }
   },
   "outputs": [
    {
     "name": "stdout",
     "output_type": "stream",
     "text": [
      "<class 'pandas.core.frame.DataFrame'>\n",
      "RangeIndex: 55347 entries, 0 to 55346\n",
      "Data columns (total 3 columns):\n",
      " #   Column      Non-Null Count  Dtype \n",
      "---  ------      --------------  ----- \n",
      " 0   review      55346 non-null  object\n",
      " 1   polarity    55347 non-null  object\n",
      " 2   nltk_texts  55347 non-null  object\n",
      "dtypes: object(3)\n",
      "memory usage: 1.3+ MB\n"
     ]
    }
   ],
   "source": [
    "df.info()"
   ]
  },
  {
   "cell_type": "code",
   "execution_count": 7,
   "metadata": {
    "pycharm": {
     "name": "#%%\n"
    }
   },
   "outputs": [],
   "source": [
    "y=df['polarity'].astype('str').array\n",
    "X=df['review'].astype('str').array"
   ]
  },
  {
   "cell_type": "code",
   "execution_count": 8,
   "metadata": {
    "pycharm": {
     "name": "#%%\n"
    }
   },
   "outputs": [
    {
     "data": {
      "text/plain": [
       "<PandasArray>\n",
       "[                                                                                                                                                                                                                                                                              'order   op   nail polish receive one   please ship one soon   thank order   op   nail polish',\n",
       "                                                                                                                                                                                                                            'love color opi   product come timely manner   enjoy name opi put product   put color edge follow right top coat seem last long   gorgeous color',\n",
       " 'not like definitely not worth price    s thick awkward get hard reach place   least   work well trim prior shaving   not let get point   s unnecessary anyway   m sure s go bikini use   not trim hair short enough want see bikini use    plus   price   rechargeable wetdry   save money   trimmer attachment husband electric razor work   time well   guess m minority',\n",
       "                                                                                                                                                                                                                                                                                                                                                         'cool pen five star',\n",
       "                                                                                                                                                                                                                                                                            'immortan joe carry way valhalla tell    shiny   eternal pearl   gtfo    go wrong   lovely spray',\n",
       "                                                                                                                                                                                                                                                 'turn work new hp pc win   computer   stop halfway   however seller description warn possibility hisher fault   alas   hope',\n",
       "                                                                                                                                                                                                       'phone case cute excited arrive timely manner   however   soon open snap phone   stone already fall   replace could put clear polish stone   hope hold   ble bow case',\n",
       "                      'remember choice available chilton hayne   always choose hayne   one manual last   vehicle own save thousand dollar repair cost   particularly like troubleshoot section base symptom noise   handy   person tell   ask old car guy   year tell s good idea one manual matter skilled mechanic   never buy car without one manual     hayne never fail',\n",
       "                                                                                                                                                                                                                                                              'cheap   cover burner   flimsy   cover burner   burn easily accidentally turn wrong burner   would buy   cover',\n",
       "                                                                                                                                                                                                                                                                                           'pick mistake shop manual   hope detail   still ok get good price   enough detail',\n",
       " ...\n",
       "                                                                                                                                                                                                                                                                                                                                                                'make cackle',\n",
       "                                                                                                                                                                                                                                                                                                                                            'live chizophrenia be ucceede xx',\n",
       "                                                                                                                                                                                                                                                                                                                                                                    'waridi ',\n",
       "                                                                                                                                                                                                 'ädecent people make montrou eriouly overheat thinking rhetoricä lot decent people try right thing eparate blunt debating intrument twitter careul thank david borntobemild',\n",
       "                                                                                                                                                                                                                                                                                                                              'grimby town ladie blundell park image co hpak',\n",
       "                                                                                                                                                                                                                                                                                                                                                                        'bmw',\n",
       "                                                                                                                                                                                                                                                                                                                                                             'top world kidé',\n",
       "                                                                                                                                                                                                                                                                                                          'tudent oicer conduct midnight patrol around city company cwg bull',\n",
       "                                                                                                                                                                                                                                                                                                                                                               'a red notice',\n",
       "                                                                                                                                                                                                                                                                                                                                          'womb enough gender twice dr maybe']\n",
       "Length: 55347, dtype: object"
      ]
     },
     "execution_count": 8,
     "metadata": {},
     "output_type": "execute_result"
    }
   ],
   "source": [
    "X"
   ]
  },
  {
   "cell_type": "code",
   "execution_count": 9,
   "metadata": {
    "pycharm": {
     "name": "#%%\n"
    }
   },
   "outputs": [],
   "source": [
    "# create pipeline\n",
    "start_time = time.time()\n",
    "estimators = []\n",
    "vectorizer = TfidfVectorizer(ngram_range=(1,3), max_features=1000)\n",
    "estimators.append(('vectorizer', vectorizer))\n",
    "estimators.append(('scaler', StandardScaler(with_mean=False)))\n",
    "estimators.append(('LinearSVC', LinearSVC(dual=False, max_iter=100)))\n",
    "model_SVC = Pipeline(estimators)\n",
    "\n",
    "\n",
    "# evaluate pipeline\n",
    "kfold = KFold(n_splits=10, random_state=7, shuffle=True)\n",
    "results = cross_val_score(model_SVC, X, y, cv=kfold)\n",
    "scoring = 'accuracy'\n",
    "cv_results = cross_val_score(model_SVC, X, y, cv=kfold, scoring=scoring)\n",
    "model_SVC.fit(X, y)\n",
    "predicted = cross_val_predict(model_SVC, X, y, cv=kfold)\n",
    "#predicted_prob = cross_val_predict(model_SVC, X, y, cv=kfold, method='predict_proba')"
   ]
  },
  {
   "cell_type": "code",
   "execution_count": 10,
   "metadata": {
    "pycharm": {
     "name": "#%%\n"
    }
   },
   "outputs": [
    {
     "name": "stdout",
     "output_type": "stream",
     "text": [
      "cv results  [0.79747064 0.7833785  0.79385727 0.80487805 0.7897019  0.80036134\n",
      " 0.80198735 0.79815685 0.79634984 0.78821829]\n",
      " \n",
      "classification report\n",
      "              precision    recall  f1-score   support\n",
      "\n",
      "         neg       0.77      0.79      0.78     18998\n",
      "        neut       0.76      0.71      0.74     18681\n",
      "         pos       0.86      0.89      0.87     17668\n",
      "\n",
      "    accuracy                           0.80     55347\n",
      "   macro avg       0.80      0.80      0.80     55347\n",
      "weighted avg       0.79      0.80      0.79     55347\n",
      "\n",
      " \n",
      "accuracy 0.7954360669955011\n",
      " \n",
      "precision 0.7953861282763661\n",
      " \n",
      "f1 0.7941036799799744\n",
      " \n",
      "jaccard 0.6649471081973556\n",
      " \n",
      "matthews corr 0.6934492342435858\n",
      " \n",
      "cohen's kapp 0.6930952236437167\n",
      " \n",
      "confusion matrix\n"
     ]
    },
    {
     "data": {
      "image/png": "[encoded data removed]",
      "text/plain": [
       "<Figure size 432x288 with 2 Axes>"
      ]
     },
     "metadata": {},
     "output_type": "display_data"
    },
    {
     "name": "stdout",
     "output_type": "stream",
     "text": [
      "26.186617235342663\n"
     ]
    }
   ],
   "source": [
    "#results\n",
    "print(\"cv results \", cv_results)\n",
    "print(' ')\n",
    "print(\"classification report\")\n",
    "print(sm.classification_report(y, predicted))\n",
    "print(' ')\n",
    "print(\"accuracy\", sm.accuracy_score(y, predicted))\n",
    "print(' ')\n",
    "print(\"precision\", sm.precision_score(y, predicted, average='macro'))\n",
    "print(' ')\n",
    "print(\"f1\", sm.precision_score(y, predicted, average='weighted'))\n",
    "print(' ')\n",
    "print(\"jaccard\", sm.jaccard_score(y, predicted, average='macro'))\n",
    "print(' ')\n",
    "print(\"matthews corr\", sm.matthews_corrcoef(y, predicted))\n",
    "print(' ')\n",
    "print(\"cohen's kapp\", sm.cohen_kappa_score(y, predicted))\n",
    "print(' ')\n",
    "print(\"confusion matrix\")\n",
    "cm = sm.confusion_matrix(y, predicted, labels=model_SVC.classes_)\n",
    "disp = sm.ConfusionMatrixDisplay(confusion_matrix=cm,\n",
    "                              display_labels=model_SVC.classes_)\n",
    "disp.plot()\n",
    "plt.show()\n",
    "end_time=time.time()\n",
    "print((end_time-start_time)/60)"
   ]
  },
  {
   "cell_type": "code",
   "execution_count": 11,
   "metadata": {
    "pycharm": {
     "name": "#%%\n"
    }
   },
   "outputs": [
    {
     "data": {
      "text/plain": [
       "{'memory': None,\n",
       " 'steps': [('vectorizer',\n",
       "   TfidfVectorizer(max_features=1000, ngram_range=(1, 3))),\n",
       "  ('scaler', StandardScaler(with_mean=False)),\n",
       "  ('LinearSVC', LinearSVC(dual=False, max_iter=100))],\n",
       " 'verbose': False,\n",
       " 'vectorizer': TfidfVectorizer(max_features=1000, ngram_range=(1, 3)),\n",
       " 'scaler': StandardScaler(with_mean=False),\n",
       " 'LinearSVC': LinearSVC(dual=False, max_iter=100),\n",
       " 'vectorizer__analyzer': 'word',\n",
       " 'vectorizer__binary': False,\n",
       " 'vectorizer__decode_error': 'strict',\n",
       " 'vectorizer__dtype': numpy.float64,\n",
       " 'vectorizer__encoding': 'utf-8',\n",
       " 'vectorizer__input': 'content',\n",
       " 'vectorizer__lowercase': True,\n",
       " 'vectorizer__max_df': 1.0,\n",
       " 'vectorizer__max_features': 1000,\n",
       " 'vectorizer__min_df': 1,\n",
       " 'vectorizer__ngram_range': (1, 3),\n",
       " 'vectorizer__norm': 'l2',\n",
       " 'vectorizer__preprocessor': None,\n",
       " 'vectorizer__smooth_idf': True,\n",
       " 'vectorizer__stop_words': None,\n",
       " 'vectorizer__strip_accents': None,\n",
       " 'vectorizer__sublinear_tf': False,\n",
       " 'vectorizer__token_pattern': '(?u)\\\\b\\\\w\\\\w+\\\\b',\n",
       " 'vectorizer__tokenizer': None,\n",
       " 'vectorizer__use_idf': True,\n",
       " 'vectorizer__vocabulary': None,\n",
       " 'scaler__copy': True,\n",
       " 'scaler__with_mean': False,\n",
       " 'scaler__with_std': True,\n",
       " 'LinearSVC__C': 1.0,\n",
       " 'LinearSVC__class_weight': None,\n",
       " 'LinearSVC__dual': False,\n",
       " 'LinearSVC__fit_intercept': True,\n",
       " 'LinearSVC__intercept_scaling': 1,\n",
       " 'LinearSVC__loss': 'squared_hinge',\n",
       " 'LinearSVC__max_iter': 100,\n",
       " 'LinearSVC__multi_class': 'ovr',\n",
       " 'LinearSVC__penalty': 'l2',\n",
       " 'LinearSVC__random_state': None,\n",
       " 'LinearSVC__tol': 0.0001,\n",
       " 'LinearSVC__verbose': 0}"
      ]
     },
     "execution_count": 11,
     "metadata": {},
     "output_type": "execute_result"
    }
   ],
   "source": [
    "model_SVC.get_params()"
   ]
  },
  {
   "cell_type": "code",
   "execution_count": 12,
   "metadata": {
    "pycharm": {
     "name": "#%%\n"
    }
   },
   "outputs": [
    {
     "data": {
      "text/plain": [
       "'param_grid={\\n    #\\'LinearSVC__penalty\\': [\\'l1\\', \\'l2\\'],\\n                         \\'LinearSVC__C\\': [1, 10, 100, 1000]\\n                         , \\'vectorizer__max_features\\': [1000, 5000, 10000, 20000]\\n                         , \\'vectorizer__ngram_range\\': [(1,2), (1,3), (1,4), (1,5)],\\n                         \\'LinearSVC__max_iter\\': [100, 500, 1000, 2000],\\n                         #\\'LinearSVC__random_state\\': [42]\\n    }\\n\\nsearch = GridSearchCV(model_SVC, param_grid, n_jobs=2, return_train_score=True, verbose=3)\\n\\nsearch.fit(X, y)\\nprint(\"Best parameter (CV score=%0.3f):\" % search.best_score_)\\nprint(search.best_params_)'"
      ]
     },
     "execution_count": 12,
     "metadata": {},
     "output_type": "execute_result"
    }
   ],
   "source": [
    "'''param_grid={\n",
    "    #'LinearSVC__penalty': ['l1', 'l2'],\n",
    "                         'LinearSVC__C': [1, 10, 100, 1000]\n",
    "                         , 'vectorizer__max_features': [1000, 5000, 10000, 20000]\n",
    "                         , 'vectorizer__ngram_range': [(1,2), (1,3), (1,4), (1,5)],\n",
    "                         'LinearSVC__max_iter': [100, 500, 1000, 2000],\n",
    "                         #'LinearSVC__random_state': [42]\n",
    "    }\n",
    "\n",
    "search = GridSearchCV(model_SVC, param_grid, n_jobs=2, return_train_score=True, verbose=3)\n",
    "\n",
    "search.fit(X, y)\n",
    "print(\"Best parameter (CV score=%0.3f):\" % search.best_score_)\n",
    "print(search.best_params_)'''"
   ]
  },
  {
   "cell_type": "code",
   "execution_count": 13,
   "metadata": {
    "pycharm": {
     "name": "#%%\n"
    }
   },
   "outputs": [],
   "source": [
    "import numpy as np\n",
    "import matplotlib.pyplot as plt\n",
    "from itertools import cycle\n",
    "\n",
    "from sklearn import svm, datasets\n",
    "from sklearn.metrics import roc_curve, auc\n",
    "from sklearn.model_selection import train_test_split\n",
    "from sklearn.preprocessing import label_binarize\n",
    "from sklearn.multiclass import OneVsRestClassifier\n",
    "from sklearn.metrics import roc_auc_score\n",
    "\n",
    "# Binarize the output\n",
    "y = label_binarize(y, classes=['pos', 'neut', 'neg'])\n",
    "n_classes = y.shape[1]\n",
    "\n",
    "# shuffle and split training and test sets\n",
    "X_train, X_test, y_train, y_test = train_test_split(X, y, test_size=0.3, random_state=0)\n",
    "\n",
    "# Learn to predict each class against the other\n",
    "classifier = OneVsRestClassifier(\n",
    "    model_SVC\n",
    ")\n",
    "y_score = classifier.fit(X_train, y_train).decision_function(X_test)\n",
    "\n",
    "# Compute ROC curve and ROC area for each class\n",
    "fpr = dict()\n",
    "tpr = dict()\n",
    "roc_auc = dict()\n",
    "for i in range(n_classes):\n",
    "    fpr[i], tpr[i], _ = roc_curve(y_test[:, i], y_score[:, i])\n",
    "    roc_auc[i] = auc(fpr[i], tpr[i])\n",
    "\n",
    "# Compute micro-average ROC curve and ROC area\n",
    "fpr[\"micro\"], tpr[\"micro\"], _ = roc_curve(y_test.ravel(), y_score.ravel())\n",
    "roc_auc[\"micro\"] = auc(fpr[\"micro\"], tpr[\"micro\"])"
   ]
  },
  {
   "cell_type": "code",
   "execution_count": 14,
   "metadata": {
    "pycharm": {
     "name": "#%%\n"
    }
   },
   "outputs": [
    {
     "data": {
      "image/png": "[encoded data removed]",
      "text/plain": [
       "<Figure size 432x288 with 1 Axes>"
      ]
     },
     "metadata": {},
     "output_type": "display_data"
    }
   ],
   "source": [
    "plt.figure()\n",
    "lw = 2\n",
    "plt.plot(\n",
    "    fpr[2],\n",
    "    tpr[2],\n",
    "    color=\"darkorange\",\n",
    "    lw=lw,\n",
    "    label=\"ROC curve (area = %0.2f)\" % roc_auc[2],\n",
    ")\n",
    "plt.plot([0, 1], [0, 1], color=\"navy\", lw=lw, linestyle=\"--\")\n",
    "plt.xlim([0.0, 1.0])\n",
    "plt.ylim([0.0, 1.05])\n",
    "plt.xlabel(\"False Positive Rate\")\n",
    "plt.ylabel(\"True Positive Rate\")\n",
    "plt.title(\"Receiver operating characteristic example\")\n",
    "plt.legend(loc=\"lower right\")\n",
    "plt.show()"
   ]
  },
  {
   "cell_type": "code",
   "execution_count": 15,
   "metadata": {
    "pycharm": {
     "name": "#%%\n"
    }
   },
   "outputs": [
    {
     "data": {
      "text/plain": [
       "array([[0, 1, 0],\n",
       "       [1, 0, 0],\n",
       "       [0, 0, 1],\n",
       "       ...,\n",
       "       [0, 0, 0],\n",
       "       [0, 0, 1],\n",
       "       [1, 0, 0]])"
      ]
     },
     "execution_count": 15,
     "metadata": {},
     "output_type": "execute_result"
    }
   ],
   "source": [
    "y_score\n",
    "predicted = classifier.predict(X_test)\n",
    "predicted"
   ]
  },
  {
   "cell_type": "code",
   "execution_count": 16,
   "metadata": {
    "pycharm": {
     "name": "#%%\n"
    }
   },
   "outputs": [],
   "source": [
    "df_prob = pd.DataFrame(y_score, columns=['prob_yes', 'prob_neut', 'prob_neg'])\n",
    "df_pred = pd.DataFrame(predicted, columns=['pred_yes', 'pred_neut', 'pred_neg'])\n",
    "df_prob['pred_yes'] = df_pred['pred_yes']\n",
    "df_prob['pred_neut'] = df_pred['pred_neut']\n",
    "df_prob['pred_neg'] = df_pred['pred_neg']\n"
   ]
  },
  {
   "cell_type": "code",
   "execution_count": 17,
   "metadata": {
    "pycharm": {
     "name": "#%%\n"
    }
   },
   "outputs": [
    {
     "data": {
      "text/plain": [
       "array([[-1.19650603,  0.36638468, -0.36541093],\n",
       "       [ 1.04391386, -1.3486537 , -0.56988825],\n",
       "       [-2.00344066, -0.33119362,  0.55190235],\n",
       "       ...,\n",
       "       [-0.36943248, -0.0942022 , -0.37669979],\n",
       "       [-0.79460361, -0.32907897,  0.0065922 ],\n",
       "       [ 0.70556322, -0.53629268, -1.1089386 ]])"
      ]
     },
     "execution_count": 17,
     "metadata": {},
     "output_type": "execute_result"
    }
   ],
   "source": [
    "y_score"
   ]
  },
  {
   "cell_type": "code",
   "execution_count": 18,
   "metadata": {
    "pycharm": {
     "name": "#%%\n"
    }
   },
   "outputs": [
    {
     "data": {
      "image/png": "[encoded data removed]",
      "text/plain": [
       "<Figure size 432x288 with 1 Axes>"
      ]
     },
     "metadata": {},
     "output_type": "display_data"
    }
   ],
   "source": [
    "# First aggregate all false positive rates\n",
    "all_fpr = np.unique(np.concatenate([fpr[i] for i in range(n_classes)]))\n",
    "\n",
    "# Then interpolate all ROC curves at this points\n",
    "mean_tpr = np.zeros_like(all_fpr)\n",
    "for i in range(n_classes):\n",
    "    mean_tpr += np.interp(all_fpr, fpr[i], tpr[i])\n",
    "\n",
    "# Finally average it and compute AUC\n",
    "mean_tpr /= n_classes\n",
    "\n",
    "fpr[\"macro\"] = all_fpr\n",
    "tpr[\"macro\"] = mean_tpr\n",
    "roc_auc[\"macro\"] = auc(fpr[\"macro\"], tpr[\"macro\"])\n",
    "\n",
    "# Plot all ROC curves\n",
    "plt.figure()\n",
    "plt.plot(\n",
    "    fpr[\"micro\"],\n",
    "    tpr[\"micro\"],\n",
    "    label=\"micro-average ROC curve (area = {0:0.2f})\".format(roc_auc[\"micro\"]),\n",
    "    color=\"deeppink\",\n",
    "    linestyle=\":\",\n",
    "    linewidth=4,\n",
    ")\n",
    "\n",
    "plt.plot(\n",
    "    fpr[\"macro\"],\n",
    "    tpr[\"macro\"],\n",
    "    label=\"macro-average ROC curve (area = {0:0.2f})\".format(roc_auc[\"macro\"]),\n",
    "    color=\"navy\",\n",
    "    linestyle=\":\",\n",
    "    linewidth=4,\n",
    ")\n",
    "\n",
    "colors = cycle([\"aqua\", \"darkorange\", \"cornflowerblue\"])\n",
    "for i, color in zip(range(n_classes), colors):\n",
    "    plt.plot(\n",
    "        fpr[i],\n",
    "        tpr[i],\n",
    "        color=color,\n",
    "        lw=lw,\n",
    "        label=\"ROC curve of class {0} (area = {1:0.2f})\".format(i, roc_auc[i]),\n",
    "    )\n",
    "\n",
    "plt.plot([0, 1], [0, 1], \"k--\", lw=lw)\n",
    "plt.xlim([0.0, 1.0])\n",
    "plt.ylim([0.0, 1.05])\n",
    "plt.xlabel(\"False Positive Rate\")\n",
    "plt.ylabel(\"True Positive Rate\")\n",
    "plt.title(\"Some extension of Receiver operating characteristic to multiclass\")\n",
    "plt.legend(loc=\"lower right\")\n",
    "plt.show()"
   ]
  },
  {
   "cell_type": "code",
   "execution_count": 19,
   "metadata": {
    "pycharm": {
     "name": "#%%\n"
    }
   },
   "outputs": [
    {
     "data": {
      "text/plain": [
       "\"#Choose Multinomial NB as model ( to get app running, change later)\\nmodel_used = classifier.fit(X,y)\\n\\n# save the model to disk\\nfilename = 'finalized_onevsrest_model.sav'\\ndump(model_used, open(filename, 'wb'))\""
      ]
     },
     "execution_count": 19,
     "metadata": {},
     "output_type": "execute_result"
    }
   ],
   "source": [
    "'''#Choose Multinomial NB as model ( to get app running, change later)\n",
    "model_used = classifier.fit(X,y)\n",
    "\n",
    "# save the model to disk\n",
    "filename = 'finalized_onevsrest_model.sav'\n",
    "dump(model_used, open(filename, 'wb'))'''"
   ]
  },
  {
   "cell_type": "code",
   "execution_count": 20,
   "metadata": {
    "pycharm": {
     "name": "#%%\n"
    }
   },
   "outputs": [
    {
     "data": {
      "image/png": "[encoded data removed]",
      "text/plain": [
       "<Figure size 432x288 with 1 Axes>"
      ]
     },
     "metadata": {},
     "output_type": "display_data"
    }
   ],
   "source": [
    "import matplotlib.pyplot as plt\n",
    "from sklearn import svm, datasets\n",
    "from sklearn.model_selection import train_test_split\n",
    "from sklearn.preprocessing import label_binarize\n",
    "from sklearn.metrics import roc_curve, auc\n",
    "from sklearn.multiclass import OneVsRestClassifier\n",
    "from sklearn.model_selection import cross_val_predict\n",
    "from sklearn.discriminant_analysis import QuadraticDiscriminantAnalysis as QDA\n",
    "\n",
    "\n",
    "clf = OneVsRestClassifier(model_SVC)\n",
    "y_score = cross_val_predict(clf, X, y, cv=10 ,method='decision_function')\n",
    "\n",
    "fpr = dict()\n",
    "tpr = dict()\n",
    "roc_auc = dict()\n",
    "for i in range(n_classes):\n",
    "    fpr[i], tpr[i], _ = roc_curve(y[:, i], y_score[:, i])\n",
    "    roc_auc[i] = auc(fpr[i], tpr[i])\n",
    "colors = cycle(['blue', 'red', 'green'])\n",
    "for i, color in zip(range(n_classes), colors):\n",
    "    plt.plot(fpr[i], tpr[i], color=color, lw=lw,\n",
    "             label='ROC curve of class {0} (area = {1:0.2f})'\n",
    "             ''.format(i, roc_auc[i]))\n",
    "plt.plot([0, 1], [0, 1], 'k--', lw=lw)\n",
    "plt.xlim([-0.05, 1.0])\n",
    "plt.ylim([0.0, 1.05])\n",
    "plt.xlabel('False Positive Rate')\n",
    "plt.ylabel('True Positive Rate')\n",
    "plt.title('Receiver operating characteristic for multi-class data')\n",
    "plt.legend(loc=\"lower right\")\n",
    "plt.show()"
   ]
  },
  {
   "cell_type": "code",
   "execution_count": 21,
   "metadata": {
    "pycharm": {
     "name": "#%%\n"
    }
   },
   "outputs": [
    {
     "data": {
      "text/plain": [
       "array(['able', 'absolutely', 'access', 'account', 'actual', 'actually',\n",
       "       'ad', 'adapter', 'add', 'address', 'advertise', 'age', 'ago',\n",
       "       'agree', 'air', 'album', 'allow', 'almost', 'along', 'already',\n",
       "       'also', 'although', 'always', 'amazing', 'amazon', 'american',\n",
       "       'amount', 'annoying', 'another', 'another one', 'answer',\n",
       "       'anymore', 'anyone', 'anything', 'anyway', 'apart', 'apparently',\n",
       "       'appear', 'application', 'apply', 'area', 'arm', 'around',\n",
       "       'arrive', 'article', 'ask', 'attach', 'attempt', 'attention',\n",
       "       'audio', 'author', 'available', 'average', 'avoid', 'away',\n",
       "       'awesome', 'awful', 'baby', 'back', 'bad', 'bag', 'ball', 'band',\n",
       "       'bar', 'barely', 'base', 'basic', 'basically', 'battery', 'beat',\n",
       "       'beautiful', 'become', 'begin', 'behind', 'believe', 'beware',\n",
       "       'bible', 'bible cover', 'big', 'bit', 'black', 'blade', 'blend',\n",
       "       'blue', 'board', 'body', 'book', 'bother', 'bottle', 'bottom',\n",
       "       'box', 'boy', 'brand', 'break', 'bright', 'bring', 'brush', 'buck',\n",
       "       'build', 'bulb', 'burn', 'business', 'button', 'buy',\n",
       "       'buy another', 'buy one', 'buy product', 'cable', 'calendar',\n",
       "       'call', 'camera', 'can', 'can not', 'cancel', 'cap', 'car', 'card',\n",
       "       'care', 'careful', 'carry', 'case', 'cat', 'catch', 'cause', 'cd',\n",
       "       'cell', 'certain', 'certainly', 'chance', 'change', 'character',\n",
       "       'charge', 'charger', 'chart', 'cheap', 'cheaply', 'check', 'child',\n",
       "       'chip', 'choice', 'choose', 'chord', 'christmas', 'claim', 'class',\n",
       "       'classic', 'clean', 'clear', 'clearly', 'clip', 'close', 'coat',\n",
       "       'coffee', 'collar', 'collection', 'color', 'come', 'comfortable',\n",
       "       'comment', 'company', 'compare', 'complain', 'complaint',\n",
       "       'complete', 'completely', 'computer', 'con', 'concept',\n",
       "       'condition', 'connect', 'connection', 'consider', 'constantly',\n",
       "       'contact', 'contain', 'container', 'content', 'continue',\n",
       "       'control', 'convenient', 'cookie', 'cool', 'copy', 'cord',\n",
       "       'correct', 'cost', 'costume', 'could', 'could not', 'couple',\n",
       "       'course', 'cover', 'coverage', 'crack', 'crap', 'cream', 'create',\n",
       "       'credit', 'curl', 'current', 'customer', 'customer service', 'cut',\n",
       "       'cute', 'daily', 'damage', 'dark', 'date', 'daughter', 'day',\n",
       "       'dead', 'deal', 'decent', 'decide', 'deep', 'defective',\n",
       "       'definitely', 'deliver', 'delivery', 'dermablend', 'describe',\n",
       "       'description', 'design', 'despite', 'detail', 'device', 'die',\n",
       "       'difference', 'different', 'difficult', 'digital', 'direction',\n",
       "       'disappoint', 'disappointed', 'disappointing', 'disappointment',\n",
       "       'display', 'do', 'do not', 'dog', 'dollar', 'door', 'download',\n",
       "       'dress', 'drive', 'drop', 'dry', 'due', 'durable', 'dust',\n",
       "       'duster', 'duty', 'dvd', 'ear', 'early', 'easily', 'easy',\n",
       "       'easy use', 'eat', 'edge', 'edition', 'effect', 'effort', 'either',\n",
       "       'else', 'email', 'end', 'engine', 'enjoy', 'enough', 'entire',\n",
       "       'especially', 'etc', 'even', 'even though', 'ever', 'every',\n",
       "       'every time', 'everyone', 'everything', 'exact', 'exactly',\n",
       "       'example', 'excellent', 'except', 'expect', 'expensive',\n",
       "       'experience', 'explain', 'extra', 'extremely', 'eye', 'face',\n",
       "       'fact', 'fail', 'fair', 'fairly', 'fall', 'fall apart', 'family',\n",
       "       'fan', 'fantastic', 'far', 'fast', 'fault', 'favorite', 'feature',\n",
       "       'feel', 'feel like', 'figure', 'file', 'fill', 'film', 'filter',\n",
       "       'finally', 'find', 'fine', 'finger', 'finish', 'first',\n",
       "       'first time', 'fit', 'five', 'five star', 'fix', 'flat', 'flavor',\n",
       "       'flaw', 'flimsy', 'floor', 'follow', 'food', 'foot', 'force',\n",
       "       'form', 'format', 'forward', 'foundation', 'four', 'four star',\n",
       "       'free', 'fresh', 'friend', 'front', 'full', 'fun', 'function',\n",
       "       'future', 'game', 'garage', 'garbage', 'gauge', 'general', 'get',\n",
       "       'get one', 'get pay', 'gift', 'gift card', 'girl', 'give',\n",
       "       'give star', 'glad', 'glue', 'go', 'go back', 'good', 'good price',\n",
       "       'good product', 'good quality', 'graphic', 'great', 'great color',\n",
       "       'great price', 'great product', 'green', 'grow', 'guess', 'guide',\n",
       "       'guitar', 'guy', 'hair', 'half', 'hand', 'handle', 'handy', 'hang',\n",
       "       'happen', 'happy', 'hard', 'hate', 'hayne', 'head', 'headphone',\n",
       "       'headset', 'hear', 'heat', 'heavy', 'help', 'helpful', 'high',\n",
       "       'high quality', 'highly', 'highly recommend', 'history', 'hit',\n",
       "       'hold', 'hole', 'home', 'hope', 'horrible', 'hose', 'hot', 'hour',\n",
       "       'house', 'however', 'huge', 'humidifier', 'husband', 'idea',\n",
       "       'immediately', 'important', 'impossible', 'improve', 'inch',\n",
       "       'include', 'info', 'information', 'inside', 'instal', 'install',\n",
       "       'instead', 'instruction', 'intend', 'interest', 'interesting',\n",
       "       'internet', 'iron', 'issue', 'item', 'jane', 'job', 'jump', 'junk',\n",
       "       'keep', 'key', 'kid', 'kind', 'kindle', 'kit', 'knife', 'know',\n",
       "       'label', 'lack', 'large', 'last', 'last long', 'last year', 'late',\n",
       "       'later', 'lead', 'leak', 'learn', 'least', 'leather', 'leave',\n",
       "       'length', 'less', 'let', 'letter', 'level', 'lid', 'life', 'light',\n",
       "       'like', 'line', 'list', 'listen', 'litter', 'litter box',\n",
       "       'littermaid', 'little', 'live', 'll', 'load', 'local', 'lock',\n",
       "       'long', 'long time', 'look', 'look good', 'look great',\n",
       "       'look like', 'loose', 'lose', 'lot', 'lotion', 'loud', 'love',\n",
       "       'love color', 'love love', 'low', 'machine', 'magazine', 'mail',\n",
       "       'main', 'major', 'make', 'make sure', 'makeup', 'man', 'manual',\n",
       "       'manufacturer', 'many', 'map', 'mark', 'market', 'match',\n",
       "       'material', 'matter', 'may', 'maybe', 'mean', 'medium', 'meet',\n",
       "       'mention', 'mess', 'message', 'metal', 'middle', 'might', 'mind',\n",
       "       'mine', 'minute', 'miss', 'mistake', 'mix', 'model', 'money',\n",
       "       'month', 'morning', 'mostly', 'motor', 'mount', 'move', 'movie',\n",
       "       'much', 'much well', 'multiple', 'music', 'must', 'nail',\n",
       "       'nail polish', 'name', 'natural', 'near', 'nearly', 'neck', 'need',\n",
       "       'never', 'new', 'new one', 'news', 'next', 'nice', 'nicely',\n",
       "       'night', 'noise', 'none', 'nook', 'normal', 'not', 'not buy',\n",
       "       'not even', 'not fit', 'not get', 'not know', 'not last',\n",
       "       'not like', 'not really', 'not seem', 'not think', 'not use',\n",
       "       'not want', 'not waste', 'not waste money', 'not work', 'note',\n",
       "       'notebook', 'nothing', 'notice', 'novel', 'number', 'offer',\n",
       "       'office', 'often', 'oh', 'oil', 'ok', 'okay', 'old', 'one',\n",
       "       'one star', 'online', 'onto', 'open', 'opi', 'opinion', 'option',\n",
       "       'order', 'original', 'other', 'otherwise', 'outside', 'overall',\n",
       "       'own', 'pack', 'package', 'packaging', 'pad', 'page', 'pain',\n",
       "       'paint', 'pair', 'pant', 'paper', 'part', 'particular', 'party',\n",
       "       'pass', 'past', 'pay', 'pc', 'pen', 'people', 'peppa', 'per',\n",
       "       'perfect', 'perfectly', 'performance', 'perhaps', 'person',\n",
       "       'phone', 'photo', 'pick', 'picture', 'piece', 'pink', 'place',\n",
       "       'plan', 'plastic', 'play', 'player', 'please', 'pleased', 'plot',\n",
       "       'plug', 'plus', 'pocket', 'point', 'polish', 'poor',\n",
       "       'poor quality', 'poorly', 'pop', 'position', 'possible', 'post',\n",
       "       'powder', 'power', 'prefer', 'present', 'press', 'pressure',\n",
       "       'pretty', 'pretty good', 'previous', 'price', 'print', 'pro',\n",
       "       'probably', 'problem', 'process', 'product', 'product work',\n",
       "       'professional', 'program', 'project', 'properly', 'protect',\n",
       "       'provide', 'pull', 'pump', 'purchase', 'purpose', 'push', 'put',\n",
       "       'quality', 'question', 'quick', 'quickly', 'quite', 'rake',\n",
       "       'range', 'rate', 'rather', 'rating', 'razor', 're', 'reach',\n",
       "       'read', 'read review', 'reader', 'reading', 'real', 'realize',\n",
       "       'really', 'really like', 'reason', 'receive', 'recently', 'recipe',\n",
       "       'recommend', 'record', 'red', 'refund', 'regular', 'release',\n",
       "       'remember', 'remove', 'renew', 'repair', 'replace', 'replacement',\n",
       "       'require', 'rest', 'result', 'return', 'review', 'reviewer',\n",
       "       'right', 'ring', 'rip', 'road', 'rock', 'roll', 'room', 'rubber',\n",
       "       'run', 'samsung', 'save', 'save money', 'say', 'scent', 'school',\n",
       "       'science', 'scratch', 'screen', 'screw', 'seal', 'search',\n",
       "       'second', 'section', 'see', 'seem', 'seem like', 'sell', 'seller',\n",
       "       'send', 'send back', 'sense', 'series', 'serve', 'service', 'set',\n",
       "       'several', 'shade', 'shape', 'shine', 'ship', 'shipping', 'shirt',\n",
       "       'shoe', 'shop', 'short', 'show', 'side', 'signal', 'similar',\n",
       "       'simple', 'simply', 'since', 'single', 'sit', 'site', 'size',\n",
       "       'skin', 'slide', 'slightly', 'slow', 'small', 'smell', 'smooth',\n",
       "       'snap', 'soft', 'software', 'solid', 'solution', 'someone',\n",
       "       'something', 'sometimes', 'somewhat', 'son', 'song', 'soon',\n",
       "       'sorry', 'sort', 'sound', 'soup', 'space', 'special', 'spend',\n",
       "       'spot', 'spray', 'stand', 'standard', 'star', 'start', 'state',\n",
       "       'stay', 'step', 'stick', 'sticker', 'still', 'stop', 'stop work',\n",
       "       'store', 'story', 'strap', 'string', 'strong', 'student', 'study',\n",
       "       'stuff', 'sturdy', 'style', 'subscribe', 'subscription', 'suck',\n",
       "       'suction', 'suggest', 'summer', 'super', 'support', 'suppose',\n",
       "       'sure', 'surface', 'surprise', 'switch', 'system', 'take', 'talk',\n",
       "       'tape', 'taste', 'tear', 'tell', 'tend', 'tent', 'terrible',\n",
       "       'test', 'text', 'th', 'thank', 'thick', 'thin', 'thing', 'think',\n",
       "       'third', 'though', 'thought', 'thought would', 'three',\n",
       "       'three star', 'throw', 'tight', 'time', 'time use', 'tiny', 'tip',\n",
       "       'title', 'today', 'together', 'tone', 'tool', 'tooth',\n",
       "       'toothpaste', 'top', 'top coat', 'total', 'totally', 'touch',\n",
       "       'toy', 'track', 'travel', 'trip', 'trouble', 'truck', 'true',\n",
       "       'truly', 'try', 'tube', 'tune', 'turn', 'tv', 'twice', 'two',\n",
       "       'two star', 'type', 'understand', 'unfortunately', 'unit',\n",
       "       'unless', 'update', 'upgrade', 'upon', 'use', 'use product',\n",
       "       'useful', 'useless', 'user', 'usually', 'vacuum', 'value', 've',\n",
       "       've use', 'vehicle', 'vent', 'version', 'video', 'view', 'voice',\n",
       "       'volume', 'wait', 'wall', 'want', 'warm', 'warranty', 'wash',\n",
       "       'waste', 'waste money', 'watch', 'water', 'way', 'we', 'weak',\n",
       "       'wear', 'web', 'website', 'week', 'weight', 'well', 'well make',\n",
       "       'wheel', 'white', 'whole', 'wide', 'wife', 'will', 'will not',\n",
       "       'window', 'wire', 'wish', 'within', 'without', 'woman', 'wonder',\n",
       "       'wonderful', 'wood', 'word', 'work', 'work fine', 'work great',\n",
       "       'work well', 'world', 'worth', 'worth money', 'would', 'would buy',\n",
       "       'would like', 'would not', 'would recommend', 'write', 'wrong',\n",
       "       'xp', 'year', 'year ago', 'year old', 'yellow', 'yes', 'yet',\n",
       "       'young'], dtype=object)"
      ]
     },
     "execution_count": 21,
     "metadata": {},
     "output_type": "execute_result"
    }
   ],
   "source": [
    "vectorizer.get_feature_names_out()"
   ]
  },
  {
   "cell_type": "code",
   "execution_count": null,
   "metadata": {
    "pycharm": {
     "name": "#%%\n"
    }
   },
   "outputs": [],
   "source": []
  }
 ],
 "metadata": {
  "kernelspec": {
   "display_name": "Python 3 (ipykernel)",
   "language": "python",
   "name": "python3"
  },
  "language_info": {
   "codemirror_mode": {
    "name": "ipython",
    "version": 3
   },
   "file_extension": ".py",
   "mimetype": "text/x-python",
   "name": "python",
   "nbconvert_exporter": "python",
   "pygments_lexer": "ipython3",
   "version": "3.9.12"
  }
 },
 "nbformat": 4,
 "nbformat_minor": 1
}
