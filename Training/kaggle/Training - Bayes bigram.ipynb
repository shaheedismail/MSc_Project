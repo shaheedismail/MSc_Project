{
 "cells": [
  {
   "cell_type": "code",
   "execution_count": 3,
   "metadata": {
    "pycharm": {
     "name": "#%%\n"
    }
   },
   "outputs": [],
   "source": [
    "import pandas as pd\n",
    "import numpy as np\n",
    "import nltk\n",
    "from tqdm import tqdm\n",
    "tqdm.pandas()\n",
    "import matplotlib.pyplot as plt\n",
    "plt.style.use('ggplot')\n",
    "from nltk.corpus import stopwords\n",
    "from nltk.tokenize import word_tokenize\n",
    "import contractions\n",
    "from contractions import contractions_dict\n",
    "contractions.add(\"n't\", \"not\")\n",
    "contractions.add(\"nt\", \"not\")\n",
    "import string\n",
    "punctuation_string = string.punctuation\n",
    "import re\n",
    "import spacy\n",
    "nlp = spacy.load('en_core_web_sm', disable=['parser', 'ner']) # Initialize spacy 'en' model, keeping only tagger component needed for lemmatization\n",
    "from sklearn.model_selection import train_test_split\n",
    "from sklearn.model_selection import cross_val_score\n",
    "from sklearn.model_selection import KFold\n",
    "import time as t\n",
    "import sklearn.metrics as sm\n",
    "from sklearn.feature_extraction.text import TfidfVectorizer\n",
    "from sklearn.naive_bayes import MultinomialNB\n",
    "from sklearn.model_selection import cross_val_predict\n",
    "from sklearn.pipeline import Pipeline\n",
    "from sklearn.svm import LinearSVC\n",
    "from sklearn.model_selection import GridSearchCV\n",
    "from sklearn.linear_model import LogisticRegression\n",
    "from sklearn.model_selection import RepeatedStratifiedKFold\n",
    "#from jsondataset import files_in_directory\n",
    "from pickle import dump\n",
    "from pickle import load\n",
    "from sklearn.preprocessing import StandardScaler\n",
    "from sklearn.ensemble import VotingClassifier\n",
    "from sklearn.ensemble import RandomForestClassifier\n",
    "from sklearn.tree import DecisionTreeClassifier\n",
    "import time\n",
    "from sklearn.preprocessing import label_binarize\n",
    "## for explainer\n",
    "#from lime import lime_text"
   ]
  },
  {
   "cell_type": "code",
   "execution_count": 4,
   "metadata": {
    "pycharm": {
     "name": "#%%\n"
    }
   },
   "outputs": [],
   "source": [
    "df = pd.read_csv('/Users/shaheedismail/Documents/A- MSc Data Science/Msc Thesis/Msc-Project/combo_Am_Hand.csv')"
   ]
  },
  {
   "cell_type": "code",
   "execution_count": 5,
   "metadata": {
    "pycharm": {
     "name": "#%%\n"
    }
   },
   "outputs": [
    {
     "name": "stdout",
     "output_type": "stream",
     "text": [
      "<class 'pandas.core.frame.DataFrame'>\n",
      "RangeIndex: 55347 entries, 0 to 55346\n",
      "Data columns (total 3 columns):\n",
      " #   Column      Non-Null Count  Dtype \n",
      "---  ------      --------------  ----- \n",
      " 0   review      55346 non-null  object\n",
      " 1   polarity    55347 non-null  object\n",
      " 2   nltk_texts  55347 non-null  object\n",
      "dtypes: object(3)\n",
      "memory usage: 1.3+ MB\n"
     ]
    }
   ],
   "source": [
    "df.info()"
   ]
  },
  {
   "cell_type": "code",
   "execution_count": 6,
   "metadata": {
    "pycharm": {
     "name": "#%%\n"
    }
   },
   "outputs": [
    {
     "data": {
      "text/html": [
       "<div>\n",
       "<style scoped>\n",
       "    .dataframe tbody tr th:only-of-type {\n",
       "        vertical-align: middle;\n",
       "    }\n",
       "\n",
       "    .dataframe tbody tr th {\n",
       "        vertical-align: top;\n",
       "    }\n",
       "\n",
       "    .dataframe thead th {\n",
       "        text-align: right;\n",
       "    }\n",
       "</style>\n",
       "<table border=\"1\" class=\"dataframe\">\n",
       "  <thead>\n",
       "    <tr style=\"text-align: right;\">\n",
       "      <th></th>\n",
       "      <th>review</th>\n",
       "      <th>polarity</th>\n",
       "      <th>nltk_texts</th>\n",
       "    </tr>\n",
       "  </thead>\n",
       "  <tbody>\n",
       "    <tr>\n",
       "      <th>0</th>\n",
       "      <td>order   op   nail polish receive one   please ...</td>\n",
       "      <td>pos</td>\n",
       "      <td>&lt;Text: I ordered 2 of the OP! nail polish...&gt;</td>\n",
       "    </tr>\n",
       "    <tr>\n",
       "      <th>1</th>\n",
       "      <td>love color opi   product come timely manner   ...</td>\n",
       "      <td>pos</td>\n",
       "      <td>&lt;Text: Love this color and OPI. Product came i...</td>\n",
       "    </tr>\n",
       "    <tr>\n",
       "      <th>2</th>\n",
       "      <td>not like definitely not worth price    s thick...</td>\n",
       "      <td>neg</td>\n",
       "      <td>&lt;Text: because I didn't like this at all and...&gt;</td>\n",
       "    </tr>\n",
       "    <tr>\n",
       "      <th>3</th>\n",
       "      <td>cool pen five star</td>\n",
       "      <td>pos</td>\n",
       "      <td>&lt;Text: Cool pen Five Stars...&gt;</td>\n",
       "    </tr>\n",
       "    <tr>\n",
       "      <th>4</th>\n",
       "      <td>immortan joe carry way valhalla tell    shiny ...</td>\n",
       "      <td>neg</td>\n",
       "      <td>&lt;Text: Immortan Joe carried me all the way to...&gt;</td>\n",
       "    </tr>\n",
       "    <tr>\n",
       "      <th>...</th>\n",
       "      <td>...</td>\n",
       "      <td>...</td>\n",
       "      <td>...</td>\n",
       "    </tr>\n",
       "    <tr>\n",
       "      <th>55342</th>\n",
       "      <td>bmw</td>\n",
       "      <td>neut</td>\n",
       "      <td>&lt;Text: 15  Any BMW...&gt;</td>\n",
       "    </tr>\n",
       "    <tr>\n",
       "      <th>55343</th>\n",
       "      <td>top world kidé</td>\n",
       "      <td>pos</td>\n",
       "      <td>&lt;Text: On top of the world kidüòé...&gt;</td>\n",
       "    </tr>\n",
       "    <tr>\n",
       "      <th>55344</th>\n",
       "      <td>tudent oicer conduct midnight patrol around ci...</td>\n",
       "      <td>neg</td>\n",
       "      <td>&lt;Text: Student officers conducting midnight pa...</td>\n",
       "    </tr>\n",
       "    <tr>\n",
       "      <th>55345</th>\n",
       "      <td>a red notice</td>\n",
       "      <td>neut</td>\n",
       "      <td>&lt;Text: SAS Red Notice https://t.co/8io4GGQMXT...&gt;</td>\n",
       "    </tr>\n",
       "    <tr>\n",
       "      <th>55346</th>\n",
       "      <td>womb enough gender twice dr maybe</td>\n",
       "      <td>neut</td>\n",
       "      <td>&lt;Text:  The Womb Is Not Enough\\nYou only Gende...</td>\n",
       "    </tr>\n",
       "  </tbody>\n",
       "</table>\n",
       "<p>55346 rows × 3 columns</p>\n",
       "</div>"
      ],
      "text/plain": [
       "                                                  review polarity  \\\n",
       "0      order   op   nail polish receive one   please ...      pos   \n",
       "1      love color opi   product come timely manner   ...      pos   \n",
       "2      not like definitely not worth price    s thick...      neg   \n",
       "3                                     cool pen five star      pos   \n",
       "4      immortan joe carry way valhalla tell    shiny ...      neg   \n",
       "...                                                  ...      ...   \n",
       "55342                                                bmw     neut   \n",
       "55343                                     top world kidé      pos   \n",
       "55344  tudent oicer conduct midnight patrol around ci...      neg   \n",
       "55345                                       a red notice     neut   \n",
       "55346                  womb enough gender twice dr maybe     neut   \n",
       "\n",
       "                                              nltk_texts  \n",
       "0          <Text: I ordered 2 of the OP! nail polish...>  \n",
       "1      <Text: Love this color and OPI. Product came i...  \n",
       "2       <Text: because I didn't like this at all and...>  \n",
       "3                         <Text: Cool pen Five Stars...>  \n",
       "4      <Text: Immortan Joe carried me all the way to...>  \n",
       "...                                                  ...  \n",
       "55342                             <Text: 15  Any BMW...>  \n",
       "55343              <Text: On top of the world kidüòé...>  \n",
       "55344  <Text: Student officers conducting midnight pa...  \n",
       "55345  <Text: SAS Red Notice https://t.co/8io4GGQMXT...>  \n",
       "55346  <Text:  The Womb Is Not Enough\\nYou only Gende...  \n",
       "\n",
       "[55346 rows x 3 columns]"
      ]
     },
     "execution_count": 6,
     "metadata": {},
     "output_type": "execute_result"
    }
   ],
   "source": [
    "df.dropna()"
   ]
  },
  {
   "cell_type": "code",
   "execution_count": 7,
   "metadata": {
    "pycharm": {
     "name": "#%%\n"
    }
   },
   "outputs": [
    {
     "data": {
      "text/plain": [
       "0        order   op   nail polish receive one   please ...\n",
       "1        love color opi   product come timely manner   ...\n",
       "2        not like definitely not worth price    s thick...\n",
       "3                                       cool pen five star\n",
       "4        immortan joe carry way valhalla tell    shiny ...\n",
       "                               ...                        \n",
       "55342                                                  bmw\n",
       "55343                                       top world kidé\n",
       "55344    tudent oicer conduct midnight patrol around ci...\n",
       "55345                                         a red notice\n",
       "55346                    womb enough gender twice dr maybe\n",
       "Name: review, Length: 55347, dtype: object"
      ]
     },
     "execution_count": 7,
     "metadata": {},
     "output_type": "execute_result"
    }
   ],
   "source": [
    "df['review']"
   ]
  },
  {
   "cell_type": "code",
   "execution_count": 8,
   "metadata": {
    "pycharm": {
     "name": "#%%\n"
    }
   },
   "outputs": [
    {
     "name": "stdout",
     "output_type": "stream",
     "text": [
      "<class 'pandas.core.frame.DataFrame'>\n",
      "RangeIndex: 55347 entries, 0 to 55346\n",
      "Data columns (total 3 columns):\n",
      " #   Column      Non-Null Count  Dtype \n",
      "---  ------      --------------  ----- \n",
      " 0   review      55346 non-null  object\n",
      " 1   polarity    55347 non-null  object\n",
      " 2   nltk_texts  55347 non-null  object\n",
      "dtypes: object(3)\n",
      "memory usage: 1.3+ MB\n"
     ]
    }
   ],
   "source": [
    "df.info()"
   ]
  },
  {
   "cell_type": "code",
   "execution_count": 9,
   "metadata": {
    "pycharm": {
     "name": "#%%\n"
    }
   },
   "outputs": [],
   "source": [
    "y=df['polarity'].astype('str').array\n",
    "X=df['review'].astype('str').array"
   ]
  },
  {
   "cell_type": "code",
   "execution_count": 10,
   "metadata": {
    "pycharm": {
     "name": "#%%\n"
    }
   },
   "outputs": [
    {
     "data": {
      "text/html": [
       "<div>\n",
       "<style scoped>\n",
       "    .dataframe tbody tr th:only-of-type {\n",
       "        vertical-align: middle;\n",
       "    }\n",
       "\n",
       "    .dataframe tbody tr th {\n",
       "        vertical-align: top;\n",
       "    }\n",
       "\n",
       "    .dataframe thead th {\n",
       "        text-align: right;\n",
       "    }\n",
       "</style>\n",
       "<table border=\"1\" class=\"dataframe\">\n",
       "  <thead>\n",
       "    <tr style=\"text-align: right;\">\n",
       "      <th></th>\n",
       "      <th>review</th>\n",
       "      <th>nltk_texts</th>\n",
       "    </tr>\n",
       "    <tr>\n",
       "      <th>polarity</th>\n",
       "      <th></th>\n",
       "      <th></th>\n",
       "    </tr>\n",
       "  </thead>\n",
       "  <tbody>\n",
       "    <tr>\n",
       "      <th>neg</th>\n",
       "      <td>18997</td>\n",
       "      <td>18998</td>\n",
       "    </tr>\n",
       "    <tr>\n",
       "      <th>neut</th>\n",
       "      <td>18681</td>\n",
       "      <td>18681</td>\n",
       "    </tr>\n",
       "    <tr>\n",
       "      <th>pos</th>\n",
       "      <td>17668</td>\n",
       "      <td>17668</td>\n",
       "    </tr>\n",
       "  </tbody>\n",
       "</table>\n",
       "</div>"
      ],
      "text/plain": [
       "          review  nltk_texts\n",
       "polarity                    \n",
       "neg        18997       18998\n",
       "neut       18681       18681\n",
       "pos        17668       17668"
      ]
     },
     "execution_count": 10,
     "metadata": {},
     "output_type": "execute_result"
    }
   ],
   "source": [
    "df.groupby('polarity').count()"
   ]
  },
  {
   "cell_type": "code",
   "execution_count": 11,
   "metadata": {
    "pycharm": {
     "name": "#%%\n"
    }
   },
   "outputs": [
    {
     "data": {
      "text/plain": [
       "<PandasArray>\n",
       "[                                                                                                                                                                                                                                                                              'order   op   nail polish receive one   please ship one soon   thank order   op   nail polish',\n",
       "                                                                                                                                                                                                                            'love color opi   product come timely manner   enjoy name opi put product   put color edge follow right top coat seem last long   gorgeous color',\n",
       " 'not like definitely not worth price    s thick awkward get hard reach place   least   work well trim prior shaving   not let get point   s unnecessary anyway   m sure s go bikini use   not trim hair short enough want see bikini use    plus   price   rechargeable wetdry   save money   trimmer attachment husband electric razor work   time well   guess m minority',\n",
       "                                                                                                                                                                                                                                                                                                                                                         'cool pen five star',\n",
       "                                                                                                                                                                                                                                                                            'immortan joe carry way valhalla tell    shiny   eternal pearl   gtfo    go wrong   lovely spray',\n",
       "                                                                                                                                                                                                                                                 'turn work new hp pc win   computer   stop halfway   however seller description warn possibility hisher fault   alas   hope',\n",
       "                                                                                                                                                                                                       'phone case cute excited arrive timely manner   however   soon open snap phone   stone already fall   replace could put clear polish stone   hope hold   ble bow case',\n",
       "                      'remember choice available chilton hayne   always choose hayne   one manual last   vehicle own save thousand dollar repair cost   particularly like troubleshoot section base symptom noise   handy   person tell   ask old car guy   year tell s good idea one manual matter skilled mechanic   never buy car without one manual     hayne never fail',\n",
       "                                                                                                                                                                                                                                                              'cheap   cover burner   flimsy   cover burner   burn easily accidentally turn wrong burner   would buy   cover',\n",
       "                                                                                                                                                                                                                                                                                           'pick mistake shop manual   hope detail   still ok get good price   enough detail',\n",
       " ...\n",
       "                                                                                                                                                                                                                                                                                                                                                                'make cackle',\n",
       "                                                                                                                                                                                                                                                                                                                                            'live chizophrenia be ucceede xx',\n",
       "                                                                                                                                                                                                                                                                                                                                                                    'waridi ',\n",
       "                                                                                                                                                                                                 'ädecent people make montrou eriouly overheat thinking rhetoricä lot decent people try right thing eparate blunt debating intrument twitter careul thank david borntobemild',\n",
       "                                                                                                                                                                                                                                                                                                                              'grimby town ladie blundell park image co hpak',\n",
       "                                                                                                                                                                                                                                                                                                                                                                        'bmw',\n",
       "                                                                                                                                                                                                                                                                                                                                                             'top world kidé',\n",
       "                                                                                                                                                                                                                                                                                                          'tudent oicer conduct midnight patrol around city company cwg bull',\n",
       "                                                                                                                                                                                                                                                                                                                                                               'a red notice',\n",
       "                                                                                                                                                                                                                                                                                                                                          'womb enough gender twice dr maybe']\n",
       "Length: 55347, dtype: object"
      ]
     },
     "execution_count": 11,
     "metadata": {},
     "output_type": "execute_result"
    }
   ],
   "source": [
    "X"
   ]
  },
  {
   "cell_type": "code",
   "execution_count": 12,
   "metadata": {
    "pycharm": {
     "name": "#%%\n"
    }
   },
   "outputs": [],
   "source": [
    "# create pipeline\n",
    "start_time = time.time()\n",
    "estimators = []\n",
    "vectorizer = TfidfVectorizer(ngram_range=(1,2), max_features=10000)\n",
    "estimators.append(('vectorizer', vectorizer))\n",
    "estimators.append(('Bayes', MultinomialNB()))\n",
    "model_NB = Pipeline(estimators)\n",
    "\n",
    "\n",
    "# evaluate pipeline\n",
    "kfold = KFold(n_splits=10, random_state=7, shuffle=True)\n",
    "results = cross_val_score(model_NB, X, y, cv=kfold)\n",
    "scoring = 'accuracy'\n",
    "cv_results = cross_val_score(model_NB, X, y, cv=kfold, scoring=scoring)\n",
    "model_NB.fit(X, y)\n",
    "predicted = cross_val_predict(model_NB, X, y, cv=kfold)\n",
    "predicted_prob = cross_val_predict(model_NB, X, y, cv=kfold, method='predict_proba')"
   ]
  },
  {
   "cell_type": "code",
   "execution_count": 13,
   "metadata": {
    "pycharm": {
     "name": "#%%\n"
    }
   },
   "outputs": [
    {
     "name": "stdout",
     "output_type": "stream",
     "text": [
      "cv results  [0.80758808 0.79584463 0.80794941 0.80307136 0.80776874 0.80198735\n",
      " 0.80614273 0.80086737 0.79978316 0.79508493]\n",
      " \n",
      "classification report\n",
      "              precision    recall  f1-score   support\n",
      "\n",
      "         neg       0.77      0.78      0.78     18998\n",
      "        neut       0.76      0.74      0.75     18681\n",
      "         pos       0.88      0.89      0.89     17668\n",
      "\n",
      "    accuracy                           0.80     55347\n",
      "   macro avg       0.80      0.80      0.80     55347\n",
      "weighted avg       0.80      0.80      0.80     55347\n",
      "\n",
      " \n",
      "accuracy 0.802608994164092\n",
      " \n",
      "precision 0.8038103196171037\n",
      " \n",
      "f1 0.8021915936796042\n",
      " \n",
      "jaccard 0.6764665864587713\n",
      " \n",
      "matthews corr 0.7038381034463574\n",
      " \n",
      "cohen's kapp 0.703780413941113\n",
      " \n",
      "confusion matrix\n"
     ]
    },
    {
     "data": {
      "image/png": "[encoded data removed]",
      "text/plain": [
       "<Figure size 432x288 with 2 Axes>"
      ]
     },
     "metadata": {},
     "output_type": "display_data"
    },
    {
     "name": "stdout",
     "output_type": "stream",
     "text": [
      "18.30849628051122\n"
     ]
    }
   ],
   "source": [
    "#results\n",
    "print(\"cv results \", cv_results)\n",
    "print(' ')\n",
    "print(\"classification report\")\n",
    "print(sm.classification_report(y, predicted))\n",
    "print(' ')\n",
    "print(\"accuracy\", sm.accuracy_score(y, predicted))\n",
    "print(' ')\n",
    "print(\"precision\", sm.precision_score(y, predicted, average='macro'))\n",
    "print(' ')\n",
    "print(\"f1\", sm.precision_score(y, predicted, average='weighted'))\n",
    "print(' ')\n",
    "print(\"jaccard\", sm.jaccard_score(y, predicted, average='macro'))\n",
    "print(' ')\n",
    "print(\"matthews corr\", sm.matthews_corrcoef(y, predicted))\n",
    "print(' ')\n",
    "print(\"cohen's kapp\", sm.cohen_kappa_score(y, predicted))\n",
    "print(' ')\n",
    "print(\"confusion matrix\")\n",
    "cm = sm.confusion_matrix(y, predicted, labels=model_NB.classes_)\n",
    "disp = sm.ConfusionMatrixDisplay(confusion_matrix=cm,\n",
    "                              display_labels=model_NB.classes_)\n",
    "disp.plot()\n",
    "plt.show()\n",
    "end_time=time.time()\n",
    "print((end_time-start_time)/60)"
   ]
  },
  {
   "cell_type": "code",
   "execution_count": 14,
   "metadata": {
    "pycharm": {
     "name": "#%%\n"
    }
   },
   "outputs": [],
   "source": [
    "#Choose Multinomial NB as model ( to get app running, change later)\n",
    "model_used = model_NB.fit(X,y)\n",
    "\n",
    "# save the model to disk\n",
    "filename = 'finalized_model.sav'\n",
    "dump(model_used, open(filename, 'wb'))"
   ]
  },
  {
   "cell_type": "code",
   "execution_count": 15,
   "metadata": {
    "pycharm": {
     "name": "#%%\n"
    }
   },
   "outputs": [],
   "source": [
    "import numpy as np\n",
    "import matplotlib.pyplot as plt\n",
    "from itertools import cycle\n",
    "\n",
    "from sklearn import svm, datasets\n",
    "from sklearn.metrics import roc_curve, auc\n",
    "from sklearn.model_selection import train_test_split\n",
    "from sklearn.preprocessing import label_binarize\n",
    "from sklearn.multiclass import OneVsRestClassifier\n",
    "from sklearn.metrics import roc_auc_score\n",
    "\n",
    "# Binarize the output\n",
    "y = label_binarize(y, classes=['pos', 'neut', 'neg'])\n",
    "n_classes = y.shape[1]\n",
    "\n",
    "# shuffle and split training and test sets\n",
    "X_train, X_test, y_train, y_test = train_test_split(X, y, test_size=0.3, random_state=0)\n",
    "\n",
    "# Learn to predict each class against the other\n",
    "classifier = OneVsRestClassifier(\n",
    "    model_NB\n",
    ")\n",
    "y_score = classifier.fit(X_train, y_train).predict_proba(X_test)\n",
    "\n",
    "# Compute ROC curve and ROC area for each class\n",
    "fpr = dict()\n",
    "tpr = dict()\n",
    "roc_auc = dict()\n",
    "for i in range(n_classes):\n",
    "    fpr[i], tpr[i], _ = roc_curve(y_test[:, i], y_score[:, i])\n",
    "    roc_auc[i] = auc(fpr[i], tpr[i])\n",
    "\n",
    "# Compute micro-average ROC curve and ROC area\n",
    "fpr[\"micro\"], tpr[\"micro\"], _ = roc_curve(y_test.ravel(), y_score.ravel())\n",
    "roc_auc[\"micro\"] = auc(fpr[\"micro\"], tpr[\"micro\"])"
   ]
  },
  {
   "cell_type": "code",
   "execution_count": 16,
   "metadata": {
    "pycharm": {
     "name": "#%%\n"
    }
   },
   "outputs": [
    {
     "data": {
      "image/png": "[encoded data removed]",
      "text/plain": [
       "<Figure size 432x288 with 1 Axes>"
      ]
     },
     "metadata": {},
     "output_type": "display_data"
    }
   ],
   "source": [
    "plt.figure()\n",
    "lw = 2\n",
    "plt.plot(\n",
    "    fpr[2],\n",
    "    tpr[2],\n",
    "    color=\"darkorange\",\n",
    "    lw=lw,\n",
    "    label=\"ROC curve (area = %0.2f)\" % roc_auc[2],\n",
    ")\n",
    "plt.plot([0, 1], [0, 1], color=\"navy\", lw=lw, linestyle=\"--\")\n",
    "plt.xlim([0.0, 1.0])\n",
    "plt.ylim([0.0, 1.05])\n",
    "plt.xlabel(\"False Positive Rate\")\n",
    "plt.ylabel(\"True Positive Rate\")\n",
    "plt.title(\"Receiver operating characteristic example\")\n",
    "plt.legend(loc=\"lower right\")\n",
    "plt.show()"
   ]
  },
  {
   "cell_type": "code",
   "execution_count": 17,
   "metadata": {
    "pycharm": {
     "name": "#%%\n"
    }
   },
   "outputs": [
    {
     "data": {
      "text/plain": [
       "array([[0, 0, 0],\n",
       "       [1, 0, 0],\n",
       "       [0, 0, 1],\n",
       "       ...,\n",
       "       [0, 0, 0],\n",
       "       [0, 0, 0],\n",
       "       [1, 0, 0]])"
      ]
     },
     "execution_count": 17,
     "metadata": {},
     "output_type": "execute_result"
    }
   ],
   "source": [
    "y_score\n",
    "predicted = classifier.predict(X_test)\n",
    "predicted"
   ]
  },
  {
   "cell_type": "code",
   "execution_count": 18,
   "metadata": {
    "pycharm": {
     "name": "#%%\n"
    }
   },
   "outputs": [],
   "source": [
    "df_prob = pd.DataFrame(y_score, columns=['prob_yes', 'prob_neut', 'prob_neg'])\n",
    "df_pred = pd.DataFrame(predicted, columns=['pred_yes', 'pred_neut', 'pred_neg'])\n",
    "df_prob['pred_yes'] = df_pred['pred_yes']\n",
    "df_prob['pred_neut'] = df_pred['pred_neut']\n",
    "df_prob['pred_neg'] = df_pred['pred_neg']\n"
   ]
  },
  {
   "cell_type": "code",
   "execution_count": 19,
   "metadata": {
    "pycharm": {
     "name": "#%%\n"
    }
   },
   "outputs": [
    {
     "data": {
      "text/plain": [
       "array([[0.14308952, 0.49278058, 0.32588611],\n",
       "       [0.92541105, 0.03061466, 0.04617649],\n",
       "       [0.02281785, 0.27523723, 0.8166483 ],\n",
       "       ...,\n",
       "       [0.32741715, 0.39637788, 0.17564561],\n",
       "       [0.25142867, 0.31721794, 0.34488509],\n",
       "       [0.88270447, 0.13671778, 0.02843654]])"
      ]
     },
     "execution_count": 19,
     "metadata": {},
     "output_type": "execute_result"
    }
   ],
   "source": [
    "y_score"
   ]
  },
  {
   "cell_type": "code",
   "execution_count": 20,
   "metadata": {
    "pycharm": {
     "name": "#%%\n"
    }
   },
   "outputs": [
    {
     "data": {
      "image/png": "[encoded data removed]",
      "text/plain": [
       "<Figure size 432x288 with 1 Axes>"
      ]
     },
     "metadata": {},
     "output_type": "display_data"
    }
   ],
   "source": [
    "# First aggregate all false positive rates\n",
    "all_fpr = np.unique(np.concatenate([fpr[i] for i in range(n_classes)]))\n",
    "\n",
    "# Then interpolate all ROC curves at this points\n",
    "mean_tpr = np.zeros_like(all_fpr)\n",
    "for i in range(n_classes):\n",
    "    mean_tpr += np.interp(all_fpr, fpr[i], tpr[i])\n",
    "\n",
    "# Finally average it and compute AUC\n",
    "mean_tpr /= n_classes\n",
    "\n",
    "fpr[\"macro\"] = all_fpr\n",
    "tpr[\"macro\"] = mean_tpr\n",
    "roc_auc[\"macro\"] = auc(fpr[\"macro\"], tpr[\"macro\"])\n",
    "\n",
    "# Plot all ROC curves\n",
    "plt.figure()\n",
    "plt.plot(\n",
    "    fpr[\"micro\"],\n",
    "    tpr[\"micro\"],\n",
    "    label=\"micro-average ROC curve (area = {0:0.2f})\".format(roc_auc[\"micro\"]),\n",
    "    color=\"deeppink\",\n",
    "    linestyle=\":\",\n",
    "    linewidth=4,\n",
    ")\n",
    "\n",
    "plt.plot(\n",
    "    fpr[\"macro\"],\n",
    "    tpr[\"macro\"],\n",
    "    label=\"macro-average ROC curve (area = {0:0.2f})\".format(roc_auc[\"macro\"]),\n",
    "    color=\"navy\",\n",
    "    linestyle=\":\",\n",
    "    linewidth=4,\n",
    ")\n",
    "\n",
    "colors = cycle([\"aqua\", \"darkorange\", \"cornflowerblue\"])\n",
    "for i, color in zip(range(n_classes), colors):\n",
    "    plt.plot(\n",
    "        fpr[i],\n",
    "        tpr[i],\n",
    "        color=color,\n",
    "        lw=lw,\n",
    "        label=\"ROC curve of class {0} (area = {1:0.2f})\".format(i, roc_auc[i]),\n",
    "    )\n",
    "\n",
    "plt.plot([0, 1], [0, 1], \"k--\", lw=lw)\n",
    "plt.xlim([0.0, 1.0])\n",
    "plt.ylim([0.0, 1.05])\n",
    "plt.xlabel(\"False Positive Rate\")\n",
    "plt.ylabel(\"True Positive Rate\")\n",
    "plt.title(\"Some extension of Receiver operating characteristic to multiclass\")\n",
    "plt.legend(loc=\"lower right\")\n",
    "plt.show()"
   ]
  },
  {
   "cell_type": "code",
   "execution_count": 21,
   "metadata": {
    "pycharm": {
     "name": "#%%\n"
    }
   },
   "outputs": [
    {
     "data": {
      "text/plain": [
       "\"#Choose Multinomial NB as model ( to get app running, change later)\\nmodel_used = classifier.fit(X,y)\\n\\n# save the model to disk\\nfilename = 'finalized_onevsrest_model.sav'\\ndump(model_used, open(filename, 'wb'))\""
      ]
     },
     "execution_count": 21,
     "metadata": {},
     "output_type": "execute_result"
    }
   ],
   "source": [
    "'''#Choose Multinomial NB as model ( to get app running, change later)\n",
    "model_used = classifier.fit(X,y)\n",
    "\n",
    "# save the model to disk\n",
    "filename = 'finalized_onevsrest_model.sav'\n",
    "dump(model_used, open(filename, 'wb'))'''"
   ]
  },
  {
   "cell_type": "code",
   "execution_count": 22,
   "metadata": {
    "pycharm": {
     "name": "#%%\n"
    }
   },
   "outputs": [
    {
     "data": {
      "text/plain": [
       "array(['aa', 'aaa', 'ab', ..., 'zondervan', 'zone', 'zoom'], dtype=object)"
      ]
     },
     "execution_count": 22,
     "metadata": {},
     "output_type": "execute_result"
    }
   ],
   "source": [
    "vectorizer.get_feature_names_out()"
   ]
  },
  {
   "cell_type": "code",
   "execution_count": 23,
   "metadata": {
    "pycharm": {
     "name": "#%%\n"
    }
   },
   "outputs": [
    {
     "name": "stdout",
     "output_type": "stream",
     "text": [
      "True: [1 0 0] --> Pred: [1 0 0] | Prob: 0.99\n"
     ]
    },
    {
     "ename": "NameError",
     "evalue": "name 'lime_text' is not defined",
     "output_type": "error",
     "traceback": [
      "\u001b[0;31m---------------------------------------------------------------------------\u001b[0m",
      "\u001b[0;31mNameError\u001b[0m                                 Traceback (most recent call last)",
      "Input \u001b[0;32mIn [23]\u001b[0m, in \u001b[0;36m<cell line: 7>\u001b[0;34m()\u001b[0m\n\u001b[1;32m      5\u001b[0m \u001b[38;5;28mprint\u001b[39m(\u001b[38;5;124m\"\u001b[39m\u001b[38;5;124mTrue:\u001b[39m\u001b[38;5;124m\"\u001b[39m, y[i], \u001b[38;5;124m\"\u001b[39m\u001b[38;5;124m--> Pred:\u001b[39m\u001b[38;5;124m\"\u001b[39m, predicted[i], \u001b[38;5;124m\"\u001b[39m\u001b[38;5;124m| Prob:\u001b[39m\u001b[38;5;124m\"\u001b[39m, \u001b[38;5;28mround\u001b[39m(np\u001b[38;5;241m.\u001b[39mmax(predicted_prob[i]),\u001b[38;5;241m2\u001b[39m))\n\u001b[1;32m      6\u001b[0m \u001b[38;5;66;03m## show explanation\u001b[39;00m\n\u001b[0;32m----> 7\u001b[0m explainer \u001b[38;5;241m=\u001b[39m \u001b[43mlime_text\u001b[49m\u001b[38;5;241m.\u001b[39mLimeTextExplainer(class_names\u001b[38;5;241m=\u001b[39m\n\u001b[1;32m      8\u001b[0m              np\u001b[38;5;241m.\u001b[39munique(y_train))\n\u001b[1;32m      9\u001b[0m explained \u001b[38;5;241m=\u001b[39m explainer\u001b[38;5;241m.\u001b[39mexplain_instance(txt_instance,\n\u001b[1;32m     10\u001b[0m              model_NB\u001b[38;5;241m.\u001b[39mpredict_proba, num_features\u001b[38;5;241m=\u001b[39m\u001b[38;5;241m3\u001b[39m)\n\u001b[1;32m     11\u001b[0m explained\u001b[38;5;241m.\u001b[39mshow_in_notebook(text\u001b[38;5;241m=\u001b[39mtxt_instance, predict_proba\u001b[38;5;241m=\u001b[39m\u001b[38;5;28;01mFalse\u001b[39;00m)\n",
      "\u001b[0;31mNameError\u001b[0m: name 'lime_text' is not defined"
     ]
    }
   ],
   "source": [
    "## select observation\n",
    "i = 3000\n",
    "txt_instance = df['review'].iloc[i]\n",
    "## check true value and predicted value\n",
    "print(\"True:\", y[i], \"--> Pred:\", predicted[i], \"| Prob:\", round(np.max(predicted_prob[i]),2))\n",
    "## show explanation\n",
    "explainer = lime_text.LimeTextExplainer(class_names=\n",
    "             np.unique(y_train))\n",
    "explained = explainer.explain_instance(txt_instance,\n",
    "             model_NB.predict_proba, num_features=3)\n",
    "explained.show_in_notebook(text=txt_instance, predict_proba=False)"
   ]
  },
  {
   "cell_type": "code",
   "execution_count": null,
   "metadata": {
    "pycharm": {
     "name": "#%%\n"
    }
   },
   "outputs": [],
   "source": []
  }
 ],
 "metadata": {
  "kernelspec": {
   "display_name": "Python 3 (ipykernel)",
   "language": "python",
   "name": "python3"
  },
  "language_info": {
   "codemirror_mode": {
    "name": "ipython",
    "version": 3
   },
   "file_extension": ".py",
   "mimetype": "text/x-python",
   "name": "python",
   "nbconvert_exporter": "python",
   "pygments_lexer": "ipython3",
   "version": "3.9.12"
  }
 },
 "nbformat": 4,
 "nbformat_minor": 1
}
