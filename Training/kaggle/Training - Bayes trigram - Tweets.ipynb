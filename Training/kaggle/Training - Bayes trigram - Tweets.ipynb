{
 "cells": [
  {
   "cell_type": "code",
   "execution_count": 8,
   "metadata": {
    "pycharm": {
     "name": "#%%\n"
    }
   },
   "outputs": [],
   "source": [
    "import pandas as pd\n",
    "import numpy as np\n",
    "import nltk\n",
    "from tqdm import tqdm\n",
    "tqdm.pandas()\n",
    "import matplotlib.pyplot as plt\n",
    "plt.style.use('ggplot')\n",
    "from nltk.corpus import stopwords\n",
    "from nltk.tokenize import word_tokenize\n",
    "import contractions\n",
    "from contractions import contractions_dict\n",
    "contractions.add(\"n't\", \"not\")\n",
    "contractions.add(\"nt\", \"not\")\n",
    "import string\n",
    "punctuation_string = string.punctuation\n",
    "import re\n",
    "import spacy\n",
    "nlp = spacy.load('en_core_web_sm', disable=['parser', 'ner']) # Initialize spacy 'en' model, keeping only tagger component needed for lemmatization\n",
    "from sklearn.model_selection import train_test_split\n",
    "from sklearn.model_selection import cross_val_score\n",
    "from sklearn.model_selection import KFold\n",
    "import time as t\n",
    "import sklearn.metrics as sm\n",
    "from sklearn.feature_extraction.text import TfidfVectorizer\n",
    "from sklearn.naive_bayes import MultinomialNB\n",
    "from sklearn.model_selection import cross_val_predict\n",
    "from sklearn.pipeline import Pipeline\n",
    "from sklearn.svm import LinearSVC\n",
    "from sklearn.model_selection import GridSearchCV\n",
    "from sklearn.linear_model import LogisticRegression\n",
    "from sklearn.model_selection import RepeatedStratifiedKFold\n",
    "from jsondataset import files_in_directory\n",
    "from pickle import dump\n",
    "from pickle import load\n",
    "from sklearn.preprocessing import StandardScaler\n",
    "from sklearn.ensemble import VotingClassifier\n",
    "from sklearn.ensemble import RandomForestClassifier\n",
    "from sklearn.tree import DecisionTreeClassifier\n",
    "import time\n",
    "from sklearn.preprocessing import label_binarize\n",
    "## for explainer\n",
    "from lime import lime_text"
   ]
  },
  {
   "cell_type": "code",
   "execution_count": 9,
   "metadata": {
    "pycharm": {
     "name": "#%%\n"
    }
   },
   "outputs": [],
   "source": [
    "df = pd.read_csv('/Users/shaheedismail/Documents/A- MSc Data Science/Msc Thesis/Msc-Project/cleaned_tweets_validation.csv')"
   ]
  },
  {
   "cell_type": "code",
   "execution_count": 10,
   "metadata": {
    "pycharm": {
     "name": "#%%\n"
    }
   },
   "outputs": [
    {
     "name": "stdout",
     "output_type": "stream",
     "text": [
      "<class 'pandas.core.frame.DataFrame'>\n",
      "RangeIndex: 4754 entries, 0 to 4753\n",
      "Data columns (total 3 columns):\n",
      " #   Column      Non-Null Count  Dtype \n",
      "---  ------      --------------  ----- \n",
      " 0   polarity    4754 non-null   object\n",
      " 1   tweet       4754 non-null   object\n",
      " 2   nltk_texts  4754 non-null   object\n",
      "dtypes: object(3)\n",
      "memory usage: 111.5+ KB\n"
     ]
    }
   ],
   "source": [
    "df.info()"
   ]
  },
  {
   "cell_type": "code",
   "execution_count": 11,
   "metadata": {
    "pycharm": {
     "name": "#%%\n"
    }
   },
   "outputs": [
    {
     "data": {
      "text/plain": "      polarity                                              tweet  \\\n0      neutral  accord run company plan move production russia...   \n1      neutral  technopoli plan develop stage area less square...   \n2     negative  international electronic industry company elco...   \n3     positive  new production plant company would increase ca...   \n4     positive  accord company s update strategy year aware ta...   \n...        ...                                                ...   \n4749  negative  london marketwatch share price end low london ...   \n4750   neutral  rinkuskiai s beer sale fall per cent million l...   \n4751  negative  operating profit fall our in our in include ve...   \n4752  negative  net sale paper segment decrease our in second ...   \n4753  negative  sale finland decrease january sale outside fin...   \n\n                                             nltk_texts  \n0     <Text: According to Gran , the company has no...>  \n1     <Text: Technopolis plans to develop in stages ...  \n2     <Text: The international electronic industry c...  \n3     <Text: With the new production plant the compa...  \n4     <Text: According to the company 's updated str...  \n...                                                 ...  \n4749  <Text: LONDON MarketWatch -- Share prices ende...  \n4750  <Text: Rinkuskiai 's beer sales fell by 6.5 pe...  \n4751  <Text: Operating profit fell to EUR 35.4 mn fr...  \n4752  <Text: Net sales of the Paper segment decrease...  \n4753  <Text: Sales in Finland decreased by 10.5 % in...  \n\n[4754 rows x 3 columns]",
      "text/html": "<div>\n<style scoped>\n    .dataframe tbody tr th:only-of-type {\n        vertical-align: middle;\n    }\n\n    .dataframe tbody tr th {\n        vertical-align: top;\n    }\n\n    .dataframe thead th {\n        text-align: right;\n    }\n</style>\n<table border=\"1\" class=\"dataframe\">\n  <thead>\n    <tr style=\"text-align: right;\">\n      <th></th>\n      <th>polarity</th>\n      <th>tweet</th>\n      <th>nltk_texts</th>\n    </tr>\n  </thead>\n  <tbody>\n    <tr>\n      <th>0</th>\n      <td>neutral</td>\n      <td>accord run company plan move production russia...</td>\n      <td>&lt;Text: According to Gran , the company has no...&gt;</td>\n    </tr>\n    <tr>\n      <th>1</th>\n      <td>neutral</td>\n      <td>technopoli plan develop stage area less square...</td>\n      <td>&lt;Text: Technopolis plans to develop in stages ...</td>\n    </tr>\n    <tr>\n      <th>2</th>\n      <td>negative</td>\n      <td>international electronic industry company elco...</td>\n      <td>&lt;Text: The international electronic industry c...</td>\n    </tr>\n    <tr>\n      <th>3</th>\n      <td>positive</td>\n      <td>new production plant company would increase ca...</td>\n      <td>&lt;Text: With the new production plant the compa...</td>\n    </tr>\n    <tr>\n      <th>4</th>\n      <td>positive</td>\n      <td>accord company s update strategy year aware ta...</td>\n      <td>&lt;Text: According to the company 's updated str...</td>\n    </tr>\n    <tr>\n      <th>...</th>\n      <td>...</td>\n      <td>...</td>\n      <td>...</td>\n    </tr>\n    <tr>\n      <th>4749</th>\n      <td>negative</td>\n      <td>london marketwatch share price end low london ...</td>\n      <td>&lt;Text: LONDON MarketWatch -- Share prices ende...</td>\n    </tr>\n    <tr>\n      <th>4750</th>\n      <td>neutral</td>\n      <td>rinkuskiai s beer sale fall per cent million l...</td>\n      <td>&lt;Text: Rinkuskiai 's beer sales fell by 6.5 pe...</td>\n    </tr>\n    <tr>\n      <th>4751</th>\n      <td>negative</td>\n      <td>operating profit fall our in our in include ve...</td>\n      <td>&lt;Text: Operating profit fell to EUR 35.4 mn fr...</td>\n    </tr>\n    <tr>\n      <th>4752</th>\n      <td>negative</td>\n      <td>net sale paper segment decrease our in second ...</td>\n      <td>&lt;Text: Net sales of the Paper segment decrease...</td>\n    </tr>\n    <tr>\n      <th>4753</th>\n      <td>negative</td>\n      <td>sale finland decrease january sale outside fin...</td>\n      <td>&lt;Text: Sales in Finland decreased by 10.5 % in...</td>\n    </tr>\n  </tbody>\n</table>\n<p>4754 rows × 3 columns</p>\n</div>"
     },
     "execution_count": 11,
     "metadata": {},
     "output_type": "execute_result"
    }
   ],
   "source": [
    "df.dropna()"
   ]
  },
  {
   "cell_type": "code",
   "execution_count": 12,
   "metadata": {
    "pycharm": {
     "name": "#%%\n"
    }
   },
   "outputs": [
    {
     "data": {
      "text/plain": "0       accord run company plan move production russia...\n1       technopoli plan develop stage area less square...\n2       international electronic industry company elco...\n3       new production plant company would increase ca...\n4       accord company s update strategy year aware ta...\n                              ...                        \n4749    london marketwatch share price end low london ...\n4750    rinkuskiai s beer sale fall per cent million l...\n4751    operating profit fall our in our in include ve...\n4752    net sale paper segment decrease our in second ...\n4753    sale finland decrease january sale outside fin...\nName: tweet, Length: 4754, dtype: object"
     },
     "execution_count": 12,
     "metadata": {},
     "output_type": "execute_result"
    }
   ],
   "source": [
    "df['tweet']"
   ]
  },
  {
   "cell_type": "code",
   "execution_count": 13,
   "metadata": {
    "pycharm": {
     "name": "#%%\n"
    }
   },
   "outputs": [
    {
     "name": "stdout",
     "output_type": "stream",
     "text": [
      "<class 'pandas.core.frame.DataFrame'>\n",
      "RangeIndex: 4754 entries, 0 to 4753\n",
      "Data columns (total 3 columns):\n",
      " #   Column      Non-Null Count  Dtype \n",
      "---  ------      --------------  ----- \n",
      " 0   polarity    4754 non-null   object\n",
      " 1   tweet       4754 non-null   object\n",
      " 2   nltk_texts  4754 non-null   object\n",
      "dtypes: object(3)\n",
      "memory usage: 111.5+ KB\n"
     ]
    }
   ],
   "source": [
    "df.info()"
   ]
  },
  {
   "cell_type": "code",
   "execution_count": 14,
   "metadata": {
    "pycharm": {
     "name": "#%%\n"
    }
   },
   "outputs": [],
   "source": [
    "y=df['polarity'].astype('str').array\n",
    "X=df['tweet'].astype('str').array"
   ]
  },
  {
   "cell_type": "code",
   "execution_count": 15,
   "metadata": {
    "pycharm": {
     "name": "#%%\n"
    }
   },
   "outputs": [
    {
     "data": {
      "text/plain": "<PandasArray>\n[                                                                                                                     'accord run company plan move production russia although company grow',\n                                                          'technopoli plan develop stage area less square peter order host company work computer technology telecommunication statement say',\n                          'international electronic industry company elcoteq lay ten employee talk facility contrary early layoff company contract rank office worker daily postimee report',\n                               'new production plant company would increase capacity meet expect increase demand would improve use raw material therefore increase production profitability',\n                                                                          'accord company s update strategy year aware target longterm net sale growth range operate profit margin net sale',\n                                              'finance aspocomp s growth aspocomp aggressive pursue growth strategy increasingly rouse technological demanding hide print circuit board pus',\n                                                                                'last quarter component s net sale double our our period year early move zero pretax profit pretax loss our',\n                                                                                                                            'third quarter net sale increase our in operating profit our in',\n                                                                                                                  'operating profit rise our in our in correspond period represent net sale',\n                                                                                                                                   'operating profit total our in our in represent net sale',\n ...\n                                                                                                                                'operating profit half glisten invest brand management team',\n                                                                                                         'sale finland decrease international sale decrease term europe term local currency',\n                                                                               'company say comparable operating profit januaryjune period fall short last year s corresponding performance',\n                                                                                                           'operating result month period decrease profit our turnover decrease our compare',\n 'helsinki thomson financial share cargoe fall sharply early afternoon trade cargo handling group post surprise drop apriljune profit overshadow large number new order receive three month',\n                                                                                   'london marketwatch share price end low london monday rebound bank stock fail offset broad weakness fuse',\n                                                                                        'rinkuskiai s beer sale fall per cent million litre aunt anus beer sale jump per cent million litre',\n                                                                                                                       'operating profit fall our in our in include vessel sale gain our in',\n                                                   'net sale paper segment decrease our in second quarter our in second quarter operating profit exclude nonrecurre item rise our in our in',\n                                                                                                                                   'sale finland decrease january sale outside finland drop']\nLength: 4754, dtype: object"
     },
     "execution_count": 15,
     "metadata": {},
     "output_type": "execute_result"
    }
   ],
   "source": [
    "X"
   ]
  },
  {
   "cell_type": "code",
   "execution_count": 16,
   "metadata": {
    "pycharm": {
     "name": "#%%\n"
    }
   },
   "outputs": [],
   "source": [
    "# create pipeline\n",
    "start_time = time.time()\n",
    "estimators = []\n",
    "vectorizer = TfidfVectorizer(ngram_range=(1,3), max_features=10000)\n",
    "estimators.append(('vectorizer', vectorizer))\n",
    "estimators.append(('Bayes', LogisticRegression()))\n",
    "model_NB = Pipeline(estimators)\n",
    "\n",
    "\n",
    "# evaluate pipeline\n",
    "kfold = KFold(n_splits=10, random_state=7, shuffle=True)\n",
    "results = cross_val_score(model_NB, X, y, cv=kfold)\n",
    "scoring = 'accuracy'\n",
    "cv_results = cross_val_score(model_NB, X, y, cv=kfold, scoring=scoring)\n",
    "model_NB.fit(X, y)\n",
    "predicted = cross_val_predict(model_NB, X, y, cv=kfold)\n",
    "predicted_prob = cross_val_predict(model_NB, X, y, cv=kfold, method='predict_proba')"
   ]
  },
  {
   "cell_type": "code",
   "execution_count": 17,
   "metadata": {
    "pycharm": {
     "name": "#%%\n"
    }
   },
   "outputs": [
    {
     "name": "stdout",
     "output_type": "stream",
     "text": [
      "cv results  [0.77310924 0.74789916 0.75630252 0.74579832 0.77894737 0.73684211\n",
      " 0.74736842 0.73052632 0.72421053 0.74736842]\n",
      " \n",
      "classification report\n",
      "              precision    recall  f1-score   support\n",
      "\n",
      "    negative       0.80      0.38      0.51       585\n",
      "     neutral       0.75      0.94      0.83      2834\n",
      "    positive       0.73      0.51      0.60      1335\n",
      "\n",
      "    accuracy                           0.75      4754\n",
      "   macro avg       0.76      0.61      0.65      4754\n",
      "weighted avg       0.75      0.75      0.73      4754\n",
      "\n",
      " \n",
      "accuracy 0.7488430795119899\n",
      " \n",
      "precision 0.7606335865852015\n",
      " \n",
      "f1 0.7505650753751822\n",
      " \n",
      "jaccard 0.4959073703764889\n",
      " \n",
      "matthews corr 0.5143955666085404\n",
      " \n",
      "cohen's kapp 0.4906415773478253\n",
      " \n",
      "confusion matrix\n"
     ]
    },
    {
     "data": {
      "text/plain": "<Figure size 432x288 with 2 Axes>",
      "image/png": "[encoded data removed]"
     },
     "metadata": {
      "needs_background": "light"
     },
     "output_type": "display_data"
    },
    {
     "name": "stdout",
     "output_type": "stream",
     "text": [
      "12.527805697917938\n"
     ]
    }
   ],
   "source": [
    "#results\n",
    "print(\"cv results \", cv_results)\n",
    "print(' ')\n",
    "print(\"classification report\")\n",
    "print(sm.classification_report(y, predicted))\n",
    "print(' ')\n",
    "print(\"accuracy\", sm.accuracy_score(y, predicted))\n",
    "print(' ')\n",
    "print(\"precision\", sm.precision_score(y, predicted, average='macro'))\n",
    "print(' ')\n",
    "print(\"f1\", sm.precision_score(y, predicted, average='weighted'))\n",
    "print(' ')\n",
    "print(\"jaccard\", sm.jaccard_score(y, predicted, average='macro'))\n",
    "print(' ')\n",
    "print(\"matthews corr\", sm.matthews_corrcoef(y, predicted))\n",
    "print(' ')\n",
    "print(\"cohen's kapp\", sm.cohen_kappa_score(y, predicted))\n",
    "print(' ')\n",
    "print(\"confusion matrix\")\n",
    "cm = sm.confusion_matrix(y, predicted, labels=model_NB.classes_)\n",
    "disp = sm.ConfusionMatrixDisplay(confusion_matrix=cm,\n",
    "                              display_labels=model_NB.classes_)\n",
    "disp.plot()\n",
    "plt.show()\n",
    "end_time=time.time()\n",
    "print((end_time-start_time)/60)"
   ]
  },
  {
   "cell_type": "code",
   "execution_count": 18,
   "metadata": {
    "pycharm": {
     "name": "#%%\n"
    }
   },
   "outputs": [],
   "source": [
    "'''#Choose Multinomial NB as model ( to get app running, change later)\n",
    "model_used = model_NB.fit(X,y)\n",
    "\n",
    "# save the model to disk\n",
    "filename = 'finalized_model.sav'\n",
    "dump(model_used, open(filename, 'wb'))'''"
   ]
  },
  {
   "cell_type": "code",
   "execution_count": 19,
   "outputs": [
    {
     "name": "stderr",
     "output_type": "stream",
     "text": [
      "/Users/shaheedismail/Documents/A- MSc Data Science/Msc Thesis/Msc-Project/venv/lib/python3.8/site-packages/sklearn/multiclass.py:77: UserWarning: Label not 0 is present in all training examples.\n",
      "  warnings.warn(\n",
      "/Users/shaheedismail/Documents/A- MSc Data Science/Msc Thesis/Msc-Project/venv/lib/python3.8/site-packages/sklearn/multiclass.py:77: UserWarning: Label not 1 is present in all training examples.\n",
      "  warnings.warn(\n",
      "/Users/shaheedismail/Documents/A- MSc Data Science/Msc Thesis/Msc-Project/venv/lib/python3.8/site-packages/sklearn/multiclass.py:77: UserWarning: Label not 2 is present in all training examples.\n",
      "  warnings.warn(\n",
      "/Users/shaheedismail/Documents/A- MSc Data Science/Msc Thesis/Msc-Project/venv/lib/python3.8/site-packages/sklearn/metrics/_ranking.py:1016: UndefinedMetricWarning: No positive samples in y_true, true positive value should be meaningless\n",
      "  warnings.warn(\n",
      "/Users/shaheedismail/Documents/A- MSc Data Science/Msc Thesis/Msc-Project/venv/lib/python3.8/site-packages/sklearn/metrics/_ranking.py:1016: UndefinedMetricWarning: No positive samples in y_true, true positive value should be meaningless\n",
      "  warnings.warn(\n",
      "/Users/shaheedismail/Documents/A- MSc Data Science/Msc Thesis/Msc-Project/venv/lib/python3.8/site-packages/sklearn/metrics/_ranking.py:1016: UndefinedMetricWarning: No positive samples in y_true, true positive value should be meaningless\n",
      "  warnings.warn(\n",
      "/Users/shaheedismail/Documents/A- MSc Data Science/Msc Thesis/Msc-Project/venv/lib/python3.8/site-packages/sklearn/metrics/_ranking.py:1016: UndefinedMetricWarning: No positive samples in y_true, true positive value should be meaningless\n",
      "  warnings.warn(\n"
     ]
    }
   ],
   "source": [
    "import numpy as np\n",
    "import matplotlib.pyplot as plt\n",
    "from itertools import cycle\n",
    "\n",
    "from sklearn import svm, datasets\n",
    "from sklearn.metrics import roc_curve, auc\n",
    "from sklearn.model_selection import train_test_split\n",
    "from sklearn.preprocessing import label_binarize\n",
    "from sklearn.multiclass import OneVsRestClassifier\n",
    "from sklearn.metrics import roc_auc_score\n",
    "\n",
    "# Binarize the output\n",
    "y = label_binarize(y, classes=['pos', 'neut', 'neg'])\n",
    "n_classes = y.shape[1]\n",
    "\n",
    "# shuffle and split training and test sets\n",
    "X_train, X_test, y_train, y_test = train_test_split(X, y, test_size=0.3, random_state=0)\n",
    "\n",
    "# Learn to predict each class against the other\n",
    "classifier = OneVsRestClassifier(\n",
    "    model_NB\n",
    ")\n",
    "y_score = classifier.fit(X_train, y_train).predict_proba(X_test)\n",
    "\n",
    "# Compute ROC curve and ROC area for each class\n",
    "fpr = dict()\n",
    "tpr = dict()\n",
    "roc_auc = dict()\n",
    "for i in range(n_classes):\n",
    "    fpr[i], tpr[i], _ = roc_curve(y_test[:, i], y_score[:, i])\n",
    "    roc_auc[i] = auc(fpr[i], tpr[i])\n",
    "\n",
    "# Compute micro-average ROC curve and ROC area\n",
    "fpr[\"micro\"], tpr[\"micro\"], _ = roc_curve(y_test.ravel(), y_score.ravel())\n",
    "roc_auc[\"micro\"] = auc(fpr[\"micro\"], tpr[\"micro\"])"
   ],
   "metadata": {
    "collapsed": false,
    "pycharm": {
     "name": "#%%\n"
    }
   }
  },
  {
   "cell_type": "code",
   "execution_count": 20,
   "outputs": [
    {
     "data": {
      "text/plain": "<Figure size 432x288 with 1 Axes>",
      "image/png": "[encoded data removed]"
     },
     "metadata": {
      "needs_background": "light"
     },
     "output_type": "display_data"
    }
   ],
   "source": [
    "plt.figure()\n",
    "lw = 2\n",
    "plt.plot(\n",
    "    fpr[2],\n",
    "    tpr[2],\n",
    "    color=\"darkorange\",\n",
    "    lw=lw,\n",
    "    label=\"ROC curve (area = %0.2f)\" % roc_auc[2],\n",
    ")\n",
    "plt.plot([0, 1], [0, 1], color=\"navy\", lw=lw, linestyle=\"--\")\n",
    "plt.xlim([0.0, 1.0])\n",
    "plt.ylim([0.0, 1.05])\n",
    "plt.xlabel(\"False Positive Rate\")\n",
    "plt.ylabel(\"True Positive Rate\")\n",
    "plt.title(\"Receiver operating characteristic example\")\n",
    "plt.legend(loc=\"lower right\")\n",
    "plt.show()"
   ],
   "metadata": {
    "collapsed": false,
    "pycharm": {
     "name": "#%%\n"
    }
   }
  },
  {
   "cell_type": "code",
   "execution_count": 21,
   "outputs": [
    {
     "data": {
      "text/plain": "array([[0, 0, 0],\n       [0, 0, 0],\n       [0, 0, 0],\n       ...,\n       [0, 0, 0],\n       [0, 0, 0],\n       [0, 0, 0]])"
     },
     "execution_count": 21,
     "metadata": {},
     "output_type": "execute_result"
    }
   ],
   "source": [
    "y_score\n",
    "predicted = classifier.predict(X_test)\n",
    "predicted"
   ],
   "metadata": {
    "collapsed": false,
    "pycharm": {
     "name": "#%%\n"
    }
   }
  },
  {
   "cell_type": "code",
   "execution_count": 22,
   "outputs": [],
   "source": [
    "df_prob = pd.DataFrame(y_score, columns=['prob_yes', 'prob_neut', 'prob_neg'])\n",
    "df_pred = pd.DataFrame(predicted, columns=['pred_yes', 'pred_neut', 'pred_neg'])\n",
    "df_prob['pred_yes'] = df_pred['pred_yes']\n",
    "df_prob['pred_neut'] = df_pred['pred_neut']\n",
    "df_prob['pred_neg'] = df_pred['pred_neg']\n"
   ],
   "metadata": {
    "collapsed": false,
    "pycharm": {
     "name": "#%%\n"
    }
   }
  },
  {
   "cell_type": "code",
   "execution_count": 23,
   "outputs": [
    {
     "data": {
      "text/plain": "array([[0., 0., 0.],\n       [0., 0., 0.],\n       [0., 0., 0.],\n       ...,\n       [0., 0., 0.],\n       [0., 0., 0.],\n       [0., 0., 0.]])"
     },
     "execution_count": 23,
     "metadata": {},
     "output_type": "execute_result"
    }
   ],
   "source": [
    "y_score"
   ],
   "metadata": {
    "collapsed": false,
    "pycharm": {
     "name": "#%%\n"
    }
   }
  },
  {
   "cell_type": "code",
   "execution_count": 24,
   "outputs": [
    {
     "data": {
      "text/plain": "<Figure size 432x288 with 1 Axes>",
      "image/png": "[encoded data removed]"
     },
     "metadata": {
      "needs_background": "light"
     },
     "output_type": "display_data"
    }
   ],
   "source": [
    "# First aggregate all false positive rates\n",
    "all_fpr = np.unique(np.concatenate([fpr[i] for i in range(n_classes)]))\n",
    "\n",
    "# Then interpolate all ROC curves at this points\n",
    "mean_tpr = np.zeros_like(all_fpr)\n",
    "for i in range(n_classes):\n",
    "    mean_tpr += np.interp(all_fpr, fpr[i], tpr[i])\n",
    "\n",
    "# Finally average it and compute AUC\n",
    "mean_tpr /= n_classes\n",
    "\n",
    "fpr[\"macro\"] = all_fpr\n",
    "tpr[\"macro\"] = mean_tpr\n",
    "roc_auc[\"macro\"] = auc(fpr[\"macro\"], tpr[\"macro\"])\n",
    "\n",
    "# Plot all ROC curves\n",
    "plt.figure()\n",
    "plt.plot(\n",
    "    fpr[\"micro\"],\n",
    "    tpr[\"micro\"],\n",
    "    label=\"micro-average ROC curve (area = {0:0.2f})\".format(roc_auc[\"micro\"]),\n",
    "    color=\"deeppink\",\n",
    "    linestyle=\":\",\n",
    "    linewidth=4,\n",
    ")\n",
    "\n",
    "plt.plot(\n",
    "    fpr[\"macro\"],\n",
    "    tpr[\"macro\"],\n",
    "    label=\"macro-average ROC curve (area = {0:0.2f})\".format(roc_auc[\"macro\"]),\n",
    "    color=\"navy\",\n",
    "    linestyle=\":\",\n",
    "    linewidth=4,\n",
    ")\n",
    "\n",
    "colors = cycle([\"aqua\", \"darkorange\", \"cornflowerblue\"])\n",
    "for i, color in zip(range(n_classes), colors):\n",
    "    plt.plot(\n",
    "        fpr[i],\n",
    "        tpr[i],\n",
    "        color=color,\n",
    "        lw=lw,\n",
    "        label=\"ROC curve of class {0} (area = {1:0.2f})\".format(i, roc_auc[i]),\n",
    "    )\n",
    "\n",
    "plt.plot([0, 1], [0, 1], \"k--\", lw=lw)\n",
    "plt.xlim([0.0, 1.0])\n",
    "plt.ylim([0.0, 1.05])\n",
    "plt.xlabel(\"False Positive Rate\")\n",
    "plt.ylabel(\"True Positive Rate\")\n",
    "plt.title(\"Some extension of Receiver operating characteristic to multiclass\")\n",
    "plt.legend(loc=\"lower right\")\n",
    "plt.show()"
   ],
   "metadata": {
    "collapsed": false,
    "pycharm": {
     "name": "#%%\n"
    }
   }
  },
  {
   "cell_type": "code",
   "execution_count": 25,
   "outputs": [
    {
     "data": {
      "text/plain": "\"#Choose Multinomial NB as model ( to get app running, change later)\\nmodel_used = classifier.fit(X,y)\\n\\n# save the model to disk\\nfilename = 'finalized_onevsrest_model.sav'\\ndump(model_used, open(filename, 'wb'))\""
     },
     "execution_count": 25,
     "metadata": {},
     "output_type": "execute_result"
    }
   ],
   "source": [
    "'''#Choose Multinomial NB as model ( to get app running, change later)\n",
    "model_used = classifier.fit(X,y)\n",
    "\n",
    "# save the model to disk\n",
    "filename = 'finalized_onevsrest_model.sav'\n",
    "dump(model_used, open(filename, 'wb'))'''"
   ],
   "metadata": {
    "collapsed": false,
    "pycharm": {
     "name": "#%%\n"
    }
   }
  },
  {
   "cell_type": "code",
   "execution_count": 26,
   "outputs": [
    {
     "data": {
      "text/plain": "array(['aaron', 'ab', 'ab pull', ..., 'zinclead project kazakhstan',\n       'zone', 'ænekoski'], dtype=object)"
     },
     "execution_count": 26,
     "metadata": {},
     "output_type": "execute_result"
    }
   ],
   "source": [
    "vectorizer.get_feature_names_out()"
   ],
   "metadata": {
    "collapsed": false,
    "pycharm": {
     "name": "#%%\n"
    }
   }
  },
  {
   "cell_type": "code",
   "execution_count": 27,
   "metadata": {
    "pycharm": {
     "name": "#%%\n"
    }
   },
   "outputs": [
    {
     "ename": "KeyError",
     "evalue": "'review'",
     "output_type": "error",
     "traceback": [
      "\u001B[0;31m---------------------------------------------------------------------------\u001B[0m",
      "\u001B[0;31mKeyError\u001B[0m                                  Traceback (most recent call last)",
      "File \u001B[0;32m~/Documents/A- MSc Data Science/Msc Thesis/Msc-Project/venv/lib/python3.8/site-packages/pandas/core/indexes/base.py:3621\u001B[0m, in \u001B[0;36mIndex.get_loc\u001B[0;34m(self, key, method, tolerance)\u001B[0m\n\u001B[1;32m   3620\u001B[0m \u001B[38;5;28;01mtry\u001B[39;00m:\n\u001B[0;32m-> 3621\u001B[0m     \u001B[38;5;28;01mreturn\u001B[39;00m \u001B[38;5;28;43mself\u001B[39;49m\u001B[38;5;241;43m.\u001B[39;49m\u001B[43m_engine\u001B[49m\u001B[38;5;241;43m.\u001B[39;49m\u001B[43mget_loc\u001B[49m\u001B[43m(\u001B[49m\u001B[43mcasted_key\u001B[49m\u001B[43m)\u001B[49m\n\u001B[1;32m   3622\u001B[0m \u001B[38;5;28;01mexcept\u001B[39;00m \u001B[38;5;167;01mKeyError\u001B[39;00m \u001B[38;5;28;01mas\u001B[39;00m err:\n",
      "File \u001B[0;32m~/Documents/A- MSc Data Science/Msc Thesis/Msc-Project/venv/lib/python3.8/site-packages/pandas/_libs/index.pyx:136\u001B[0m, in \u001B[0;36mpandas._libs.index.IndexEngine.get_loc\u001B[0;34m()\u001B[0m\n",
      "File \u001B[0;32m~/Documents/A- MSc Data Science/Msc Thesis/Msc-Project/venv/lib/python3.8/site-packages/pandas/_libs/index.pyx:163\u001B[0m, in \u001B[0;36mpandas._libs.index.IndexEngine.get_loc\u001B[0;34m()\u001B[0m\n",
      "File \u001B[0;32mpandas/_libs/hashtable_class_helper.pxi:5198\u001B[0m, in \u001B[0;36mpandas._libs.hashtable.PyObjectHashTable.get_item\u001B[0;34m()\u001B[0m\n",
      "File \u001B[0;32mpandas/_libs/hashtable_class_helper.pxi:5206\u001B[0m, in \u001B[0;36mpandas._libs.hashtable.PyObjectHashTable.get_item\u001B[0;34m()\u001B[0m\n",
      "\u001B[0;31mKeyError\u001B[0m: 'review'",
      "\nThe above exception was the direct cause of the following exception:\n",
      "\u001B[0;31mKeyError\u001B[0m                                  Traceback (most recent call last)",
      "Input \u001B[0;32mIn [27]\u001B[0m, in \u001B[0;36m<cell line: 3>\u001B[0;34m()\u001B[0m\n\u001B[1;32m      1\u001B[0m \u001B[38;5;66;03m## select observation\u001B[39;00m\n\u001B[1;32m      2\u001B[0m i \u001B[38;5;241m=\u001B[39m \u001B[38;5;241m1000\u001B[39m\n\u001B[0;32m----> 3\u001B[0m txt_instance \u001B[38;5;241m=\u001B[39m \u001B[43mdf\u001B[49m\u001B[43m[\u001B[49m\u001B[38;5;124;43m'\u001B[39;49m\u001B[38;5;124;43mreview\u001B[39;49m\u001B[38;5;124;43m'\u001B[39;49m\u001B[43m]\u001B[49m\u001B[38;5;241m.\u001B[39miloc[i]\n\u001B[1;32m      4\u001B[0m \u001B[38;5;66;03m## check true value and predicted value\u001B[39;00m\n\u001B[1;32m      5\u001B[0m \u001B[38;5;28mprint\u001B[39m(\u001B[38;5;124m\"\u001B[39m\u001B[38;5;124mTrue:\u001B[39m\u001B[38;5;124m\"\u001B[39m, y[i], \u001B[38;5;124m\"\u001B[39m\u001B[38;5;124m--> Pred:\u001B[39m\u001B[38;5;124m\"\u001B[39m, predicted[i], \u001B[38;5;124m\"\u001B[39m\u001B[38;5;124m| Prob:\u001B[39m\u001B[38;5;124m\"\u001B[39m, \u001B[38;5;28mround\u001B[39m(np\u001B[38;5;241m.\u001B[39mmax(predicted_prob[i]),\u001B[38;5;241m2\u001B[39m))\n",
      "File \u001B[0;32m~/Documents/A- MSc Data Science/Msc Thesis/Msc-Project/venv/lib/python3.8/site-packages/pandas/core/frame.py:3505\u001B[0m, in \u001B[0;36mDataFrame.__getitem__\u001B[0;34m(self, key)\u001B[0m\n\u001B[1;32m   3503\u001B[0m \u001B[38;5;28;01mif\u001B[39;00m \u001B[38;5;28mself\u001B[39m\u001B[38;5;241m.\u001B[39mcolumns\u001B[38;5;241m.\u001B[39mnlevels \u001B[38;5;241m>\u001B[39m \u001B[38;5;241m1\u001B[39m:\n\u001B[1;32m   3504\u001B[0m     \u001B[38;5;28;01mreturn\u001B[39;00m \u001B[38;5;28mself\u001B[39m\u001B[38;5;241m.\u001B[39m_getitem_multilevel(key)\n\u001B[0;32m-> 3505\u001B[0m indexer \u001B[38;5;241m=\u001B[39m \u001B[38;5;28;43mself\u001B[39;49m\u001B[38;5;241;43m.\u001B[39;49m\u001B[43mcolumns\u001B[49m\u001B[38;5;241;43m.\u001B[39;49m\u001B[43mget_loc\u001B[49m\u001B[43m(\u001B[49m\u001B[43mkey\u001B[49m\u001B[43m)\u001B[49m\n\u001B[1;32m   3506\u001B[0m \u001B[38;5;28;01mif\u001B[39;00m is_integer(indexer):\n\u001B[1;32m   3507\u001B[0m     indexer \u001B[38;5;241m=\u001B[39m [indexer]\n",
      "File \u001B[0;32m~/Documents/A- MSc Data Science/Msc Thesis/Msc-Project/venv/lib/python3.8/site-packages/pandas/core/indexes/base.py:3623\u001B[0m, in \u001B[0;36mIndex.get_loc\u001B[0;34m(self, key, method, tolerance)\u001B[0m\n\u001B[1;32m   3621\u001B[0m     \u001B[38;5;28;01mreturn\u001B[39;00m \u001B[38;5;28mself\u001B[39m\u001B[38;5;241m.\u001B[39m_engine\u001B[38;5;241m.\u001B[39mget_loc(casted_key)\n\u001B[1;32m   3622\u001B[0m \u001B[38;5;28;01mexcept\u001B[39;00m \u001B[38;5;167;01mKeyError\u001B[39;00m \u001B[38;5;28;01mas\u001B[39;00m err:\n\u001B[0;32m-> 3623\u001B[0m     \u001B[38;5;28;01mraise\u001B[39;00m \u001B[38;5;167;01mKeyError\u001B[39;00m(key) \u001B[38;5;28;01mfrom\u001B[39;00m \u001B[38;5;21;01merr\u001B[39;00m\n\u001B[1;32m   3624\u001B[0m \u001B[38;5;28;01mexcept\u001B[39;00m \u001B[38;5;167;01mTypeError\u001B[39;00m:\n\u001B[1;32m   3625\u001B[0m     \u001B[38;5;66;03m# If we have a listlike key, _check_indexing_error will raise\u001B[39;00m\n\u001B[1;32m   3626\u001B[0m     \u001B[38;5;66;03m#  InvalidIndexError. Otherwise we fall through and re-raise\u001B[39;00m\n\u001B[1;32m   3627\u001B[0m     \u001B[38;5;66;03m#  the TypeError.\u001B[39;00m\n\u001B[1;32m   3628\u001B[0m     \u001B[38;5;28mself\u001B[39m\u001B[38;5;241m.\u001B[39m_check_indexing_error(key)\n",
      "\u001B[0;31mKeyError\u001B[0m: 'review'"
     ]
    }
   ],
   "source": [
    "## select observation\n",
    "i = 1000\n",
    "txt_instance = df['review'].iloc[i]\n",
    "## check true value and predicted value\n",
    "print(\"True:\", y[i], \"--> Pred:\", predicted[i], \"| Prob:\", round(np.max(predicted_prob[i]),2))\n",
    "## show explanation\n",
    "explainer = lime_text.LimeTextExplainer(class_names=\n",
    "             np.unique(y_train))\n",
    "explained = explainer.explain_instance(txt_instance,\n",
    "             model_NB.predict_proba, num_features=3)\n",
    "explained.show_in_notebook(text=txt_instance, predict_proba=False)"
   ]
  },
  {
   "cell_type": "code",
   "execution_count": null,
   "metadata": {
    "pycharm": {
     "name": "#%%\n"
    }
   },
   "outputs": [],
   "source": [
    "df_validate = pd.read_csv('/Users/shaheedismail/Documents/A- MSc Data Science/Msc Thesis/Msc-Project/cleaned_tweets_validation.csv')"
   ]
  },
  {
   "cell_type": "code",
   "execution_count": null,
   "outputs": [],
   "source": [
    "df_validate"
   ],
   "metadata": {
    "collapsed": false,
    "pycharm": {
     "name": "#%%\n"
    }
   }
  },
  {
   "cell_type": "code",
   "execution_count": null,
   "outputs": [],
   "source": [
    "X_tweets = df_validate['tweet'].astype('string').array"
   ],
   "metadata": {
    "collapsed": false,
    "pycharm": {
     "name": "#%%\n"
    }
   }
  },
  {
   "cell_type": "code",
   "execution_count": null,
   "outputs": [],
   "source": [
    "y_tweets = model_used.predict(X_tweets)"
   ],
   "metadata": {
    "collapsed": false,
    "pycharm": {
     "name": "#%%\n"
    }
   }
  },
  {
   "cell_type": "code",
   "execution_count": null,
   "outputs": [],
   "source": [
    "y_tweets"
   ],
   "metadata": {
    "collapsed": false,
    "pycharm": {
     "name": "#%%\n"
    }
   }
  },
  {
   "cell_type": "code",
   "execution_count": null,
   "outputs": [],
   "source": [
    "df_validate['predicted'] = y_tweets"
   ],
   "metadata": {
    "collapsed": false,
    "pycharm": {
     "name": "#%%\n"
    }
   }
  },
  {
   "cell_type": "code",
   "execution_count": null,
   "outputs": [],
   "source": [
    "df_validate"
   ],
   "metadata": {
    "collapsed": false,
    "pycharm": {
     "name": "#%%\n"
    }
   }
  },
  {
   "cell_type": "code",
   "execution_count": null,
   "outputs": [],
   "source": [
    "df_validate.to_csv('validate.csv')"
   ],
   "metadata": {
    "collapsed": false,
    "pycharm": {
     "name": "#%%\n"
    }
   }
  },
  {
   "cell_type": "code",
   "execution_count": null,
   "outputs": [],
   "source": [
    "conditions = [(df_validate['polarity']=='positive')\n",
    "              ,(df_validate['polarity']=='negative')\n",
    "              , (df_validate['polarity']=='neutral')]\n",
    "values = ['pos', 'neg', 'neut']\n",
    "df_validate['polarity'] = np.select(conditions, values)\n",
    "df_validate"
   ],
   "metadata": {
    "collapsed": false,
    "pycharm": {
     "name": "#%%\n"
    }
   }
  },
  {
   "cell_type": "code",
   "execution_count": null,
   "outputs": [],
   "source": [
    "df_validate['polarity']==df_validate['predicted']"
   ],
   "metadata": {
    "collapsed": false,
    "pycharm": {
     "name": "#%%\n"
    }
   }
  },
  {
   "cell_type": "code",
   "execution_count": null,
   "outputs": [],
   "source": [
    "#results\n",
    "\n",
    "print(\"classification report\")\n",
    "print(sm.classification_report(df_validate['polarity'], df_validate['predicted']))\n",
    "print(' ')\n",
    "print(\"accuracy\", sm.accuracy_score(df_validate['polarity'], df_validate['predicted']))\n",
    "print(' ')\n",
    "print(\"precision\", sm.precision_score(df_validate['polarity'], df_validate['predicted'], average='macro'))\n",
    "print(' ')\n",
    "print(\"f1\", sm.precision_score(df_validate['polarity'], df_validate['predicted'], average='weighted'))\n",
    "print(' ')\n",
    "print(\"jaccard\", sm.jaccard_score(df_validate['polarity'], df_validate['predicted'], average='macro'))\n",
    "print(' ')\n",
    "print(\"matthews corr\", sm.matthews_corrcoef(df_validate['polarity'], df_validate['predicted']))\n",
    "print(' ')\n",
    "print(\"cohen's kapp\", sm.cohen_kappa_score(df_validate['polarity'], df_validate['predicted']))\n",
    "print(' ')\n",
    "print(\"confusion matrix\")\n",
    "cm = sm.confusion_matrix(df_validate['polarity'], df_validate['predicted'])\n",
    "disp = sm.ConfusionMatrixDisplay(confusion_matrix=cm)"
   ],
   "metadata": {
    "collapsed": false,
    "pycharm": {
     "name": "#%%\n"
    }
   }
  },
  {
   "cell_type": "code",
   "execution_count": null,
   "outputs": [],
   "source": [],
   "metadata": {
    "collapsed": false,
    "pycharm": {
     "name": "#%%\n"
    }
   }
  }
 ],
 "metadata": {
  "kernelspec": {
   "display_name": "Python 3 (ipykernel)",
   "language": "python",
   "name": "python3"
  },
  "language_info": {
   "codemirror_mode": {
    "name": "ipython",
    "version": 3
   },
   "file_extension": ".py",
   "mimetype": "text/x-python",
   "name": "python",
   "nbconvert_exporter": "python",
   "pygments_lexer": "ipython3",
   "version": "3.8.2"
  }
 },
 "nbformat": 4,
 "nbformat_minor": 1
}