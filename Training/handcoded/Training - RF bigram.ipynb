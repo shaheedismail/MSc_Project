{
 "cells": [
  {
   "cell_type": "code",
   "execution_count": 1,
   "metadata": {
    "collapsed": true,
    "pycharm": {
     "name": "#%%\n"
    }
   },
   "outputs": [],
   "source": [
    "import pandas as pd\n",
    "import numpy as np\n",
    "import nltk\n",
    "from tqdm import tqdm\n",
    "tqdm.pandas()\n",
    "import matplotlib.pyplot as plt\n",
    "plt.style.use('ggplot')\n",
    "from nltk.corpus import stopwords\n",
    "from nltk.tokenize import word_tokenize\n",
    "import contractions\n",
    "from contractions import contractions_dict\n",
    "contractions.add(\"n't\", \"not\")\n",
    "contractions.add(\"nt\", \"not\")\n",
    "import string\n",
    "punctuation_string = string.punctuation\n",
    "import re\n",
    "import spacy\n",
    "nlp = spacy.load('en_core_web_sm', disable=['parser', 'ner']) # Initialize spacy 'en' model, keeping only tagger component needed for lemmatization\n",
    "from sklearn.model_selection import train_test_split\n",
    "from sklearn.model_selection import cross_val_score\n",
    "from sklearn.model_selection import KFold\n",
    "import time as t\n",
    "import sklearn.metrics as sm\n",
    "from sklearn.feature_extraction.text import TfidfVectorizer\n",
    "from sklearn.naive_bayes import MultinomialNB\n",
    "from sklearn.model_selection import cross_val_predict\n",
    "from sklearn.pipeline import Pipeline\n",
    "from sklearn.svm import LinearSVC\n",
    "from sklearn.model_selection import GridSearchCV\n",
    "from sklearn.linear_model import LogisticRegression\n",
    "from sklearn.model_selection import RepeatedStratifiedKFold\n",
    "from jsondataset import files_in_directory\n",
    "from pickle import dump\n",
    "from pickle import load\n",
    "from sklearn.preprocessing import StandardScaler\n",
    "from sklearn.ensemble import VotingClassifier\n",
    "from sklearn.ensemble import RandomForestClassifier\n",
    "from sklearn.tree import DecisionTreeClassifier\n",
    "import time\n",
    "from sklearn.preprocessing import label_binarize"
   ]
  },
  {
   "cell_type": "code",
   "execution_count": 2,
   "outputs": [],
   "source": [
    "df = pd.read_csv('/Users/shaheedismail/Documents/A- MSc Data Science/Msc Thesis/Msc-Project/cleaned_data.csv')"
   ],
   "metadata": {
    "collapsed": false,
    "pycharm": {
     "name": "#%%\n"
    }
   }
  },
  {
   "cell_type": "code",
   "execution_count": 3,
   "outputs": [
    {
     "name": "stdout",
     "output_type": "stream",
     "text": [
      "<class 'pandas.core.frame.DataFrame'>\n",
      "RangeIndex: 54749 entries, 0 to 54748\n",
      "Data columns (total 3 columns):\n",
      " #   Column      Non-Null Count  Dtype \n",
      "---  ------      --------------  ----- \n",
      " 0   review      54748 non-null  object\n",
      " 1   polarity    54749 non-null  object\n",
      " 2   nltk_texts  54749 non-null  object\n",
      "dtypes: object(3)\n",
      "memory usage: 1.3+ MB\n"
     ]
    }
   ],
   "source": [
    "df.info()"
   ],
   "metadata": {
    "collapsed": false,
    "pycharm": {
     "name": "#%%\n"
    }
   }
  },
  {
   "cell_type": "code",
   "execution_count": 4,
   "outputs": [
    {
     "data": {
      "text/plain": "                                                  review polarity  \\\n0      order   op   nail polish receive one   please ...      pos   \n1      love color opi   product come timely manner   ...      pos   \n2      not like definitely not worth price    s thick...      neg   \n3                                     cool pen five star      pos   \n4      immortan joe carry way valhalla tell    shiny ...      neg   \n...                                                  ...      ...   \n54744  costume disappointing bc way big       lbs ord...     neut   \n54745  pretty decent fun read   end   however   feel ...     neut   \n54746                   still favorite color   five star      pos   \n54747        help tractor run rough   thank   smooth run      pos   \n54748  sad record bad   love metallica excite add vin...      neg   \n\n                                              nltk_texts  \n0          <Text: I ordered 2 of the OP! nail polish...>  \n1      <Text: Love this color and OPI. Product came i...  \n2       <Text: because I didn't like this at all and...>  \n3                         <Text: Cool pen Five Stars...>  \n4      <Text: Immortan Joe carried me all the way to...>  \n...                                                  ...  \n54744  <Text: The costume was disappointing b/c it wa...  \n54745  <Text: Pretty decent and fun read. The ending,...  \n54746     <Text: Still my favorite color! Five Stars...>  \n54747  <Text: Helped my tractor from running rough, t...  \n54748         <Text: I am so sad that this record is...>  \n\n[54748 rows x 3 columns]",
      "text/html": "<div>\n<style scoped>\n    .dataframe tbody tr th:only-of-type {\n        vertical-align: middle;\n    }\n\n    .dataframe tbody tr th {\n        vertical-align: top;\n    }\n\n    .dataframe thead th {\n        text-align: right;\n    }\n</style>\n<table border=\"1\" class=\"dataframe\">\n  <thead>\n    <tr style=\"text-align: right;\">\n      <th></th>\n      <th>review</th>\n      <th>polarity</th>\n      <th>nltk_texts</th>\n    </tr>\n  </thead>\n  <tbody>\n    <tr>\n      <th>0</th>\n      <td>order   op   nail polish receive one   please ...</td>\n      <td>pos</td>\n      <td>&lt;Text: I ordered 2 of the OP! nail polish...&gt;</td>\n    </tr>\n    <tr>\n      <th>1</th>\n      <td>love color opi   product come timely manner   ...</td>\n      <td>pos</td>\n      <td>&lt;Text: Love this color and OPI. Product came i...</td>\n    </tr>\n    <tr>\n      <th>2</th>\n      <td>not like definitely not worth price    s thick...</td>\n      <td>neg</td>\n      <td>&lt;Text: because I didn't like this at all and...&gt;</td>\n    </tr>\n    <tr>\n      <th>3</th>\n      <td>cool pen five star</td>\n      <td>pos</td>\n      <td>&lt;Text: Cool pen Five Stars...&gt;</td>\n    </tr>\n    <tr>\n      <th>4</th>\n      <td>immortan joe carry way valhalla tell    shiny ...</td>\n      <td>neg</td>\n      <td>&lt;Text: Immortan Joe carried me all the way to...&gt;</td>\n    </tr>\n    <tr>\n      <th>...</th>\n      <td>...</td>\n      <td>...</td>\n      <td>...</td>\n    </tr>\n    <tr>\n      <th>54744</th>\n      <td>costume disappointing bc way big       lbs ord...</td>\n      <td>neut</td>\n      <td>&lt;Text: The costume was disappointing b/c it wa...</td>\n    </tr>\n    <tr>\n      <th>54745</th>\n      <td>pretty decent fun read   end   however   feel ...</td>\n      <td>neut</td>\n      <td>&lt;Text: Pretty decent and fun read. The ending,...</td>\n    </tr>\n    <tr>\n      <th>54746</th>\n      <td>still favorite color   five star</td>\n      <td>pos</td>\n      <td>&lt;Text: Still my favorite color! Five Stars...&gt;</td>\n    </tr>\n    <tr>\n      <th>54747</th>\n      <td>help tractor run rough   thank   smooth run</td>\n      <td>pos</td>\n      <td>&lt;Text: Helped my tractor from running rough, t...</td>\n    </tr>\n    <tr>\n      <th>54748</th>\n      <td>sad record bad   love metallica excite add vin...</td>\n      <td>neg</td>\n      <td>&lt;Text: I am so sad that this record is...&gt;</td>\n    </tr>\n  </tbody>\n</table>\n<p>54748 rows × 3 columns</p>\n</div>"
     },
     "execution_count": 4,
     "metadata": {},
     "output_type": "execute_result"
    }
   ],
   "source": [
    "df.dropna()"
   ],
   "metadata": {
    "collapsed": false,
    "pycharm": {
     "name": "#%%\n"
    }
   }
  },
  {
   "cell_type": "code",
   "execution_count": 5,
   "outputs": [
    {
     "data": {
      "text/plain": "0        order   op   nail polish receive one   please ...\n1        love color opi   product come timely manner   ...\n2        not like definitely not worth price    s thick...\n3                                       cool pen five star\n4        immortan joe carry way valhalla tell    shiny ...\n                               ...                        \n54744    costume disappointing bc way big       lbs ord...\n54745    pretty decent fun read   end   however   feel ...\n54746                     still favorite color   five star\n54747          help tractor run rough   thank   smooth run\n54748    sad record bad   love metallica excite add vin...\nName: review, Length: 54749, dtype: object"
     },
     "execution_count": 5,
     "metadata": {},
     "output_type": "execute_result"
    }
   ],
   "source": [
    "df['review']"
   ],
   "metadata": {
    "collapsed": false,
    "pycharm": {
     "name": "#%%\n"
    }
   }
  },
  {
   "cell_type": "code",
   "execution_count": 6,
   "outputs": [
    {
     "name": "stdout",
     "output_type": "stream",
     "text": [
      "<class 'pandas.core.frame.DataFrame'>\n",
      "RangeIndex: 54749 entries, 0 to 54748\n",
      "Data columns (total 3 columns):\n",
      " #   Column      Non-Null Count  Dtype \n",
      "---  ------      --------------  ----- \n",
      " 0   review      54748 non-null  object\n",
      " 1   polarity    54749 non-null  object\n",
      " 2   nltk_texts  54749 non-null  object\n",
      "dtypes: object(3)\n",
      "memory usage: 1.3+ MB\n"
     ]
    }
   ],
   "source": [
    "df.info()"
   ],
   "metadata": {
    "collapsed": false,
    "pycharm": {
     "name": "#%%\n"
    }
   }
  },
  {
   "cell_type": "code",
   "execution_count": 7,
   "outputs": [],
   "source": [
    "y=df['polarity'].astype('str').array\n",
    "X=df['review'].astype('str').array"
   ],
   "metadata": {
    "collapsed": false,
    "pycharm": {
     "name": "#%%\n"
    }
   }
  },
  {
   "cell_type": "code",
   "execution_count": 8,
   "outputs": [
    {
     "data": {
      "text/plain": "<PandasArray>\n[                                                                                                                                                                                                                                                                                                                                                                                                                                                                                                                                                                                                                                                                                                  'order   op   nail polish receive one   please ship one soon   thank order   op   nail polish',\n                                                                                                                                                                                                                                                                                                                                                                                                                                                                                                                                                                                                                                                'love color opi   product come timely manner   enjoy name opi put product   put color edge follow right top coat seem last long   gorgeous color',\n                                                                                                                                                                                                                                                                                                                                                                                                                     'not like definitely not worth price    s thick awkward get hard reach place   least   work well trim prior shaving   not let get point   s unnecessary anyway   m sure s go bikini use   not trim hair short enough want see bikini use    plus   price   rechargeable wetdry   save money   trimmer attachment husband electric razor work   time well   guess m minority',\n                                                                                                                                                                                                                                                                                                                                                                                                                                                                                                                                                                                                                                                                                                                                                                             'cool pen five star',\n                                                                                                                                                                                                                                                                                                                                                                                                                                                                                                                                                                                                                                                                                                'immortan joe carry way valhalla tell    shiny   eternal pearl   gtfo    go wrong   lovely spray',\n                                                                                                                                                                                                                                                                                                                                                                                                                                                                                                                                                                                                                                                                     'turn work new hp pc win   computer   stop halfway   however seller description warn possibility hisher fault   alas   hope',\n                                                                                                                                                                                                                                                                                                                                                                                                                                                                                                                                                                                                                           'phone case cute excited arrive timely manner   however   soon open snap phone   stone already fall   replace could put clear polish stone   hope hold   ble bow case',\n                                                                                                                                                                                                                                                                                                                                                                                                                                          'remember choice available chilton hayne   always choose hayne   one manual last   vehicle own save thousand dollar repair cost   particularly like troubleshoot section base symptom noise   handy   person tell   ask old car guy   year tell s good idea one manual matter skilled mechanic   never buy car without one manual     hayne never fail',\n                                                                                                                                                                                                                                                                                                                                                                                                                                                                                                                                                                                                                                                                                  'cheap   cover burner   flimsy   cover burner   burn easily accidentally turn wrong burner   would buy   cover',\n                                                                                                                                                                                                                                                                                                                                                                                                                                                                                                                                                                                                                                                                                                               'pick mistake shop manual   hope detail   still ok get good price   enough detail',\n ...\n                                                                                                                                                                                                                                                                                                                                                                                                                                                                                                                                                                                                                                                              'vacuum suck not suck   give away within month   time consume go rug section pick dirt   ll stick use dyson   vacuum suck not suck',\n                                                                                                                                                                                                                                                                                                                                                                                                        'use love oprah magazine   ditto good housekeeping   review    say hearst cannibalize   one mushy   bland   tired ad laden mash potato goodness   practically use ad old   old writer weary article   wonder magazine fail   think underestimate female reader   today   read freebie   cancel   soon see redbook issue   gh oprah   cancel   print   prime go   use love oprah magazine',\n                                                                                                                                                                                                                                                                                                                                                                                                                                                                                                                                                                                                    'battery look use   new   scuff scratch case   label apc turn yellow   hold charge   buy reputable vendor like neweggcom cdwcom   new price good true   battery look use   new   hold charge',\n                                                                                                                                                                                                                                                                                                                                                                                                                                                                                                                                                                                                                                                                     'bit wider need   main gripe short shoe start squeak like crazy   buy   main gripe short shoe start squeak like crazy   buy',\n 've use glo press many year   always acne adult acne due adrenal fatigue   insomnia hormonal imbalance    glo press not break eventhough tocopherol   state tocopherol acetate   safe acne prone    even use gym   problem find true color   yes many   color still   honey light   jessica alba skin   look beige hint pink    honey medium   s tan   dark   yellowolive undertone    golden dark   recent purchase   suit nc   skin   yellow undertone    golden medium   past purchase   s light   perfect nc   nc   chinesejapanesekoreancaucasian skin    not use bare mineral acne      still find glo mineral press good mineral   compare youngblood   sheer    illuminaire   thicksticky beige color   really asian yellow skin    glo loose acne skin   s dry skin    perfect nc   nc',\n                                                                                                                                                                                                                                                                                                                                                                                                                                                                                                                                                           'costume disappointing bc way big       lbs order medium   big look ridiculous   return   would err side order small comfortable   material seem like good quality though get lot costume money   sorry not work like expect   big   ',\n                                                                                                                                                                                                                                                                                                                                                                                                                                                                                                                                                                                                                                                                             'pretty decent fun read   end   however   feel rush leave unanswered question   lower star   pretty decent fun read',\n                                                                                                                                                                                                                                                                                                                                                                                                                                                                                                                                                                                                                                                                                                                                                               'still favorite color   five star',\n                                                                                                                                                                                                                                                                                                                                                                                                                                                                                                                                                                                                                                                                                                                                                    'help tractor run rough   thank   smooth run',\n                                                                                                                                                                                                                                                                                                                                                                                                                                                                                      'sad record bad   love metallica excite add vinyl collection mostly classic rock   however   tell cheaply press record   old record full sound eventhough yr old   soon play one notice sound level   like speaker blow   bad point able enjoy music   oh well   s get pay    vinyl terrible sound quality']\nLength: 54749, dtype: object"
     },
     "execution_count": 8,
     "metadata": {},
     "output_type": "execute_result"
    }
   ],
   "source": [
    "X"
   ],
   "metadata": {
    "collapsed": false,
    "pycharm": {
     "name": "#%%\n"
    }
   }
  },
  {
   "cell_type": "code",
   "execution_count": 9,
   "outputs": [],
   "source": [
    "# create pipeline\n",
    "start_time = time.time()\n",
    "estimators = []\n",
    "vectorizer = TfidfVectorizer(ngram_range=(1,5))\n",
    "estimators.append(('vectorizer', vectorizer))\n",
    "estimators.append(('RF', RandomForestClassifier(max_depth=10, n_estimators=500, max_features=1000)))\n",
    "model_RF = Pipeline(estimators)\n",
    "\n",
    "\n",
    "# evaluate pipeline\n",
    "kfold = KFold(n_splits=10, random_state=7, shuffle=True)\n",
    "results = cross_val_score(model_RF, X, y, cv=kfold)\n",
    "scoring = 'accuracy'\n",
    "cv_results = cross_val_score(model_RF, X, y, cv=kfold, scoring=scoring)\n",
    "model_RF.fit(X, y)\n",
    "predicted = cross_val_predict(model_RF, X, y, cv=kfold)\n",
    "predicted_prob = cross_val_predict(model_RF, X, y, cv=kfold, method='predict_proba')"
   ],
   "metadata": {
    "collapsed": false,
    "pycharm": {
     "name": "#%%\n"
    }
   }
  },
  {
   "cell_type": "code",
   "execution_count": 10,
   "outputs": [
    {
     "name": "stdout",
     "output_type": "stream",
     "text": [
      "cv results  [0.44968037 0.45479452 0.44018265 0.42812785 0.38703196 0.39415525\n",
      " 0.48365297 0.46575342 0.44200913 0.47241505]\n",
      " \n",
      "classification report\n",
      "              precision    recall  f1-score   support\n",
      "\n",
      "         neg       0.38      0.97      0.54     18799\n",
      "        neut       0.80      0.25      0.38     18481\n",
      "         pos       0.99      0.05      0.10     17469\n",
      "\n",
      "    accuracy                           0.43     54749\n",
      "   macro avg       0.72      0.42      0.34     54749\n",
      "weighted avg       0.72      0.43      0.35     54749\n",
      "\n",
      " \n",
      "accuracy 0.43341430893714955\n",
      " \n",
      "precision 0.7223323832678928\n",
      " \n",
      "f1 0.7154130404738933\n",
      " \n",
      "jaccard 0.2206771172758735\n",
      " \n",
      "matthews corr 0.23873879159344494\n",
      " \n",
      "cohen's kapp 0.13849599053409534\n",
      " \n",
      "confusion matrix\n"
     ]
    },
    {
     "data": {
      "text/plain": "<Figure size 432x288 with 2 Axes>",
      "image/png": "[encoded data removed]"
     },
     "metadata": {
      "needs_background": "light"
     },
     "output_type": "display_data"
    },
    {
     "name": "stdout",
     "output_type": "stream",
     "text": [
      "116.97350491682688\n"
     ]
    }
   ],
   "source": [
    "#results\n",
    "print(\"cv results \", cv_results)\n",
    "print(' ')\n",
    "print(\"classification report\")\n",
    "print(sm.classification_report(y, predicted))\n",
    "print(' ')\n",
    "print(\"accuracy\", sm.accuracy_score(y, predicted))\n",
    "print(' ')\n",
    "print(\"precision\", sm.precision_score(y, predicted, average='macro'))\n",
    "print(' ')\n",
    "print(\"f1\", sm.precision_score(y, predicted, average='weighted'))\n",
    "print(' ')\n",
    "print(\"jaccard\", sm.jaccard_score(y, predicted, average='macro'))\n",
    "print(' ')\n",
    "print(\"matthews corr\", sm.matthews_corrcoef(y, predicted))\n",
    "print(' ')\n",
    "print(\"cohen's kapp\", sm.cohen_kappa_score(y, predicted))\n",
    "print(' ')\n",
    "print(\"confusion matrix\")\n",
    "cm = sm.confusion_matrix(y, predicted, labels=model_RF.classes_)\n",
    "disp = sm.ConfusionMatrixDisplay(confusion_matrix=cm,\n",
    "                              display_labels=model_RF.classes_)\n",
    "disp.plot()\n",
    "plt.show()\n",
    "end_time=time.time()\n",
    "print((end_time-start_time)/60)"
   ],
   "metadata": {
    "collapsed": false,
    "pycharm": {
     "name": "#%%\n"
    }
   }
  },
  {
   "cell_type": "code",
   "execution_count": 11,
   "outputs": [
    {
     "data": {
      "text/plain": "{'memory': None,\n 'steps': [('vectorizer', TfidfVectorizer(ngram_range=(1, 5))),\n  ('RF',\n   RandomForestClassifier(max_depth=10, max_features=1000, n_estimators=500))],\n 'verbose': False,\n 'vectorizer': TfidfVectorizer(ngram_range=(1, 5)),\n 'RF': RandomForestClassifier(max_depth=10, max_features=1000, n_estimators=500),\n 'vectorizer__analyzer': 'word',\n 'vectorizer__binary': False,\n 'vectorizer__decode_error': 'strict',\n 'vectorizer__dtype': numpy.float64,\n 'vectorizer__encoding': 'utf-8',\n 'vectorizer__input': 'content',\n 'vectorizer__lowercase': True,\n 'vectorizer__max_df': 1.0,\n 'vectorizer__max_features': None,\n 'vectorizer__min_df': 1,\n 'vectorizer__ngram_range': (1, 5),\n 'vectorizer__norm': 'l2',\n 'vectorizer__preprocessor': None,\n 'vectorizer__smooth_idf': True,\n 'vectorizer__stop_words': None,\n 'vectorizer__strip_accents': None,\n 'vectorizer__sublinear_tf': False,\n 'vectorizer__token_pattern': '(?u)\\\\b\\\\w\\\\w+\\\\b',\n 'vectorizer__tokenizer': None,\n 'vectorizer__use_idf': True,\n 'vectorizer__vocabulary': None,\n 'RF__bootstrap': True,\n 'RF__ccp_alpha': 0.0,\n 'RF__class_weight': None,\n 'RF__criterion': 'gini',\n 'RF__max_depth': 10,\n 'RF__max_features': 1000,\n 'RF__max_leaf_nodes': None,\n 'RF__max_samples': None,\n 'RF__min_impurity_decrease': 0.0,\n 'RF__min_samples_leaf': 1,\n 'RF__min_samples_split': 2,\n 'RF__min_weight_fraction_leaf': 0.0,\n 'RF__n_estimators': 500,\n 'RF__n_jobs': None,\n 'RF__oob_score': False,\n 'RF__random_state': None,\n 'RF__verbose': 0,\n 'RF__warm_start': False}"
     },
     "execution_count": 11,
     "metadata": {},
     "output_type": "execute_result"
    }
   ],
   "source": [
    "model_RF.get_params()"
   ],
   "metadata": {
    "collapsed": false,
    "pycharm": {
     "name": "#%%\n"
    }
   }
  },
  {
   "cell_type": "code",
   "execution_count": 12,
   "outputs": [
    {
     "name": "stdout",
     "output_type": "stream",
     "text": [
      "Fitting 5 folds for each of 64 candidates, totalling 320 fits\n"
     ]
    },
    {
     "name": "stderr",
     "output_type": "stream",
     "text": [
      "\n",
      "KeyboardInterrupt\n",
      "\n"
     ]
    }
   ],
   "source": [
    "param_grid = {\n",
    "    #'LinearSVC__penalty': ['l1', 'l2'],\n",
    "    'RF__n_estimators': [100, 150, 300, 500]\n",
    "    , 'vectorizer__max_features': [1000, 5000, 10000, 20000]\n",
    "    , 'vectorizer__ngram_range': [(1, 2), (1, 3), (1, 4), (1, 5)],\n",
    "    #'LinearSVC__max_iter': [100, 500, 1000, 2000],\n",
    "    #'LinearSVC__random_state': [42]\n",
    "}\n",
    "\n",
    "search = GridSearchCV(model_RF, param_grid, n_jobs=2, return_train_score=True, verbose=3)\n",
    "\n",
    "search.fit(X, y)\n",
    "print(\"Best parameter (CV score=%0.3f):\" % search.best_score_)\n",
    "print(search.best_params_)"
   ],
   "metadata": {
    "collapsed": false,
    "pycharm": {
     "name": "#%%\n"
    }
   }
  },
  {
   "cell_type": "code",
   "execution_count": null,
   "outputs": [],
   "source": [
    "import numpy as np\n",
    "import matplotlib.pyplot as plt\n",
    "from itertools import cycle\n",
    "\n",
    "from sklearn import svm, datasets\n",
    "from sklearn.metrics import roc_curve, auc\n",
    "from sklearn.model_selection import train_test_split\n",
    "from sklearn.preprocessing import label_binarize\n",
    "from sklearn.multiclass import OneVsRestClassifier\n",
    "from sklearn.metrics import roc_auc_score\n",
    "\n",
    "# Binarize the output\n",
    "y = label_binarize(y, classes=['pos', 'neut', 'neg'])\n",
    "n_classes = y.shape[1]\n",
    "\n",
    "# shuffle and split training and test sets\n",
    "X_train, X_test, y_train, y_test = train_test_split(X, y, test_size=0.3, random_state=0)\n",
    "\n",
    "# Learn to predict each class against the other\n",
    "classifier = OneVsRestClassifier(\n",
    "    model_RF\n",
    ")\n",
    "y_score = classifier.fit(X_train, y_train).predict_proba(X_test)\n",
    "\n",
    "# Compute ROC curve and ROC area for each class\n",
    "fpr = dict()\n",
    "tpr = dict()\n",
    "roc_auc = dict()\n",
    "for i in range(n_classes):\n",
    "    fpr[i], tpr[i], _ = roc_curve(y_test[:, i], y_score[:, i])\n",
    "    roc_auc[i] = auc(fpr[i], tpr[i])\n",
    "\n",
    "# Compute micro-average ROC curve and ROC area\n",
    "fpr[\"micro\"], tpr[\"micro\"], _ = roc_curve(y_test.ravel(), y_score.ravel())\n",
    "roc_auc[\"micro\"] = auc(fpr[\"micro\"], tpr[\"micro\"])"
   ],
   "metadata": {
    "collapsed": false,
    "pycharm": {
     "name": "#%%\n"
    }
   }
  },
  {
   "cell_type": "code",
   "execution_count": null,
   "outputs": [],
   "source": [
    "plt.figure()\n",
    "lw = 2\n",
    "plt.plot(\n",
    "    fpr[2],\n",
    "    tpr[2],\n",
    "    color=\"darkorange\",\n",
    "    lw=lw,\n",
    "    label=\"ROC curve (area = %0.2f)\" % roc_auc[2],\n",
    ")\n",
    "plt.plot([0, 1], [0, 1], color=\"navy\", lw=lw, linestyle=\"--\")\n",
    "plt.xlim([0.0, 1.0])\n",
    "plt.ylim([0.0, 1.05])\n",
    "plt.xlabel(\"False Positive Rate\")\n",
    "plt.ylabel(\"True Positive Rate\")\n",
    "plt.title(\"Receiver operating characteristic example\")\n",
    "plt.legend(loc=\"lower right\")\n",
    "plt.show()"
   ],
   "metadata": {
    "collapsed": false,
    "pycharm": {
     "name": "#%%\n"
    }
   }
  },
  {
   "cell_type": "code",
   "execution_count": null,
   "outputs": [],
   "source": [
    "y_score\n",
    "predicted = classifier.predict(X_test)\n",
    "predicted"
   ],
   "metadata": {
    "collapsed": false,
    "pycharm": {
     "name": "#%%\n"
    }
   }
  },
  {
   "cell_type": "code",
   "execution_count": null,
   "outputs": [],
   "source": [
    "df_prob = pd.DataFrame(y_score, columns=['prob_yes', 'prob_neut', 'prob_neg'])\n",
    "df_pred = pd.DataFrame(predicted, columns=['pred_yes', 'pred_neut', 'pred_neg'])\n",
    "df_prob['pred_yes'] = df_pred['pred_yes']\n",
    "df_prob['pred_neut'] = df_pred['pred_neut']\n",
    "df_prob['pred_neg'] = df_pred['pred_neg']\n"
   ],
   "metadata": {
    "collapsed": false,
    "pycharm": {
     "name": "#%%\n"
    }
   }
  },
  {
   "cell_type": "code",
   "execution_count": null,
   "outputs": [],
   "source": [
    "y_score"
   ],
   "metadata": {
    "collapsed": false,
    "pycharm": {
     "name": "#%%\n"
    }
   }
  },
  {
   "cell_type": "code",
   "execution_count": null,
   "outputs": [],
   "source": [
    "# First aggregate all false positive rates\n",
    "all_fpr = np.unique(np.concatenate([fpr[i] for i in range(n_classes)]))\n",
    "\n",
    "# Then interpolate all ROC curves at this points\n",
    "mean_tpr = np.zeros_like(all_fpr)\n",
    "for i in range(n_classes):\n",
    "    mean_tpr += np.interp(all_fpr, fpr[i], tpr[i])\n",
    "\n",
    "# Finally average it and compute AUC\n",
    "mean_tpr /= n_classes\n",
    "\n",
    "fpr[\"macro\"] = all_fpr\n",
    "tpr[\"macro\"] = mean_tpr\n",
    "roc_auc[\"macro\"] = auc(fpr[\"macro\"], tpr[\"macro\"])\n",
    "\n",
    "# Plot all ROC curves\n",
    "plt.figure()\n",
    "plt.plot(\n",
    "    fpr[\"micro\"],\n",
    "    tpr[\"micro\"],\n",
    "    label=\"micro-average ROC curve (area = {0:0.2f})\".format(roc_auc[\"micro\"]),\n",
    "    color=\"deeppink\",\n",
    "    linestyle=\":\",\n",
    "    linewidth=4,\n",
    ")\n",
    "\n",
    "plt.plot(\n",
    "    fpr[\"macro\"],\n",
    "    tpr[\"macro\"],\n",
    "    label=\"macro-average ROC curve (area = {0:0.2f})\".format(roc_auc[\"macro\"]),\n",
    "    color=\"navy\",\n",
    "    linestyle=\":\",\n",
    "    linewidth=4,\n",
    ")\n",
    "\n",
    "colors = cycle([\"aqua\", \"darkorange\", \"cornflowerblue\"])\n",
    "for i, color in zip(range(n_classes), colors):\n",
    "    plt.plot(\n",
    "        fpr[i],\n",
    "        tpr[i],\n",
    "        color=color,\n",
    "        lw=lw,\n",
    "        label=\"ROC curve of class {0} (area = {1:0.2f})\".format(i, roc_auc[i]),\n",
    "    )\n",
    "\n",
    "plt.plot([0, 1], [0, 1], \"k--\", lw=lw)\n",
    "plt.xlim([0.0, 1.0])\n",
    "plt.ylim([0.0, 1.05])\n",
    "plt.xlabel(\"False Positive Rate\")\n",
    "plt.ylabel(\"True Positive Rate\")\n",
    "plt.title(\"Some extension of Receiver operating characteristic to multiclass\")\n",
    "plt.legend(loc=\"lower right\")\n",
    "plt.show()"
   ],
   "metadata": {
    "collapsed": false,
    "pycharm": {
     "name": "#%%\n"
    }
   }
  },
  {
   "cell_type": "code",
   "execution_count": null,
   "outputs": [],
   "source": [
    "'''#Choose Multinomial NB as model ( to get app running, change later)\n",
    "model_used = classifier.fit(X,y)\n",
    "\n",
    "# save the model to disk\n",
    "filename = 'finalized_onevsrest_model.sav'\n",
    "dump(model_used, open(filename, 'wb'))'''"
   ],
   "metadata": {
    "collapsed": false,
    "pycharm": {
     "name": "#%%\n"
    }
   }
  },
  {
   "cell_type": "code",
   "execution_count": null,
   "outputs": [],
   "source": [
    "import matplotlib.pyplot as plt\n",
    "from sklearn import svm, datasets\n",
    "from sklearn.model_selection import train_test_split\n",
    "from sklearn.preprocessing import label_binarize\n",
    "from sklearn.metrics import roc_curve, auc\n",
    "from sklearn.multiclass import OneVsRestClassifier\n",
    "from sklearn.model_selection import cross_val_predict\n",
    "from sklearn.discriminant_analysis import QuadraticDiscriminantAnalysis as QDA\n",
    "\n",
    "\n",
    "clf = OneVsRestClassifier(model_RF)\n",
    "y_score = cross_val_predict(clf, X, y, cv=10 ,method='predict_proba')\n",
    "\n",
    "fpr = dict()\n",
    "tpr = dict()\n",
    "roc_auc = dict()\n",
    "for i in range(n_classes):\n",
    "    fpr[i], tpr[i], _ = roc_curve(y[:, i], y_score[:, i])\n",
    "    roc_auc[i] = auc(fpr[i], tpr[i])\n",
    "colors = cycle(['blue', 'red', 'green'])\n",
    "for i, color in zip(range(n_classes), colors):\n",
    "    plt.plot(fpr[i], tpr[i], color=color, lw=lw,\n",
    "             label='ROC curve of class {0} (area = {1:0.2f})'\n",
    "             ''.format(i, roc_auc[i]))\n",
    "plt.plot([0, 1], [0, 1], 'k--', lw=lw)\n",
    "plt.xlim([-0.05, 1.0])\n",
    "plt.ylim([0.0, 1.05])\n",
    "plt.xlabel('False Positive Rate')\n",
    "plt.ylabel('True Positive Rate')\n",
    "plt.title('Receiver operating characteristic for multi-class data')\n",
    "plt.legend(loc=\"lower right\")\n",
    "plt.show()"
   ],
   "metadata": {
    "collapsed": false,
    "pycharm": {
     "name": "#%%\n"
    }
   }
  },
  {
   "cell_type": "code",
   "execution_count": null,
   "outputs": [],
   "source": [
    "vectorizer.get_feature_names_out()"
   ],
   "metadata": {
    "collapsed": false,
    "pycharm": {
     "name": "#%%\n"
    }
   }
  },
  {
   "cell_type": "code",
   "execution_count": null,
   "outputs": [],
   "source": [],
   "metadata": {
    "collapsed": false,
    "pycharm": {
     "name": "#%%\n"
    }
   }
  }
 ],
 "metadata": {
  "kernelspec": {
   "display_name": "Python 3",
   "language": "python",
   "name": "python3"
  },
  "language_info": {
   "codemirror_mode": {
    "name": "ipython",
    "version": 2
   },
   "file_extension": ".py",
   "mimetype": "text/x-python",
   "name": "python",
   "nbconvert_exporter": "python",
   "pygments_lexer": "ipython2",
   "version": "2.7.6"
  }
 },
 "nbformat": 4,
 "nbformat_minor": 0
}