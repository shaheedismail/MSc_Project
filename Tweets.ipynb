{
 "cells": [
  {
   "cell_type": "code",
   "execution_count": 1,
   "metadata": {
    "collapsed": true
   },
   "outputs": [],
   "source": [
    "import pandas as pd\n",
    "import snscrape.modules.twitter as sntwitter\n",
    "import itertools\n",
    "import time\n",
    "from datetime import date, timedelta\n",
    "import datetime\n",
    "from tqdm import tqdm\n",
    "from interruptingcow import timeout\n",
    "from interruptingcow import timeout\n",
    "import re\n",
    "import string\n",
    "punctuation_string = string.punctuation\n",
    "tqdm.pandas()\n",
    "import gc"
   ]
  },
  {
   "cell_type": "markdown",
   "source": [
    "Top 100 products from dataset\n",
    "plus news channels\n",
    "plus Martin Lewis\n",
    "What else?"
   ],
   "metadata": {
    "collapsed": false,
    "pycharm": {
     "name": "#%% md\n"
    }
   }
  },
  {
   "cell_type": "code",
   "execution_count": 2,
   "outputs": [
    {
     "name": "stdout",
     "output_type": "stream",
     "text": [
      "<class 'pandas.core.frame.DataFrame'>\n",
      "RangeIndex: 28028 entries, 0 to 28027\n",
      "Data columns (total 12 columns):\n",
      " #   Column          Non-Null Count  Dtype  \n",
      "---  ------          --------------  -----  \n",
      " 0   overall         28028 non-null  float64\n",
      " 1   vote            4509 non-null   object \n",
      " 2   verified        28028 non-null  bool   \n",
      " 3   reviewTime      28028 non-null  object \n",
      " 4   reviewerID      28028 non-null  object \n",
      " 5   asin            28028 non-null  object \n",
      " 6   reviewerName    28026 non-null  object \n",
      " 7   reviewText      28018 non-null  object \n",
      " 8   summary         28020 non-null  object \n",
      " 9   unixReviewTime  28028 non-null  int64  \n",
      " 10  style           17471 non-null  object \n",
      " 11  image           317 non-null    object \n",
      "dtypes: bool(1), float64(1), int64(1), object(9)\n",
      "memory usage: 2.4+ MB\n"
     ]
    }
   ],
   "source": [
    "df = pd.read_csv('Datasetjson_small.csv', low_memory=False)\n",
    "df.head()\n",
    "df.info()"
   ],
   "metadata": {
    "collapsed": false,
    "pycharm": {
     "name": "#%%\n"
    }
   }
  },
  {
   "cell_type": "code",
   "execution_count": 3,
   "outputs": [
    {
     "name": "stdout",
     "output_type": "stream",
     "text": [
      "<class 'pandas.core.frame.DataFrame'>\n",
      "RangeIndex: 14751104 entries, 0 to 14751103\n",
      "Data columns (total 3 columns):\n",
      " #   Column    Dtype \n",
      "---  ------    ----- \n",
      " 0   brand     object\n",
      " 1   asin      object\n",
      " 2   category  object\n",
      "dtypes: object(3)\n",
      "memory usage: 337.6+ MB\n"
     ]
    }
   ],
   "source": [
    "df_meta= pd.read_csv('meta.csv', low_memory=False)\n",
    "df_meta.info()"
   ],
   "metadata": {
    "collapsed": false,
    "pycharm": {
     "name": "#%%\n"
    }
   }
  },
  {
   "cell_type": "code",
   "execution_count": 4,
   "outputs": [
    {
     "data": {
      "text/plain": "0    I bought two of these 8.5 fl oz hand cream, an...\n1    Believe me, over the years I have tried many, ...\n2                         Great hand lotion Five Stars\n3    This is the best for the severely dry skin on ...\n4    The best non- oily hand cream ever. It heals o...\nName: review, dtype: object"
     },
     "execution_count": 4,
     "metadata": {},
     "output_type": "execute_result"
    }
   ],
   "source": [
    "df['review'] = df['reviewText']+' '+df['summary']\n",
    "df['review'].head()"
   ],
   "metadata": {
    "collapsed": false,
    "pycharm": {
     "name": "#%%\n"
    }
   }
  },
  {
   "cell_type": "code",
   "execution_count": 5,
   "outputs": [
    {
     "data": {
      "text/plain": "      overall vote  verified   reviewTime      reviewerID        asin  \\\n1001      4.0    3      True  08 12, 2015  A3ELV1VUCZZGL4  0209688726   \n1002      2.0  NaN      True  08 12, 2015  A2FD3FZ2WV6KHQ  0209688726   \n1003      2.0   12      True  08 11, 2015  A39NRKABAVSVSE  0209688726   \n1004      5.0  NaN      True  07 29, 2015   AQSBL5KODHSGW  0209688726   \n1005      5.0  NaN     False  07 11, 2015   AU45OQPK2J5JF  0209688726   \n...       ...  ...       ...          ...             ...         ...   \n1997      2.0  NaN      True  09 30, 2016  A266AWXVTRH5YA  0209688726   \n1998      4.0  NaN     False  09 30, 2016  A1YYEDAWMFHWW0  0209688726   \n1999      5.0  124      True  09 29, 2016   AM4260SVQHMX4  0209688726   \n2000      5.0  NaN      True  09 29, 2016   AAWZHPPMQN0GC  0209688726   \n2001      5.0  NaN      True  09 27, 2016   AG859F5O171SF  0209688726   \n\n         reviewerName                                         reviewText  \\\n1001             AnaG  it's fine. I just would like the stickers to b...   \n1002  Obi John Kenobi  took me three returns to get one that didn't w...   \n1003   MuddyRiverGirl  While the product is fine the description and ...   \n1004           Nate S  It's beautiful and blends right in with my woo...   \n1005             Kort  I love this stand! I had been looking around f...   \n...               ...                                                ...   \n1997  Amazon Customer  The magnet is incredibly poor. But cute and ti...   \n1998          NicoleR  This diffuser necklace is ok. It has more of a...   \n1999               C3  <div id=\"video-block-R3NWBOL144TPGW\" class=\"a-...   \n2000  Dannie Hedgpeth                                   Got the job done   \n2001        City Girl  Pretty pendant and I love the aromatherapy asp...   \n\n                                                summary  unixReviewTime  \\\n1001                                  Serve its purpose      1439337600   \n1002       and it's still not super stable but whatever      1439337600   \n1003                      Beware! Description is wrong.      1439251200   \n1004             Awesome desk stand, simple and elegant      1438128000   \n1005                                  I love this stand      1436572800   \n...                                                 ...             ...   \n1997                                                Meh      1475193600   \n1998  The smell never really permeates though like i...      1475193600   \n1999          Good handheld vacuum to have in every car      1475107200   \n2000                                         Five Stars      1475107200   \n2001                                     Pretty pendant      1474934400   \n\n                     style                                              image  \\\n1001     {'Color:': ' CA'}  ['https://images-na.ssl-images-amazon.com/imag...   \n1002      {'Color:': ' T'}                                                NaN   \n1003     {'Color:': ' AC'}  ['https://images-na.ssl-images-amazon.com/imag...   \n1004      {'Color:': ' T'}                                                NaN   \n1005      {'Color:': ' T'}                                                NaN   \n...                    ...                                                ...   \n1997     {'Color:': ' CA'}                                                NaN   \n1998      {'Color:': ' M'}                                                NaN   \n1999  {'Color:': ' Black'}  ['https://images-na.ssl-images-amazon.com/imag...   \n2000  {'Color:': ' Black'}                                                NaN   \n2001      {'Color:': ' M'}                                                NaN   \n\n                                                 review  \n1001  it's fine. I just would like the stickers to b...  \n1002  took me three returns to get one that didn't w...  \n1003  While the product is fine the description and ...  \n1004  It's beautiful and blends right in with my woo...  \n1005  I love this stand! I had been looking around f...  \n...                                                 ...  \n1997  The magnet is incredibly poor. But cute and ti...  \n1998  This diffuser necklace is ok. It has more of a...  \n1999  <div id=\"video-block-R3NWBOL144TPGW\" class=\"a-...  \n2000                        Got the job done Five Stars  \n2001  Pretty pendant and I love the aromatherapy asp...  \n\n[1001 rows x 13 columns]",
      "text/html": "<div>\n<style scoped>\n    .dataframe tbody tr th:only-of-type {\n        vertical-align: middle;\n    }\n\n    .dataframe tbody tr th {\n        vertical-align: top;\n    }\n\n    .dataframe thead th {\n        text-align: right;\n    }\n</style>\n<table border=\"1\" class=\"dataframe\">\n  <thead>\n    <tr style=\"text-align: right;\">\n      <th></th>\n      <th>overall</th>\n      <th>vote</th>\n      <th>verified</th>\n      <th>reviewTime</th>\n      <th>reviewerID</th>\n      <th>asin</th>\n      <th>reviewerName</th>\n      <th>reviewText</th>\n      <th>summary</th>\n      <th>unixReviewTime</th>\n      <th>style</th>\n      <th>image</th>\n      <th>review</th>\n    </tr>\n  </thead>\n  <tbody>\n    <tr>\n      <th>1001</th>\n      <td>4.0</td>\n      <td>3</td>\n      <td>True</td>\n      <td>08 12, 2015</td>\n      <td>A3ELV1VUCZZGL4</td>\n      <td>0209688726</td>\n      <td>AnaG</td>\n      <td>it's fine. I just would like the stickers to b...</td>\n      <td>Serve its purpose</td>\n      <td>1439337600</td>\n      <td>{'Color:': ' CA'}</td>\n      <td>['https://images-na.ssl-images-amazon.com/imag...</td>\n      <td>it's fine. I just would like the stickers to b...</td>\n    </tr>\n    <tr>\n      <th>1002</th>\n      <td>2.0</td>\n      <td>NaN</td>\n      <td>True</td>\n      <td>08 12, 2015</td>\n      <td>A2FD3FZ2WV6KHQ</td>\n      <td>0209688726</td>\n      <td>Obi John Kenobi</td>\n      <td>took me three returns to get one that didn't w...</td>\n      <td>and it's still not super stable but whatever</td>\n      <td>1439337600</td>\n      <td>{'Color:': ' T'}</td>\n      <td>NaN</td>\n      <td>took me three returns to get one that didn't w...</td>\n    </tr>\n    <tr>\n      <th>1003</th>\n      <td>2.0</td>\n      <td>12</td>\n      <td>True</td>\n      <td>08 11, 2015</td>\n      <td>A39NRKABAVSVSE</td>\n      <td>0209688726</td>\n      <td>MuddyRiverGirl</td>\n      <td>While the product is fine the description and ...</td>\n      <td>Beware! Description is wrong.</td>\n      <td>1439251200</td>\n      <td>{'Color:': ' AC'}</td>\n      <td>['https://images-na.ssl-images-amazon.com/imag...</td>\n      <td>While the product is fine the description and ...</td>\n    </tr>\n    <tr>\n      <th>1004</th>\n      <td>5.0</td>\n      <td>NaN</td>\n      <td>True</td>\n      <td>07 29, 2015</td>\n      <td>AQSBL5KODHSGW</td>\n      <td>0209688726</td>\n      <td>Nate S</td>\n      <td>It's beautiful and blends right in with my woo...</td>\n      <td>Awesome desk stand, simple and elegant</td>\n      <td>1438128000</td>\n      <td>{'Color:': ' T'}</td>\n      <td>NaN</td>\n      <td>It's beautiful and blends right in with my woo...</td>\n    </tr>\n    <tr>\n      <th>1005</th>\n      <td>5.0</td>\n      <td>NaN</td>\n      <td>False</td>\n      <td>07 11, 2015</td>\n      <td>AU45OQPK2J5JF</td>\n      <td>0209688726</td>\n      <td>Kort</td>\n      <td>I love this stand! I had been looking around f...</td>\n      <td>I love this stand</td>\n      <td>1436572800</td>\n      <td>{'Color:': ' T'}</td>\n      <td>NaN</td>\n      <td>I love this stand! I had been looking around f...</td>\n    </tr>\n    <tr>\n      <th>...</th>\n      <td>...</td>\n      <td>...</td>\n      <td>...</td>\n      <td>...</td>\n      <td>...</td>\n      <td>...</td>\n      <td>...</td>\n      <td>...</td>\n      <td>...</td>\n      <td>...</td>\n      <td>...</td>\n      <td>...</td>\n      <td>...</td>\n    </tr>\n    <tr>\n      <th>1997</th>\n      <td>2.0</td>\n      <td>NaN</td>\n      <td>True</td>\n      <td>09 30, 2016</td>\n      <td>A266AWXVTRH5YA</td>\n      <td>0209688726</td>\n      <td>Amazon Customer</td>\n      <td>The magnet is incredibly poor. But cute and ti...</td>\n      <td>Meh</td>\n      <td>1475193600</td>\n      <td>{'Color:': ' CA'}</td>\n      <td>NaN</td>\n      <td>The magnet is incredibly poor. But cute and ti...</td>\n    </tr>\n    <tr>\n      <th>1998</th>\n      <td>4.0</td>\n      <td>NaN</td>\n      <td>False</td>\n      <td>09 30, 2016</td>\n      <td>A1YYEDAWMFHWW0</td>\n      <td>0209688726</td>\n      <td>NicoleR</td>\n      <td>This diffuser necklace is ok. It has more of a...</td>\n      <td>The smell never really permeates though like i...</td>\n      <td>1475193600</td>\n      <td>{'Color:': ' M'}</td>\n      <td>NaN</td>\n      <td>This diffuser necklace is ok. It has more of a...</td>\n    </tr>\n    <tr>\n      <th>1999</th>\n      <td>5.0</td>\n      <td>124</td>\n      <td>True</td>\n      <td>09 29, 2016</td>\n      <td>AM4260SVQHMX4</td>\n      <td>0209688726</td>\n      <td>C3</td>\n      <td>&lt;div id=\"video-block-R3NWBOL144TPGW\" class=\"a-...</td>\n      <td>Good handheld vacuum to have in every car</td>\n      <td>1475107200</td>\n      <td>{'Color:': ' Black'}</td>\n      <td>['https://images-na.ssl-images-amazon.com/imag...</td>\n      <td>&lt;div id=\"video-block-R3NWBOL144TPGW\" class=\"a-...</td>\n    </tr>\n    <tr>\n      <th>2000</th>\n      <td>5.0</td>\n      <td>NaN</td>\n      <td>True</td>\n      <td>09 29, 2016</td>\n      <td>AAWZHPPMQN0GC</td>\n      <td>0209688726</td>\n      <td>Dannie Hedgpeth</td>\n      <td>Got the job done</td>\n      <td>Five Stars</td>\n      <td>1475107200</td>\n      <td>{'Color:': ' Black'}</td>\n      <td>NaN</td>\n      <td>Got the job done Five Stars</td>\n    </tr>\n    <tr>\n      <th>2001</th>\n      <td>5.0</td>\n      <td>NaN</td>\n      <td>True</td>\n      <td>09 27, 2016</td>\n      <td>AG859F5O171SF</td>\n      <td>0209688726</td>\n      <td>City Girl</td>\n      <td>Pretty pendant and I love the aromatherapy asp...</td>\n      <td>Pretty pendant</td>\n      <td>1474934400</td>\n      <td>{'Color:': ' M'}</td>\n      <td>NaN</td>\n      <td>Pretty pendant and I love the aromatherapy asp...</td>\n    </tr>\n  </tbody>\n</table>\n<p>1001 rows × 13 columns</p>\n</div>"
     },
     "execution_count": 5,
     "metadata": {},
     "output_type": "execute_result"
    }
   ],
   "source": [
    "df.groupby('asin').count()\n",
    "df[df['asin']=='0209688726']"
   ],
   "metadata": {
    "collapsed": false,
    "pycharm": {
     "name": "#%%\n"
    }
   }
  },
  {
   "cell_type": "code",
   "execution_count": 6,
   "outputs": [
    {
     "data": {
      "text/plain": "                                    brand        asin  \\\n0                                BubuBibi  0000032042   \n1                                BubuBibi  0000032069   \n2                                 Unknown  0000031860   \n3                                    Tutu  0000031852   \n4                                Bububibi  0000031895   \n...                                   ...         ...   \n14751099                              NaN  B01GMFJ8JU   \n14751100                       QuickGifts  B01GOQIKRI   \n14751101                       QuickGifts  B01GOQHGL4   \n14751102  Go Play Golf by Fairway Rewards  B01GP1W4LA   \n14751103                              NaN  B01H5PPJT4   \n\n                                                   category  \n0         ['Sports & Outdoors', 'Sports & Fitness', 'Oth...  \n1         ['Sports & Outdoors', 'Sports & Fitness', 'Oth...  \n2         ['Sports & Outdoors', 'Sports & Fitness', 'Oth...  \n3         ['Sports & Outdoors', 'Sports & Fitness', 'Oth...  \n4         ['Sports & Outdoors', 'Sports & Fitness', 'Oth...  \n...                                                     ...  \n14751099                       ['Gift Cards', 'Gift Cards']  \n14751100                       ['Gift Cards', 'Gift Cards']  \n14751101                       ['Gift Cards', 'Gift Cards']  \n14751102                       ['Gift Cards', 'Gift Cards']  \n14751103                       ['Gift Cards', 'Gift Cards']  \n\n[14064249 rows x 3 columns]",
      "text/html": "<div>\n<style scoped>\n    .dataframe tbody tr th:only-of-type {\n        vertical-align: middle;\n    }\n\n    .dataframe tbody tr th {\n        vertical-align: top;\n    }\n\n    .dataframe thead th {\n        text-align: right;\n    }\n</style>\n<table border=\"1\" class=\"dataframe\">\n  <thead>\n    <tr style=\"text-align: right;\">\n      <th></th>\n      <th>brand</th>\n      <th>asin</th>\n      <th>category</th>\n    </tr>\n  </thead>\n  <tbody>\n    <tr>\n      <th>0</th>\n      <td>BubuBibi</td>\n      <td>0000032042</td>\n      <td>['Sports &amp; Outdoors', 'Sports &amp; Fitness', 'Oth...</td>\n    </tr>\n    <tr>\n      <th>1</th>\n      <td>BubuBibi</td>\n      <td>0000032069</td>\n      <td>['Sports &amp; Outdoors', 'Sports &amp; Fitness', 'Oth...</td>\n    </tr>\n    <tr>\n      <th>2</th>\n      <td>Unknown</td>\n      <td>0000031860</td>\n      <td>['Sports &amp; Outdoors', 'Sports &amp; Fitness', 'Oth...</td>\n    </tr>\n    <tr>\n      <th>3</th>\n      <td>Tutu</td>\n      <td>0000031852</td>\n      <td>['Sports &amp; Outdoors', 'Sports &amp; Fitness', 'Oth...</td>\n    </tr>\n    <tr>\n      <th>4</th>\n      <td>Bububibi</td>\n      <td>0000031895</td>\n      <td>['Sports &amp; Outdoors', 'Sports &amp; Fitness', 'Oth...</td>\n    </tr>\n    <tr>\n      <th>...</th>\n      <td>...</td>\n      <td>...</td>\n      <td>...</td>\n    </tr>\n    <tr>\n      <th>14751099</th>\n      <td>NaN</td>\n      <td>B01GMFJ8JU</td>\n      <td>['Gift Cards', 'Gift Cards']</td>\n    </tr>\n    <tr>\n      <th>14751100</th>\n      <td>QuickGifts</td>\n      <td>B01GOQIKRI</td>\n      <td>['Gift Cards', 'Gift Cards']</td>\n    </tr>\n    <tr>\n      <th>14751101</th>\n      <td>QuickGifts</td>\n      <td>B01GOQHGL4</td>\n      <td>['Gift Cards', 'Gift Cards']</td>\n    </tr>\n    <tr>\n      <th>14751102</th>\n      <td>Go Play Golf by Fairway Rewards</td>\n      <td>B01GP1W4LA</td>\n      <td>['Gift Cards', 'Gift Cards']</td>\n    </tr>\n    <tr>\n      <th>14751103</th>\n      <td>NaN</td>\n      <td>B01H5PPJT4</td>\n      <td>['Gift Cards', 'Gift Cards']</td>\n    </tr>\n  </tbody>\n</table>\n<p>14064249 rows × 3 columns</p>\n</div>"
     },
     "execution_count": 6,
     "metadata": {},
     "output_type": "execute_result"
    }
   ],
   "source": [
    "df_meta = df_meta.drop_duplicates(subset=['asin', 'brand', 'category'])\n",
    "df_meta"
   ],
   "metadata": {
    "collapsed": false,
    "pycharm": {
     "name": "#%%\n"
    }
   }
  },
  {
   "cell_type": "code",
   "execution_count": 7,
   "outputs": [
    {
     "name": "stdout",
     "output_type": "stream",
     "text": [
      "<class 'pandas.core.frame.DataFrame'>\n",
      "Int64Index: 14064249 entries, 0 to 14751103\n",
      "Data columns (total 3 columns):\n",
      " #   Column    Dtype \n",
      "---  ------    ----- \n",
      " 0   brand     object\n",
      " 1   asin      object\n",
      " 2   category  object\n",
      "dtypes: object(3)\n",
      "memory usage: 429.2+ MB\n"
     ]
    }
   ],
   "source": [
    "df_meta.info()"
   ],
   "metadata": {
    "collapsed": false,
    "pycharm": {
     "name": "#%%\n"
    }
   }
  },
  {
   "cell_type": "code",
   "execution_count": 8,
   "outputs": [],
   "source": [
    "df_merge = df.merge(df_meta, on='asin')"
   ],
   "metadata": {
    "collapsed": false,
    "pycharm": {
     "name": "#%%\n"
    }
   }
  },
  {
   "cell_type": "code",
   "execution_count": 9,
   "outputs": [
    {
     "data": {
      "text/plain": "       overall vote  verified   reviewTime      reviewerID        asin  \\\n0          2.0    3      True  06 15, 2010  A1Q6MUU0B2ZDQG  B00004U9V2   \n1          5.0   14      True   01 7, 2010  A3HO2SQDCZIE9S  B00004U9V2   \n2          5.0  NaN      True  04 18, 2018  A2EM03F99X3RJZ  B00004U9V2   \n3          5.0  NaN      True  04 18, 2018   A3Z74TDRGD0HU  B00004U9V2   \n4          5.0  NaN      True  04 17, 2018  A2UXFNW9RTL4VM  B00004U9V2   \n...        ...  ...       ...          ...             ...         ...   \n23707      3.0  NaN      True  03 15, 2013  A25PFYRQYOVPLH  B000FBFMVG   \n23708      3.0  NaN      True  01 29, 2013  A1YJE0NK4P0KZJ  B000FBFMVG   \n23709      3.0  NaN      True  12 20, 2012  A39OV2VJUXKDDI  B000FBFMVG   \n23710      4.0  NaN     False  07 28, 2012  A2QW0IMOX4EULQ  B000FBFMVG   \n23711      4.0  NaN      True  01 14, 2012  A3D58M29K2HWMV  B000FBFMVG   \n\n          reviewerName                                         reviewText  \\\n0            D. Poston  I bought two of these 8.5 fl oz hand cream, an...   \n1              chandra  Believe me, over the years I have tried many, ...   \n2            Maureen G                                  Great hand lotion   \n3              Terry K  This is the best for the severely dry skin on ...   \n4        Patricia Wood  The best non- oily hand cream ever. It heals o...   \n...                ...                                                ...   \n23707      Scott Spell  Nice to see Chewie in a lead role. I recommend...   \n23708            blaze  It was great to no that Chewbacca was a family...   \n23709     Keith Meehan  A nice family oriented short featuring Chewbac...   \n23710  Amazon Customer  Chewbacca fans should rejoice. Not only does t...   \n23711      P. Thompson  I'm not really sure where it actually fits int...   \n\n                                    summary  unixReviewTime  \\\n0                     dispensers don't work      1276560000   \n1                     Best hand cream ever.      1262822400   \n2                                Five Stars      1524009600   \n3                                Five Stars      1524009600   \n4             I always have a backup ready.      1523923200   \n...                                     ...             ...   \n23707                 A fun change of pace.      1363305600   \n23708                              Fun read      1359417600   \n23709  Not bad needs more than just Wookies      1355961600   \n23710                        A Forest Apart      1343433600   \n23711                      Enjoyable But...      1326499200   \n\n                       style image  \\\n0                        NaN   NaN   \n1                        NaN   NaN   \n2      {'Size:': ' 3.5 oz.'}   NaN   \n3      {'Size:': ' 3.5 oz.'}   NaN   \n4      {'Size:': ' 3.5 oz.'}   NaN   \n...                      ...   ...   \n23707                    NaN   NaN   \n23708                    NaN   NaN   \n23709                    NaN   NaN   \n23710                    NaN   NaN   \n23711                    NaN   NaN   \n\n                                                  review         brand  \\\n0      I bought two of these 8.5 fl oz hand cream, an...           NaN   \n1      Believe me, over the years I have tried many, ...           NaN   \n2                           Great hand lotion Five Stars           NaN   \n3      This is the best for the severely dry skin on ...           NaN   \n4      The best non- oily hand cream ever. It heals o...           NaN   \n...                                                  ...           ...   \n23707  Nice to see Chewie in a lead role. I recommend...  Troy Denning   \n23708  It was great to no that Chewbacca was a family...  Troy Denning   \n23709  A nice family oriented short featuring Chewbac...  Troy Denning   \n23710  Chewbacca fans should rejoice. Not only does t...  Troy Denning   \n23711  I'm not really sure where it actually fits int...  Troy Denning   \n\n                                                category  \n0                                                     []  \n1                                                     []  \n2                                                     []  \n3                                                     []  \n4                                                     []  \n...                                                  ...  \n23707  ['Kindle Store', 'Kindle eBooks', 'Literature ...  \n23708  ['Kindle Store', 'Kindle eBooks', 'Literature ...  \n23709  ['Kindle Store', 'Kindle eBooks', 'Literature ...  \n23710  ['Kindle Store', 'Kindle eBooks', 'Literature ...  \n23711  ['Kindle Store', 'Kindle eBooks', 'Literature ...  \n\n[23712 rows x 15 columns]",
      "text/html": "<div>\n<style scoped>\n    .dataframe tbody tr th:only-of-type {\n        vertical-align: middle;\n    }\n\n    .dataframe tbody tr th {\n        vertical-align: top;\n    }\n\n    .dataframe thead th {\n        text-align: right;\n    }\n</style>\n<table border=\"1\" class=\"dataframe\">\n  <thead>\n    <tr style=\"text-align: right;\">\n      <th></th>\n      <th>overall</th>\n      <th>vote</th>\n      <th>verified</th>\n      <th>reviewTime</th>\n      <th>reviewerID</th>\n      <th>asin</th>\n      <th>reviewerName</th>\n      <th>reviewText</th>\n      <th>summary</th>\n      <th>unixReviewTime</th>\n      <th>style</th>\n      <th>image</th>\n      <th>review</th>\n      <th>brand</th>\n      <th>category</th>\n    </tr>\n  </thead>\n  <tbody>\n    <tr>\n      <th>0</th>\n      <td>2.0</td>\n      <td>3</td>\n      <td>True</td>\n      <td>06 15, 2010</td>\n      <td>A1Q6MUU0B2ZDQG</td>\n      <td>B00004U9V2</td>\n      <td>D. Poston</td>\n      <td>I bought two of these 8.5 fl oz hand cream, an...</td>\n      <td>dispensers don't work</td>\n      <td>1276560000</td>\n      <td>NaN</td>\n      <td>NaN</td>\n      <td>I bought two of these 8.5 fl oz hand cream, an...</td>\n      <td>NaN</td>\n      <td>[]</td>\n    </tr>\n    <tr>\n      <th>1</th>\n      <td>5.0</td>\n      <td>14</td>\n      <td>True</td>\n      <td>01 7, 2010</td>\n      <td>A3HO2SQDCZIE9S</td>\n      <td>B00004U9V2</td>\n      <td>chandra</td>\n      <td>Believe me, over the years I have tried many, ...</td>\n      <td>Best hand cream ever.</td>\n      <td>1262822400</td>\n      <td>NaN</td>\n      <td>NaN</td>\n      <td>Believe me, over the years I have tried many, ...</td>\n      <td>NaN</td>\n      <td>[]</td>\n    </tr>\n    <tr>\n      <th>2</th>\n      <td>5.0</td>\n      <td>NaN</td>\n      <td>True</td>\n      <td>04 18, 2018</td>\n      <td>A2EM03F99X3RJZ</td>\n      <td>B00004U9V2</td>\n      <td>Maureen G</td>\n      <td>Great hand lotion</td>\n      <td>Five Stars</td>\n      <td>1524009600</td>\n      <td>{'Size:': ' 3.5 oz.'}</td>\n      <td>NaN</td>\n      <td>Great hand lotion Five Stars</td>\n      <td>NaN</td>\n      <td>[]</td>\n    </tr>\n    <tr>\n      <th>3</th>\n      <td>5.0</td>\n      <td>NaN</td>\n      <td>True</td>\n      <td>04 18, 2018</td>\n      <td>A3Z74TDRGD0HU</td>\n      <td>B00004U9V2</td>\n      <td>Terry K</td>\n      <td>This is the best for the severely dry skin on ...</td>\n      <td>Five Stars</td>\n      <td>1524009600</td>\n      <td>{'Size:': ' 3.5 oz.'}</td>\n      <td>NaN</td>\n      <td>This is the best for the severely dry skin on ...</td>\n      <td>NaN</td>\n      <td>[]</td>\n    </tr>\n    <tr>\n      <th>4</th>\n      <td>5.0</td>\n      <td>NaN</td>\n      <td>True</td>\n      <td>04 17, 2018</td>\n      <td>A2UXFNW9RTL4VM</td>\n      <td>B00004U9V2</td>\n      <td>Patricia Wood</td>\n      <td>The best non- oily hand cream ever. It heals o...</td>\n      <td>I always have a backup ready.</td>\n      <td>1523923200</td>\n      <td>{'Size:': ' 3.5 oz.'}</td>\n      <td>NaN</td>\n      <td>The best non- oily hand cream ever. It heals o...</td>\n      <td>NaN</td>\n      <td>[]</td>\n    </tr>\n    <tr>\n      <th>...</th>\n      <td>...</td>\n      <td>...</td>\n      <td>...</td>\n      <td>...</td>\n      <td>...</td>\n      <td>...</td>\n      <td>...</td>\n      <td>...</td>\n      <td>...</td>\n      <td>...</td>\n      <td>...</td>\n      <td>...</td>\n      <td>...</td>\n      <td>...</td>\n      <td>...</td>\n    </tr>\n    <tr>\n      <th>23707</th>\n      <td>3.0</td>\n      <td>NaN</td>\n      <td>True</td>\n      <td>03 15, 2013</td>\n      <td>A25PFYRQYOVPLH</td>\n      <td>B000FBFMVG</td>\n      <td>Scott Spell</td>\n      <td>Nice to see Chewie in a lead role. I recommend...</td>\n      <td>A fun change of pace.</td>\n      <td>1363305600</td>\n      <td>NaN</td>\n      <td>NaN</td>\n      <td>Nice to see Chewie in a lead role. I recommend...</td>\n      <td>Troy Denning</td>\n      <td>['Kindle Store', 'Kindle eBooks', 'Literature ...</td>\n    </tr>\n    <tr>\n      <th>23708</th>\n      <td>3.0</td>\n      <td>NaN</td>\n      <td>True</td>\n      <td>01 29, 2013</td>\n      <td>A1YJE0NK4P0KZJ</td>\n      <td>B000FBFMVG</td>\n      <td>blaze</td>\n      <td>It was great to no that Chewbacca was a family...</td>\n      <td>Fun read</td>\n      <td>1359417600</td>\n      <td>NaN</td>\n      <td>NaN</td>\n      <td>It was great to no that Chewbacca was a family...</td>\n      <td>Troy Denning</td>\n      <td>['Kindle Store', 'Kindle eBooks', 'Literature ...</td>\n    </tr>\n    <tr>\n      <th>23709</th>\n      <td>3.0</td>\n      <td>NaN</td>\n      <td>True</td>\n      <td>12 20, 2012</td>\n      <td>A39OV2VJUXKDDI</td>\n      <td>B000FBFMVG</td>\n      <td>Keith Meehan</td>\n      <td>A nice family oriented short featuring Chewbac...</td>\n      <td>Not bad needs more than just Wookies</td>\n      <td>1355961600</td>\n      <td>NaN</td>\n      <td>NaN</td>\n      <td>A nice family oriented short featuring Chewbac...</td>\n      <td>Troy Denning</td>\n      <td>['Kindle Store', 'Kindle eBooks', 'Literature ...</td>\n    </tr>\n    <tr>\n      <th>23710</th>\n      <td>4.0</td>\n      <td>NaN</td>\n      <td>False</td>\n      <td>07 28, 2012</td>\n      <td>A2QW0IMOX4EULQ</td>\n      <td>B000FBFMVG</td>\n      <td>Amazon Customer</td>\n      <td>Chewbacca fans should rejoice. Not only does t...</td>\n      <td>A Forest Apart</td>\n      <td>1343433600</td>\n      <td>NaN</td>\n      <td>NaN</td>\n      <td>Chewbacca fans should rejoice. Not only does t...</td>\n      <td>Troy Denning</td>\n      <td>['Kindle Store', 'Kindle eBooks', 'Literature ...</td>\n    </tr>\n    <tr>\n      <th>23711</th>\n      <td>4.0</td>\n      <td>NaN</td>\n      <td>True</td>\n      <td>01 14, 2012</td>\n      <td>A3D58M29K2HWMV</td>\n      <td>B000FBFMVG</td>\n      <td>P. Thompson</td>\n      <td>I'm not really sure where it actually fits int...</td>\n      <td>Enjoyable But...</td>\n      <td>1326499200</td>\n      <td>NaN</td>\n      <td>NaN</td>\n      <td>I'm not really sure where it actually fits int...</td>\n      <td>Troy Denning</td>\n      <td>['Kindle Store', 'Kindle eBooks', 'Literature ...</td>\n    </tr>\n  </tbody>\n</table>\n<p>23712 rows × 15 columns</p>\n</div>"
     },
     "execution_count": 9,
     "metadata": {},
     "output_type": "execute_result"
    }
   ],
   "source": [
    "df_merge"
   ],
   "metadata": {
    "collapsed": false,
    "pycharm": {
     "name": "#%%\n"
    }
   }
  },
  {
   "cell_type": "code",
   "execution_count": 10,
   "outputs": [
    {
     "data": {
      "text/plain": "                               overall  vote  verified  reviewTime  \\\nbrand                                                                \nVisit Amazon's Zondervan Page      828   121       828         828   \nMicrosoft                          772   136       772         772   \nAlfred Music Publishing            767    52       767         767   \nAmazon                             696   140       696         696   \nTrans-Siberian Orchestra           649   109       649         649   \n...                                ...   ...       ...         ...   \nMonroe Products                      1     1         1           1   \nNRS                                  1     1         1           1   \nDel Monte                            1     0         1           1   \nDavid Garibaldi                      1     1         1           1   \nBrydan Corp                          1     1         1           1   \n\n                               reviewerID  asin  reviewerName  reviewText  \\\nbrand                                                                       \nVisit Amazon's Zondervan Page         828   828           828         828   \nMicrosoft                             772   772           772         772   \nAlfred Music Publishing               767   767           766         767   \nAmazon                                696   696           696         695   \nTrans-Siberian Orchestra              649   649           649         649   \n...                                   ...   ...           ...         ...   \nMonroe Products                         1     1             1           1   \nNRS                                     1     1             1           1   \nDel Monte                               1     1             1           1   \nDavid Garibaldi                         1     1             1           1   \nBrydan Corp                             1     1             1           1   \n\n                               summary  unixReviewTime  style  image  review  \\\nbrand                                                                          \nVisit Amazon's Zondervan Page      827             828    828     13     827   \nMicrosoft                          772             772      0      4     772   \nAlfred Music Publishing            767             767     15      8     767   \nAmazon                             696             696    657      1     695   \nTrans-Siberian Orchestra           649             649    649      0     649   \n...                                ...             ...    ...    ...     ...   \nMonroe Products                      1               1      1      0       1   \nNRS                                  1               1      1      0       1   \nDel Monte                            1               1      0      0       1   \nDavid Garibaldi                      1               1      1      0       1   \nBrydan Corp                          1               1      0      0       1   \n\n                               category  \nbrand                                    \nVisit Amazon's Zondervan Page       828  \nMicrosoft                           772  \nAlfred Music Publishing             767  \nAmazon                              696  \nTrans-Siberian Orchestra            649  \n...                                 ...  \nMonroe Products                       1  \nNRS                                   1  \nDel Monte                             1  \nDavid Garibaldi                       1  \nBrydan Corp                           1  \n\n[258 rows x 14 columns]",
      "text/html": "<div>\n<style scoped>\n    .dataframe tbody tr th:only-of-type {\n        vertical-align: middle;\n    }\n\n    .dataframe tbody tr th {\n        vertical-align: top;\n    }\n\n    .dataframe thead th {\n        text-align: right;\n    }\n</style>\n<table border=\"1\" class=\"dataframe\">\n  <thead>\n    <tr style=\"text-align: right;\">\n      <th></th>\n      <th>overall</th>\n      <th>vote</th>\n      <th>verified</th>\n      <th>reviewTime</th>\n      <th>reviewerID</th>\n      <th>asin</th>\n      <th>reviewerName</th>\n      <th>reviewText</th>\n      <th>summary</th>\n      <th>unixReviewTime</th>\n      <th>style</th>\n      <th>image</th>\n      <th>review</th>\n      <th>category</th>\n    </tr>\n    <tr>\n      <th>brand</th>\n      <th></th>\n      <th></th>\n      <th></th>\n      <th></th>\n      <th></th>\n      <th></th>\n      <th></th>\n      <th></th>\n      <th></th>\n      <th></th>\n      <th></th>\n      <th></th>\n      <th></th>\n      <th></th>\n    </tr>\n  </thead>\n  <tbody>\n    <tr>\n      <th>Visit Amazon's Zondervan Page</th>\n      <td>828</td>\n      <td>121</td>\n      <td>828</td>\n      <td>828</td>\n      <td>828</td>\n      <td>828</td>\n      <td>828</td>\n      <td>828</td>\n      <td>827</td>\n      <td>828</td>\n      <td>828</td>\n      <td>13</td>\n      <td>827</td>\n      <td>828</td>\n    </tr>\n    <tr>\n      <th>Microsoft</th>\n      <td>772</td>\n      <td>136</td>\n      <td>772</td>\n      <td>772</td>\n      <td>772</td>\n      <td>772</td>\n      <td>772</td>\n      <td>772</td>\n      <td>772</td>\n      <td>772</td>\n      <td>0</td>\n      <td>4</td>\n      <td>772</td>\n      <td>772</td>\n    </tr>\n    <tr>\n      <th>Alfred Music Publishing</th>\n      <td>767</td>\n      <td>52</td>\n      <td>767</td>\n      <td>767</td>\n      <td>767</td>\n      <td>767</td>\n      <td>766</td>\n      <td>767</td>\n      <td>767</td>\n      <td>767</td>\n      <td>15</td>\n      <td>8</td>\n      <td>767</td>\n      <td>767</td>\n    </tr>\n    <tr>\n      <th>Amazon</th>\n      <td>696</td>\n      <td>140</td>\n      <td>696</td>\n      <td>696</td>\n      <td>696</td>\n      <td>696</td>\n      <td>696</td>\n      <td>695</td>\n      <td>696</td>\n      <td>696</td>\n      <td>657</td>\n      <td>1</td>\n      <td>695</td>\n      <td>696</td>\n    </tr>\n    <tr>\n      <th>Trans-Siberian Orchestra</th>\n      <td>649</td>\n      <td>109</td>\n      <td>649</td>\n      <td>649</td>\n      <td>649</td>\n      <td>649</td>\n      <td>649</td>\n      <td>649</td>\n      <td>649</td>\n      <td>649</td>\n      <td>649</td>\n      <td>0</td>\n      <td>649</td>\n      <td>649</td>\n    </tr>\n    <tr>\n      <th>...</th>\n      <td>...</td>\n      <td>...</td>\n      <td>...</td>\n      <td>...</td>\n      <td>...</td>\n      <td>...</td>\n      <td>...</td>\n      <td>...</td>\n      <td>...</td>\n      <td>...</td>\n      <td>...</td>\n      <td>...</td>\n      <td>...</td>\n      <td>...</td>\n    </tr>\n    <tr>\n      <th>Monroe Products</th>\n      <td>1</td>\n      <td>1</td>\n      <td>1</td>\n      <td>1</td>\n      <td>1</td>\n      <td>1</td>\n      <td>1</td>\n      <td>1</td>\n      <td>1</td>\n      <td>1</td>\n      <td>1</td>\n      <td>0</td>\n      <td>1</td>\n      <td>1</td>\n    </tr>\n    <tr>\n      <th>NRS</th>\n      <td>1</td>\n      <td>1</td>\n      <td>1</td>\n      <td>1</td>\n      <td>1</td>\n      <td>1</td>\n      <td>1</td>\n      <td>1</td>\n      <td>1</td>\n      <td>1</td>\n      <td>1</td>\n      <td>0</td>\n      <td>1</td>\n      <td>1</td>\n    </tr>\n    <tr>\n      <th>Del Monte</th>\n      <td>1</td>\n      <td>0</td>\n      <td>1</td>\n      <td>1</td>\n      <td>1</td>\n      <td>1</td>\n      <td>1</td>\n      <td>1</td>\n      <td>1</td>\n      <td>1</td>\n      <td>0</td>\n      <td>0</td>\n      <td>1</td>\n      <td>1</td>\n    </tr>\n    <tr>\n      <th>David Garibaldi</th>\n      <td>1</td>\n      <td>1</td>\n      <td>1</td>\n      <td>1</td>\n      <td>1</td>\n      <td>1</td>\n      <td>1</td>\n      <td>1</td>\n      <td>1</td>\n      <td>1</td>\n      <td>1</td>\n      <td>0</td>\n      <td>1</td>\n      <td>1</td>\n    </tr>\n    <tr>\n      <th>Brydan Corp</th>\n      <td>1</td>\n      <td>1</td>\n      <td>1</td>\n      <td>1</td>\n      <td>1</td>\n      <td>1</td>\n      <td>1</td>\n      <td>1</td>\n      <td>1</td>\n      <td>1</td>\n      <td>0</td>\n      <td>0</td>\n      <td>1</td>\n      <td>1</td>\n    </tr>\n  </tbody>\n</table>\n<p>258 rows × 14 columns</p>\n</div>"
     },
     "execution_count": 10,
     "metadata": {},
     "output_type": "execute_result"
    }
   ],
   "source": [
    "df_merge[df_merge.brand.notnull()].groupby('brand').count().sort_values(by='reviewText', ascending=False)"
   ],
   "metadata": {
    "collapsed": false,
    "pycharm": {
     "name": "#%%\n"
    }
   }
  },
  {
   "cell_type": "code",
   "execution_count": 11,
   "outputs": [
    {
     "data": {
      "text/plain": "    overall vote  verified   reviewTime      reviewerID        asin  \\\n0       3.0   50      True  03 23, 2016  A38JQFWHLEQO4T  0310432065   \n1       5.0   11      True  06 23, 2016  A3L53VVTN9BXJY  0310520347   \n2       5.0    8      True   08 3, 2016  A3T9QQWESK2RG3  0310802636   \n3       5.0   14      True  03 14, 2017  A2KA4W341XFVSX  0310806607   \n4       5.0   14      True  02 11, 2018   AVV4P9HCY9XHY  0310818621   \n..      ...  ...       ...          ...             ...         ...   \n74      5.0   10      True  09 16, 2016  A1DLG8VDEKCEOD  193362275X   \n75      5.0    2      True  09 16, 2016  A2ZRPFRHS7M906  193362275X   \n76      3.0    8      True  06 14, 2016   ACCRR97N0CJMA  193362275X   \n77      1.0    6      True   02 9, 2016  A1L6P4SOP1DFE0  193362275X   \n78      1.0   11      True  01 18, 2016  A1DCZJS6FUTX4E  193362275X   \n\n         reviewerName                                         reviewText  \\\n0                  AE  Pros:\\nWell made.\\nThe handle is not on the sp...   \n1     Kindle Customer  An accurate, detailed description and video ar...   \n2      Stacey Pollock  Perfect for our child's bible!! They were thri...   \n3            Danielle  Great quality and fits the Boy Scout book nice...   \n4                judy  <div id=\"video-block-R1WJY4FGKHFPTY\" class=\"a-...   \n..                ...                                                ...   \n74              Kerri  This little book light is exactly what I was l...   \n75    Amazon Customer  very bright! I use it to power my solar powere...   \n76     Mariano Ospina  Ok well this is certainly mighty and bright - ...   \n77  Alina Manoochehri  I'm posting this review before even trying thi...   \n78          A. Cavada  Delivered Tuesday January 12. Today is the 18t...   \n\n                                              summary  unixReviewTime  \\\n0    The fabric is like velcro, collecting white fuzz      1458691200   \n1           Bought this as a journal cover for travel      1466640000   \n2                            So excited for church!!!      1470182400   \n3                            Great for Boy Scout book      1489449600   \n4                                         Its roomy!!      1518307200   \n..                                                ...             ...   \n74                         Perfect little book light!      1473984000   \n75  I use it to power my solar powered desk access...      1473984000   \n76      Camera doesn't capture how white the light it      1465862400   \n77         Received the \"new\" product in an open box!      1454976000   \n78            It cracked while I was using it to read      1453075200   \n\n                                       style  \\\n0                      {'Format:': ' Diary'}   \n1                 {'Format:': ' Flexibound'}   \n2             {'Format:': ' Misc. Supplies'}   \n3             {'Format:': ' Misc. Supplies'}   \n4             {'Format:': ' Misc. Supplies'}   \n..                                       ...   \n74                   {'Format:': ' Kitchen'}   \n75                   {'Format:': ' Kitchen'}   \n76                   {'Format:': ' Kitchen'}   \n77  {'Format:': ' Tools & Home Improvement'}   \n78               {'Format:': ' Electronics'}   \n\n                                                image  \\\n0   ['https://images-na.ssl-images-amazon.com/imag...   \n1   ['https://images-na.ssl-images-amazon.com/imag...   \n2   ['https://images-na.ssl-images-amazon.com/imag...   \n3   ['https://images-na.ssl-images-amazon.com/imag...   \n4   ['https://images-na.ssl-images-amazon.com/imag...   \n..                                                ...   \n74  ['https://images-na.ssl-images-amazon.com/imag...   \n75  ['https://images-na.ssl-images-amazon.com/imag...   \n76  ['https://images-na.ssl-images-amazon.com/imag...   \n77  ['https://images-na.ssl-images-amazon.com/imag...   \n78  ['https://images-na.ssl-images-amazon.com/imag...   \n\n                                               review  \\\n0   Pros:\\nWell made.\\nThe handle is not on the sp...   \n1   An accurate, detailed description and video ar...   \n2   Perfect for our child's bible!! They were thri...   \n3   Great quality and fits the Boy Scout book nice...   \n4   <div id=\"video-block-R1WJY4FGKHFPTY\" class=\"a-...   \n..                                                ...   \n74  This little book light is exactly what I was l...   \n75  very bright! I use it to power my solar powere...   \n76  Ok well this is certainly mighty and bright - ...   \n77  I'm posting this review before even trying thi...   \n78  Delivered Tuesday January 12. Today is the 18t...   \n\n                            brand  \\\n0   Visit Amazon's Zondervan Page   \n1   Visit Amazon's Zondervan Page   \n2   Visit Amazon's Zondervan Page   \n3   Visit Amazon's Zondervan Page   \n4   Visit Amazon's Zondervan Page   \n..                            ...   \n74                  Mighty Bright   \n75                  Mighty Bright   \n76                  Mighty Bright   \n77                  Mighty Bright   \n78                  Mighty Bright   \n\n                                             category  \n0   ['Office Products', 'Office &amp; School Suppl...  \n1   ['Office Products', 'Office &amp; School Suppl...  \n2   ['Office Products', 'Office &amp; School Suppl...  \n3   ['Office Products', 'Office & School Supplies'...  \n4   ['Office Products', 'Office &amp; School Suppl...  \n..                                                ...  \n74  ['Tools & Home Improvement', 'Lighting & Ceili...  \n75  ['Tools & Home Improvement', 'Lighting & Ceili...  \n76  ['Tools & Home Improvement', 'Lighting & Ceili...  \n77  ['Tools & Home Improvement', 'Lighting & Ceili...  \n78  ['Tools & Home Improvement', 'Lighting & Ceili...  \n\n[79 rows x 15 columns]",
      "text/html": "<div>\n<style scoped>\n    .dataframe tbody tr th:only-of-type {\n        vertical-align: middle;\n    }\n\n    .dataframe tbody tr th {\n        vertical-align: top;\n    }\n\n    .dataframe thead th {\n        text-align: right;\n    }\n</style>\n<table border=\"1\" class=\"dataframe\">\n  <thead>\n    <tr style=\"text-align: right;\">\n      <th></th>\n      <th>overall</th>\n      <th>vote</th>\n      <th>verified</th>\n      <th>reviewTime</th>\n      <th>reviewerID</th>\n      <th>asin</th>\n      <th>reviewerName</th>\n      <th>reviewText</th>\n      <th>summary</th>\n      <th>unixReviewTime</th>\n      <th>style</th>\n      <th>image</th>\n      <th>review</th>\n      <th>brand</th>\n      <th>category</th>\n    </tr>\n  </thead>\n  <tbody>\n    <tr>\n      <th>0</th>\n      <td>3.0</td>\n      <td>50</td>\n      <td>True</td>\n      <td>03 23, 2016</td>\n      <td>A38JQFWHLEQO4T</td>\n      <td>0310432065</td>\n      <td>AE</td>\n      <td>Pros:\\nWell made.\\nThe handle is not on the sp...</td>\n      <td>The fabric is like velcro, collecting white fuzz</td>\n      <td>1458691200</td>\n      <td>{'Format:': ' Diary'}</td>\n      <td>['https://images-na.ssl-images-amazon.com/imag...</td>\n      <td>Pros:\\nWell made.\\nThe handle is not on the sp...</td>\n      <td>Visit Amazon's Zondervan Page</td>\n      <td>['Office Products', 'Office &amp;amp; School Suppl...</td>\n    </tr>\n    <tr>\n      <th>1</th>\n      <td>5.0</td>\n      <td>11</td>\n      <td>True</td>\n      <td>06 23, 2016</td>\n      <td>A3L53VVTN9BXJY</td>\n      <td>0310520347</td>\n      <td>Kindle Customer</td>\n      <td>An accurate, detailed description and video ar...</td>\n      <td>Bought this as a journal cover for travel</td>\n      <td>1466640000</td>\n      <td>{'Format:': ' Flexibound'}</td>\n      <td>['https://images-na.ssl-images-amazon.com/imag...</td>\n      <td>An accurate, detailed description and video ar...</td>\n      <td>Visit Amazon's Zondervan Page</td>\n      <td>['Office Products', 'Office &amp;amp; School Suppl...</td>\n    </tr>\n    <tr>\n      <th>2</th>\n      <td>5.0</td>\n      <td>8</td>\n      <td>True</td>\n      <td>08 3, 2016</td>\n      <td>A3T9QQWESK2RG3</td>\n      <td>0310802636</td>\n      <td>Stacey Pollock</td>\n      <td>Perfect for our child's bible!! They were thri...</td>\n      <td>So excited for church!!!</td>\n      <td>1470182400</td>\n      <td>{'Format:': ' Misc. Supplies'}</td>\n      <td>['https://images-na.ssl-images-amazon.com/imag...</td>\n      <td>Perfect for our child's bible!! They were thri...</td>\n      <td>Visit Amazon's Zondervan Page</td>\n      <td>['Office Products', 'Office &amp;amp; School Suppl...</td>\n    </tr>\n    <tr>\n      <th>3</th>\n      <td>5.0</td>\n      <td>14</td>\n      <td>True</td>\n      <td>03 14, 2017</td>\n      <td>A2KA4W341XFVSX</td>\n      <td>0310806607</td>\n      <td>Danielle</td>\n      <td>Great quality and fits the Boy Scout book nice...</td>\n      <td>Great for Boy Scout book</td>\n      <td>1489449600</td>\n      <td>{'Format:': ' Misc. Supplies'}</td>\n      <td>['https://images-na.ssl-images-amazon.com/imag...</td>\n      <td>Great quality and fits the Boy Scout book nice...</td>\n      <td>Visit Amazon's Zondervan Page</td>\n      <td>['Office Products', 'Office &amp; School Supplies'...</td>\n    </tr>\n    <tr>\n      <th>4</th>\n      <td>5.0</td>\n      <td>14</td>\n      <td>True</td>\n      <td>02 11, 2018</td>\n      <td>AVV4P9HCY9XHY</td>\n      <td>0310818621</td>\n      <td>judy</td>\n      <td>&lt;div id=\"video-block-R1WJY4FGKHFPTY\" class=\"a-...</td>\n      <td>Its roomy!!</td>\n      <td>1518307200</td>\n      <td>{'Format:': ' Misc. Supplies'}</td>\n      <td>['https://images-na.ssl-images-amazon.com/imag...</td>\n      <td>&lt;div id=\"video-block-R1WJY4FGKHFPTY\" class=\"a-...</td>\n      <td>Visit Amazon's Zondervan Page</td>\n      <td>['Office Products', 'Office &amp;amp; School Suppl...</td>\n    </tr>\n    <tr>\n      <th>...</th>\n      <td>...</td>\n      <td>...</td>\n      <td>...</td>\n      <td>...</td>\n      <td>...</td>\n      <td>...</td>\n      <td>...</td>\n      <td>...</td>\n      <td>...</td>\n      <td>...</td>\n      <td>...</td>\n      <td>...</td>\n      <td>...</td>\n      <td>...</td>\n      <td>...</td>\n    </tr>\n    <tr>\n      <th>74</th>\n      <td>5.0</td>\n      <td>10</td>\n      <td>True</td>\n      <td>09 16, 2016</td>\n      <td>A1DLG8VDEKCEOD</td>\n      <td>193362275X</td>\n      <td>Kerri</td>\n      <td>This little book light is exactly what I was l...</td>\n      <td>Perfect little book light!</td>\n      <td>1473984000</td>\n      <td>{'Format:': ' Kitchen'}</td>\n      <td>['https://images-na.ssl-images-amazon.com/imag...</td>\n      <td>This little book light is exactly what I was l...</td>\n      <td>Mighty Bright</td>\n      <td>['Tools &amp; Home Improvement', 'Lighting &amp; Ceili...</td>\n    </tr>\n    <tr>\n      <th>75</th>\n      <td>5.0</td>\n      <td>2</td>\n      <td>True</td>\n      <td>09 16, 2016</td>\n      <td>A2ZRPFRHS7M906</td>\n      <td>193362275X</td>\n      <td>Amazon Customer</td>\n      <td>very bright! I use it to power my solar powere...</td>\n      <td>I use it to power my solar powered desk access...</td>\n      <td>1473984000</td>\n      <td>{'Format:': ' Kitchen'}</td>\n      <td>['https://images-na.ssl-images-amazon.com/imag...</td>\n      <td>very bright! I use it to power my solar powere...</td>\n      <td>Mighty Bright</td>\n      <td>['Tools &amp; Home Improvement', 'Lighting &amp; Ceili...</td>\n    </tr>\n    <tr>\n      <th>76</th>\n      <td>3.0</td>\n      <td>8</td>\n      <td>True</td>\n      <td>06 14, 2016</td>\n      <td>ACCRR97N0CJMA</td>\n      <td>193362275X</td>\n      <td>Mariano Ospina</td>\n      <td>Ok well this is certainly mighty and bright - ...</td>\n      <td>Camera doesn't capture how white the light it</td>\n      <td>1465862400</td>\n      <td>{'Format:': ' Kitchen'}</td>\n      <td>['https://images-na.ssl-images-amazon.com/imag...</td>\n      <td>Ok well this is certainly mighty and bright - ...</td>\n      <td>Mighty Bright</td>\n      <td>['Tools &amp; Home Improvement', 'Lighting &amp; Ceili...</td>\n    </tr>\n    <tr>\n      <th>77</th>\n      <td>1.0</td>\n      <td>6</td>\n      <td>True</td>\n      <td>02 9, 2016</td>\n      <td>A1L6P4SOP1DFE0</td>\n      <td>193362275X</td>\n      <td>Alina Manoochehri</td>\n      <td>I'm posting this review before even trying thi...</td>\n      <td>Received the \"new\" product in an open box!</td>\n      <td>1454976000</td>\n      <td>{'Format:': ' Tools &amp; Home Improvement'}</td>\n      <td>['https://images-na.ssl-images-amazon.com/imag...</td>\n      <td>I'm posting this review before even trying thi...</td>\n      <td>Mighty Bright</td>\n      <td>['Tools &amp; Home Improvement', 'Lighting &amp; Ceili...</td>\n    </tr>\n    <tr>\n      <th>78</th>\n      <td>1.0</td>\n      <td>11</td>\n      <td>True</td>\n      <td>01 18, 2016</td>\n      <td>A1DCZJS6FUTX4E</td>\n      <td>193362275X</td>\n      <td>A. Cavada</td>\n      <td>Delivered Tuesday January 12. Today is the 18t...</td>\n      <td>It cracked while I was using it to read</td>\n      <td>1453075200</td>\n      <td>{'Format:': ' Electronics'}</td>\n      <td>['https://images-na.ssl-images-amazon.com/imag...</td>\n      <td>Delivered Tuesday January 12. Today is the 18t...</td>\n      <td>Mighty Bright</td>\n      <td>['Tools &amp; Home Improvement', 'Lighting &amp; Ceili...</td>\n    </tr>\n  </tbody>\n</table>\n<p>79 rows × 15 columns</p>\n</div>"
     },
     "execution_count": 11,
     "metadata": {},
     "output_type": "execute_result"
    }
   ],
   "source": [
    "df_merge.dropna().reset_index(drop=True)"
   ],
   "metadata": {
    "collapsed": false,
    "pycharm": {
     "name": "#%%\n"
    }
   }
  },
  {
   "cell_type": "code",
   "execution_count": 12,
   "outputs": [
    {
     "data": {
      "text/plain": "       overall vote  verified   reviewTime      reviewerID        asin  \\\n1001       3.0    6     False   11 3, 2006  A2WJLOXXIB7NF3  0140503528   \n1002       5.0  NaN     False   05 9, 2006  A1RKICUK0GG6VF  0140503528   \n1003       5.0  NaN     False  03 11, 2006  A1QA5E50M398VW  0140503528   \n1004       5.0   12     False  01 24, 2001  A3N0HBW8IP8CZQ  0140503528   \n1005       5.0   65     False  07 30, 2000  A1K1JW1C5CUSUZ  0140503528   \n...        ...  ...       ...          ...             ...         ...   \n23707      3.0  NaN      True  03 15, 2013  A25PFYRQYOVPLH  B000FBFMVG   \n23708      3.0  NaN      True  01 29, 2013  A1YJE0NK4P0KZJ  B000FBFMVG   \n23709      3.0  NaN      True  12 20, 2012  A39OV2VJUXKDDI  B000FBFMVG   \n23710      4.0  NaN     False  07 28, 2012  A2QW0IMOX4EULQ  B000FBFMVG   \n23711      4.0  NaN      True  01 14, 2012  A3D58M29K2HWMV  B000FBFMVG   \n\n               reviewerName  \\\n1001   Brandi D&#039;Angelo   \n1002          Karen Mallory   \n1003       Jennifer Edwards   \n1004      Melissa P. Cooper   \n1005        Donald Mitchell   \n...                     ...   \n23707           Scott Spell   \n23708                 blaze   \n23709          Keith Meehan   \n23710       Amazon Customer   \n23711           P. Thompson   \n\n                                              reviewText  \\\n1001   I thought the book was entertaining and cute, ...   \n1002   This adorable story is an all time favorite fa...   \n1003   Lisa's bear Corduroy gets lost in the laundrom...   \n1004   In this installment of Corduroy's adventures w...   \n1005   Researchers constantly find that reading to ch...   \n...                                                  ...   \n23707  Nice to see Chewie in a lead role. I recommend...   \n23708  It was great to no that Chewbacca was a family...   \n23709  A nice family oriented short featuring Chewbac...   \n23710  Chewbacca fans should rejoice. Not only does t...   \n23711  I'm not really sure where it actually fits int...   \n\n                                                 summary  unixReviewTime  \\\n1001       Entertaining-but maybe not for young toddlers      1162512000   \n1002                                           adorable!      1147132800   \n1003                             A sequel to the classic      1142035200   \n1004      More adventures with Lisa's very own bear. . .       980294400   \n1005   Read to Your Child to Create Bonding and Intel...       964915200   \n...                                                  ...             ...   \n23707                              A fun change of pace.      1363305600   \n23708                                           Fun read      1359417600   \n23709               Not bad needs more than just Wookies      1355961600   \n23710                                     A Forest Apart      1343433600   \n23711                                   Enjoyable But...      1326499200   \n\n                           style image  \\\n1001   {'Format:': ' Hardcover'}   NaN   \n1002   {'Format:': ' Hardcover'}   NaN   \n1003   {'Format:': ' Paperback'}   NaN   \n1004   {'Format:': ' Paperback'}   NaN   \n1005   {'Format:': ' Paperback'}   NaN   \n...                          ...   ...   \n23707                        NaN   NaN   \n23708                        NaN   NaN   \n23709                        NaN   NaN   \n23710                        NaN   NaN   \n23711                        NaN   NaN   \n\n                                                  review  \\\n1001   I thought the book was entertaining and cute, ...   \n1002   This adorable story is an all time favorite fa...   \n1003   Lisa's bear Corduroy gets lost in the laundrom...   \n1004   In this installment of Corduroy's adventures w...   \n1005   Researchers constantly find that reading to ch...   \n...                                                  ...   \n23707  Nice to see Chewie in a lead role. I recommend...   \n23708  It was great to no that Chewbacca was a family...   \n23709  A nice family oriented short featuring Chewbac...   \n23710  Chewbacca fans should rejoice. Not only does t...   \n23711  I'm not really sure where it actually fits int...   \n\n                           brand  \\\n1001   Ingram Book & Distributor   \n1002   Ingram Book & Distributor   \n1003   Ingram Book & Distributor   \n1004   Ingram Book & Distributor   \n1005   Ingram Book & Distributor   \n...                          ...   \n23707               Troy Denning   \n23708               Troy Denning   \n23709               Troy Denning   \n23710               Troy Denning   \n23711               Troy Denning   \n\n                                                category  \n1001   ['Office Products', 'Office & School Supplies'...  \n1002   ['Office Products', 'Office & School Supplies'...  \n1003   ['Office Products', 'Office & School Supplies'...  \n1004   ['Office Products', 'Office & School Supplies'...  \n1005   ['Office Products', 'Office & School Supplies'...  \n...                                                  ...  \n23707  ['Kindle Store', 'Kindle eBooks', 'Literature ...  \n23708  ['Kindle Store', 'Kindle eBooks', 'Literature ...  \n23709  ['Kindle Store', 'Kindle eBooks', 'Literature ...  \n23710  ['Kindle Store', 'Kindle eBooks', 'Literature ...  \n23711  ['Kindle Store', 'Kindle eBooks', 'Literature ...  \n\n[21656 rows x 15 columns]",
      "text/html": "<div>\n<style scoped>\n    .dataframe tbody tr th:only-of-type {\n        vertical-align: middle;\n    }\n\n    .dataframe tbody tr th {\n        vertical-align: top;\n    }\n\n    .dataframe thead th {\n        text-align: right;\n    }\n</style>\n<table border=\"1\" class=\"dataframe\">\n  <thead>\n    <tr style=\"text-align: right;\">\n      <th></th>\n      <th>overall</th>\n      <th>vote</th>\n      <th>verified</th>\n      <th>reviewTime</th>\n      <th>reviewerID</th>\n      <th>asin</th>\n      <th>reviewerName</th>\n      <th>reviewText</th>\n      <th>summary</th>\n      <th>unixReviewTime</th>\n      <th>style</th>\n      <th>image</th>\n      <th>review</th>\n      <th>brand</th>\n      <th>category</th>\n    </tr>\n  </thead>\n  <tbody>\n    <tr>\n      <th>1001</th>\n      <td>3.0</td>\n      <td>6</td>\n      <td>False</td>\n      <td>11 3, 2006</td>\n      <td>A2WJLOXXIB7NF3</td>\n      <td>0140503528</td>\n      <td>Brandi D&amp;#039;Angelo</td>\n      <td>I thought the book was entertaining and cute, ...</td>\n      <td>Entertaining-but maybe not for young toddlers</td>\n      <td>1162512000</td>\n      <td>{'Format:': ' Hardcover'}</td>\n      <td>NaN</td>\n      <td>I thought the book was entertaining and cute, ...</td>\n      <td>Ingram Book &amp; Distributor</td>\n      <td>['Office Products', 'Office &amp; School Supplies'...</td>\n    </tr>\n    <tr>\n      <th>1002</th>\n      <td>5.0</td>\n      <td>NaN</td>\n      <td>False</td>\n      <td>05 9, 2006</td>\n      <td>A1RKICUK0GG6VF</td>\n      <td>0140503528</td>\n      <td>Karen Mallory</td>\n      <td>This adorable story is an all time favorite fa...</td>\n      <td>adorable!</td>\n      <td>1147132800</td>\n      <td>{'Format:': ' Hardcover'}</td>\n      <td>NaN</td>\n      <td>This adorable story is an all time favorite fa...</td>\n      <td>Ingram Book &amp; Distributor</td>\n      <td>['Office Products', 'Office &amp; School Supplies'...</td>\n    </tr>\n    <tr>\n      <th>1003</th>\n      <td>5.0</td>\n      <td>NaN</td>\n      <td>False</td>\n      <td>03 11, 2006</td>\n      <td>A1QA5E50M398VW</td>\n      <td>0140503528</td>\n      <td>Jennifer Edwards</td>\n      <td>Lisa's bear Corduroy gets lost in the laundrom...</td>\n      <td>A sequel to the classic</td>\n      <td>1142035200</td>\n      <td>{'Format:': ' Paperback'}</td>\n      <td>NaN</td>\n      <td>Lisa's bear Corduroy gets lost in the laundrom...</td>\n      <td>Ingram Book &amp; Distributor</td>\n      <td>['Office Products', 'Office &amp; School Supplies'...</td>\n    </tr>\n    <tr>\n      <th>1004</th>\n      <td>5.0</td>\n      <td>12</td>\n      <td>False</td>\n      <td>01 24, 2001</td>\n      <td>A3N0HBW8IP8CZQ</td>\n      <td>0140503528</td>\n      <td>Melissa P. Cooper</td>\n      <td>In this installment of Corduroy's adventures w...</td>\n      <td>More adventures with Lisa's very own bear. . .</td>\n      <td>980294400</td>\n      <td>{'Format:': ' Paperback'}</td>\n      <td>NaN</td>\n      <td>In this installment of Corduroy's adventures w...</td>\n      <td>Ingram Book &amp; Distributor</td>\n      <td>['Office Products', 'Office &amp; School Supplies'...</td>\n    </tr>\n    <tr>\n      <th>1005</th>\n      <td>5.0</td>\n      <td>65</td>\n      <td>False</td>\n      <td>07 30, 2000</td>\n      <td>A1K1JW1C5CUSUZ</td>\n      <td>0140503528</td>\n      <td>Donald Mitchell</td>\n      <td>Researchers constantly find that reading to ch...</td>\n      <td>Read to Your Child to Create Bonding and Intel...</td>\n      <td>964915200</td>\n      <td>{'Format:': ' Paperback'}</td>\n      <td>NaN</td>\n      <td>Researchers constantly find that reading to ch...</td>\n      <td>Ingram Book &amp; Distributor</td>\n      <td>['Office Products', 'Office &amp; School Supplies'...</td>\n    </tr>\n    <tr>\n      <th>...</th>\n      <td>...</td>\n      <td>...</td>\n      <td>...</td>\n      <td>...</td>\n      <td>...</td>\n      <td>...</td>\n      <td>...</td>\n      <td>...</td>\n      <td>...</td>\n      <td>...</td>\n      <td>...</td>\n      <td>...</td>\n      <td>...</td>\n      <td>...</td>\n      <td>...</td>\n    </tr>\n    <tr>\n      <th>23707</th>\n      <td>3.0</td>\n      <td>NaN</td>\n      <td>True</td>\n      <td>03 15, 2013</td>\n      <td>A25PFYRQYOVPLH</td>\n      <td>B000FBFMVG</td>\n      <td>Scott Spell</td>\n      <td>Nice to see Chewie in a lead role. I recommend...</td>\n      <td>A fun change of pace.</td>\n      <td>1363305600</td>\n      <td>NaN</td>\n      <td>NaN</td>\n      <td>Nice to see Chewie in a lead role. I recommend...</td>\n      <td>Troy Denning</td>\n      <td>['Kindle Store', 'Kindle eBooks', 'Literature ...</td>\n    </tr>\n    <tr>\n      <th>23708</th>\n      <td>3.0</td>\n      <td>NaN</td>\n      <td>True</td>\n      <td>01 29, 2013</td>\n      <td>A1YJE0NK4P0KZJ</td>\n      <td>B000FBFMVG</td>\n      <td>blaze</td>\n      <td>It was great to no that Chewbacca was a family...</td>\n      <td>Fun read</td>\n      <td>1359417600</td>\n      <td>NaN</td>\n      <td>NaN</td>\n      <td>It was great to no that Chewbacca was a family...</td>\n      <td>Troy Denning</td>\n      <td>['Kindle Store', 'Kindle eBooks', 'Literature ...</td>\n    </tr>\n    <tr>\n      <th>23709</th>\n      <td>3.0</td>\n      <td>NaN</td>\n      <td>True</td>\n      <td>12 20, 2012</td>\n      <td>A39OV2VJUXKDDI</td>\n      <td>B000FBFMVG</td>\n      <td>Keith Meehan</td>\n      <td>A nice family oriented short featuring Chewbac...</td>\n      <td>Not bad needs more than just Wookies</td>\n      <td>1355961600</td>\n      <td>NaN</td>\n      <td>NaN</td>\n      <td>A nice family oriented short featuring Chewbac...</td>\n      <td>Troy Denning</td>\n      <td>['Kindle Store', 'Kindle eBooks', 'Literature ...</td>\n    </tr>\n    <tr>\n      <th>23710</th>\n      <td>4.0</td>\n      <td>NaN</td>\n      <td>False</td>\n      <td>07 28, 2012</td>\n      <td>A2QW0IMOX4EULQ</td>\n      <td>B000FBFMVG</td>\n      <td>Amazon Customer</td>\n      <td>Chewbacca fans should rejoice. Not only does t...</td>\n      <td>A Forest Apart</td>\n      <td>1343433600</td>\n      <td>NaN</td>\n      <td>NaN</td>\n      <td>Chewbacca fans should rejoice. Not only does t...</td>\n      <td>Troy Denning</td>\n      <td>['Kindle Store', 'Kindle eBooks', 'Literature ...</td>\n    </tr>\n    <tr>\n      <th>23711</th>\n      <td>4.0</td>\n      <td>NaN</td>\n      <td>True</td>\n      <td>01 14, 2012</td>\n      <td>A3D58M29K2HWMV</td>\n      <td>B000FBFMVG</td>\n      <td>P. Thompson</td>\n      <td>I'm not really sure where it actually fits int...</td>\n      <td>Enjoyable But...</td>\n      <td>1326499200</td>\n      <td>NaN</td>\n      <td>NaN</td>\n      <td>I'm not really sure where it actually fits int...</td>\n      <td>Troy Denning</td>\n      <td>['Kindle Store', 'Kindle eBooks', 'Literature ...</td>\n    </tr>\n  </tbody>\n</table>\n<p>21656 rows × 15 columns</p>\n</div>"
     },
     "execution_count": 12,
     "metadata": {},
     "output_type": "execute_result"
    }
   ],
   "source": [
    "df_merge[df_merge['brand'].notnull()]"
   ],
   "metadata": {
    "collapsed": false,
    "pycharm": {
     "name": "#%%\n"
    }
   }
  },
  {
   "cell_type": "code",
   "execution_count": 13,
   "outputs": [
    {
     "name": "stdout",
     "output_type": "stream",
     "text": [
      "cleaning punctuations\n"
     ]
    },
    {
     "name": "stderr",
     "output_type": "stream",
     "text": [
      "100%|██████████| 21656/21656 [00:00<00:00, 64938.43it/s]\n"
     ]
    }
   ],
   "source": [
    "def cleaning_punctuations(text):\n",
    "    translator = str.maketrans('', '', punctuation_string)\n",
    "    return text.translate(translator)\n",
    "\n",
    "#df_merge = df_merge.dropna().reset_index(drop=True)\n",
    "df_merge = df_merge[df_merge['brand'].notnull()]\n",
    "print('cleaning punctuations')\n",
    "clean_punct = df_merge['brand'].progress_apply(lambda x: cleaning_punctuations(x))\n",
    "df_merge = df_merge.assign(brand=clean_punct)"
   ],
   "metadata": {
    "collapsed": false,
    "pycharm": {
     "name": "#%%\n"
    }
   }
  },
  {
   "cell_type": "code",
   "execution_count": 14,
   "outputs": [
    {
     "name": "stderr",
     "output_type": "stream",
     "text": [
      "100%|██████████| 21656/21656 [00:00<00:00, 126060.80it/s]\n"
     ]
    }
   ],
   "source": [
    "remove_visit = df_merge['brand'].progress_apply(lambda x: re.sub('Visit Amazons ','', x))\n",
    "df_merge= df_merge.assign(brand=remove_visit)"
   ],
   "metadata": {
    "collapsed": false,
    "pycharm": {
     "name": "#%%\n"
    }
   }
  },
  {
   "cell_type": "code",
   "execution_count": 15,
   "outputs": [
    {
     "name": "stderr",
     "output_type": "stream",
     "text": [
      "100%|██████████| 21656/21656 [00:00<00:00, 317797.22it/s]\n"
     ]
    }
   ],
   "source": [
    "remove_amazonpage = df_merge['brand'].progress_apply(lambda x: re.sub(' Page','', x))"
   ],
   "metadata": {
    "collapsed": false,
    "pycharm": {
     "name": "#%%\n"
    }
   }
  },
  {
   "cell_type": "code",
   "execution_count": 16,
   "outputs": [],
   "source": [
    "df_merge= df_merge.assign(brand=remove_amazonpage)"
   ],
   "metadata": {
    "collapsed": false,
    "pycharm": {
     "name": "#%%\n"
    }
   }
  },
  {
   "cell_type": "code",
   "execution_count": 17,
   "outputs": [
    {
     "data": {
      "text/plain": "                                                    overall  vote  verified  \\\nbrand                                                                         \n13Rainbow                                                 9     2         9   \n3x5fFlags                                               118     5       118   \nARTnews LLC                                               8     5         8   \nAaron Crabb                                              10     6        10   \nAccessory                                                21     1        21   \n...                                                     ...   ...       ...   \nby\\n    \\n    Star Publications  Languages of t...       12     5        12   \nby\\n    \\n    Storm City Entertainment                   13     7        13   \nby\\n    \\n    Unknown                                    72    15        72   \nimusti                                                   20    13        20   \nnobrand                                                 303    68       303   \n\n                                                    reviewTime  reviewerID  \\\nbrand                                                                        \n13Rainbow                                                    9           9   \n3x5fFlags                                                  118         118   \nARTnews LLC                                                  8           8   \nAaron Crabb                                                 10          10   \nAccessory                                                   21          21   \n...                                                        ...         ...   \nby\\n    \\n    Star Publications  Languages of t...          12          12   \nby\\n    \\n    Storm City Entertainment                      13          13   \nby\\n    \\n    Unknown                                       72          72   \nimusti                                                      20          20   \nnobrand                                                    303         303   \n\n                                                    asin  reviewerName  \\\nbrand                                                                    \n13Rainbow                                              9             9   \n3x5fFlags                                            118           118   \nARTnews LLC                                            8             8   \nAaron Crabb                                           10            10   \nAccessory                                             21            21   \n...                                                  ...           ...   \nby\\n    \\n    Star Publications  Languages of t...    12            12   \nby\\n    \\n    Storm City Entertainment                13            13   \nby\\n    \\n    Unknown                                 72            72   \nimusti                                                20            20   \nnobrand                                              303           303   \n\n                                                    reviewText  summary  \\\nbrand                                                                     \n13Rainbow                                                    9        9   \n3x5fFlags                                                  118      118   \nARTnews LLC                                                  8        8   \nAaron Crabb                                                 10       10   \nAccessory                                                   21       21   \n...                                                        ...      ...   \nby\\n    \\n    Star Publications  Languages of t...          12       12   \nby\\n    \\n    Storm City Entertainment                      13       13   \nby\\n    \\n    Unknown                                       72       72   \nimusti                                                      20       20   \nnobrand                                                    303      303   \n\n                                                    unixReviewTime  style  \\\nbrand                                                                       \n13Rainbow                                                        9      0   \n3x5fFlags                                                      118      0   \nARTnews LLC                                                      8      0   \nAaron Crabb                                                     10     10   \nAccessory                                                       21     21   \n...                                                            ...    ...   \nby\\n    \\n    Star Publications  Languages of t...              12     12   \nby\\n    \\n    Storm City Entertainment                          13      0   \nby\\n    \\n    Unknown                                           72      0   \nimusti                                                          20     20   \nnobrand                                                        303    229   \n\n                                                    image  review  category  \nbrand                                                                        \n13Rainbow                                               0       9         9  \n3x5fFlags                                               0     118       118  \nARTnews LLC                                             0       8         8  \nAaron Crabb                                             0      10        10  \nAccessory                                               1      21        21  \n...                                                   ...     ...       ...  \nby\\n    \\n    Star Publications  Languages of t...      0      12        12  \nby\\n    \\n    Storm City Entertainment                  0      13        13  \nby\\n    \\n    Unknown                                   0      72        72  \nimusti                                                  0      20        20  \nnobrand                                                 6     303       303  \n\n[258 rows x 14 columns]",
      "text/html": "<div>\n<style scoped>\n    .dataframe tbody tr th:only-of-type {\n        vertical-align: middle;\n    }\n\n    .dataframe tbody tr th {\n        vertical-align: top;\n    }\n\n    .dataframe thead th {\n        text-align: right;\n    }\n</style>\n<table border=\"1\" class=\"dataframe\">\n  <thead>\n    <tr style=\"text-align: right;\">\n      <th></th>\n      <th>overall</th>\n      <th>vote</th>\n      <th>verified</th>\n      <th>reviewTime</th>\n      <th>reviewerID</th>\n      <th>asin</th>\n      <th>reviewerName</th>\n      <th>reviewText</th>\n      <th>summary</th>\n      <th>unixReviewTime</th>\n      <th>style</th>\n      <th>image</th>\n      <th>review</th>\n      <th>category</th>\n    </tr>\n    <tr>\n      <th>brand</th>\n      <th></th>\n      <th></th>\n      <th></th>\n      <th></th>\n      <th></th>\n      <th></th>\n      <th></th>\n      <th></th>\n      <th></th>\n      <th></th>\n      <th></th>\n      <th></th>\n      <th></th>\n      <th></th>\n    </tr>\n  </thead>\n  <tbody>\n    <tr>\n      <th>13Rainbow</th>\n      <td>9</td>\n      <td>2</td>\n      <td>9</td>\n      <td>9</td>\n      <td>9</td>\n      <td>9</td>\n      <td>9</td>\n      <td>9</td>\n      <td>9</td>\n      <td>9</td>\n      <td>0</td>\n      <td>0</td>\n      <td>9</td>\n      <td>9</td>\n    </tr>\n    <tr>\n      <th>3x5fFlags</th>\n      <td>118</td>\n      <td>5</td>\n      <td>118</td>\n      <td>118</td>\n      <td>118</td>\n      <td>118</td>\n      <td>118</td>\n      <td>118</td>\n      <td>118</td>\n      <td>118</td>\n      <td>0</td>\n      <td>0</td>\n      <td>118</td>\n      <td>118</td>\n    </tr>\n    <tr>\n      <th>ARTnews LLC</th>\n      <td>8</td>\n      <td>5</td>\n      <td>8</td>\n      <td>8</td>\n      <td>8</td>\n      <td>8</td>\n      <td>8</td>\n      <td>8</td>\n      <td>8</td>\n      <td>8</td>\n      <td>0</td>\n      <td>0</td>\n      <td>8</td>\n      <td>8</td>\n    </tr>\n    <tr>\n      <th>Aaron Crabb</th>\n      <td>10</td>\n      <td>6</td>\n      <td>10</td>\n      <td>10</td>\n      <td>10</td>\n      <td>10</td>\n      <td>10</td>\n      <td>10</td>\n      <td>10</td>\n      <td>10</td>\n      <td>10</td>\n      <td>0</td>\n      <td>10</td>\n      <td>10</td>\n    </tr>\n    <tr>\n      <th>Accessory</th>\n      <td>21</td>\n      <td>1</td>\n      <td>21</td>\n      <td>21</td>\n      <td>21</td>\n      <td>21</td>\n      <td>21</td>\n      <td>21</td>\n      <td>21</td>\n      <td>21</td>\n      <td>21</td>\n      <td>1</td>\n      <td>21</td>\n      <td>21</td>\n    </tr>\n    <tr>\n      <th>...</th>\n      <td>...</td>\n      <td>...</td>\n      <td>...</td>\n      <td>...</td>\n      <td>...</td>\n      <td>...</td>\n      <td>...</td>\n      <td>...</td>\n      <td>...</td>\n      <td>...</td>\n      <td>...</td>\n      <td>...</td>\n      <td>...</td>\n      <td>...</td>\n    </tr>\n    <tr>\n      <th>by\\n    \\n    Star Publications  Languages of the World Publications</th>\n      <td>12</td>\n      <td>5</td>\n      <td>12</td>\n      <td>12</td>\n      <td>12</td>\n      <td>12</td>\n      <td>12</td>\n      <td>12</td>\n      <td>12</td>\n      <td>12</td>\n      <td>12</td>\n      <td>0</td>\n      <td>12</td>\n      <td>12</td>\n    </tr>\n    <tr>\n      <th>by\\n    \\n    Storm City Entertainment</th>\n      <td>13</td>\n      <td>7</td>\n      <td>13</td>\n      <td>13</td>\n      <td>13</td>\n      <td>13</td>\n      <td>13</td>\n      <td>13</td>\n      <td>13</td>\n      <td>13</td>\n      <td>0</td>\n      <td>0</td>\n      <td>13</td>\n      <td>13</td>\n    </tr>\n    <tr>\n      <th>by\\n    \\n    Unknown</th>\n      <td>72</td>\n      <td>15</td>\n      <td>72</td>\n      <td>72</td>\n      <td>72</td>\n      <td>72</td>\n      <td>72</td>\n      <td>72</td>\n      <td>72</td>\n      <td>72</td>\n      <td>0</td>\n      <td>0</td>\n      <td>72</td>\n      <td>72</td>\n    </tr>\n    <tr>\n      <th>imusti</th>\n      <td>20</td>\n      <td>13</td>\n      <td>20</td>\n      <td>20</td>\n      <td>20</td>\n      <td>20</td>\n      <td>20</td>\n      <td>20</td>\n      <td>20</td>\n      <td>20</td>\n      <td>20</td>\n      <td>0</td>\n      <td>20</td>\n      <td>20</td>\n    </tr>\n    <tr>\n      <th>nobrand</th>\n      <td>303</td>\n      <td>68</td>\n      <td>303</td>\n      <td>303</td>\n      <td>303</td>\n      <td>303</td>\n      <td>303</td>\n      <td>303</td>\n      <td>303</td>\n      <td>303</td>\n      <td>229</td>\n      <td>6</td>\n      <td>303</td>\n      <td>303</td>\n    </tr>\n  </tbody>\n</table>\n<p>258 rows × 14 columns</p>\n</div>"
     },
     "execution_count": 17,
     "metadata": {},
     "output_type": "execute_result"
    }
   ],
   "source": [
    "df_merge.groupby('brand').count()"
   ],
   "metadata": {
    "collapsed": false,
    "pycharm": {
     "name": "#%%\n"
    }
   }
  },
  {
   "cell_type": "code",
   "execution_count": 18,
   "outputs": [
    {
     "data": {
      "text/plain": "<re.Match object; span=(0, 28), match='Visit Amazons Zondervan Page'>"
     },
     "execution_count": 18,
     "metadata": {},
     "output_type": "execute_result"
    }
   ],
   "source": [
    "text = 'Visit Amazons Zondervan Page'\n",
    "re.search('Visit Amazons [a-zA-Z]+ Page', text)"
   ],
   "metadata": {
    "collapsed": false,
    "pycharm": {
     "name": "#%%\n"
    }
   }
  },
  {
   "cell_type": "code",
   "execution_count": 19,
   "outputs": [
    {
     "name": "stderr",
     "output_type": "stream",
     "text": [
      "100%|██████████| 21656/21656 [00:00<00:00, 302124.26it/s]\n"
     ]
    }
   ],
   "source": [
    "remove_by = df_merge['brand'].progress_apply(lambda x: re.sub('by\\n    \\n    ','' ,x))"
   ],
   "metadata": {
    "collapsed": false,
    "pycharm": {
     "name": "#%%\n"
    }
   }
  },
  {
   "cell_type": "code",
   "execution_count": 20,
   "outputs": [
    {
     "data": {
      "text/plain": "overall                                                         4.0\nvote                                                              2\nverified                                                       True\nreviewTime                                               01 5, 2011\nreviewerID                                           A1YBGCEU62FPPN\nasin                                                     7293000936\nreviewerName                                                    PAL\nreviewText        After few months of use cable flicker and vide...\nsummary           After few months of use cable flicker and vide...\nunixReviewTime                                           1294185600\nstyle                                                           NaN\nimage                                                           NaN\nreview            After few months of use cable flicker and vide...\nbrand                                                       Unknown\ncategory          ['Video Games', 'Wii', 'Accessories', 'Cables ...\nName: 18624, dtype: object"
     },
     "execution_count": 20,
     "metadata": {},
     "output_type": "execute_result"
    }
   ],
   "source": [
    "df_merge= df_merge.assign(brand=remove_by)\n",
    "df_merge.loc[18624]"
   ],
   "metadata": {
    "collapsed": false,
    "pycharm": {
     "name": "#%%\n"
    }
   }
  },
  {
   "cell_type": "code",
   "execution_count": 21,
   "outputs": [],
   "source": [
    "df_products = df_merge.groupby('brand').count().sort_values('overall', ascending=False)"
   ],
   "metadata": {
    "collapsed": false,
    "pycharm": {
     "name": "#%%\n"
    }
   }
  },
  {
   "cell_type": "code",
   "execution_count": 22,
   "outputs": [
    {
     "name": "stdout",
     "output_type": "stream",
     "text": [
      "<class 'pandas.core.frame.DataFrame'>\n",
      "Index: 257 entries, Zondervan to James Hime\n",
      "Data columns (total 14 columns):\n",
      " #   Column          Non-Null Count  Dtype\n",
      "---  ------          --------------  -----\n",
      " 0   overall         257 non-null    int64\n",
      " 1   vote            257 non-null    int64\n",
      " 2   verified        257 non-null    int64\n",
      " 3   reviewTime      257 non-null    int64\n",
      " 4   reviewerID      257 non-null    int64\n",
      " 5   asin            257 non-null    int64\n",
      " 6   reviewerName    257 non-null    int64\n",
      " 7   reviewText      257 non-null    int64\n",
      " 8   summary         257 non-null    int64\n",
      " 9   unixReviewTime  257 non-null    int64\n",
      " 10  style           257 non-null    int64\n",
      " 11  image           257 non-null    int64\n",
      " 12  review          257 non-null    int64\n",
      " 13  category        257 non-null    int64\n",
      "dtypes: int64(14)\n",
      "memory usage: 30.1+ KB\n"
     ]
    }
   ],
   "source": [
    "df_products.info()"
   ],
   "metadata": {
    "collapsed": false,
    "pycharm": {
     "name": "#%%\n"
    }
   }
  },
  {
   "cell_type": "code",
   "execution_count": 23,
   "outputs": [],
   "source": [
    "df_products = df_products.rename_axis('brand').reset_index()\n"
   ],
   "metadata": {
    "collapsed": false,
    "pycharm": {
     "name": "#%%\n"
    }
   }
  },
  {
   "cell_type": "code",
   "execution_count": 24,
   "outputs": [],
   "source": [
    "top_100 = df_products['brand'].head(100)\n",
    "top_100_list = top_100.to_list()\n",
    "\n",
    "top_100_list.remove('Unknown')\n",
    "top_100_list.remove('nobrand')"
   ],
   "metadata": {
    "collapsed": false,
    "pycharm": {
     "name": "#%%\n"
    }
   }
  },
  {
   "cell_type": "code",
   "execution_count": 25,
   "outputs": [
    {
     "data": {
      "text/plain": "['Zondervan',\n 'Microsoft',\n 'Alfred Music Publishing',\n 'Amazon',\n 'TransSiberian Orchestra',\n 'Holmes',\n 'Mighty Bright',\n 'Yat Ming',\n 'Frank W Abagnale',\n 'DRREXY',\n 'Magnetic Poetry',\n 'Chicken of the Sea',\n 'Barnes amp Noble',\n 'ELEGANI',\n 'Black Mountain',\n 'Progresso',\n 'Mae Ploy',\n 'Gorilla',\n 'Logitech',\n 'Trusted Media Brands Inc',\n 'Conde Nast Publications',\n 'SioGreen',\n 'DIAMOND SELECT TOYS',\n 'PORTERCABLE',\n 'Dundas Jafine',\n 'TopHeadwear',\n 'Jeannette Winters',\n 'Cesar Millan',\n 'Garmin',\n 'Wizards of the Coast',\n 'Wiley Publishing',\n 'Generic',\n 'Klutz',\n 'Future US Inc',\n 'Therapy Game HQ',\n 'Traditional Medicinals',\n 'Wilton',\n 'Casting Crowns',\n 'Anita Shreve',\n 'Lipton',\n 'Daniel Kruse',\n 'Chris Rice',\n 'Craft  Empura',\n 'Organo Gold',\n 'John Michael Talbot',\n 'Susan B Anderson',\n '3x5fFlags',\n 'Gilmour',\n 'Dover Publications',\n 'Ben Kingsley',\n 'Ingram Book  Distributor',\n 'Brak Software',\n 'URC',\n 'Ethan M Rasiel',\n 'Bully Tools',\n 'Dirt 3',\n 'Jim Wilson',\n 'Art By Akiane',\n 'Guy Penrod',\n 'Only1MILLION',\n 'Mudpuppy',\n 'Don Moen',\n 'Peach Pit Press',\n 'Lori Lite',\n 'Cond Nast Publications',\n 'STORY EGG',\n 'Pantone',\n 'Saran',\n 'DEWALT',\n 'Art  SoulWorks',\n 'Turning Technologies LLC',\n 'Nesco',\n 'Spooner Boards',\n 'Harold Import Company',\n 'Veneziana',\n 'Paris Permenter',\n 'Keith Green',\n 'YTTL',\n 'Powertwist Plus',\n 'Pet Media',\n 'Rand McNally',\n 'Lightwedge',\n 'Bill amp Gloria Gaither and Their Homecomi',\n 'Roland Smith',\n 'Ubisoft',\n 'Don Francisco',\n 'Hearst Magazines',\n 'BlackBerry',\n 'Michael Card',\n 'Hunts',\n 'Claire Messud',\n 'Dallas Holm',\n 'Lolita Files',\n 'Learning Company',\n 'Tom Kane',\n 'Meredith',\n 'JR Rain',\n 'Go Cat  Sunrise']"
     },
     "execution_count": 25,
     "metadata": {},
     "output_type": "execute_result"
    }
   ],
   "source": [
    "top_100_list"
   ],
   "metadata": {
    "collapsed": false,
    "pycharm": {
     "name": "#%%\n"
    }
   }
  },
  {
   "cell_type": "code",
   "execution_count": 26,
   "outputs": [],
   "source": [
    "df_tweets = pd.DataFrame(columns=['date', 'content', 'user','hashtags', 'coordinates', 'lang'])\n",
    "start_date = date(2015, 12, 31)\n",
    "end_date = date(2022, 8, 2)\n",
    "\n",
    "df_collect = pd.DataFrame(itertools.islice(sntwitter.TwitterSearchScraper(\n",
    "    f'{top_100[0]}  since:{start_date} until:{end_date} within: 10km' ).get_items(), 100))\n",
    "            #[['date', 'content', 'user','hashtags', 'coordinates', 'lang']]"
   ],
   "metadata": {
    "collapsed": false,
    "pycharm": {
     "name": "#%%\n"
    }
   }
  },
  {
   "cell_type": "code",
   "execution_count": 27,
   "outputs": [],
   "source": [
    "df_collect = pd.DataFrame(itertools.islice(sntwitter.TwitterSearchScraper(\n",
    "    f'{top_100[1]} geocode:53.81653,-3.03033,320km since:2022-07-01 until:2022-07-31').get_items(), 100000))"
   ],
   "metadata": {
    "collapsed": false,
    "pycharm": {
     "name": "#%%\n"
    }
   }
  },
  {
   "cell_type": "code",
   "execution_count": 28,
   "outputs": [],
   "source": [
    "df_collect['just_date'] = df_collect['date'].dt.date"
   ],
   "metadata": {
    "collapsed": false,
    "pycharm": {
     "name": "#%%\n"
    }
   }
  },
  {
   "cell_type": "code",
   "execution_count": 29,
   "outputs": [
    {
     "data": {
      "text/plain": "            url  date  content  renderedContent   id  user  replyCount  \\\njust_date                                                                \n2022-07-01    5     5        5                5    5     5           5   \n2022-07-02    5     5        5                5    5     5           5   \n2022-07-03    5     5        5                5    5     5           5   \n2022-07-04   27    27       27               27   27    27          27   \n2022-07-05   26    26       26               26   26    26          26   \n2022-07-06    7     7        7                7    7     7           7   \n2022-07-07    5     5        5                5    5     5           5   \n2022-07-08  109   109      109              109  109   109         109   \n2022-07-09   19    19       19               19   19    19          19   \n2022-07-10    2     2        2                2    2     2           2   \n2022-07-11    5     5        5                5    5     5           5   \n2022-07-12   33    33       33               33   33    33          33   \n2022-07-13   50    50       50               50   50    50          50   \n2022-07-14   90    90       90               90   90    90          90   \n2022-07-15   27    27       27               27   27    27          27   \n2022-07-16   17    17       17               17   17    17          17   \n2022-07-17    9     9        9                9    9     9           9   \n2022-07-18   14    14       14               14   14    14          14   \n2022-07-19    3     3        3                3    3     3           3   \n2022-07-20    9     9        9                9    9     9           9   \n2022-07-21   18    18       18               18   18    18          18   \n2022-07-22    3     3        3                3    3     3           3   \n2022-07-23    7     7        7                7    7     7           7   \n2022-07-24    4     4        4                4    4     4           4   \n2022-07-25  233   233      233              233  233   233         233   \n2022-07-26  356   356      356              356  356   356         356   \n2022-07-27  431   431      431              431  431   431         431   \n2022-07-28  391   391      391              391  391   391         391   \n2022-07-29  358   358      358              358  358   358         358   \n2022-07-30  213   213      213              213  213   213         213   \n\n            retweetCount  likeCount  quoteCount  ...  media  retweetedTweet  \\\njust_date                                        ...                          \n2022-07-01             5          5           5  ...      1               0   \n2022-07-02             5          5           5  ...      0               0   \n2022-07-03             5          5           5  ...      1               0   \n2022-07-04            27         27          27  ...      6               0   \n2022-07-05            26         26          26  ...      1               0   \n2022-07-06             7          7           7  ...      2               0   \n2022-07-07             5          5           5  ...      2               0   \n2022-07-08           109        109         109  ...      4               0   \n2022-07-09            19         19          19  ...      0               0   \n2022-07-10             2          2           2  ...      0               0   \n2022-07-11             5          5           5  ...      2               0   \n2022-07-12            33         33          33  ...      1               0   \n2022-07-13            50         50          50  ...      1               0   \n2022-07-14            90         90          90  ...      1               0   \n2022-07-15            27         27          27  ...      2               0   \n2022-07-16            17         17          17  ...      1               0   \n2022-07-17             9          9           9  ...      0               0   \n2022-07-18            14         14          14  ...      0               0   \n2022-07-19             3          3           3  ...      1               0   \n2022-07-20             9          9           9  ...      4               0   \n2022-07-21            18         18          18  ...      1               0   \n2022-07-22             3          3           3  ...      1               0   \n2022-07-23             7          7           7  ...      1               0   \n2022-07-24             4          4           4  ...      1               0   \n2022-07-25           233        233         233  ...     70               0   \n2022-07-26           356        356         356  ...     79               0   \n2022-07-27           431        431         431  ...     82               0   \n2022-07-28           391        391         391  ...     90               0   \n2022-07-29           358        358         358  ...     55               0   \n2022-07-30           213        213         213  ...     23               0   \n\n            quotedTweet  inReplyToTweetId  inReplyToUser  mentionedUsers  \\\njust_date                                                                  \n2022-07-01            0                 4              4               5   \n2022-07-02            1                 4              4               4   \n2022-07-03            2                 3              3               4   \n2022-07-04            0                23             23              24   \n2022-07-05            1                23             23              23   \n2022-07-06            1                 2              2               5   \n2022-07-07            1                 3              3               4   \n2022-07-08            3               105            105             105   \n2022-07-09            1                18             18              19   \n2022-07-10            0                 1              1               1   \n2022-07-11            1                 0              0               3   \n2022-07-12            0                30             30              32   \n2022-07-13            0                47             47              49   \n2022-07-14            0                89             89              89   \n2022-07-15            0                23             23              24   \n2022-07-16            0                16             16              16   \n2022-07-17            1                 7              7               6   \n2022-07-18            1                13             13              14   \n2022-07-19            1                 1              1               3   \n2022-07-20            0                 6              6               9   \n2022-07-21            1                13             13              16   \n2022-07-22            0                 2              2               3   \n2022-07-23            0                 7              7               7   \n2022-07-24            0                 3              3               3   \n2022-07-25            9                43             43              86   \n2022-07-26           11                83             83             148   \n2022-07-27            8               156            156             207   \n2022-07-28            9               145            145             183   \n2022-07-29            8               165            165             220   \n2022-07-30            7               115            115             129   \n\n            coordinates  place  hashtags  cashtags  \njust_date                                           \n2022-07-01            5      5         1         0  \n2022-07-02            5      5         2         0  \n2022-07-03            5      5         1         0  \n2022-07-04           27     27        14         0  \n2022-07-05           26     26        13         0  \n2022-07-06            7      7         4         0  \n2022-07-07            5      5         2         0  \n2022-07-08          109    109        72         0  \n2022-07-09           19     19        16         0  \n2022-07-10            2      2         0         0  \n2022-07-11            5      5         4         0  \n2022-07-12           33     33        25         0  \n2022-07-13           50     50        41         0  \n2022-07-14           90     90        64         0  \n2022-07-15           27     27        15         0  \n2022-07-16           17     17        12         0  \n2022-07-17            9      9         4         0  \n2022-07-18           14     14        11         0  \n2022-07-19            3      3         2         0  \n2022-07-20            9      9         4         0  \n2022-07-21           18     18        10         0  \n2022-07-22            3      3         1         0  \n2022-07-23            7      7         2         0  \n2022-07-24            4      4         0         0  \n2022-07-25            5      5       102         1  \n2022-07-26            4      4       157         3  \n2022-07-27           30     30       151         1  \n2022-07-28            7      7       117         1  \n2022-07-29           21     21       103         0  \n2022-07-30           19     19        48         0  \n\n[30 rows x 27 columns]",
      "text/html": "<div>\n<style scoped>\n    .dataframe tbody tr th:only-of-type {\n        vertical-align: middle;\n    }\n\n    .dataframe tbody tr th {\n        vertical-align: top;\n    }\n\n    .dataframe thead th {\n        text-align: right;\n    }\n</style>\n<table border=\"1\" class=\"dataframe\">\n  <thead>\n    <tr style=\"text-align: right;\">\n      <th></th>\n      <th>url</th>\n      <th>date</th>\n      <th>content</th>\n      <th>renderedContent</th>\n      <th>id</th>\n      <th>user</th>\n      <th>replyCount</th>\n      <th>retweetCount</th>\n      <th>likeCount</th>\n      <th>quoteCount</th>\n      <th>...</th>\n      <th>media</th>\n      <th>retweetedTweet</th>\n      <th>quotedTweet</th>\n      <th>inReplyToTweetId</th>\n      <th>inReplyToUser</th>\n      <th>mentionedUsers</th>\n      <th>coordinates</th>\n      <th>place</th>\n      <th>hashtags</th>\n      <th>cashtags</th>\n    </tr>\n    <tr>\n      <th>just_date</th>\n      <th></th>\n      <th></th>\n      <th></th>\n      <th></th>\n      <th></th>\n      <th></th>\n      <th></th>\n      <th></th>\n      <th></th>\n      <th></th>\n      <th></th>\n      <th></th>\n      <th></th>\n      <th></th>\n      <th></th>\n      <th></th>\n      <th></th>\n      <th></th>\n      <th></th>\n      <th></th>\n      <th></th>\n    </tr>\n  </thead>\n  <tbody>\n    <tr>\n      <th>2022-07-01</th>\n      <td>5</td>\n      <td>5</td>\n      <td>5</td>\n      <td>5</td>\n      <td>5</td>\n      <td>5</td>\n      <td>5</td>\n      <td>5</td>\n      <td>5</td>\n      <td>5</td>\n      <td>...</td>\n      <td>1</td>\n      <td>0</td>\n      <td>0</td>\n      <td>4</td>\n      <td>4</td>\n      <td>5</td>\n      <td>5</td>\n      <td>5</td>\n      <td>1</td>\n      <td>0</td>\n    </tr>\n    <tr>\n      <th>2022-07-02</th>\n      <td>5</td>\n      <td>5</td>\n      <td>5</td>\n      <td>5</td>\n      <td>5</td>\n      <td>5</td>\n      <td>5</td>\n      <td>5</td>\n      <td>5</td>\n      <td>5</td>\n      <td>...</td>\n      <td>0</td>\n      <td>0</td>\n      <td>1</td>\n      <td>4</td>\n      <td>4</td>\n      <td>4</td>\n      <td>5</td>\n      <td>5</td>\n      <td>2</td>\n      <td>0</td>\n    </tr>\n    <tr>\n      <th>2022-07-03</th>\n      <td>5</td>\n      <td>5</td>\n      <td>5</td>\n      <td>5</td>\n      <td>5</td>\n      <td>5</td>\n      <td>5</td>\n      <td>5</td>\n      <td>5</td>\n      <td>5</td>\n      <td>...</td>\n      <td>1</td>\n      <td>0</td>\n      <td>2</td>\n      <td>3</td>\n      <td>3</td>\n      <td>4</td>\n      <td>5</td>\n      <td>5</td>\n      <td>1</td>\n      <td>0</td>\n    </tr>\n    <tr>\n      <th>2022-07-04</th>\n      <td>27</td>\n      <td>27</td>\n      <td>27</td>\n      <td>27</td>\n      <td>27</td>\n      <td>27</td>\n      <td>27</td>\n      <td>27</td>\n      <td>27</td>\n      <td>27</td>\n      <td>...</td>\n      <td>6</td>\n      <td>0</td>\n      <td>0</td>\n      <td>23</td>\n      <td>23</td>\n      <td>24</td>\n      <td>27</td>\n      <td>27</td>\n      <td>14</td>\n      <td>0</td>\n    </tr>\n    <tr>\n      <th>2022-07-05</th>\n      <td>26</td>\n      <td>26</td>\n      <td>26</td>\n      <td>26</td>\n      <td>26</td>\n      <td>26</td>\n      <td>26</td>\n      <td>26</td>\n      <td>26</td>\n      <td>26</td>\n      <td>...</td>\n      <td>1</td>\n      <td>0</td>\n      <td>1</td>\n      <td>23</td>\n      <td>23</td>\n      <td>23</td>\n      <td>26</td>\n      <td>26</td>\n      <td>13</td>\n      <td>0</td>\n    </tr>\n    <tr>\n      <th>2022-07-06</th>\n      <td>7</td>\n      <td>7</td>\n      <td>7</td>\n      <td>7</td>\n      <td>7</td>\n      <td>7</td>\n      <td>7</td>\n      <td>7</td>\n      <td>7</td>\n      <td>7</td>\n      <td>...</td>\n      <td>2</td>\n      <td>0</td>\n      <td>1</td>\n      <td>2</td>\n      <td>2</td>\n      <td>5</td>\n      <td>7</td>\n      <td>7</td>\n      <td>4</td>\n      <td>0</td>\n    </tr>\n    <tr>\n      <th>2022-07-07</th>\n      <td>5</td>\n      <td>5</td>\n      <td>5</td>\n      <td>5</td>\n      <td>5</td>\n      <td>5</td>\n      <td>5</td>\n      <td>5</td>\n      <td>5</td>\n      <td>5</td>\n      <td>...</td>\n      <td>2</td>\n      <td>0</td>\n      <td>1</td>\n      <td>3</td>\n      <td>3</td>\n      <td>4</td>\n      <td>5</td>\n      <td>5</td>\n      <td>2</td>\n      <td>0</td>\n    </tr>\n    <tr>\n      <th>2022-07-08</th>\n      <td>109</td>\n      <td>109</td>\n      <td>109</td>\n      <td>109</td>\n      <td>109</td>\n      <td>109</td>\n      <td>109</td>\n      <td>109</td>\n      <td>109</td>\n      <td>109</td>\n      <td>...</td>\n      <td>4</td>\n      <td>0</td>\n      <td>3</td>\n      <td>105</td>\n      <td>105</td>\n      <td>105</td>\n      <td>109</td>\n      <td>109</td>\n      <td>72</td>\n      <td>0</td>\n    </tr>\n    <tr>\n      <th>2022-07-09</th>\n      <td>19</td>\n      <td>19</td>\n      <td>19</td>\n      <td>19</td>\n      <td>19</td>\n      <td>19</td>\n      <td>19</td>\n      <td>19</td>\n      <td>19</td>\n      <td>19</td>\n      <td>...</td>\n      <td>0</td>\n      <td>0</td>\n      <td>1</td>\n      <td>18</td>\n      <td>18</td>\n      <td>19</td>\n      <td>19</td>\n      <td>19</td>\n      <td>16</td>\n      <td>0</td>\n    </tr>\n    <tr>\n      <th>2022-07-10</th>\n      <td>2</td>\n      <td>2</td>\n      <td>2</td>\n      <td>2</td>\n      <td>2</td>\n      <td>2</td>\n      <td>2</td>\n      <td>2</td>\n      <td>2</td>\n      <td>2</td>\n      <td>...</td>\n      <td>0</td>\n      <td>0</td>\n      <td>0</td>\n      <td>1</td>\n      <td>1</td>\n      <td>1</td>\n      <td>2</td>\n      <td>2</td>\n      <td>0</td>\n      <td>0</td>\n    </tr>\n    <tr>\n      <th>2022-07-11</th>\n      <td>5</td>\n      <td>5</td>\n      <td>5</td>\n      <td>5</td>\n      <td>5</td>\n      <td>5</td>\n      <td>5</td>\n      <td>5</td>\n      <td>5</td>\n      <td>5</td>\n      <td>...</td>\n      <td>2</td>\n      <td>0</td>\n      <td>1</td>\n      <td>0</td>\n      <td>0</td>\n      <td>3</td>\n      <td>5</td>\n      <td>5</td>\n      <td>4</td>\n      <td>0</td>\n    </tr>\n    <tr>\n      <th>2022-07-12</th>\n      <td>33</td>\n      <td>33</td>\n      <td>33</td>\n      <td>33</td>\n      <td>33</td>\n      <td>33</td>\n      <td>33</td>\n      <td>33</td>\n      <td>33</td>\n      <td>33</td>\n      <td>...</td>\n      <td>1</td>\n      <td>0</td>\n      <td>0</td>\n      <td>30</td>\n      <td>30</td>\n      <td>32</td>\n      <td>33</td>\n      <td>33</td>\n      <td>25</td>\n      <td>0</td>\n    </tr>\n    <tr>\n      <th>2022-07-13</th>\n      <td>50</td>\n      <td>50</td>\n      <td>50</td>\n      <td>50</td>\n      <td>50</td>\n      <td>50</td>\n      <td>50</td>\n      <td>50</td>\n      <td>50</td>\n      <td>50</td>\n      <td>...</td>\n      <td>1</td>\n      <td>0</td>\n      <td>0</td>\n      <td>47</td>\n      <td>47</td>\n      <td>49</td>\n      <td>50</td>\n      <td>50</td>\n      <td>41</td>\n      <td>0</td>\n    </tr>\n    <tr>\n      <th>2022-07-14</th>\n      <td>90</td>\n      <td>90</td>\n      <td>90</td>\n      <td>90</td>\n      <td>90</td>\n      <td>90</td>\n      <td>90</td>\n      <td>90</td>\n      <td>90</td>\n      <td>90</td>\n      <td>...</td>\n      <td>1</td>\n      <td>0</td>\n      <td>0</td>\n      <td>89</td>\n      <td>89</td>\n      <td>89</td>\n      <td>90</td>\n      <td>90</td>\n      <td>64</td>\n      <td>0</td>\n    </tr>\n    <tr>\n      <th>2022-07-15</th>\n      <td>27</td>\n      <td>27</td>\n      <td>27</td>\n      <td>27</td>\n      <td>27</td>\n      <td>27</td>\n      <td>27</td>\n      <td>27</td>\n      <td>27</td>\n      <td>27</td>\n      <td>...</td>\n      <td>2</td>\n      <td>0</td>\n      <td>0</td>\n      <td>23</td>\n      <td>23</td>\n      <td>24</td>\n      <td>27</td>\n      <td>27</td>\n      <td>15</td>\n      <td>0</td>\n    </tr>\n    <tr>\n      <th>2022-07-16</th>\n      <td>17</td>\n      <td>17</td>\n      <td>17</td>\n      <td>17</td>\n      <td>17</td>\n      <td>17</td>\n      <td>17</td>\n      <td>17</td>\n      <td>17</td>\n      <td>17</td>\n      <td>...</td>\n      <td>1</td>\n      <td>0</td>\n      <td>0</td>\n      <td>16</td>\n      <td>16</td>\n      <td>16</td>\n      <td>17</td>\n      <td>17</td>\n      <td>12</td>\n      <td>0</td>\n    </tr>\n    <tr>\n      <th>2022-07-17</th>\n      <td>9</td>\n      <td>9</td>\n      <td>9</td>\n      <td>9</td>\n      <td>9</td>\n      <td>9</td>\n      <td>9</td>\n      <td>9</td>\n      <td>9</td>\n      <td>9</td>\n      <td>...</td>\n      <td>0</td>\n      <td>0</td>\n      <td>1</td>\n      <td>7</td>\n      <td>7</td>\n      <td>6</td>\n      <td>9</td>\n      <td>9</td>\n      <td>4</td>\n      <td>0</td>\n    </tr>\n    <tr>\n      <th>2022-07-18</th>\n      <td>14</td>\n      <td>14</td>\n      <td>14</td>\n      <td>14</td>\n      <td>14</td>\n      <td>14</td>\n      <td>14</td>\n      <td>14</td>\n      <td>14</td>\n      <td>14</td>\n      <td>...</td>\n      <td>0</td>\n      <td>0</td>\n      <td>1</td>\n      <td>13</td>\n      <td>13</td>\n      <td>14</td>\n      <td>14</td>\n      <td>14</td>\n      <td>11</td>\n      <td>0</td>\n    </tr>\n    <tr>\n      <th>2022-07-19</th>\n      <td>3</td>\n      <td>3</td>\n      <td>3</td>\n      <td>3</td>\n      <td>3</td>\n      <td>3</td>\n      <td>3</td>\n      <td>3</td>\n      <td>3</td>\n      <td>3</td>\n      <td>...</td>\n      <td>1</td>\n      <td>0</td>\n      <td>1</td>\n      <td>1</td>\n      <td>1</td>\n      <td>3</td>\n      <td>3</td>\n      <td>3</td>\n      <td>2</td>\n      <td>0</td>\n    </tr>\n    <tr>\n      <th>2022-07-20</th>\n      <td>9</td>\n      <td>9</td>\n      <td>9</td>\n      <td>9</td>\n      <td>9</td>\n      <td>9</td>\n      <td>9</td>\n      <td>9</td>\n      <td>9</td>\n      <td>9</td>\n      <td>...</td>\n      <td>4</td>\n      <td>0</td>\n      <td>0</td>\n      <td>6</td>\n      <td>6</td>\n      <td>9</td>\n      <td>9</td>\n      <td>9</td>\n      <td>4</td>\n      <td>0</td>\n    </tr>\n    <tr>\n      <th>2022-07-21</th>\n      <td>18</td>\n      <td>18</td>\n      <td>18</td>\n      <td>18</td>\n      <td>18</td>\n      <td>18</td>\n      <td>18</td>\n      <td>18</td>\n      <td>18</td>\n      <td>18</td>\n      <td>...</td>\n      <td>1</td>\n      <td>0</td>\n      <td>1</td>\n      <td>13</td>\n      <td>13</td>\n      <td>16</td>\n      <td>18</td>\n      <td>18</td>\n      <td>10</td>\n      <td>0</td>\n    </tr>\n    <tr>\n      <th>2022-07-22</th>\n      <td>3</td>\n      <td>3</td>\n      <td>3</td>\n      <td>3</td>\n      <td>3</td>\n      <td>3</td>\n      <td>3</td>\n      <td>3</td>\n      <td>3</td>\n      <td>3</td>\n      <td>...</td>\n      <td>1</td>\n      <td>0</td>\n      <td>0</td>\n      <td>2</td>\n      <td>2</td>\n      <td>3</td>\n      <td>3</td>\n      <td>3</td>\n      <td>1</td>\n      <td>0</td>\n    </tr>\n    <tr>\n      <th>2022-07-23</th>\n      <td>7</td>\n      <td>7</td>\n      <td>7</td>\n      <td>7</td>\n      <td>7</td>\n      <td>7</td>\n      <td>7</td>\n      <td>7</td>\n      <td>7</td>\n      <td>7</td>\n      <td>...</td>\n      <td>1</td>\n      <td>0</td>\n      <td>0</td>\n      <td>7</td>\n      <td>7</td>\n      <td>7</td>\n      <td>7</td>\n      <td>7</td>\n      <td>2</td>\n      <td>0</td>\n    </tr>\n    <tr>\n      <th>2022-07-24</th>\n      <td>4</td>\n      <td>4</td>\n      <td>4</td>\n      <td>4</td>\n      <td>4</td>\n      <td>4</td>\n      <td>4</td>\n      <td>4</td>\n      <td>4</td>\n      <td>4</td>\n      <td>...</td>\n      <td>1</td>\n      <td>0</td>\n      <td>0</td>\n      <td>3</td>\n      <td>3</td>\n      <td>3</td>\n      <td>4</td>\n      <td>4</td>\n      <td>0</td>\n      <td>0</td>\n    </tr>\n    <tr>\n      <th>2022-07-25</th>\n      <td>233</td>\n      <td>233</td>\n      <td>233</td>\n      <td>233</td>\n      <td>233</td>\n      <td>233</td>\n      <td>233</td>\n      <td>233</td>\n      <td>233</td>\n      <td>233</td>\n      <td>...</td>\n      <td>70</td>\n      <td>0</td>\n      <td>9</td>\n      <td>43</td>\n      <td>43</td>\n      <td>86</td>\n      <td>5</td>\n      <td>5</td>\n      <td>102</td>\n      <td>1</td>\n    </tr>\n    <tr>\n      <th>2022-07-26</th>\n      <td>356</td>\n      <td>356</td>\n      <td>356</td>\n      <td>356</td>\n      <td>356</td>\n      <td>356</td>\n      <td>356</td>\n      <td>356</td>\n      <td>356</td>\n      <td>356</td>\n      <td>...</td>\n      <td>79</td>\n      <td>0</td>\n      <td>11</td>\n      <td>83</td>\n      <td>83</td>\n      <td>148</td>\n      <td>4</td>\n      <td>4</td>\n      <td>157</td>\n      <td>3</td>\n    </tr>\n    <tr>\n      <th>2022-07-27</th>\n      <td>431</td>\n      <td>431</td>\n      <td>431</td>\n      <td>431</td>\n      <td>431</td>\n      <td>431</td>\n      <td>431</td>\n      <td>431</td>\n      <td>431</td>\n      <td>431</td>\n      <td>...</td>\n      <td>82</td>\n      <td>0</td>\n      <td>8</td>\n      <td>156</td>\n      <td>156</td>\n      <td>207</td>\n      <td>30</td>\n      <td>30</td>\n      <td>151</td>\n      <td>1</td>\n    </tr>\n    <tr>\n      <th>2022-07-28</th>\n      <td>391</td>\n      <td>391</td>\n      <td>391</td>\n      <td>391</td>\n      <td>391</td>\n      <td>391</td>\n      <td>391</td>\n      <td>391</td>\n      <td>391</td>\n      <td>391</td>\n      <td>...</td>\n      <td>90</td>\n      <td>0</td>\n      <td>9</td>\n      <td>145</td>\n      <td>145</td>\n      <td>183</td>\n      <td>7</td>\n      <td>7</td>\n      <td>117</td>\n      <td>1</td>\n    </tr>\n    <tr>\n      <th>2022-07-29</th>\n      <td>358</td>\n      <td>358</td>\n      <td>358</td>\n      <td>358</td>\n      <td>358</td>\n      <td>358</td>\n      <td>358</td>\n      <td>358</td>\n      <td>358</td>\n      <td>358</td>\n      <td>...</td>\n      <td>55</td>\n      <td>0</td>\n      <td>8</td>\n      <td>165</td>\n      <td>165</td>\n      <td>220</td>\n      <td>21</td>\n      <td>21</td>\n      <td>103</td>\n      <td>0</td>\n    </tr>\n    <tr>\n      <th>2022-07-30</th>\n      <td>213</td>\n      <td>213</td>\n      <td>213</td>\n      <td>213</td>\n      <td>213</td>\n      <td>213</td>\n      <td>213</td>\n      <td>213</td>\n      <td>213</td>\n      <td>213</td>\n      <td>...</td>\n      <td>23</td>\n      <td>0</td>\n      <td>7</td>\n      <td>115</td>\n      <td>115</td>\n      <td>129</td>\n      <td>19</td>\n      <td>19</td>\n      <td>48</td>\n      <td>0</td>\n    </tr>\n  </tbody>\n</table>\n<p>30 rows × 27 columns</p>\n</div>"
     },
     "execution_count": 29,
     "metadata": {},
     "output_type": "execute_result"
    }
   ],
   "source": [
    "df_collect.groupby('just_date').count()"
   ],
   "metadata": {
    "collapsed": false,
    "pycharm": {
     "name": "#%%\n"
    }
   }
  },
  {
   "cell_type": "code",
   "execution_count": 31,
   "outputs": [],
   "source": [
    "#https://stackoverflow.com/questions/11865685/handling-a-timeout-error-in-python-sockets\n",
    "import errno\n",
    "import os\n",
    "import signal\n",
    "import functools\n",
    "\n",
    "class TimeoutError(Exception):\n",
    "    pass\n",
    "\n",
    "def timeout(seconds=10, error_message=os.strerror(errno.ETIME)):\n",
    "    def decorator(func):\n",
    "        def _handle_timeout(signum, frame):\n",
    "            raise TimeoutError(error_message)\n",
    "\n",
    "        @functools.wraps(func)\n",
    "        def wrapper(*args, **kwargs):\n",
    "            signal.signal(signal.SIGALRM, _handle_timeout)\n",
    "            signal.alarm(seconds)\n",
    "            try:\n",
    "                result = func(*args, **kwargs)\n",
    "            finally:\n",
    "                signal.alarm(0)\n",
    "            return result\n",
    "\n",
    "        return wrapper\n",
    "\n",
    "    return decorator\n",
    "\n",
    "def daterange(start_date, end_date):\n",
    "    for n in range(int((end_date - start_date).days)):\n",
    "        yield start_date + timedelta(n)"
   ],
   "metadata": {
    "collapsed": false,
    "pycharm": {
     "name": "#%%\n"
    }
   }
  },
  {
   "cell_type": "code",
   "execution_count": null,
   "outputs": [
    {
     "name": "stderr",
     "output_type": "stream",
     "text": [
      "0it [00:00, ?it/s]\n",
      "  0%|          | 0/98 [00:00<?, ?it/s]\u001B[A\n",
      "  1%|          | 1/98 [00:01<01:39,  1.02s/it]\u001B[A\n",
      "  2%|▏         | 2/98 [00:06<05:29,  3.44s/it]\u001B[A\n",
      "  3%|▎         | 3/98 [00:07<04:03,  2.57s/it]\u001B[A\n",
      "  4%|▍         | 4/98 [00:16<07:54,  5.05s/it]\u001B[A\n",
      "  5%|▌         | 5/98 [00:17<05:28,  3.53s/it]\u001B[A\n",
      "  6%|▌         | 6/98 [00:20<05:15,  3.43s/it]\u001B[A\n",
      "  7%|▋         | 7/98 [00:21<04:02,  2.67s/it]\u001B[A\n",
      "  8%|▊         | 8/98 [00:22<03:08,  2.10s/it]\u001B[A\n",
      "  9%|▉         | 9/98 [00:23<02:35,  1.75s/it]\u001B[A\n",
      " 10%|█         | 10/98 [00:24<02:13,  1.52s/it]\u001B[A\n",
      " 11%|█         | 11/98 [00:25<02:01,  1.40s/it]\u001B[A\n",
      " 12%|█▏        | 12/98 [00:26<01:53,  1.32s/it]\u001B[A\n",
      " 13%|█▎        | 13/98 [00:27<01:41,  1.20s/it]\u001B[A\n",
      " 14%|█▍        | 14/98 [00:28<01:36,  1.15s/it]\u001B[A\n",
      " 15%|█▌        | 15/98 [00:29<01:33,  1.13s/it]\u001B[A\n",
      " 16%|█▋        | 16/98 [00:32<02:16,  1.66s/it]\u001B[A\n",
      " 17%|█▋        | 17/98 [00:33<01:58,  1.46s/it]\u001B[A\n",
      " 18%|█▊        | 18/98 [00:38<03:08,  2.36s/it]\u001B[A\n",
      " 19%|█▉        | 19/98 [00:40<03:15,  2.48s/it]\u001B[A\n",
      " 20%|██        | 20/98 [00:41<02:37,  2.02s/it]\u001B[A\n",
      " 21%|██▏       | 21/98 [00:43<02:14,  1.74s/it]\u001B[A\n",
      " 22%|██▏       | 22/98 [00:44<01:55,  1.53s/it]\u001B[A\n",
      " 23%|██▎       | 23/98 [00:45<01:43,  1.38s/it]\u001B[A\n",
      " 24%|██▍       | 24/98 [00:45<01:31,  1.24s/it]\u001B[A\n",
      " 26%|██▌       | 25/98 [00:46<01:24,  1.16s/it]\u001B[A\n",
      " 27%|██▋       | 26/98 [00:48<01:21,  1.13s/it]\u001B[A\n",
      " 28%|██▊       | 27/98 [00:48<01:15,  1.06s/it]\u001B[A\n",
      " 29%|██▊       | 28/98 [00:50<01:18,  1.12s/it]\u001B[A\n",
      " 30%|██▉       | 29/98 [00:51<01:30,  1.31s/it]\u001B[A\n",
      " 31%|███       | 30/98 [00:52<01:22,  1.21s/it]\u001B[A\n",
      " 32%|███▏      | 31/98 [00:53<01:18,  1.16s/it]\u001B[A\n",
      " 33%|███▎      | 32/98 [00:55<01:32,  1.40s/it]\u001B[A\n",
      " 34%|███▎      | 33/98 [00:57<01:25,  1.32s/it]\u001B[A\n",
      " 35%|███▍      | 34/98 [00:58<01:20,  1.26s/it]\u001B[A\n",
      " 36%|███▌      | 35/98 [00:59<01:16,  1.22s/it]\u001B[A\n",
      " 37%|███▋      | 36/98 [01:00<01:10,  1.14s/it]\u001B[A\n",
      " 38%|███▊      | 37/98 [01:01<01:18,  1.28s/it]\u001B[A\n",
      " 39%|███▉      | 38/98 [01:02<01:12,  1.20s/it]\u001B[A\n",
      " 40%|███▉      | 39/98 [01:03<01:06,  1.12s/it]\u001B[A\n",
      " 41%|████      | 40/98 [01:05<01:17,  1.34s/it]\u001B[A\n",
      " 42%|████▏     | 41/98 [01:06<01:09,  1.21s/it]\u001B[A\n",
      " 43%|████▎     | 42/98 [01:07<01:04,  1.15s/it]\u001B[A\n",
      " 44%|████▍     | 43/98 [01:08<01:01,  1.12s/it]\u001B[A\n",
      " 45%|████▍     | 44/98 [01:09<01:00,  1.12s/it]\u001B[A\n",
      " 46%|████▌     | 45/98 [01:10<00:59,  1.12s/it]\u001B[A\n",
      " 47%|████▋     | 46/98 [01:11<00:56,  1.09s/it]\u001B[A\n",
      " 48%|████▊     | 47/98 [01:13<00:56,  1.10s/it]\u001B[A\n",
      " 49%|████▉     | 48/98 [01:14<00:58,  1.17s/it]\u001B[A\n",
      " 50%|█████     | 49/98 [01:15<00:55,  1.13s/it]\u001B[A\n",
      " 51%|█████     | 50/98 [01:16<00:52,  1.10s/it]\u001B[A\n",
      " 52%|█████▏    | 51/98 [01:17<00:52,  1.11s/it]\u001B[A\n",
      " 53%|█████▎    | 52/98 [01:18<00:49,  1.08s/it]\u001B[A\n",
      " 54%|█████▍    | 53/98 [01:19<00:50,  1.13s/it]\u001B[A\n",
      " 55%|█████▌    | 54/98 [01:20<00:48,  1.09s/it]\u001B[A\n",
      " 56%|█████▌    | 55/98 [01:21<00:47,  1.10s/it]\u001B[A\n",
      " 57%|█████▋    | 56/98 [01:23<00:46,  1.11s/it]\u001B[A\n",
      " 58%|█████▊    | 57/98 [01:24<00:44,  1.08s/it]\u001B[A\n",
      " 59%|█████▉    | 58/98 [01:24<00:40,  1.02s/it]\u001B[A\n",
      " 60%|██████    | 59/98 [01:25<00:39,  1.02s/it]\u001B[A\n",
      " 61%|██████    | 60/98 [01:26<00:37,  1.01it/s]\u001B[A\n",
      " 62%|██████▏   | 61/98 [01:27<00:37,  1.02s/it]\u001B[A\n",
      " 63%|██████▎   | 62/98 [01:29<00:38,  1.08s/it]\u001B[A\n",
      " 64%|██████▍   | 63/98 [01:30<00:38,  1.09s/it]\u001B[A\n",
      " 65%|██████▌   | 64/98 [01:31<00:38,  1.13s/it]\u001B[A\n",
      " 66%|██████▋   | 65/98 [01:32<00:36,  1.10s/it]\u001B[A\n",
      " 67%|██████▋   | 66/98 [01:33<00:36,  1.14s/it]\u001B[A\n",
      " 68%|██████▊   | 67/98 [01:35<00:36,  1.17s/it]\u001B[A\n",
      " 69%|██████▉   | 68/98 [01:39<01:06,  2.23s/it]\u001B[A\n",
      " 70%|███████   | 69/98 [01:40<00:55,  1.90s/it]\u001B[A\n",
      " 71%|███████▏  | 70/98 [01:41<00:46,  1.67s/it]\u001B[A\n",
      " 72%|███████▏  | 71/98 [01:43<00:40,  1.50s/it]\u001B[A\n",
      " 73%|███████▎  | 72/98 [01:44<00:36,  1.39s/it]\u001B[A\n",
      " 74%|███████▍  | 73/98 [01:45<00:31,  1.25s/it]\u001B[A\n",
      " 76%|███████▌  | 74/98 [01:45<00:26,  1.12s/it]\u001B[A\n",
      " 77%|███████▋  | 75/98 [01:47<00:28,  1.22s/it]\u001B[A\n",
      " 78%|███████▊  | 76/98 [01:48<00:25,  1.14s/it]\u001B[A\n",
      " 79%|███████▊  | 77/98 [01:49<00:23,  1.10s/it]\u001B[A\n",
      " 80%|███████▉  | 78/98 [01:50<00:22,  1.10s/it]\u001B[A\n",
      " 81%|████████  | 79/98 [01:51<00:19,  1.05s/it]\u001B[A\n",
      " 82%|████████▏ | 80/98 [01:52<00:19,  1.07s/it]\u001B[A\n",
      " 83%|████████▎ | 81/98 [01:53<00:18,  1.07s/it]\u001B[A\n",
      " 84%|████████▎ | 82/98 [01:54<00:16,  1.01s/it]\u001B[A\n",
      " 85%|████████▍ | 83/98 [01:55<00:15,  1.02s/it]\u001B[A\n",
      " 86%|████████▌ | 84/98 [01:56<00:13,  1.00it/s]\u001B[A\n",
      " 87%|████████▋ | 85/98 [01:58<00:18,  1.40s/it]\u001B[A\n",
      " 88%|████████▊ | 86/98 [02:00<00:17,  1.50s/it]\u001B[A\n",
      " 89%|████████▉ | 87/98 [02:01<00:15,  1.42s/it]\u001B[A\n",
      " 90%|████████▉ | 88/98 [02:06<00:22,  2.27s/it]\u001B[A\n",
      " 91%|█████████ | 89/98 [02:06<00:16,  1.88s/it]\u001B[A\n",
      " 92%|█████████▏| 90/98 [02:08<00:13,  1.71s/it]\u001B[A\n",
      " 93%|█████████▎| 91/98 [02:09<00:10,  1.51s/it]\u001B[A\n",
      " 94%|█████████▍| 92/98 [02:10<00:08,  1.37s/it]\u001B[A\n",
      " 95%|█████████▍| 93/98 [02:11<00:06,  1.25s/it]\u001B[A\n",
      " 96%|█████████▌| 94/98 [02:12<00:04,  1.15s/it]\u001B[A\n",
      " 97%|█████████▋| 95/98 [02:13<00:03,  1.12s/it]\u001B[A\n",
      " 98%|█████████▊| 96/98 [02:17<00:03,  1.95s/it]\u001B[A\n",
      " 99%|█████████▉| 97/98 [02:18<00:01,  1.67s/it]\u001B[A\n",
      "100%|██████████| 98/98 [02:19<00:00,  1.42s/it]\u001B[A\n",
      "1it [02:19, 139.12s/it]\n",
      "  0%|          | 0/98 [00:00<?, ?it/s]\u001B[A\n",
      "  1%|          | 1/98 [00:01<01:44,  1.07s/it]\u001B[A\n",
      "  2%|▏         | 2/98 [00:06<05:43,  3.58s/it]\u001B[A\n",
      "  3%|▎         | 3/98 [00:07<03:48,  2.41s/it]\u001B[A\n",
      "  4%|▍         | 4/98 [00:14<06:53,  4.40s/it]\u001B[A\n",
      "  5%|▌         | 5/98 [00:16<05:00,  3.23s/it]\u001B[A\n",
      "  6%|▌         | 6/98 [00:18<04:39,  3.04s/it]\u001B[A\n",
      "  7%|▋         | 7/98 [00:19<03:42,  2.44s/it]\u001B[A\n",
      "  8%|▊         | 8/98 [00:21<03:02,  2.03s/it]\u001B[A\n",
      "  9%|▉         | 9/98 [00:22<02:35,  1.74s/it]\u001B[A\n",
      " 10%|█         | 10/98 [00:23<02:16,  1.55s/it]\u001B[A\n",
      " 11%|█         | 11/98 [00:24<01:59,  1.37s/it]\u001B[A\n",
      " 12%|█▏        | 12/98 [00:25<02:02,  1.42s/it]\u001B[A\n",
      " 13%|█▎        | 13/98 [00:26<01:49,  1.29s/it]\u001B[A\n",
      " 14%|█▍        | 14/98 [00:27<01:41,  1.21s/it]\u001B[A\n",
      " 15%|█▌        | 15/98 [00:28<01:38,  1.18s/it]\u001B[A\n",
      " 16%|█▋        | 16/98 [00:30<01:55,  1.41s/it]\u001B[A\n",
      " 17%|█▋        | 17/98 [00:32<01:47,  1.33s/it]\u001B[A\n",
      " 18%|█▊        | 18/98 [00:34<02:03,  1.54s/it]\u001B[A\n",
      " 19%|█▉        | 19/98 [00:35<02:04,  1.58s/it]\u001B[A\n",
      " 20%|██        | 20/98 [00:36<01:50,  1.41s/it]\u001B[A\n",
      " 21%|██▏       | 21/98 [00:37<01:41,  1.32s/it]\u001B[A\n",
      " 22%|██▏       | 22/98 [00:38<01:34,  1.24s/it]\u001B[A\n",
      " 23%|██▎       | 23/98 [00:39<01:29,  1.20s/it]\u001B[A\n",
      " 24%|██▍       | 24/98 [00:41<01:27,  1.18s/it]\u001B[A\n",
      " 26%|██▌       | 25/98 [00:42<01:24,  1.16s/it]\u001B[A\n",
      " 27%|██▋       | 26/98 [00:43<01:22,  1.15s/it]\u001B[A\n",
      " 28%|██▊       | 27/98 [00:44<01:21,  1.15s/it]\u001B[A\n",
      " 29%|██▊       | 28/98 [00:45<01:19,  1.14s/it]\u001B[A\n",
      " 30%|██▉       | 29/98 [00:47<01:24,  1.23s/it]\u001B[A\n",
      " 31%|███       | 30/98 [00:48<01:18,  1.16s/it]\u001B[A\n",
      " 32%|███▏      | 31/98 [00:49<01:15,  1.12s/it]\u001B[A\n",
      " 33%|███▎      | 32/98 [00:50<01:22,  1.25s/it]\u001B[A\n",
      " 34%|███▎      | 33/98 [00:51<01:18,  1.21s/it]\u001B[A\n",
      " 35%|███▍      | 34/98 [00:52<01:15,  1.18s/it]\u001B[A\n",
      " 36%|███▌      | 35/98 [00:53<01:11,  1.14s/it]\u001B[A\n",
      " 37%|███▋      | 36/98 [00:54<01:08,  1.10s/it]\u001B[A\n",
      " 38%|███▊      | 37/98 [00:56<01:10,  1.15s/it]\u001B[A\n",
      " 39%|███▉      | 38/98 [00:57<01:09,  1.17s/it]\u001B[A\n",
      " 40%|███▉      | 39/98 [00:58<01:06,  1.12s/it]\u001B[A\n",
      " 41%|████      | 40/98 [00:59<01:12,  1.25s/it]\u001B[A\n",
      " 42%|████▏     | 41/98 [01:00<01:05,  1.14s/it]\u001B[A\n",
      " 43%|████▎     | 42/98 [01:01<01:00,  1.08s/it]\u001B[A\n",
      " 44%|████▍     | 43/98 [01:02<00:59,  1.08s/it]\u001B[A\n",
      " 45%|████▍     | 44/98 [01:03<00:58,  1.08s/it]\u001B[A\n",
      " 46%|████▌     | 45/98 [01:04<00:56,  1.06s/it]\u001B[A\n",
      " 47%|████▋     | 46/98 [01:06<00:56,  1.08s/it]\u001B[A\n",
      " 48%|████▊     | 47/98 [01:07<00:53,  1.05s/it]\u001B[A\n",
      " 49%|████▉     | 48/98 [01:08<00:57,  1.15s/it]\u001B[A\n",
      " 50%|█████     | 49/98 [01:09<00:55,  1.14s/it]\u001B[A\n",
      " 51%|█████     | 50/98 [01:10<00:54,  1.14s/it]\u001B[A\n",
      " 52%|█████▏    | 51/98 [01:11<00:52,  1.11s/it]\u001B[A\n",
      " 53%|█████▎    | 52/98 [01:12<00:49,  1.08s/it]\u001B[A\n",
      " 54%|█████▍    | 53/98 [01:14<00:54,  1.21s/it]\u001B[A\n",
      " 55%|█████▌    | 54/98 [01:15<00:50,  1.16s/it]\u001B[A\n",
      " 56%|█████▌    | 55/98 [01:16<00:48,  1.12s/it]\u001B[A\n",
      " 57%|█████▋    | 56/98 [01:17<00:45,  1.09s/it]\u001B[A\n",
      " 58%|█████▊    | 57/98 [01:18<00:43,  1.07s/it]\u001B[A\n",
      " 59%|█████▉    | 58/98 [01:19<00:43,  1.08s/it]\u001B[A\n",
      " 60%|██████    | 59/98 [01:20<00:41,  1.07s/it]\u001B[A\n",
      " 61%|██████    | 60/98 [01:21<00:40,  1.05s/it]\u001B[A\n",
      " 62%|██████▏   | 61/98 [01:22<00:38,  1.05s/it]\u001B[A\n",
      " 63%|██████▎   | 62/98 [01:23<00:38,  1.07s/it]\u001B[A\n",
      " 64%|██████▍   | 63/98 [01:24<00:36,  1.06s/it]\u001B[A\n",
      " 65%|██████▌   | 64/98 [01:25<00:36,  1.08s/it]\u001B[A\n",
      " 66%|██████▋   | 65/98 [01:26<00:35,  1.06s/it]\u001B[A\n",
      " 67%|██████▋   | 66/98 [01:27<00:33,  1.05s/it]\u001B[A\n",
      " 68%|██████▊   | 67/98 [01:29<00:35,  1.14s/it]\u001B[A\n",
      " 69%|██████▉   | 68/98 [01:33<01:03,  2.11s/it]\u001B[A\n",
      " 70%|███████   | 69/98 [01:34<00:52,  1.82s/it]\u001B[A\n",
      " 71%|███████▏  | 70/98 [01:35<00:45,  1.61s/it]\u001B[A\n",
      " 72%|███████▏  | 71/98 [01:37<00:39,  1.46s/it]\u001B[A\n",
      " 73%|███████▎  | 72/98 [01:38<00:35,  1.36s/it]\u001B[A\n",
      " 74%|███████▍  | 73/98 [01:39<00:30,  1.23s/it]\u001B[A\n",
      " 76%|███████▌  | 74/98 [01:40<00:28,  1.17s/it]\u001B[A\n",
      " 77%|███████▋  | 75/98 [01:41<00:27,  1.21s/it]\u001B[A\n",
      " 78%|███████▊  | 76/98 [01:42<00:24,  1.13s/it]\u001B[A\n",
      " 79%|███████▊  | 77/98 [01:43<00:23,  1.10s/it]\u001B[A\n",
      " 80%|███████▉  | 78/98 [01:44<00:21,  1.08s/it]\u001B[A\n",
      " 81%|████████  | 79/98 [01:45<00:19,  1.03s/it]\u001B[A\n",
      " 82%|████████▏ | 80/98 [01:46<00:19,  1.09s/it]\u001B[A\n",
      " 83%|████████▎ | 81/98 [01:47<00:18,  1.10s/it]\u001B[A\n",
      " 84%|████████▎ | 82/98 [01:48<00:16,  1.03s/it]\u001B[A\n",
      " 85%|████████▍ | 83/98 [01:49<00:15,  1.04s/it]\u001B[A\n",
      " 86%|████████▌ | 84/98 [01:50<00:14,  1.01s/it]\u001B[A\n",
      " 87%|████████▋ | 85/98 [01:52<00:15,  1.23s/it]\u001B[A\n",
      " 88%|████████▊ | 86/98 [01:53<00:15,  1.32s/it]\u001B[A\n",
      " 89%|████████▉ | 87/98 [01:54<00:13,  1.24s/it]\u001B[A\n",
      " 90%|████████▉ | 88/98 [01:57<00:17,  1.73s/it]\u001B[A\n",
      " 91%|█████████ | 89/98 [01:58<00:13,  1.48s/it]\u001B[A\n",
      " 92%|█████████▏| 90/98 [01:59<00:11,  1.43s/it]\u001B[A\n",
      " 93%|█████████▎| 91/98 [02:00<00:09,  1.31s/it]\u001B[A\n",
      " 94%|█████████▍| 92/98 [02:02<00:07,  1.22s/it]\u001B[A\n",
      " 95%|█████████▍| 93/98 [02:03<00:05,  1.16s/it]\u001B[A\n",
      " 96%|█████████▌| 94/98 [02:04<00:04,  1.12s/it]\u001B[A\n",
      " 97%|█████████▋| 95/98 [02:04<00:03,  1.06s/it]\u001B[A\n",
      " 98%|█████████▊| 96/98 [02:07<00:03,  1.54s/it]\u001B[A\n",
      " 99%|█████████▉| 97/98 [02:08<00:01,  1.40s/it]\u001B[A\n",
      "100%|██████████| 98/98 [02:09<00:00,  1.32s/it]\u001B[A\n",
      "2it [04:28, 133.67s/it]\n",
      "  0%|          | 0/98 [00:00<?, ?it/s]\u001B[A\n",
      "  1%|          | 1/98 [00:01<01:53,  1.17s/it]\u001B[A\n",
      "  2%|▏         | 2/98 [00:05<05:00,  3.13s/it]\u001B[A\n",
      "  3%|▎         | 3/98 [00:06<03:25,  2.17s/it]\u001B[A\n",
      "  4%|▍         | 4/98 [00:12<05:21,  3.42s/it]\u001B[A\n",
      "  5%|▌         | 5/98 [00:13<03:58,  2.56s/it]\u001B[A\n",
      "  6%|▌         | 6/98 [00:14<03:27,  2.26s/it]\u001B[A\n",
      "  7%|▋         | 7/98 [00:15<02:48,  1.85s/it]\u001B[A\n",
      "  8%|▊         | 8/98 [00:16<02:21,  1.57s/it]\u001B[A\n",
      "  9%|▉         | 9/98 [00:17<02:01,  1.37s/it]\u001B[A\n",
      " 10%|█         | 10/98 [00:18<01:49,  1.24s/it]\u001B[A\n",
      " 11%|█         | 11/98 [00:19<01:45,  1.21s/it]\u001B[A\n",
      " 12%|█▏        | 12/98 [00:20<01:42,  1.19s/it]\u001B[A\n",
      " 13%|█▎        | 13/98 [00:21<01:37,  1.15s/it]\u001B[A\n",
      " 14%|█▍        | 14/98 [00:22<01:29,  1.06s/it]\u001B[A\n",
      " 15%|█▌        | 15/98 [00:23<01:27,  1.05s/it]\u001B[A\n",
      " 16%|█▋        | 16/98 [00:25<01:42,  1.25s/it]\u001B[A\n",
      " 17%|█▋        | 17/98 [00:26<01:37,  1.21s/it]\u001B[A\n",
      " 18%|█▊        | 18/98 [00:29<02:26,  1.83s/it]\u001B[A\n",
      " 19%|█▉        | 19/98 [00:32<02:39,  2.02s/it]\u001B[A\n",
      " 20%|██        | 20/98 [00:33<02:16,  1.75s/it]\u001B[A\n",
      " 21%|██▏       | 21/98 [00:34<02:00,  1.56s/it]\u001B[A\n",
      " 22%|██▏       | 22/98 [00:35<01:44,  1.37s/it]\u001B[A\n",
      " 23%|██▎       | 23/98 [00:36<01:37,  1.30s/it]\u001B[A\n",
      " 24%|██▍       | 24/98 [00:37<01:27,  1.18s/it]\u001B[A\n",
      " 26%|██▌       | 25/98 [00:38<01:23,  1.14s/it]\u001B[A\n",
      " 27%|██▋       | 26/98 [00:39<01:19,  1.10s/it]\u001B[A\n",
      " 28%|██▊       | 27/98 [00:40<01:16,  1.08s/it]\u001B[A\n",
      " 29%|██▊       | 28/98 [00:41<01:16,  1.09s/it]\u001B[A\n",
      " 30%|██▉       | 29/98 [00:43<01:20,  1.16s/it]\u001B[A\n",
      " 31%|███       | 30/98 [00:44<01:14,  1.10s/it]\u001B[A\n",
      " 32%|███▏      | 31/98 [00:44<01:06,  1.00it/s]\u001B[A\n",
      " 33%|███▎      | 32/98 [00:46<01:13,  1.12s/it]\u001B[A\n",
      " 34%|███▎      | 33/98 [00:47<01:10,  1.08s/it]\u001B[A\n",
      " 35%|███▍      | 34/98 [00:48<01:09,  1.09s/it]\u001B[A\n",
      " 36%|███▌      | 35/98 [00:49<01:05,  1.04s/it]\u001B[A\n",
      " 37%|███▋      | 36/98 [00:50<01:04,  1.04s/it]\u001B[A\n",
      " 38%|███▊      | 37/98 [00:51<01:04,  1.05s/it]\u001B[A\n",
      " 39%|███▉      | 38/98 [00:52<01:01,  1.02s/it]\u001B[A\n",
      " 40%|███▉      | 39/98 [00:53<00:56,  1.04it/s]\u001B[A\n",
      " 41%|████      | 40/98 [00:54<01:00,  1.04s/it]\u001B[A\n",
      " 42%|████▏     | 41/98 [00:55<00:59,  1.04s/it]\u001B[A\n",
      " 43%|████▎     | 42/98 [00:56<00:56,  1.00s/it]\u001B[A\n",
      " 44%|████▍     | 43/98 [00:57<00:52,  1.04it/s]\u001B[A\n",
      " 45%|████▍     | 44/98 [00:58<00:53,  1.00it/s]\u001B[A\n",
      " 46%|████▌     | 45/98 [00:59<00:54,  1.04s/it]\u001B[A\n",
      " 47%|████▋     | 46/98 [01:00<00:55,  1.06s/it]\u001B[A\n",
      " 48%|████▊     | 47/98 [01:01<00:53,  1.05s/it]\u001B[A\n",
      " 49%|████▉     | 48/98 [01:03<01:12,  1.45s/it]\u001B[A\n",
      " 50%|█████     | 49/98 [01:04<01:03,  1.30s/it]\u001B[A\n",
      " 51%|█████     | 50/98 [01:05<00:57,  1.20s/it]\u001B[A\n",
      " 52%|█████▏    | 51/98 [01:07<00:55,  1.18s/it]\u001B[A\n",
      " 53%|█████▎    | 52/98 [01:07<00:50,  1.10s/it]\u001B[A\n",
      " 54%|█████▍    | 53/98 [01:08<00:48,  1.08s/it]\u001B[A\n",
      " 55%|█████▌    | 54/98 [01:09<00:46,  1.06s/it]\u001B[A\n",
      " 56%|█████▌    | 55/98 [01:11<00:46,  1.08s/it]\u001B[A\n",
      " 57%|█████▋    | 56/98 [01:12<00:46,  1.10s/it]\u001B[A\n",
      " 58%|█████▊    | 57/98 [01:13<00:45,  1.10s/it]\u001B[A\n",
      " 59%|█████▉    | 58/98 [01:14<00:43,  1.08s/it]\u001B[A\n",
      " 60%|██████    | 59/98 [01:15<00:42,  1.09s/it]\u001B[A\n",
      " 61%|██████    | 60/98 [01:16<00:39,  1.04s/it]\u001B[A\n",
      " 62%|██████▏   | 61/98 [01:17<00:37,  1.01s/it]\u001B[A\n",
      " 63%|██████▎   | 62/98 [01:18<00:37,  1.04s/it]\u001B[A\n",
      " 64%|██████▍   | 63/98 [01:19<00:37,  1.07s/it]\u001B[A\n",
      " 65%|██████▌   | 64/98 [01:20<00:35,  1.05s/it]\u001B[A\n",
      " 66%|██████▋   | 65/98 [01:21<00:35,  1.08s/it]\u001B[A\n",
      " 67%|██████▋   | 66/98 [01:22<00:34,  1.09s/it]\u001B[A\n",
      " 68%|██████▊   | 67/98 [01:24<00:38,  1.23s/it]\u001B[A\n",
      " 69%|██████▉   | 68/98 [01:27<00:56,  1.87s/it]\u001B[A\n",
      " 70%|███████   | 69/98 [01:28<00:46,  1.62s/it]\u001B[A\n",
      " 71%|███████▏  | 70/98 [01:29<00:39,  1.41s/it]\u001B[A\n",
      " 72%|███████▏  | 71/98 [01:30<00:34,  1.29s/it]\u001B[A\n",
      " 73%|███████▎  | 72/98 [01:31<00:33,  1.27s/it]\u001B[A\n",
      " 74%|███████▍  | 73/98 [01:33<00:29,  1.20s/it]\u001B[A\n",
      " 76%|███████▌  | 74/98 [01:34<00:27,  1.15s/it]\u001B[A\n",
      " 77%|███████▋  | 75/98 [01:34<00:24,  1.07s/it]\u001B[A\n",
      " 78%|███████▊  | 76/98 [01:36<00:25,  1.16s/it]\u001B[A\n",
      " 79%|███████▊  | 77/98 [01:37<00:23,  1.11s/it]\u001B[A\n",
      " 80%|███████▉  | 78/98 [01:38<00:20,  1.04s/it]\u001B[A\n",
      " 81%|████████  | 79/98 [01:39<00:19,  1.03s/it]\u001B[A\n",
      " 82%|████████▏ | 80/98 [01:40<00:18,  1.03s/it]\u001B[A\n",
      " 83%|████████▎ | 81/98 [01:41<00:17,  1.03s/it]\u001B[A\n",
      " 84%|████████▎ | 82/98 [01:42<00:16,  1.05s/it]\u001B[A\n",
      " 85%|████████▍ | 83/98 [01:43<00:15,  1.05s/it]\u001B[A\n",
      " 86%|████████▌ | 84/98 [01:44<00:14,  1.02s/it]\u001B[A\n",
      " 87%|████████▋ | 85/98 [01:46<00:16,  1.26s/it]\u001B[A\n",
      " 88%|████████▊ | 86/98 [01:47<00:15,  1.31s/it]\u001B[A\n",
      " 89%|████████▉ | 87/98 [01:48<00:14,  1.28s/it]\u001B[A\n",
      " 90%|████████▉ | 88/98 [01:51<00:17,  1.76s/it]\u001B[A\n",
      " 91%|█████████ | 89/98 [01:52<00:13,  1.54s/it]\u001B[A\n",
      " 92%|█████████▏| 90/98 [01:54<00:11,  1.50s/it]\u001B[A\n",
      " 93%|█████████▎| 91/98 [01:55<00:09,  1.33s/it]\u001B[A\n",
      " 94%|█████████▍| 92/98 [01:56<00:07,  1.24s/it]\u001B[A\n",
      " 95%|█████████▍| 93/98 [01:57<00:06,  1.22s/it]\u001B[A\n",
      " 96%|█████████▌| 94/98 [01:58<00:04,  1.18s/it]\u001B[A\n",
      " 97%|█████████▋| 95/98 [01:59<00:03,  1.16s/it]\u001B[A\n",
      " 98%|█████████▊| 96/98 [02:02<00:03,  1.83s/it]\u001B[A\n",
      " 99%|█████████▉| 97/98 [02:04<00:01,  1.68s/it]\u001B[A\n",
      "100%|██████████| 98/98 [02:05<00:00,  1.28s/it]\u001B[A\n",
      "3it [06:34, 129.76s/it]\n",
      "  0%|          | 0/98 [00:00<?, ?it/s]\u001B[A\n",
      "  1%|          | 1/98 [00:01<01:40,  1.04s/it]\u001B[A\n",
      "  2%|▏         | 2/98 [00:05<04:35,  2.87s/it]\u001B[A\n",
      "  3%|▎         | 3/98 [00:06<03:07,  1.97s/it]\u001B[A\n",
      "  4%|▍         | 4/98 [00:11<05:00,  3.19s/it]\u001B[A\n",
      "  5%|▌         | 5/98 [00:12<03:39,  2.36s/it]\u001B[A\n",
      "  6%|▌         | 6/98 [00:14<03:31,  2.30s/it]\u001B[A\n",
      "  7%|▋         | 7/98 [00:15<02:50,  1.87s/it]\u001B[A\n",
      "  8%|▊         | 8/98 [00:16<02:26,  1.63s/it]\u001B[A\n",
      "  9%|▉         | 9/98 [00:17<02:14,  1.51s/it]\u001B[A\n",
      " 10%|█         | 10/98 [00:18<02:07,  1.45s/it]\u001B[A\n",
      " 11%|█         | 11/98 [00:20<02:00,  1.38s/it]\u001B[A\n",
      " 12%|█▏        | 12/98 [30:26<13:08:49, 550.34s/it]\u001B[A\n",
      " 13%|█▎        | 13/98 [30:27<9:03:59, 383.99s/it] \u001B[A\n",
      " 14%|█▍        | 14/98 [30:28<6:15:46, 268.41s/it]\u001B[A\n",
      " 15%|█▌        | 15/98 [30:30<4:20:13, 188.11s/it]\u001B[A\n",
      " 16%|█▋        | 16/98 [30:35<3:01:51, 133.07s/it]\u001B[A"
     ]
    }
   ],
   "source": [
    "@timeout(60)\n",
    "def scrape_product(start, end, product):\n",
    "    df_tweets = pd.DataFrame(columns=['date', 'content', 'user','hashtags', 'coordinates', 'lang','product'])\n",
    "    df_collect = pd.DataFrame(itertools.islice(sntwitter.TwitterSearchScraper(\n",
    "        f'{product} geocode:53.81653,-3.03033,320km since:{start} until:{end}').get_items(), 100000))\n",
    "    df_collect['product'] = product\n",
    "    df_tweets = pd.concat([df_tweets, df_collect])#, df_BBC, df_Amazon\n",
    "    return df_tweets\n",
    "\n",
    "start_date = date(2016, 2, 4)\n",
    "end_date = date(2022, 8, 2)\n",
    "dates = pd.date_range(start = start_date, end = end_date,freq='D').strftime('%Y-%m-%d').tolist()\n",
    "\n",
    "count=1\n",
    "df_collected = pd.DataFrame(columns=['date', 'content', 'user','hashtags', 'coordinates', 'lang','product'])\n",
    "df_new = pd.DataFrame(columns=['date', 'content', 'user','hashtags', 'coordinates', 'lang','product'])\n",
    "for single_date in tqdm(daterange(start_date, end_date)):\n",
    "    next_date = single_date + datetime.timedelta(days=1)\n",
    "    df_new = df_new.drop(df_new.index,inplace=True)\n",
    "    df_collected = df_collected.drop(df_collected.index,inplace=True)\n",
    "    for product in tqdm(top_100_list):\n",
    "        try:\n",
    "            #print(f'doing, single {single_date} next {next_date} product {product}')\n",
    "            df_new = scrape_product(single_date, next_date, product)\n",
    "        except TimeoutError:\n",
    "            print(f'timeout, single {single_date} next {next_date} product {product}')\n",
    "            continue\n",
    "        df_collected = pd.concat([df_collected, df_new])\n",
    "    df_collected.to_csv(f'tweets/tweets{single_date}.csv', index=False)\n",
    "\n",
    "\n"
   ],
   "metadata": {
    "collapsed": false,
    "pycharm": {
     "name": "#%%\n",
     "is_executing": true
    }
   }
  },
  {
   "cell_type": "code",
   "execution_count": null,
   "outputs": [],
   "source": [],
   "metadata": {
    "collapsed": false,
    "pycharm": {
     "name": "#%%\n"
    }
   }
  }
 ],
 "metadata": {
  "kernelspec": {
   "display_name": "Python 3",
   "language": "python",
   "name": "python3"
  },
  "language_info": {
   "codemirror_mode": {
    "name": "ipython",
    "version": 2
   },
   "file_extension": ".py",
   "mimetype": "text/x-python",
   "name": "python",
   "nbconvert_exporter": "python",
   "pygments_lexer": "ipython2",
   "version": "2.7.6"
  }
 },
 "nbformat": 4,
 "nbformat_minor": 0
}