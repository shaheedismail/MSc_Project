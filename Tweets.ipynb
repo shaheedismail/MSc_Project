{
 "cells": [
  {
   "cell_type": "code",
   "execution_count": 1,
   "metadata": {
    "collapsed": true
   },
   "outputs": [],
   "source": [
    "import pandas as pd\n",
    "import snscrape.modules.twitter as sntwitter\n",
    "import itertools\n",
    "import time\n",
    "from datetime import date, timedelta\n",
    "import datetime\n",
    "from tqdm import tqdm\n",
    "from interruptingcow import timeout\n",
    "from interruptingcow import timeout\n",
    "import re\n",
    "import string\n",
    "punctuation_string = string.punctuation\n",
    "tqdm.pandas()\n",
    "import gc"
   ]
  },
  {
   "cell_type": "markdown",
   "source": [
    "Top 100 products from dataset\n",
    "plus news channels\n",
    "plus Martin Lewis\n",
    "What else?"
   ],
   "metadata": {
    "collapsed": false,
    "pycharm": {
     "name": "#%% md\n"
    }
   }
  },
  {
   "cell_type": "code",
   "execution_count": 2,
   "outputs": [
    {
     "name": "stdout",
     "output_type": "stream",
     "text": [
      "<class 'pandas.core.frame.DataFrame'>\n",
      "RangeIndex: 5636910 entries, 0 to 5636909\n",
      "Data columns (total 12 columns):\n",
      " #   Column          Dtype  \n",
      "---  ------          -----  \n",
      " 0   overall         float64\n",
      " 1   vote            object \n",
      " 2   verified        bool   \n",
      " 3   reviewTime      object \n",
      " 4   reviewerID      object \n",
      " 5   asin            object \n",
      " 6   reviewerName    object \n",
      " 7   reviewText      object \n",
      " 8   summary         object \n",
      " 9   unixReviewTime  int64  \n",
      " 10  style           object \n",
      " 11  image           object \n",
      "dtypes: bool(1), float64(1), int64(1), object(9)\n",
      "memory usage: 478.4+ MB\n"
     ]
    }
   ],
   "source": [
    "df = pd.read_csv('Datasetjson.csv', low_memory=False)\n",
    "df.head()\n",
    "df.info()"
   ],
   "metadata": {
    "collapsed": false,
    "pycharm": {
     "name": "#%%\n"
    }
   }
  },
  {
   "cell_type": "code",
   "execution_count": 3,
   "outputs": [
    {
     "name": "stdout",
     "output_type": "stream",
     "text": [
      "<class 'pandas.core.frame.DataFrame'>\n",
      "RangeIndex: 14751104 entries, 0 to 14751103\n",
      "Data columns (total 3 columns):\n",
      " #   Column    Dtype \n",
      "---  ------    ----- \n",
      " 0   brand     object\n",
      " 1   asin      object\n",
      " 2   category  object\n",
      "dtypes: object(3)\n",
      "memory usage: 337.6+ MB\n"
     ]
    }
   ],
   "source": [
    "df_meta= pd.read_csv('meta.csv', low_memory=False)\n",
    "df_meta.info()"
   ],
   "metadata": {
    "collapsed": false,
    "pycharm": {
     "name": "#%%\n"
    }
   }
  },
  {
   "cell_type": "code",
   "execution_count": 4,
   "outputs": [
    {
     "data": {
      "text/plain": "0    I bought two of these 8.5 fl oz hand cream, an...\n1    Believe me, over the years I have tried many, ...\n2                         Great hand lotion Five Stars\n3    This is the best for the severely dry skin on ...\n4    The best non- oily hand cream ever. It heals o...\nName: review, dtype: object"
     },
     "execution_count": 4,
     "metadata": {},
     "output_type": "execute_result"
    }
   ],
   "source": [
    "df['review'] = df['reviewText']+' '+df['summary']\n",
    "df['review'].head()"
   ],
   "metadata": {
    "collapsed": false,
    "pycharm": {
     "name": "#%%\n"
    }
   }
  },
  {
   "cell_type": "code",
   "execution_count": 5,
   "outputs": [
    {
     "data": {
      "text/plain": "        overall vote  verified   reviewTime      reviewerID        asin  \\\n200001      4.0    3      True  08 12, 2015  A3ELV1VUCZZGL4  0209688726   \n200002      2.0  NaN      True  08 12, 2015  A2FD3FZ2WV6KHQ  0209688726   \n200003      2.0   12      True  08 11, 2015  A39NRKABAVSVSE  0209688726   \n200004      5.0  NaN      True  07 29, 2015   AQSBL5KODHSGW  0209688726   \n200005      5.0  NaN     False  07 11, 2015   AU45OQPK2J5JF  0209688726   \n...         ...  ...       ...          ...             ...         ...   \n201242      5.0  NaN     False  09 10, 2015  A3EGBGSVUD7PVH  0209688726   \n201243      5.0  NaN      True   09 1, 2015   A8UYC4W0H6MP0  0209688726   \n201244      3.0  NaN      True  08 25, 2015  A3NNZTYM2TVNN8  0209688726   \n201245      5.0    4      True  08 22, 2015  A3NMHKHMUNFB33  0209688726   \n201246      5.0  NaN      True  08 19, 2015   AZ2A2SXGZ3MIX  0209688726   \n\n           reviewerName                                         reviewText  \\\n200001             AnaG  it's fine. I just would like the stickers to b...   \n200002  Obi John Kenobi  took me three returns to get one that didn't w...   \n200003   MuddyRiverGirl  While the product is fine the description and ...   \n200004           Nate S  It's beautiful and blends right in with my woo...   \n200005             Kort  I love this stand! I had been looking around f...   \n...                 ...                                                ...   \n201242      Momma gamma  I purchased two different ultrasonic diffusers...   \n201243       Faaiz Khan  Everyone notices this on my desk! I am even co...   \n201244  Kindle Customer  Holds 1-3 keys great but hard to get one set o...   \n201245       Stacy King  I love how compact and easy to move rooms this...   \n201246  Amazon Customer                        i love it works really good   \n\n                                                  summary  unixReviewTime  \\\n200001                                  Serve its purpose      1439337600   \n200002       and it's still not super stable but whatever      1439337600   \n200003                      Beware! Description is wrong.      1439251200   \n200004             Awesome desk stand, simple and elegant      1438128000   \n200005                                  I love this stand      1436572800   \n...                                                   ...             ...   \n201242                           excellent first diffuser      1441843200   \n201243                          love it. simple and sleek      1441065600   \n201244  Holds 1-3 keys great but hard to get one set o...      1440460800   \n201245                                  Petite & Powerful      1440201600   \n201246                                         Five Stars      1439942400   \n\n                    style                                              image  \\\n200001  {'Color:': ' CA'}  ['https://images-na.ssl-images-amazon.com/imag...   \n200002   {'Color:': ' T'}                                                NaN   \n200003  {'Color:': ' AC'}  ['https://images-na.ssl-images-amazon.com/imag...   \n200004   {'Color:': ' T'}                                                NaN   \n200005   {'Color:': ' T'}                                                NaN   \n...                   ...                                                ...   \n201242   {'Color:': ' J'}                                                NaN   \n201243   {'Color:': ' T'}                                                NaN   \n201244  {'Color:': ' CA'}                                                NaN   \n201245   {'Color:': ' I'}                                                NaN   \n201246   {'Color:': ' I'}                                                NaN   \n\n                                                   review  \n200001  it's fine. I just would like the stickers to b...  \n200002  took me three returns to get one that didn't w...  \n200003  While the product is fine the description and ...  \n200004  It's beautiful and blends right in with my woo...  \n200005  I love this stand! I had been looking around f...  \n...                                                   ...  \n201242  I purchased two different ultrasonic diffusers...  \n201243  Everyone notices this on my desk! I am even co...  \n201244  Holds 1-3 keys great but hard to get one set o...  \n201245  I love how compact and easy to move rooms this...  \n201246             i love it works really good Five Stars  \n\n[1246 rows x 13 columns]",
      "text/html": "<div>\n<style scoped>\n    .dataframe tbody tr th:only-of-type {\n        vertical-align: middle;\n    }\n\n    .dataframe tbody tr th {\n        vertical-align: top;\n    }\n\n    .dataframe thead th {\n        text-align: right;\n    }\n</style>\n<table border=\"1\" class=\"dataframe\">\n  <thead>\n    <tr style=\"text-align: right;\">\n      <th></th>\n      <th>overall</th>\n      <th>vote</th>\n      <th>verified</th>\n      <th>reviewTime</th>\n      <th>reviewerID</th>\n      <th>asin</th>\n      <th>reviewerName</th>\n      <th>reviewText</th>\n      <th>summary</th>\n      <th>unixReviewTime</th>\n      <th>style</th>\n      <th>image</th>\n      <th>review</th>\n    </tr>\n  </thead>\n  <tbody>\n    <tr>\n      <th>200001</th>\n      <td>4.0</td>\n      <td>3</td>\n      <td>True</td>\n      <td>08 12, 2015</td>\n      <td>A3ELV1VUCZZGL4</td>\n      <td>0209688726</td>\n      <td>AnaG</td>\n      <td>it's fine. I just would like the stickers to b...</td>\n      <td>Serve its purpose</td>\n      <td>1439337600</td>\n      <td>{'Color:': ' CA'}</td>\n      <td>['https://images-na.ssl-images-amazon.com/imag...</td>\n      <td>it's fine. I just would like the stickers to b...</td>\n    </tr>\n    <tr>\n      <th>200002</th>\n      <td>2.0</td>\n      <td>NaN</td>\n      <td>True</td>\n      <td>08 12, 2015</td>\n      <td>A2FD3FZ2WV6KHQ</td>\n      <td>0209688726</td>\n      <td>Obi John Kenobi</td>\n      <td>took me three returns to get one that didn't w...</td>\n      <td>and it's still not super stable but whatever</td>\n      <td>1439337600</td>\n      <td>{'Color:': ' T'}</td>\n      <td>NaN</td>\n      <td>took me three returns to get one that didn't w...</td>\n    </tr>\n    <tr>\n      <th>200003</th>\n      <td>2.0</td>\n      <td>12</td>\n      <td>True</td>\n      <td>08 11, 2015</td>\n      <td>A39NRKABAVSVSE</td>\n      <td>0209688726</td>\n      <td>MuddyRiverGirl</td>\n      <td>While the product is fine the description and ...</td>\n      <td>Beware! Description is wrong.</td>\n      <td>1439251200</td>\n      <td>{'Color:': ' AC'}</td>\n      <td>['https://images-na.ssl-images-amazon.com/imag...</td>\n      <td>While the product is fine the description and ...</td>\n    </tr>\n    <tr>\n      <th>200004</th>\n      <td>5.0</td>\n      <td>NaN</td>\n      <td>True</td>\n      <td>07 29, 2015</td>\n      <td>AQSBL5KODHSGW</td>\n      <td>0209688726</td>\n      <td>Nate S</td>\n      <td>It's beautiful and blends right in with my woo...</td>\n      <td>Awesome desk stand, simple and elegant</td>\n      <td>1438128000</td>\n      <td>{'Color:': ' T'}</td>\n      <td>NaN</td>\n      <td>It's beautiful and blends right in with my woo...</td>\n    </tr>\n    <tr>\n      <th>200005</th>\n      <td>5.0</td>\n      <td>NaN</td>\n      <td>False</td>\n      <td>07 11, 2015</td>\n      <td>AU45OQPK2J5JF</td>\n      <td>0209688726</td>\n      <td>Kort</td>\n      <td>I love this stand! I had been looking around f...</td>\n      <td>I love this stand</td>\n      <td>1436572800</td>\n      <td>{'Color:': ' T'}</td>\n      <td>NaN</td>\n      <td>I love this stand! I had been looking around f...</td>\n    </tr>\n    <tr>\n      <th>...</th>\n      <td>...</td>\n      <td>...</td>\n      <td>...</td>\n      <td>...</td>\n      <td>...</td>\n      <td>...</td>\n      <td>...</td>\n      <td>...</td>\n      <td>...</td>\n      <td>...</td>\n      <td>...</td>\n      <td>...</td>\n      <td>...</td>\n    </tr>\n    <tr>\n      <th>201242</th>\n      <td>5.0</td>\n      <td>NaN</td>\n      <td>False</td>\n      <td>09 10, 2015</td>\n      <td>A3EGBGSVUD7PVH</td>\n      <td>0209688726</td>\n      <td>Momma gamma</td>\n      <td>I purchased two different ultrasonic diffusers...</td>\n      <td>excellent first diffuser</td>\n      <td>1441843200</td>\n      <td>{'Color:': ' J'}</td>\n      <td>NaN</td>\n      <td>I purchased two different ultrasonic diffusers...</td>\n    </tr>\n    <tr>\n      <th>201243</th>\n      <td>5.0</td>\n      <td>NaN</td>\n      <td>True</td>\n      <td>09 1, 2015</td>\n      <td>A8UYC4W0H6MP0</td>\n      <td>0209688726</td>\n      <td>Faaiz Khan</td>\n      <td>Everyone notices this on my desk! I am even co...</td>\n      <td>love it. simple and sleek</td>\n      <td>1441065600</td>\n      <td>{'Color:': ' T'}</td>\n      <td>NaN</td>\n      <td>Everyone notices this on my desk! I am even co...</td>\n    </tr>\n    <tr>\n      <th>201244</th>\n      <td>3.0</td>\n      <td>NaN</td>\n      <td>True</td>\n      <td>08 25, 2015</td>\n      <td>A3NNZTYM2TVNN8</td>\n      <td>0209688726</td>\n      <td>Kindle Customer</td>\n      <td>Holds 1-3 keys great but hard to get one set o...</td>\n      <td>Holds 1-3 keys great but hard to get one set o...</td>\n      <td>1440460800</td>\n      <td>{'Color:': ' CA'}</td>\n      <td>NaN</td>\n      <td>Holds 1-3 keys great but hard to get one set o...</td>\n    </tr>\n    <tr>\n      <th>201245</th>\n      <td>5.0</td>\n      <td>4</td>\n      <td>True</td>\n      <td>08 22, 2015</td>\n      <td>A3NMHKHMUNFB33</td>\n      <td>0209688726</td>\n      <td>Stacy King</td>\n      <td>I love how compact and easy to move rooms this...</td>\n      <td>Petite &amp; Powerful</td>\n      <td>1440201600</td>\n      <td>{'Color:': ' I'}</td>\n      <td>NaN</td>\n      <td>I love how compact and easy to move rooms this...</td>\n    </tr>\n    <tr>\n      <th>201246</th>\n      <td>5.0</td>\n      <td>NaN</td>\n      <td>True</td>\n      <td>08 19, 2015</td>\n      <td>AZ2A2SXGZ3MIX</td>\n      <td>0209688726</td>\n      <td>Amazon Customer</td>\n      <td>i love it works really good</td>\n      <td>Five Stars</td>\n      <td>1439942400</td>\n      <td>{'Color:': ' I'}</td>\n      <td>NaN</td>\n      <td>i love it works really good Five Stars</td>\n    </tr>\n  </tbody>\n</table>\n<p>1246 rows × 13 columns</p>\n</div>"
     },
     "execution_count": 5,
     "metadata": {},
     "output_type": "execute_result"
    }
   ],
   "source": [
    "df.groupby('asin').count()\n",
    "df[df['asin']=='0209688726']"
   ],
   "metadata": {
    "collapsed": false,
    "pycharm": {
     "name": "#%%\n"
    }
   }
  },
  {
   "cell_type": "code",
   "execution_count": 6,
   "outputs": [
    {
     "data": {
      "text/plain": "                                    brand        asin  \\\n0                                BubuBibi  0000032042   \n1                                BubuBibi  0000032069   \n2                                 Unknown  0000031860   \n3                                    Tutu  0000031852   \n4                                Bububibi  0000031895   \n...                                   ...         ...   \n14751099                              NaN  B01GMFJ8JU   \n14751100                       QuickGifts  B01GOQIKRI   \n14751101                       QuickGifts  B01GOQHGL4   \n14751102  Go Play Golf by Fairway Rewards  B01GP1W4LA   \n14751103                              NaN  B01H5PPJT4   \n\n                                                   category  \n0         ['Sports & Outdoors', 'Sports & Fitness', 'Oth...  \n1         ['Sports & Outdoors', 'Sports & Fitness', 'Oth...  \n2         ['Sports & Outdoors', 'Sports & Fitness', 'Oth...  \n3         ['Sports & Outdoors', 'Sports & Fitness', 'Oth...  \n4         ['Sports & Outdoors', 'Sports & Fitness', 'Oth...  \n...                                                     ...  \n14751099                       ['Gift Cards', 'Gift Cards']  \n14751100                       ['Gift Cards', 'Gift Cards']  \n14751101                       ['Gift Cards', 'Gift Cards']  \n14751102                       ['Gift Cards', 'Gift Cards']  \n14751103                       ['Gift Cards', 'Gift Cards']  \n\n[14064249 rows x 3 columns]",
      "text/html": "<div>\n<style scoped>\n    .dataframe tbody tr th:only-of-type {\n        vertical-align: middle;\n    }\n\n    .dataframe tbody tr th {\n        vertical-align: top;\n    }\n\n    .dataframe thead th {\n        text-align: right;\n    }\n</style>\n<table border=\"1\" class=\"dataframe\">\n  <thead>\n    <tr style=\"text-align: right;\">\n      <th></th>\n      <th>brand</th>\n      <th>asin</th>\n      <th>category</th>\n    </tr>\n  </thead>\n  <tbody>\n    <tr>\n      <th>0</th>\n      <td>BubuBibi</td>\n      <td>0000032042</td>\n      <td>['Sports &amp; Outdoors', 'Sports &amp; Fitness', 'Oth...</td>\n    </tr>\n    <tr>\n      <th>1</th>\n      <td>BubuBibi</td>\n      <td>0000032069</td>\n      <td>['Sports &amp; Outdoors', 'Sports &amp; Fitness', 'Oth...</td>\n    </tr>\n    <tr>\n      <th>2</th>\n      <td>Unknown</td>\n      <td>0000031860</td>\n      <td>['Sports &amp; Outdoors', 'Sports &amp; Fitness', 'Oth...</td>\n    </tr>\n    <tr>\n      <th>3</th>\n      <td>Tutu</td>\n      <td>0000031852</td>\n      <td>['Sports &amp; Outdoors', 'Sports &amp; Fitness', 'Oth...</td>\n    </tr>\n    <tr>\n      <th>4</th>\n      <td>Bububibi</td>\n      <td>0000031895</td>\n      <td>['Sports &amp; Outdoors', 'Sports &amp; Fitness', 'Oth...</td>\n    </tr>\n    <tr>\n      <th>...</th>\n      <td>...</td>\n      <td>...</td>\n      <td>...</td>\n    </tr>\n    <tr>\n      <th>14751099</th>\n      <td>NaN</td>\n      <td>B01GMFJ8JU</td>\n      <td>['Gift Cards', 'Gift Cards']</td>\n    </tr>\n    <tr>\n      <th>14751100</th>\n      <td>QuickGifts</td>\n      <td>B01GOQIKRI</td>\n      <td>['Gift Cards', 'Gift Cards']</td>\n    </tr>\n    <tr>\n      <th>14751101</th>\n      <td>QuickGifts</td>\n      <td>B01GOQHGL4</td>\n      <td>['Gift Cards', 'Gift Cards']</td>\n    </tr>\n    <tr>\n      <th>14751102</th>\n      <td>Go Play Golf by Fairway Rewards</td>\n      <td>B01GP1W4LA</td>\n      <td>['Gift Cards', 'Gift Cards']</td>\n    </tr>\n    <tr>\n      <th>14751103</th>\n      <td>NaN</td>\n      <td>B01H5PPJT4</td>\n      <td>['Gift Cards', 'Gift Cards']</td>\n    </tr>\n  </tbody>\n</table>\n<p>14064249 rows × 3 columns</p>\n</div>"
     },
     "execution_count": 6,
     "metadata": {},
     "output_type": "execute_result"
    }
   ],
   "source": [
    "df_meta = df_meta.drop_duplicates(subset=['asin', 'brand', 'category'])\n",
    "df_meta"
   ],
   "metadata": {
    "collapsed": false,
    "pycharm": {
     "name": "#%%\n"
    }
   }
  },
  {
   "cell_type": "code",
   "execution_count": 7,
   "outputs": [
    {
     "name": "stdout",
     "output_type": "stream",
     "text": [
      "<class 'pandas.core.frame.DataFrame'>\n",
      "Int64Index: 14064249 entries, 0 to 14751103\n",
      "Data columns (total 3 columns):\n",
      " #   Column    Dtype \n",
      "---  ------    ----- \n",
      " 0   brand     object\n",
      " 1   asin      object\n",
      " 2   category  object\n",
      "dtypes: object(3)\n",
      "memory usage: 429.2+ MB\n"
     ]
    }
   ],
   "source": [
    "df_meta.info()"
   ],
   "metadata": {
    "collapsed": false,
    "pycharm": {
     "name": "#%%\n"
    }
   }
  },
  {
   "cell_type": "code",
   "execution_count": 8,
   "outputs": [],
   "source": [
    "df_merge = df.merge(df_meta, on='asin')"
   ],
   "metadata": {
    "collapsed": false,
    "pycharm": {
     "name": "#%%\n"
    }
   }
  },
  {
   "cell_type": "code",
   "execution_count": 9,
   "outputs": [
    {
     "data": {
      "text/plain": "         overall vote  verified   reviewTime      reviewerID        asin  \\\n0            2.0    3      True  06 15, 2010  A1Q6MUU0B2ZDQG  B00004U9V2   \n1            5.0   14      True   01 7, 2010  A3HO2SQDCZIE9S  B00004U9V2   \n2            5.0  NaN      True  04 18, 2018  A2EM03F99X3RJZ  B00004U9V2   \n3            5.0  NaN      True  04 18, 2018   A3Z74TDRGD0HU  B00004U9V2   \n4            5.0  NaN      True  04 17, 2018  A2UXFNW9RTL4VM  B00004U9V2   \n...          ...  ...       ...          ...             ...         ...   \n5226008      2.0    3      True  07 25, 2011   AX3FEFV1QJ5QM  B0054TZOX0   \n5226009      4.0  NaN      True  07 23, 2011   A4PW6CKG8UUGW  B0054TZOX0   \n5226010      3.0  NaN     False  07 23, 2011   AQ4ZYQMIYIDKW  B0054TZOX0   \n5226011      4.0    7     False  07 20, 2011  A2QUAQ4GR6SLF7  B0054TZOX0   \n5226012      4.0  NaN      True  07 18, 2011   AUKM2XQ6WR1J0  B0054TZOX0   \n\n              reviewerName                                         reviewText  \\\n0                D. Poston  I bought two of these 8.5 fl oz hand cream, an...   \n1                  chandra  Believe me, over the years I have tried many, ...   \n2                Maureen G                                  Great hand lotion   \n3                  Terry K  This is the best for the severely dry skin on ...   \n4            Patricia Wood  The best non- oily hand cream ever. It heals o...   \n...                    ...                                                ...   \n5226008              Sugar  this was a slightly confusing game for me and ...   \n5226009                Don  Very short, but entirely enjoyable - and the p...   \n5226010      Wendy J. Bock  I am glad I only paid 99 cents for this. I lik...   \n5226011   Ann J.M.S Harlan  pros ... simple clean interface ... moderately...   \n5226012  Michelle Glorioso  This game was very addictive, a little frustra...   \n\n                                              summary  unixReviewTime  \\\n0                               dispensers don't work      1276560000   \n1                               Best hand cream ever.      1262822400   \n2                                          Five Stars      1524009600   \n3                                          Five Stars      1524009600   \n4                       I always have a backup ready.      1523923200   \n...                                               ...             ...   \n5226008                   not for children under ten.      1311552000   \n5226009  A great first effort at interactive fiction!      1311379200   \n5226010                                good but short      1311379200   \n5226011                              brief but clever      1311120000   \n5226012         Addictive game, yet a bit frustrating      1310947200   \n\n                         style image  \\\n0                          NaN   NaN   \n1                          NaN   NaN   \n2        {'Size:': ' 3.5 oz.'}   NaN   \n3        {'Size:': ' 3.5 oz.'}   NaN   \n4        {'Size:': ' 3.5 oz.'}   NaN   \n...                        ...   ...   \n5226008                    NaN   NaN   \n5226009                    NaN   NaN   \n5226010                    NaN   NaN   \n5226011                    NaN   NaN   \n5226012                    NaN   NaN   \n\n                                                    review             brand  \\\n0        I bought two of these 8.5 fl oz hand cream, an...               NaN   \n1        Believe me, over the years I have tried many, ...               NaN   \n2                             Great hand lotion Five Stars               NaN   \n3        This is the best for the severely dry skin on ...               NaN   \n4        The best non- oily hand cream ever. It heals o...               NaN   \n...                                                    ...               ...   \n5226008  this was a slightly confusing game for me and ...  Gang of Penguins   \n5226009  Very short, but entirely enjoyable - and the p...  Gang of Penguins   \n5226010  I am glad I only paid 99 cents for this. I lik...  Gang of Penguins   \n5226011  pros ... simple clean interface ... moderately...  Gang of Penguins   \n5226012  This game was very addictive, a little frustra...  Gang of Penguins   \n\n                                                  category  \n0                                                       []  \n1                                                       []  \n2                                                       []  \n3                                                       []  \n4                                                       []  \n...                                                    ...  \n5226008  ['Kindle Store', 'Kindle eBooks', 'Humor & Ent...  \n5226009  ['Kindle Store', 'Kindle eBooks', 'Humor & Ent...  \n5226010  ['Kindle Store', 'Kindle eBooks', 'Humor & Ent...  \n5226011  ['Kindle Store', 'Kindle eBooks', 'Humor & Ent...  \n5226012  ['Kindle Store', 'Kindle eBooks', 'Humor & Ent...  \n\n[5226013 rows x 15 columns]",
      "text/html": "<div>\n<style scoped>\n    .dataframe tbody tr th:only-of-type {\n        vertical-align: middle;\n    }\n\n    .dataframe tbody tr th {\n        vertical-align: top;\n    }\n\n    .dataframe thead th {\n        text-align: right;\n    }\n</style>\n<table border=\"1\" class=\"dataframe\">\n  <thead>\n    <tr style=\"text-align: right;\">\n      <th></th>\n      <th>overall</th>\n      <th>vote</th>\n      <th>verified</th>\n      <th>reviewTime</th>\n      <th>reviewerID</th>\n      <th>asin</th>\n      <th>reviewerName</th>\n      <th>reviewText</th>\n      <th>summary</th>\n      <th>unixReviewTime</th>\n      <th>style</th>\n      <th>image</th>\n      <th>review</th>\n      <th>brand</th>\n      <th>category</th>\n    </tr>\n  </thead>\n  <tbody>\n    <tr>\n      <th>0</th>\n      <td>2.0</td>\n      <td>3</td>\n      <td>True</td>\n      <td>06 15, 2010</td>\n      <td>A1Q6MUU0B2ZDQG</td>\n      <td>B00004U9V2</td>\n      <td>D. Poston</td>\n      <td>I bought two of these 8.5 fl oz hand cream, an...</td>\n      <td>dispensers don't work</td>\n      <td>1276560000</td>\n      <td>NaN</td>\n      <td>NaN</td>\n      <td>I bought two of these 8.5 fl oz hand cream, an...</td>\n      <td>NaN</td>\n      <td>[]</td>\n    </tr>\n    <tr>\n      <th>1</th>\n      <td>5.0</td>\n      <td>14</td>\n      <td>True</td>\n      <td>01 7, 2010</td>\n      <td>A3HO2SQDCZIE9S</td>\n      <td>B00004U9V2</td>\n      <td>chandra</td>\n      <td>Believe me, over the years I have tried many, ...</td>\n      <td>Best hand cream ever.</td>\n      <td>1262822400</td>\n      <td>NaN</td>\n      <td>NaN</td>\n      <td>Believe me, over the years I have tried many, ...</td>\n      <td>NaN</td>\n      <td>[]</td>\n    </tr>\n    <tr>\n      <th>2</th>\n      <td>5.0</td>\n      <td>NaN</td>\n      <td>True</td>\n      <td>04 18, 2018</td>\n      <td>A2EM03F99X3RJZ</td>\n      <td>B00004U9V2</td>\n      <td>Maureen G</td>\n      <td>Great hand lotion</td>\n      <td>Five Stars</td>\n      <td>1524009600</td>\n      <td>{'Size:': ' 3.5 oz.'}</td>\n      <td>NaN</td>\n      <td>Great hand lotion Five Stars</td>\n      <td>NaN</td>\n      <td>[]</td>\n    </tr>\n    <tr>\n      <th>3</th>\n      <td>5.0</td>\n      <td>NaN</td>\n      <td>True</td>\n      <td>04 18, 2018</td>\n      <td>A3Z74TDRGD0HU</td>\n      <td>B00004U9V2</td>\n      <td>Terry K</td>\n      <td>This is the best for the severely dry skin on ...</td>\n      <td>Five Stars</td>\n      <td>1524009600</td>\n      <td>{'Size:': ' 3.5 oz.'}</td>\n      <td>NaN</td>\n      <td>This is the best for the severely dry skin on ...</td>\n      <td>NaN</td>\n      <td>[]</td>\n    </tr>\n    <tr>\n      <th>4</th>\n      <td>5.0</td>\n      <td>NaN</td>\n      <td>True</td>\n      <td>04 17, 2018</td>\n      <td>A2UXFNW9RTL4VM</td>\n      <td>B00004U9V2</td>\n      <td>Patricia Wood</td>\n      <td>The best non- oily hand cream ever. It heals o...</td>\n      <td>I always have a backup ready.</td>\n      <td>1523923200</td>\n      <td>{'Size:': ' 3.5 oz.'}</td>\n      <td>NaN</td>\n      <td>The best non- oily hand cream ever. It heals o...</td>\n      <td>NaN</td>\n      <td>[]</td>\n    </tr>\n    <tr>\n      <th>...</th>\n      <td>...</td>\n      <td>...</td>\n      <td>...</td>\n      <td>...</td>\n      <td>...</td>\n      <td>...</td>\n      <td>...</td>\n      <td>...</td>\n      <td>...</td>\n      <td>...</td>\n      <td>...</td>\n      <td>...</td>\n      <td>...</td>\n      <td>...</td>\n      <td>...</td>\n    </tr>\n    <tr>\n      <th>5226008</th>\n      <td>2.0</td>\n      <td>3</td>\n      <td>True</td>\n      <td>07 25, 2011</td>\n      <td>AX3FEFV1QJ5QM</td>\n      <td>B0054TZOX0</td>\n      <td>Sugar</td>\n      <td>this was a slightly confusing game for me and ...</td>\n      <td>not for children under ten.</td>\n      <td>1311552000</td>\n      <td>NaN</td>\n      <td>NaN</td>\n      <td>this was a slightly confusing game for me and ...</td>\n      <td>Gang of Penguins</td>\n      <td>['Kindle Store', 'Kindle eBooks', 'Humor &amp; Ent...</td>\n    </tr>\n    <tr>\n      <th>5226009</th>\n      <td>4.0</td>\n      <td>NaN</td>\n      <td>True</td>\n      <td>07 23, 2011</td>\n      <td>A4PW6CKG8UUGW</td>\n      <td>B0054TZOX0</td>\n      <td>Don</td>\n      <td>Very short, but entirely enjoyable - and the p...</td>\n      <td>A great first effort at interactive fiction!</td>\n      <td>1311379200</td>\n      <td>NaN</td>\n      <td>NaN</td>\n      <td>Very short, but entirely enjoyable - and the p...</td>\n      <td>Gang of Penguins</td>\n      <td>['Kindle Store', 'Kindle eBooks', 'Humor &amp; Ent...</td>\n    </tr>\n    <tr>\n      <th>5226010</th>\n      <td>3.0</td>\n      <td>NaN</td>\n      <td>False</td>\n      <td>07 23, 2011</td>\n      <td>AQ4ZYQMIYIDKW</td>\n      <td>B0054TZOX0</td>\n      <td>Wendy J. Bock</td>\n      <td>I am glad I only paid 99 cents for this. I lik...</td>\n      <td>good but short</td>\n      <td>1311379200</td>\n      <td>NaN</td>\n      <td>NaN</td>\n      <td>I am glad I only paid 99 cents for this. I lik...</td>\n      <td>Gang of Penguins</td>\n      <td>['Kindle Store', 'Kindle eBooks', 'Humor &amp; Ent...</td>\n    </tr>\n    <tr>\n      <th>5226011</th>\n      <td>4.0</td>\n      <td>7</td>\n      <td>False</td>\n      <td>07 20, 2011</td>\n      <td>A2QUAQ4GR6SLF7</td>\n      <td>B0054TZOX0</td>\n      <td>Ann J.M.S Harlan</td>\n      <td>pros ... simple clean interface ... moderately...</td>\n      <td>brief but clever</td>\n      <td>1311120000</td>\n      <td>NaN</td>\n      <td>NaN</td>\n      <td>pros ... simple clean interface ... moderately...</td>\n      <td>Gang of Penguins</td>\n      <td>['Kindle Store', 'Kindle eBooks', 'Humor &amp; Ent...</td>\n    </tr>\n    <tr>\n      <th>5226012</th>\n      <td>4.0</td>\n      <td>NaN</td>\n      <td>True</td>\n      <td>07 18, 2011</td>\n      <td>AUKM2XQ6WR1J0</td>\n      <td>B0054TZOX0</td>\n      <td>Michelle Glorioso</td>\n      <td>This game was very addictive, a little frustra...</td>\n      <td>Addictive game, yet a bit frustrating</td>\n      <td>1310947200</td>\n      <td>NaN</td>\n      <td>NaN</td>\n      <td>This game was very addictive, a little frustra...</td>\n      <td>Gang of Penguins</td>\n      <td>['Kindle Store', 'Kindle eBooks', 'Humor &amp; Ent...</td>\n    </tr>\n  </tbody>\n</table>\n<p>5226013 rows × 15 columns</p>\n</div>"
     },
     "execution_count": 9,
     "metadata": {},
     "output_type": "execute_result"
    }
   ],
   "source": [
    "df_merge"
   ],
   "metadata": {
    "collapsed": false,
    "pycharm": {
     "name": "#%%\n"
    }
   }
  },
  {
   "cell_type": "code",
   "execution_count": 10,
   "outputs": [
    {
     "data": {
      "text/plain": "                   overall   vote  verified  reviewTime  reviewerID    asin  \\\nbrand                                                                         \nnobrand             143221  15060    143221      143221      143221  143221   \nAmazon               42898   1776     42898       42898       42898   42898   \nWhirlpool            39711   2669     39711       39711       39711   39711   \nMicrosoft            37801  13937     37801       37801       37801   37801   \nIntuit               37002  10618     37002       37002       37002   37002   \n...                    ...    ...       ...         ...         ...     ...   \nOsmocote                 1      1         1           1           1       1   \nFu-Schnickens            1      1         1           1           1       1   \nClassic Equine           1      0         1           1           1       1   \nFruit Stripe             1      1         1           1           1       1   \nRolling Stone LLC        1      0         1           1           1       1   \n\n                   reviewerName  reviewText  summary  unixReviewTime  style  \\\nbrand                                                                         \nnobrand                  143200      143077   143151          143221  91462   \nAmazon                    42894       42860    42884           42898  36725   \nWhirlpool                 39707       39692    39705           39711   3605   \nMicrosoft                 37794       37798    37799           37801  14426   \nIntuit                    37001       37001    37001           37002  31947   \n...                         ...         ...      ...             ...    ...   \nOsmocote                      1           1        1               1      0   \nFu-Schnickens                 1           1        1               1      1   \nClassic Equine                1           1        1               1      1   \nFruit Stripe                  1           1        1               1      0   \nRolling Stone LLC             1           0        1               1      0   \n\n                   image  review  category  \nbrand                                       \nnobrand             2665  143013    143221  \nAmazon               209   42848     42898  \nWhirlpool            242   39686     39711  \nMicrosoft             62   37796     37801  \nIntuit                14   37000     37002  \n...                  ...     ...       ...  \nOsmocote               0       1         1  \nFu-Schnickens          0       1         1  \nClassic Equine         0       1         1  \nFruit Stripe           0       1         1  \nRolling Stone LLC      0       0         1  \n\n[19442 rows x 14 columns]",
      "text/html": "<div>\n<style scoped>\n    .dataframe tbody tr th:only-of-type {\n        vertical-align: middle;\n    }\n\n    .dataframe tbody tr th {\n        vertical-align: top;\n    }\n\n    .dataframe thead th {\n        text-align: right;\n    }\n</style>\n<table border=\"1\" class=\"dataframe\">\n  <thead>\n    <tr style=\"text-align: right;\">\n      <th></th>\n      <th>overall</th>\n      <th>vote</th>\n      <th>verified</th>\n      <th>reviewTime</th>\n      <th>reviewerID</th>\n      <th>asin</th>\n      <th>reviewerName</th>\n      <th>reviewText</th>\n      <th>summary</th>\n      <th>unixReviewTime</th>\n      <th>style</th>\n      <th>image</th>\n      <th>review</th>\n      <th>category</th>\n    </tr>\n    <tr>\n      <th>brand</th>\n      <th></th>\n      <th></th>\n      <th></th>\n      <th></th>\n      <th></th>\n      <th></th>\n      <th></th>\n      <th></th>\n      <th></th>\n      <th></th>\n      <th></th>\n      <th></th>\n      <th></th>\n      <th></th>\n    </tr>\n  </thead>\n  <tbody>\n    <tr>\n      <th>nobrand</th>\n      <td>143221</td>\n      <td>15060</td>\n      <td>143221</td>\n      <td>143221</td>\n      <td>143221</td>\n      <td>143221</td>\n      <td>143200</td>\n      <td>143077</td>\n      <td>143151</td>\n      <td>143221</td>\n      <td>91462</td>\n      <td>2665</td>\n      <td>143013</td>\n      <td>143221</td>\n    </tr>\n    <tr>\n      <th>Amazon</th>\n      <td>42898</td>\n      <td>1776</td>\n      <td>42898</td>\n      <td>42898</td>\n      <td>42898</td>\n      <td>42898</td>\n      <td>42894</td>\n      <td>42860</td>\n      <td>42884</td>\n      <td>42898</td>\n      <td>36725</td>\n      <td>209</td>\n      <td>42848</td>\n      <td>42898</td>\n    </tr>\n    <tr>\n      <th>Whirlpool</th>\n      <td>39711</td>\n      <td>2669</td>\n      <td>39711</td>\n      <td>39711</td>\n      <td>39711</td>\n      <td>39711</td>\n      <td>39707</td>\n      <td>39692</td>\n      <td>39705</td>\n      <td>39711</td>\n      <td>3605</td>\n      <td>242</td>\n      <td>39686</td>\n      <td>39711</td>\n    </tr>\n    <tr>\n      <th>Microsoft</th>\n      <td>37801</td>\n      <td>13937</td>\n      <td>37801</td>\n      <td>37801</td>\n      <td>37801</td>\n      <td>37801</td>\n      <td>37794</td>\n      <td>37798</td>\n      <td>37799</td>\n      <td>37801</td>\n      <td>14426</td>\n      <td>62</td>\n      <td>37796</td>\n      <td>37801</td>\n    </tr>\n    <tr>\n      <th>Intuit</th>\n      <td>37002</td>\n      <td>10618</td>\n      <td>37002</td>\n      <td>37002</td>\n      <td>37002</td>\n      <td>37002</td>\n      <td>37001</td>\n      <td>37001</td>\n      <td>37001</td>\n      <td>37002</td>\n      <td>31947</td>\n      <td>14</td>\n      <td>37000</td>\n      <td>37002</td>\n    </tr>\n    <tr>\n      <th>...</th>\n      <td>...</td>\n      <td>...</td>\n      <td>...</td>\n      <td>...</td>\n      <td>...</td>\n      <td>...</td>\n      <td>...</td>\n      <td>...</td>\n      <td>...</td>\n      <td>...</td>\n      <td>...</td>\n      <td>...</td>\n      <td>...</td>\n      <td>...</td>\n    </tr>\n    <tr>\n      <th>Osmocote</th>\n      <td>1</td>\n      <td>1</td>\n      <td>1</td>\n      <td>1</td>\n      <td>1</td>\n      <td>1</td>\n      <td>1</td>\n      <td>1</td>\n      <td>1</td>\n      <td>1</td>\n      <td>0</td>\n      <td>0</td>\n      <td>1</td>\n      <td>1</td>\n    </tr>\n    <tr>\n      <th>Fu-Schnickens</th>\n      <td>1</td>\n      <td>1</td>\n      <td>1</td>\n      <td>1</td>\n      <td>1</td>\n      <td>1</td>\n      <td>1</td>\n      <td>1</td>\n      <td>1</td>\n      <td>1</td>\n      <td>1</td>\n      <td>0</td>\n      <td>1</td>\n      <td>1</td>\n    </tr>\n    <tr>\n      <th>Classic Equine</th>\n      <td>1</td>\n      <td>0</td>\n      <td>1</td>\n      <td>1</td>\n      <td>1</td>\n      <td>1</td>\n      <td>1</td>\n      <td>1</td>\n      <td>1</td>\n      <td>1</td>\n      <td>1</td>\n      <td>0</td>\n      <td>1</td>\n      <td>1</td>\n    </tr>\n    <tr>\n      <th>Fruit Stripe</th>\n      <td>1</td>\n      <td>1</td>\n      <td>1</td>\n      <td>1</td>\n      <td>1</td>\n      <td>1</td>\n      <td>1</td>\n      <td>1</td>\n      <td>1</td>\n      <td>1</td>\n      <td>0</td>\n      <td>0</td>\n      <td>1</td>\n      <td>1</td>\n    </tr>\n    <tr>\n      <th>Rolling Stone LLC</th>\n      <td>1</td>\n      <td>0</td>\n      <td>1</td>\n      <td>1</td>\n      <td>1</td>\n      <td>1</td>\n      <td>1</td>\n      <td>0</td>\n      <td>1</td>\n      <td>1</td>\n      <td>0</td>\n      <td>0</td>\n      <td>0</td>\n      <td>1</td>\n    </tr>\n  </tbody>\n</table>\n<p>19442 rows × 14 columns</p>\n</div>"
     },
     "execution_count": 10,
     "metadata": {},
     "output_type": "execute_result"
    }
   ],
   "source": [
    "df_merge[df_merge.brand.notnull()].groupby('brand').count().sort_values(by='reviewText', ascending=False)"
   ],
   "metadata": {
    "collapsed": false,
    "pycharm": {
     "name": "#%%\n"
    }
   }
  },
  {
   "cell_type": "code",
   "execution_count": 11,
   "outputs": [
    {
     "data": {
      "text/plain": "       overall vote  verified   reviewTime      reviewerID        asin  \\\n0          1.0    4      True   10 1, 2016  A3MMO1UVNM7D0H  B00002243Z   \n1          3.0  131      True  03 28, 2010   AWKYTPVNNZELL  B00002243Z   \n2          3.0    5      True  09 17, 2016  A242UHNRH3GNQK  B00004T81V   \n3          3.0   13      True   12 5, 2015   AO53T9NBLHN1Q  B00004T81V   \n4          2.0    8      True  05 14, 2016   A5VCQ0V8WDDCQ  B000056OQL   \n...        ...  ...       ...          ...             ...         ...   \n15732      5.0    3      True   07 6, 2011   A1D2Y3DLKU13W  B0050Q9EI8   \n15733      5.0   16      True  07 16, 2016   APLK9D7F08CIX  B0051V4HPW   \n15734      1.0    6      True  02 22, 2015  A36G4NHVE5WYVZ  B0051V4HPW   \n15735      5.0    3     False  12 29, 2010  A3K1MCU7THBWRD  B0051V4HPW   \n15736      5.0    4     False  10 22, 2011  A1XRKHIPW707HD  B0052TSJQ6   \n\n           reviewerName                                         reviewText  \\\n0             T. Andrew  Very poorly made in China.  Look at the pictur...   \n1              T. Brown  For the price and in the right situations thes...   \n2             welder314  This tool is a usable option if you do occasio...   \n3               Juan S.  It really didn't help that no one might of tok...   \n4               big_art  I was excited to try this on my new Porter Cab...   \n...                 ...                                                ...   \n15732       Snorkledorf  When I was a kid and very into Oz, I spent my ...   \n15733  M.Renee LaDawn.S  I was skeptical at first because I've read so ...   \n15734             tatev  The book did not have the original cover and t...   \n15735           Cari K.  This package contains everything you need to g...   \n15736            DatKid  As a person who is not an avid reader of anyth...   \n\n                                          summary  unixReviewTime  \\\n0                        Garbage.  Look elsewhere      1475280000   \n1      Good Jumper Cables for the money, But.....      1269734400   \n2                    Nice concept, poor execution      1474070400   \n3                      Not really what I expected      1449273600   \n4        Foam Pad Separated From Disc - First Use      1463184000   \n...                                           ...             ...   \n15732                    The first \"true\" Oz book      1309910400   \n15733                              Great product!      1468627200   \n15734                 Overall horrible experience      1424563200   \n15735                 Excellent text book package      1293580800   \n15736                  Gold for the price of dirt      1319241600   \n\n                                style  \\\n0               {'Size:': ' 25-Feet'}   \n1               {'Size:': ' 20-Feet'}   \n2           {'Style:': ' Plier Type'}   \n3           {'Style:': ' Plier Type'}   \n4         {'Package Quantity:': ' 1'}   \n...                               ...   \n15732  {'Format:': ' Kindle Edition'}   \n15733       {'Format:': ' Hardcover'}   \n15734       {'Format:': ' Hardcover'}   \n15735       {'Format:': ' Hardcover'}   \n15736  {'Format:': ' Kindle Edition'}   \n\n                                                   image  \\\n0      ['https://images-na.ssl-images-amazon.com/imag...   \n1      ['https://images-na.ssl-images-amazon.com/imag...   \n2      ['https://images-na.ssl-images-amazon.com/imag...   \n3      ['https://images-na.ssl-images-amazon.com/imag...   \n4      ['https://images-na.ssl-images-amazon.com/imag...   \n...                                                  ...   \n15732  ['https://images-na.ssl-images-amazon.com/imag...   \n15733  ['https://images-na.ssl-images-amazon.com/imag...   \n15734  ['https://images-na.ssl-images-amazon.com/imag...   \n15735  ['https://images-na.ssl-images-amazon.com/imag...   \n15736  ['https://images-na.ssl-images-amazon.com/imag...   \n\n                                                  review  \\\n0      Very poorly made in China.  Look at the pictur...   \n1      For the price and in the right situations thes...   \n2      This tool is a usable option if you do occasio...   \n3      It really didn't help that no one might of tok...   \n4      I was excited to try this on my new Porter Cab...   \n...                                                  ...   \n15732  When I was a kid and very into Oz, I spent my ...   \n15733  I was skeptical at first because I've read so ...   \n15734  The book did not have the original cover and t...   \n15735  This package contains everything you need to g...   \n15736  As a person who is not an avid reader of anyth...   \n\n                                      brand  \\\n0                             Coleman Cable   \n1                             Coleman Cable   \n2                             General Tools   \n3                             General Tools   \n4                              PORTER-CABLE   \n...                                     ...   \n15732     Visit Amazon's L. Frank Baum Page   \n15733                   Frederic H. Martini   \n15734                   Frederic H. Martini   \n15735                   Frederic H. Martini   \n15736  Visit Amazon's Michael DeAngelo Page   \n\n                                                category  \n0      ['Automotive', 'Replacement Parts', 'Batteries...  \n1      ['Automotive', 'Replacement Parts', 'Batteries...  \n2      ['Automotive', 'Tools & Equipment', 'Brake Rep...  \n3      ['Automotive', 'Tools & Equipment', 'Brake Rep...  \n4      ['Automotive', 'Tools & Equipment', 'Body Repa...  \n...                                                  ...  \n15732  ['Kindle Store', 'Kindle eBooks', \"Children's ...  \n15733  ['Kindle Store', 'Kindle eBooks', 'Education &...  \n15734  ['Kindle Store', 'Kindle eBooks', 'Education &...  \n15735  ['Kindle Store', 'Kindle eBooks', 'Education &...  \n15736  ['Kindle Store', 'Kindle eBooks', \"Children's ...  \n\n[15737 rows x 15 columns]",
      "text/html": "<div>\n<style scoped>\n    .dataframe tbody tr th:only-of-type {\n        vertical-align: middle;\n    }\n\n    .dataframe tbody tr th {\n        vertical-align: top;\n    }\n\n    .dataframe thead th {\n        text-align: right;\n    }\n</style>\n<table border=\"1\" class=\"dataframe\">\n  <thead>\n    <tr style=\"text-align: right;\">\n      <th></th>\n      <th>overall</th>\n      <th>vote</th>\n      <th>verified</th>\n      <th>reviewTime</th>\n      <th>reviewerID</th>\n      <th>asin</th>\n      <th>reviewerName</th>\n      <th>reviewText</th>\n      <th>summary</th>\n      <th>unixReviewTime</th>\n      <th>style</th>\n      <th>image</th>\n      <th>review</th>\n      <th>brand</th>\n      <th>category</th>\n    </tr>\n  </thead>\n  <tbody>\n    <tr>\n      <th>0</th>\n      <td>1.0</td>\n      <td>4</td>\n      <td>True</td>\n      <td>10 1, 2016</td>\n      <td>A3MMO1UVNM7D0H</td>\n      <td>B00002243Z</td>\n      <td>T. Andrew</td>\n      <td>Very poorly made in China.  Look at the pictur...</td>\n      <td>Garbage.  Look elsewhere</td>\n      <td>1475280000</td>\n      <td>{'Size:': ' 25-Feet'}</td>\n      <td>['https://images-na.ssl-images-amazon.com/imag...</td>\n      <td>Very poorly made in China.  Look at the pictur...</td>\n      <td>Coleman Cable</td>\n      <td>['Automotive', 'Replacement Parts', 'Batteries...</td>\n    </tr>\n    <tr>\n      <th>1</th>\n      <td>3.0</td>\n      <td>131</td>\n      <td>True</td>\n      <td>03 28, 2010</td>\n      <td>AWKYTPVNNZELL</td>\n      <td>B00002243Z</td>\n      <td>T. Brown</td>\n      <td>For the price and in the right situations thes...</td>\n      <td>Good Jumper Cables for the money, But.....</td>\n      <td>1269734400</td>\n      <td>{'Size:': ' 20-Feet'}</td>\n      <td>['https://images-na.ssl-images-amazon.com/imag...</td>\n      <td>For the price and in the right situations thes...</td>\n      <td>Coleman Cable</td>\n      <td>['Automotive', 'Replacement Parts', 'Batteries...</td>\n    </tr>\n    <tr>\n      <th>2</th>\n      <td>3.0</td>\n      <td>5</td>\n      <td>True</td>\n      <td>09 17, 2016</td>\n      <td>A242UHNRH3GNQK</td>\n      <td>B00004T81V</td>\n      <td>welder314</td>\n      <td>This tool is a usable option if you do occasio...</td>\n      <td>Nice concept, poor execution</td>\n      <td>1474070400</td>\n      <td>{'Style:': ' Plier Type'}</td>\n      <td>['https://images-na.ssl-images-amazon.com/imag...</td>\n      <td>This tool is a usable option if you do occasio...</td>\n      <td>General Tools</td>\n      <td>['Automotive', 'Tools &amp; Equipment', 'Brake Rep...</td>\n    </tr>\n    <tr>\n      <th>3</th>\n      <td>3.0</td>\n      <td>13</td>\n      <td>True</td>\n      <td>12 5, 2015</td>\n      <td>AO53T9NBLHN1Q</td>\n      <td>B00004T81V</td>\n      <td>Juan S.</td>\n      <td>It really didn't help that no one might of tok...</td>\n      <td>Not really what I expected</td>\n      <td>1449273600</td>\n      <td>{'Style:': ' Plier Type'}</td>\n      <td>['https://images-na.ssl-images-amazon.com/imag...</td>\n      <td>It really didn't help that no one might of tok...</td>\n      <td>General Tools</td>\n      <td>['Automotive', 'Tools &amp; Equipment', 'Brake Rep...</td>\n    </tr>\n    <tr>\n      <th>4</th>\n      <td>2.0</td>\n      <td>8</td>\n      <td>True</td>\n      <td>05 14, 2016</td>\n      <td>A5VCQ0V8WDDCQ</td>\n      <td>B000056OQL</td>\n      <td>big_art</td>\n      <td>I was excited to try this on my new Porter Cab...</td>\n      <td>Foam Pad Separated From Disc - First Use</td>\n      <td>1463184000</td>\n      <td>{'Package Quantity:': ' 1'}</td>\n      <td>['https://images-na.ssl-images-amazon.com/imag...</td>\n      <td>I was excited to try this on my new Porter Cab...</td>\n      <td>PORTER-CABLE</td>\n      <td>['Automotive', 'Tools &amp; Equipment', 'Body Repa...</td>\n    </tr>\n    <tr>\n      <th>...</th>\n      <td>...</td>\n      <td>...</td>\n      <td>...</td>\n      <td>...</td>\n      <td>...</td>\n      <td>...</td>\n      <td>...</td>\n      <td>...</td>\n      <td>...</td>\n      <td>...</td>\n      <td>...</td>\n      <td>...</td>\n      <td>...</td>\n      <td>...</td>\n      <td>...</td>\n    </tr>\n    <tr>\n      <th>15732</th>\n      <td>5.0</td>\n      <td>3</td>\n      <td>True</td>\n      <td>07 6, 2011</td>\n      <td>A1D2Y3DLKU13W</td>\n      <td>B0050Q9EI8</td>\n      <td>Snorkledorf</td>\n      <td>When I was a kid and very into Oz, I spent my ...</td>\n      <td>The first \"true\" Oz book</td>\n      <td>1309910400</td>\n      <td>{'Format:': ' Kindle Edition'}</td>\n      <td>['https://images-na.ssl-images-amazon.com/imag...</td>\n      <td>When I was a kid and very into Oz, I spent my ...</td>\n      <td>Visit Amazon's L. Frank Baum Page</td>\n      <td>['Kindle Store', 'Kindle eBooks', \"Children's ...</td>\n    </tr>\n    <tr>\n      <th>15733</th>\n      <td>5.0</td>\n      <td>16</td>\n      <td>True</td>\n      <td>07 16, 2016</td>\n      <td>APLK9D7F08CIX</td>\n      <td>B0051V4HPW</td>\n      <td>M.Renee LaDawn.S</td>\n      <td>I was skeptical at first because I've read so ...</td>\n      <td>Great product!</td>\n      <td>1468627200</td>\n      <td>{'Format:': ' Hardcover'}</td>\n      <td>['https://images-na.ssl-images-amazon.com/imag...</td>\n      <td>I was skeptical at first because I've read so ...</td>\n      <td>Frederic H. Martini</td>\n      <td>['Kindle Store', 'Kindle eBooks', 'Education &amp;...</td>\n    </tr>\n    <tr>\n      <th>15734</th>\n      <td>1.0</td>\n      <td>6</td>\n      <td>True</td>\n      <td>02 22, 2015</td>\n      <td>A36G4NHVE5WYVZ</td>\n      <td>B0051V4HPW</td>\n      <td>tatev</td>\n      <td>The book did not have the original cover and t...</td>\n      <td>Overall horrible experience</td>\n      <td>1424563200</td>\n      <td>{'Format:': ' Hardcover'}</td>\n      <td>['https://images-na.ssl-images-amazon.com/imag...</td>\n      <td>The book did not have the original cover and t...</td>\n      <td>Frederic H. Martini</td>\n      <td>['Kindle Store', 'Kindle eBooks', 'Education &amp;...</td>\n    </tr>\n    <tr>\n      <th>15735</th>\n      <td>5.0</td>\n      <td>3</td>\n      <td>False</td>\n      <td>12 29, 2010</td>\n      <td>A3K1MCU7THBWRD</td>\n      <td>B0051V4HPW</td>\n      <td>Cari K.</td>\n      <td>This package contains everything you need to g...</td>\n      <td>Excellent text book package</td>\n      <td>1293580800</td>\n      <td>{'Format:': ' Hardcover'}</td>\n      <td>['https://images-na.ssl-images-amazon.com/imag...</td>\n      <td>This package contains everything you need to g...</td>\n      <td>Frederic H. Martini</td>\n      <td>['Kindle Store', 'Kindle eBooks', 'Education &amp;...</td>\n    </tr>\n    <tr>\n      <th>15736</th>\n      <td>5.0</td>\n      <td>4</td>\n      <td>False</td>\n      <td>10 22, 2011</td>\n      <td>A1XRKHIPW707HD</td>\n      <td>B0052TSJQ6</td>\n      <td>DatKid</td>\n      <td>As a person who is not an avid reader of anyth...</td>\n      <td>Gold for the price of dirt</td>\n      <td>1319241600</td>\n      <td>{'Format:': ' Kindle Edition'}</td>\n      <td>['https://images-na.ssl-images-amazon.com/imag...</td>\n      <td>As a person who is not an avid reader of anyth...</td>\n      <td>Visit Amazon's Michael DeAngelo Page</td>\n      <td>['Kindle Store', 'Kindle eBooks', \"Children's ...</td>\n    </tr>\n  </tbody>\n</table>\n<p>15737 rows × 15 columns</p>\n</div>"
     },
     "execution_count": 11,
     "metadata": {},
     "output_type": "execute_result"
    }
   ],
   "source": [
    "df_merge.dropna().reset_index(drop=True)"
   ],
   "metadata": {
    "collapsed": false,
    "pycharm": {
     "name": "#%%\n"
    }
   }
  },
  {
   "cell_type": "code",
   "execution_count": 12,
   "outputs": [
    {
     "data": {
      "text/plain": "         overall vote  verified   reviewTime      reviewerID        asin  \\\n199785       5.0  NaN      True  03 20, 2015  A3M20IGF19WMBD  7138258879   \n199786       3.0  NaN      True  01 14, 2015  A2GGCRLQ75WJFE  7138258879   \n199787       5.0  NaN      True   01 3, 2015  A2M7MSLDRV6FC6  7138258879   \n199788       5.0  NaN     False   11 1, 2014  A3RKXT2JD6KZR0  7138258879   \n199789       5.0  NaN     False  09 14, 2014  A2IJ5951R8OXLT  7138258879   \n...          ...  ...       ...          ...             ...         ...   \n5226008      2.0    3      True  07 25, 2011   AX3FEFV1QJ5QM  B0054TZOX0   \n5226009      4.0  NaN      True  07 23, 2011   A4PW6CKG8UUGW  B0054TZOX0   \n5226010      3.0  NaN     False  07 23, 2011   AQ4ZYQMIYIDKW  B0054TZOX0   \n5226011      4.0    7     False  07 20, 2011  A2QUAQ4GR6SLF7  B0054TZOX0   \n5226012      4.0  NaN      True  07 18, 2011   AUKM2XQ6WR1J0  B0054TZOX0   \n\n              reviewerName                                         reviewText  \\\n199785               julie                                      The were good   \n199786          Subiechick  One sticker was incomplete and missing letters...   \n199787        Cris Canoneo                                          Thank you   \n199788             Mr. Sam  Great space filler that will impress a lot of ...   \n199789     Silveradolife04  Great product sticks well gone through several...   \n...                    ...                                                ...   \n5226008              Sugar  this was a slightly confusing game for me and ...   \n5226009                Don  Very short, but entirely enjoyable - and the p...   \n5226010      Wendy J. Bock  I am glad I only paid 99 cents for this. I lik...   \n5226011   Ann J.M.S Harlan  pros ... simple clean interface ... moderately...   \n5226012  Michelle Glorioso  This game was very addictive, a little frustra...   \n\n                                                   summary  unixReviewTime  \\\n199785                                          Five Stars      1426809600   \n199786                                          Incomplete      1421193600   \n199787                                          Five Stars      1420243200   \n199788   Great space filler that will impress a lot of ...      1414800000   \n199789                                           Fantastic      1410652800   \n...                                                    ...             ...   \n5226008                        not for children under ten.      1311552000   \n5226009       A great first effort at interactive fiction!      1311379200   \n5226010                                     good but short      1311379200   \n5226011                                   brief but clever      1311120000   \n5226012              Addictive game, yet a bit frustrating      1310947200   \n\n        style                                              image  \\\n199785    NaN                                                NaN   \n199786    NaN                                                NaN   \n199787    NaN                                                NaN   \n199788    NaN                                                NaN   \n199789    NaN  ['https://images-na.ssl-images-amazon.com/imag...   \n...       ...                                                ...   \n5226008   NaN                                                NaN   \n5226009   NaN                                                NaN   \n5226010   NaN                                                NaN   \n5226011   NaN                                                NaN   \n5226012   NaN                                                NaN   \n\n                                                    review             brand  \\\n199785                            The were good Five Stars     Elite Mailers   \n199786   One sticker was incomplete and missing letters...     Elite Mailers   \n199787                                Thank you Five Stars     Elite Mailers   \n199788   Great space filler that will impress a lot of ...     Elite Mailers   \n199789   Great product sticks well gone through several...     Elite Mailers   \n...                                                    ...               ...   \n5226008  this was a slightly confusing game for me and ...  Gang of Penguins   \n5226009  Very short, but entirely enjoyable - and the p...  Gang of Penguins   \n5226010  I am glad I only paid 99 cents for this. I lik...  Gang of Penguins   \n5226011  pros ... simple clean interface ... moderately...  Gang of Penguins   \n5226012  This game was very addictive, a little frustra...  Gang of Penguins   \n\n                                                  category  \n199785   ['Automotive', 'Exterior Accessories', 'Bumper...  \n199786   ['Automotive', 'Exterior Accessories', 'Bumper...  \n199787   ['Automotive', 'Exterior Accessories', 'Bumper...  \n199788   ['Automotive', 'Exterior Accessories', 'Bumper...  \n199789   ['Automotive', 'Exterior Accessories', 'Bumper...  \n...                                                    ...  \n5226008  ['Kindle Store', 'Kindle eBooks', 'Humor & Ent...  \n5226009  ['Kindle Store', 'Kindle eBooks', 'Humor & Ent...  \n5226010  ['Kindle Store', 'Kindle eBooks', 'Humor & Ent...  \n5226011  ['Kindle Store', 'Kindle eBooks', 'Humor & Ent...  \n5226012  ['Kindle Store', 'Kindle eBooks', 'Humor & Ent...  \n\n[4878759 rows x 15 columns]",
      "text/html": "<div>\n<style scoped>\n    .dataframe tbody tr th:only-of-type {\n        vertical-align: middle;\n    }\n\n    .dataframe tbody tr th {\n        vertical-align: top;\n    }\n\n    .dataframe thead th {\n        text-align: right;\n    }\n</style>\n<table border=\"1\" class=\"dataframe\">\n  <thead>\n    <tr style=\"text-align: right;\">\n      <th></th>\n      <th>overall</th>\n      <th>vote</th>\n      <th>verified</th>\n      <th>reviewTime</th>\n      <th>reviewerID</th>\n      <th>asin</th>\n      <th>reviewerName</th>\n      <th>reviewText</th>\n      <th>summary</th>\n      <th>unixReviewTime</th>\n      <th>style</th>\n      <th>image</th>\n      <th>review</th>\n      <th>brand</th>\n      <th>category</th>\n    </tr>\n  </thead>\n  <tbody>\n    <tr>\n      <th>199785</th>\n      <td>5.0</td>\n      <td>NaN</td>\n      <td>True</td>\n      <td>03 20, 2015</td>\n      <td>A3M20IGF19WMBD</td>\n      <td>7138258879</td>\n      <td>julie</td>\n      <td>The were good</td>\n      <td>Five Stars</td>\n      <td>1426809600</td>\n      <td>NaN</td>\n      <td>NaN</td>\n      <td>The were good Five Stars</td>\n      <td>Elite Mailers</td>\n      <td>['Automotive', 'Exterior Accessories', 'Bumper...</td>\n    </tr>\n    <tr>\n      <th>199786</th>\n      <td>3.0</td>\n      <td>NaN</td>\n      <td>True</td>\n      <td>01 14, 2015</td>\n      <td>A2GGCRLQ75WJFE</td>\n      <td>7138258879</td>\n      <td>Subiechick</td>\n      <td>One sticker was incomplete and missing letters...</td>\n      <td>Incomplete</td>\n      <td>1421193600</td>\n      <td>NaN</td>\n      <td>NaN</td>\n      <td>One sticker was incomplete and missing letters...</td>\n      <td>Elite Mailers</td>\n      <td>['Automotive', 'Exterior Accessories', 'Bumper...</td>\n    </tr>\n    <tr>\n      <th>199787</th>\n      <td>5.0</td>\n      <td>NaN</td>\n      <td>True</td>\n      <td>01 3, 2015</td>\n      <td>A2M7MSLDRV6FC6</td>\n      <td>7138258879</td>\n      <td>Cris Canoneo</td>\n      <td>Thank you</td>\n      <td>Five Stars</td>\n      <td>1420243200</td>\n      <td>NaN</td>\n      <td>NaN</td>\n      <td>Thank you Five Stars</td>\n      <td>Elite Mailers</td>\n      <td>['Automotive', 'Exterior Accessories', 'Bumper...</td>\n    </tr>\n    <tr>\n      <th>199788</th>\n      <td>5.0</td>\n      <td>NaN</td>\n      <td>False</td>\n      <td>11 1, 2014</td>\n      <td>A3RKXT2JD6KZR0</td>\n      <td>7138258879</td>\n      <td>Mr. Sam</td>\n      <td>Great space filler that will impress a lot of ...</td>\n      <td>Great space filler that will impress a lot of ...</td>\n      <td>1414800000</td>\n      <td>NaN</td>\n      <td>NaN</td>\n      <td>Great space filler that will impress a lot of ...</td>\n      <td>Elite Mailers</td>\n      <td>['Automotive', 'Exterior Accessories', 'Bumper...</td>\n    </tr>\n    <tr>\n      <th>199789</th>\n      <td>5.0</td>\n      <td>NaN</td>\n      <td>False</td>\n      <td>09 14, 2014</td>\n      <td>A2IJ5951R8OXLT</td>\n      <td>7138258879</td>\n      <td>Silveradolife04</td>\n      <td>Great product sticks well gone through several...</td>\n      <td>Fantastic</td>\n      <td>1410652800</td>\n      <td>NaN</td>\n      <td>['https://images-na.ssl-images-amazon.com/imag...</td>\n      <td>Great product sticks well gone through several...</td>\n      <td>Elite Mailers</td>\n      <td>['Automotive', 'Exterior Accessories', 'Bumper...</td>\n    </tr>\n    <tr>\n      <th>...</th>\n      <td>...</td>\n      <td>...</td>\n      <td>...</td>\n      <td>...</td>\n      <td>...</td>\n      <td>...</td>\n      <td>...</td>\n      <td>...</td>\n      <td>...</td>\n      <td>...</td>\n      <td>...</td>\n      <td>...</td>\n      <td>...</td>\n      <td>...</td>\n      <td>...</td>\n    </tr>\n    <tr>\n      <th>5226008</th>\n      <td>2.0</td>\n      <td>3</td>\n      <td>True</td>\n      <td>07 25, 2011</td>\n      <td>AX3FEFV1QJ5QM</td>\n      <td>B0054TZOX0</td>\n      <td>Sugar</td>\n      <td>this was a slightly confusing game for me and ...</td>\n      <td>not for children under ten.</td>\n      <td>1311552000</td>\n      <td>NaN</td>\n      <td>NaN</td>\n      <td>this was a slightly confusing game for me and ...</td>\n      <td>Gang of Penguins</td>\n      <td>['Kindle Store', 'Kindle eBooks', 'Humor &amp; Ent...</td>\n    </tr>\n    <tr>\n      <th>5226009</th>\n      <td>4.0</td>\n      <td>NaN</td>\n      <td>True</td>\n      <td>07 23, 2011</td>\n      <td>A4PW6CKG8UUGW</td>\n      <td>B0054TZOX0</td>\n      <td>Don</td>\n      <td>Very short, but entirely enjoyable - and the p...</td>\n      <td>A great first effort at interactive fiction!</td>\n      <td>1311379200</td>\n      <td>NaN</td>\n      <td>NaN</td>\n      <td>Very short, but entirely enjoyable - and the p...</td>\n      <td>Gang of Penguins</td>\n      <td>['Kindle Store', 'Kindle eBooks', 'Humor &amp; Ent...</td>\n    </tr>\n    <tr>\n      <th>5226010</th>\n      <td>3.0</td>\n      <td>NaN</td>\n      <td>False</td>\n      <td>07 23, 2011</td>\n      <td>AQ4ZYQMIYIDKW</td>\n      <td>B0054TZOX0</td>\n      <td>Wendy J. Bock</td>\n      <td>I am glad I only paid 99 cents for this. I lik...</td>\n      <td>good but short</td>\n      <td>1311379200</td>\n      <td>NaN</td>\n      <td>NaN</td>\n      <td>I am glad I only paid 99 cents for this. I lik...</td>\n      <td>Gang of Penguins</td>\n      <td>['Kindle Store', 'Kindle eBooks', 'Humor &amp; Ent...</td>\n    </tr>\n    <tr>\n      <th>5226011</th>\n      <td>4.0</td>\n      <td>7</td>\n      <td>False</td>\n      <td>07 20, 2011</td>\n      <td>A2QUAQ4GR6SLF7</td>\n      <td>B0054TZOX0</td>\n      <td>Ann J.M.S Harlan</td>\n      <td>pros ... simple clean interface ... moderately...</td>\n      <td>brief but clever</td>\n      <td>1311120000</td>\n      <td>NaN</td>\n      <td>NaN</td>\n      <td>pros ... simple clean interface ... moderately...</td>\n      <td>Gang of Penguins</td>\n      <td>['Kindle Store', 'Kindle eBooks', 'Humor &amp; Ent...</td>\n    </tr>\n    <tr>\n      <th>5226012</th>\n      <td>4.0</td>\n      <td>NaN</td>\n      <td>True</td>\n      <td>07 18, 2011</td>\n      <td>AUKM2XQ6WR1J0</td>\n      <td>B0054TZOX0</td>\n      <td>Michelle Glorioso</td>\n      <td>This game was very addictive, a little frustra...</td>\n      <td>Addictive game, yet a bit frustrating</td>\n      <td>1310947200</td>\n      <td>NaN</td>\n      <td>NaN</td>\n      <td>This game was very addictive, a little frustra...</td>\n      <td>Gang of Penguins</td>\n      <td>['Kindle Store', 'Kindle eBooks', 'Humor &amp; Ent...</td>\n    </tr>\n  </tbody>\n</table>\n<p>4878759 rows × 15 columns</p>\n</div>"
     },
     "execution_count": 12,
     "metadata": {},
     "output_type": "execute_result"
    }
   ],
   "source": [
    "df_merge[df_merge['brand'].notnull()]"
   ],
   "metadata": {
    "collapsed": false,
    "pycharm": {
     "name": "#%%\n"
    }
   }
  },
  {
   "cell_type": "code",
   "execution_count": 13,
   "outputs": [
    {
     "name": "stdout",
     "output_type": "stream",
     "text": [
      "cleaning punctuations\n"
     ]
    },
    {
     "name": "stderr",
     "output_type": "stream",
     "text": [
      "100%|██████████| 4878759/4878759 [00:22<00:00, 219771.87it/s]\n"
     ]
    }
   ],
   "source": [
    "def cleaning_punctuations(text):\n",
    "    translator = str.maketrans('', '', punctuation_string)\n",
    "    return text.translate(translator)\n",
    "\n",
    "#df_merge = df_merge.dropna().reset_index(drop=True)\n",
    "df_merge = df_merge[df_merge['brand'].notnull()]\n",
    "print('cleaning punctuations')\n",
    "clean_punct = df_merge['brand'].progress_apply(lambda x: cleaning_punctuations(x))\n",
    "df_merge = df_merge.assign(brand=clean_punct)"
   ],
   "metadata": {
    "collapsed": false,
    "pycharm": {
     "name": "#%%\n"
    }
   }
  },
  {
   "cell_type": "code",
   "execution_count": 14,
   "outputs": [
    {
     "name": "stderr",
     "output_type": "stream",
     "text": [
      "100%|██████████| 4878759/4878759 [00:14<00:00, 343322.50it/s]\n"
     ]
    }
   ],
   "source": [
    "remove_visit = df_merge['brand'].progress_apply(lambda x: re.sub('Visit Amazons ','', x))\n",
    "df_merge= df_merge.assign(brand=remove_visit)"
   ],
   "metadata": {
    "collapsed": false,
    "pycharm": {
     "name": "#%%\n"
    }
   }
  },
  {
   "cell_type": "code",
   "execution_count": 15,
   "outputs": [
    {
     "name": "stderr",
     "output_type": "stream",
     "text": [
      "100%|██████████| 4878759/4878759 [00:14<00:00, 329801.96it/s]\n"
     ]
    }
   ],
   "source": [
    "remove_amazonpage = df_merge['brand'].progress_apply(lambda x: re.sub(' Page','', x))"
   ],
   "metadata": {
    "collapsed": false,
    "pycharm": {
     "name": "#%%\n"
    }
   }
  },
  {
   "cell_type": "code",
   "execution_count": 16,
   "outputs": [],
   "source": [
    "df_merge= df_merge.assign(brand=remove_amazonpage)"
   ],
   "metadata": {
    "collapsed": false,
    "pycharm": {
     "name": "#%%\n"
    }
   }
  },
  {
   "cell_type": "code",
   "execution_count": 17,
   "outputs": [
    {
     "data": {
      "text/plain": "                                        overall  vote  verified  reviewTime  \\\nbrand                                                                         \n Gary Puckett  the Union Gap                 48    14        48          48   \n100 AUTHENTIC Mfg only byTrue Tape LLC       41     8        41          41   \n100009                                      152    11       152         152   \n101 Strings Orchestra                        56    12        56          56   \n1080                                         26     5        26          26   \n...                                         ...   ...       ...         ...   \nzBoost                                      142    45       142         142   \nzephz                                        16     1        16          16   \nzila                                         34     0        34          34   \nzonman                                       38     6        38          38   \nzytoon                                        3     3         3           3   \n\n                                        reviewerID  asin  reviewerName  \\\nbrand                                                                    \n Gary Puckett  the Union Gap                    48    48            48   \n100 AUTHENTIC Mfg only byTrue Tape LLC          41    41            41   \n100009                                         152   152           152   \n101 Strings Orchestra                           56    56            56   \n1080                                            26    26            26   \n...                                            ...   ...           ...   \nzBoost                                         142   142           142   \nzephz                                           16    16            16   \nzila                                            34    34            34   \nzonman                                          38    38            38   \nzytoon                                           3     3             3   \n\n                                        reviewText  summary  unixReviewTime  \\\nbrand                                                                         \n Gary Puckett  the Union Gap                    48       48              48   \n100 AUTHENTIC Mfg only byTrue Tape LLC          41       41              41   \n100009                                         152      152             152   \n101 Strings Orchestra                           56       56              56   \n1080                                            26       26              26   \n...                                            ...      ...             ...   \nzBoost                                         142      142             142   \nzephz                                           16       16              16   \nzila                                            34       34              34   \nzonman                                          38       38              38   \nzytoon                                           3        3               3   \n\n                                        style  image  review  category  \nbrand                                                                   \n Gary Puckett  the Union Gap               48      0      48        48  \n100 AUTHENTIC Mfg only byTrue Tape LLC     41      0      41        41  \n100009                                    152      1     152       152  \n101 Strings Orchestra                      56      0      56        56  \n1080                                        0      0      26        26  \n...                                       ...    ...     ...       ...  \nzBoost                                    132      0     142       142  \nzephz                                       8      0      16        16  \nzila                                        0      0      34        34  \nzonman                                     38      0      38        38  \nzytoon                                      0      0       3         3  \n\n[19305 rows x 14 columns]",
      "text/html": "<div>\n<style scoped>\n    .dataframe tbody tr th:only-of-type {\n        vertical-align: middle;\n    }\n\n    .dataframe tbody tr th {\n        vertical-align: top;\n    }\n\n    .dataframe thead th {\n        text-align: right;\n    }\n</style>\n<table border=\"1\" class=\"dataframe\">\n  <thead>\n    <tr style=\"text-align: right;\">\n      <th></th>\n      <th>overall</th>\n      <th>vote</th>\n      <th>verified</th>\n      <th>reviewTime</th>\n      <th>reviewerID</th>\n      <th>asin</th>\n      <th>reviewerName</th>\n      <th>reviewText</th>\n      <th>summary</th>\n      <th>unixReviewTime</th>\n      <th>style</th>\n      <th>image</th>\n      <th>review</th>\n      <th>category</th>\n    </tr>\n    <tr>\n      <th>brand</th>\n      <th></th>\n      <th></th>\n      <th></th>\n      <th></th>\n      <th></th>\n      <th></th>\n      <th></th>\n      <th></th>\n      <th></th>\n      <th></th>\n      <th></th>\n      <th></th>\n      <th></th>\n      <th></th>\n    </tr>\n  </thead>\n  <tbody>\n    <tr>\n      <th>Gary Puckett  the Union Gap</th>\n      <td>48</td>\n      <td>14</td>\n      <td>48</td>\n      <td>48</td>\n      <td>48</td>\n      <td>48</td>\n      <td>48</td>\n      <td>48</td>\n      <td>48</td>\n      <td>48</td>\n      <td>48</td>\n      <td>0</td>\n      <td>48</td>\n      <td>48</td>\n    </tr>\n    <tr>\n      <th>100 AUTHENTIC Mfg only byTrue Tape LLC</th>\n      <td>41</td>\n      <td>8</td>\n      <td>41</td>\n      <td>41</td>\n      <td>41</td>\n      <td>41</td>\n      <td>41</td>\n      <td>41</td>\n      <td>41</td>\n      <td>41</td>\n      <td>41</td>\n      <td>0</td>\n      <td>41</td>\n      <td>41</td>\n    </tr>\n    <tr>\n      <th>100009</th>\n      <td>152</td>\n      <td>11</td>\n      <td>152</td>\n      <td>152</td>\n      <td>152</td>\n      <td>152</td>\n      <td>152</td>\n      <td>152</td>\n      <td>152</td>\n      <td>152</td>\n      <td>152</td>\n      <td>1</td>\n      <td>152</td>\n      <td>152</td>\n    </tr>\n    <tr>\n      <th>101 Strings Orchestra</th>\n      <td>56</td>\n      <td>12</td>\n      <td>56</td>\n      <td>56</td>\n      <td>56</td>\n      <td>56</td>\n      <td>56</td>\n      <td>56</td>\n      <td>56</td>\n      <td>56</td>\n      <td>56</td>\n      <td>0</td>\n      <td>56</td>\n      <td>56</td>\n    </tr>\n    <tr>\n      <th>1080</th>\n      <td>26</td>\n      <td>5</td>\n      <td>26</td>\n      <td>26</td>\n      <td>26</td>\n      <td>26</td>\n      <td>26</td>\n      <td>26</td>\n      <td>26</td>\n      <td>26</td>\n      <td>0</td>\n      <td>0</td>\n      <td>26</td>\n      <td>26</td>\n    </tr>\n    <tr>\n      <th>...</th>\n      <td>...</td>\n      <td>...</td>\n      <td>...</td>\n      <td>...</td>\n      <td>...</td>\n      <td>...</td>\n      <td>...</td>\n      <td>...</td>\n      <td>...</td>\n      <td>...</td>\n      <td>...</td>\n      <td>...</td>\n      <td>...</td>\n      <td>...</td>\n    </tr>\n    <tr>\n      <th>zBoost</th>\n      <td>142</td>\n      <td>45</td>\n      <td>142</td>\n      <td>142</td>\n      <td>142</td>\n      <td>142</td>\n      <td>142</td>\n      <td>142</td>\n      <td>142</td>\n      <td>142</td>\n      <td>132</td>\n      <td>0</td>\n      <td>142</td>\n      <td>142</td>\n    </tr>\n    <tr>\n      <th>zephz</th>\n      <td>16</td>\n      <td>1</td>\n      <td>16</td>\n      <td>16</td>\n      <td>16</td>\n      <td>16</td>\n      <td>16</td>\n      <td>16</td>\n      <td>16</td>\n      <td>16</td>\n      <td>8</td>\n      <td>0</td>\n      <td>16</td>\n      <td>16</td>\n    </tr>\n    <tr>\n      <th>zila</th>\n      <td>34</td>\n      <td>0</td>\n      <td>34</td>\n      <td>34</td>\n      <td>34</td>\n      <td>34</td>\n      <td>34</td>\n      <td>34</td>\n      <td>34</td>\n      <td>34</td>\n      <td>0</td>\n      <td>0</td>\n      <td>34</td>\n      <td>34</td>\n    </tr>\n    <tr>\n      <th>zonman</th>\n      <td>38</td>\n      <td>6</td>\n      <td>38</td>\n      <td>38</td>\n      <td>38</td>\n      <td>38</td>\n      <td>38</td>\n      <td>38</td>\n      <td>38</td>\n      <td>38</td>\n      <td>38</td>\n      <td>0</td>\n      <td>38</td>\n      <td>38</td>\n    </tr>\n    <tr>\n      <th>zytoon</th>\n      <td>3</td>\n      <td>3</td>\n      <td>3</td>\n      <td>3</td>\n      <td>3</td>\n      <td>3</td>\n      <td>3</td>\n      <td>3</td>\n      <td>3</td>\n      <td>3</td>\n      <td>0</td>\n      <td>0</td>\n      <td>3</td>\n      <td>3</td>\n    </tr>\n  </tbody>\n</table>\n<p>19305 rows × 14 columns</p>\n</div>"
     },
     "execution_count": 17,
     "metadata": {},
     "output_type": "execute_result"
    }
   ],
   "source": [
    "df_merge.groupby('brand').count()"
   ],
   "metadata": {
    "collapsed": false,
    "pycharm": {
     "name": "#%%\n"
    }
   }
  },
  {
   "cell_type": "code",
   "execution_count": 18,
   "outputs": [
    {
     "data": {
      "text/plain": "<re.Match object; span=(0, 28), match='Visit Amazons Zondervan Page'>"
     },
     "execution_count": 18,
     "metadata": {},
     "output_type": "execute_result"
    }
   ],
   "source": [
    "text = 'Visit Amazons Zondervan Page'\n",
    "re.search('Visit Amazons [a-zA-Z]+ Page', text)"
   ],
   "metadata": {
    "collapsed": false,
    "pycharm": {
     "name": "#%%\n"
    }
   }
  },
  {
   "cell_type": "code",
   "execution_count": 19,
   "outputs": [
    {
     "name": "stderr",
     "output_type": "stream",
     "text": [
      "100%|██████████| 4878759/4878759 [00:15<00:00, 305339.25it/s]\n"
     ]
    }
   ],
   "source": [
    "remove_by = df_merge['brand'].progress_apply(lambda x: re.sub('by\\n    \\n    ','' ,x))"
   ],
   "metadata": {
    "collapsed": false,
    "pycharm": {
     "name": "#%%\n"
    }
   }
  },
  {
   "cell_type": "code",
   "execution_count": 20,
   "outputs": [],
   "source": [
    "df_merge= df_merge.assign(brand=remove_by)\n",
    "#df_merge.loc[18624]"
   ],
   "metadata": {
    "collapsed": false,
    "pycharm": {
     "name": "#%%\n"
    }
   }
  },
  {
   "cell_type": "code",
   "execution_count": 21,
   "outputs": [],
   "source": [
    "df_products = df_merge.groupby('brand').count().sort_values('overall', ascending=False)"
   ],
   "metadata": {
    "collapsed": false,
    "pycharm": {
     "name": "#%%\n"
    }
   }
  },
  {
   "cell_type": "code",
   "execution_count": 22,
   "outputs": [
    {
     "name": "stdout",
     "output_type": "stream",
     "text": [
      "<class 'pandas.core.frame.DataFrame'>\n",
      "Index: 19159 entries, nobrand to Klezmatics\n",
      "Data columns (total 14 columns):\n",
      " #   Column          Non-Null Count  Dtype\n",
      "---  ------          --------------  -----\n",
      " 0   overall         19159 non-null  int64\n",
      " 1   vote            19159 non-null  int64\n",
      " 2   verified        19159 non-null  int64\n",
      " 3   reviewTime      19159 non-null  int64\n",
      " 4   reviewerID      19159 non-null  int64\n",
      " 5   asin            19159 non-null  int64\n",
      " 6   reviewerName    19159 non-null  int64\n",
      " 7   reviewText      19159 non-null  int64\n",
      " 8   summary         19159 non-null  int64\n",
      " 9   unixReviewTime  19159 non-null  int64\n",
      " 10  style           19159 non-null  int64\n",
      " 11  image           19159 non-null  int64\n",
      " 12  review          19159 non-null  int64\n",
      " 13  category        19159 non-null  int64\n",
      "dtypes: int64(14)\n",
      "memory usage: 2.2+ MB\n"
     ]
    }
   ],
   "source": [
    "df_products.info()"
   ],
   "metadata": {
    "collapsed": false,
    "pycharm": {
     "name": "#%%\n"
    }
   }
  },
  {
   "cell_type": "code",
   "execution_count": 23,
   "outputs": [],
   "source": [
    "df_products = df_products.rename_axis('brand').reset_index()\n"
   ],
   "metadata": {
    "collapsed": false,
    "pycharm": {
     "name": "#%%\n"
    }
   }
  },
  {
   "cell_type": "code",
   "execution_count": 24,
   "outputs": [],
   "source": [
    "top_100 = df_products['brand'].head(100)\n",
    "top_100_list = top_100.to_list()\n",
    "\n",
    "#top_100_list.remove('Unknown')\n",
    "top_100_list.remove('nobrand')"
   ],
   "metadata": {
    "collapsed": false,
    "pycharm": {
     "name": "#%%\n"
    }
   }
  },
  {
   "cell_type": "code",
   "execution_count": 25,
   "outputs": [
    {
     "data": {
      "text/plain": "['Microsoft',\n 'Amazon',\n 'Whirlpool',\n 'Intuit',\n 'Nintendo',\n 'Sony',\n 'Fiskars',\n 'Motorola',\n 'OXO',\n 'Belkin',\n 'DAddario',\n 'J R R Tolkien',\n 'Samsung',\n 'Waterpik',\n 'Electronic Arts',\n 'GE',\n 'George RR Martin',\n 'Tiffen',\n 'Generic',\n 'Hearst Magazines',\n '3M',\n 'API',\n 'Stanley',\n 'DEWALT',\n 'Panasonic',\n 'Frigidaire',\n 'Intex',\n 'Timex',\n 'JIM DUNLOP',\n 'DYMO',\n 'Canon',\n 'Avery',\n 'Victorinox',\n 'Plantronics',\n 'Cuisinart',\n 'Melissa  Doug',\n 'Philips Norelco',\n 'Crayola',\n 'Broan',\n 'Texas Instruments',\n 'Yogi',\n 'Norpro',\n 'Hasbro',\n 'PetSafe',\n 'Presto',\n 'Moleskine',\n 'CS Lewis',\n 'Brother',\n 'Koss',\n '3M Littmann',\n 'Flowtron',\n 'Symantec',\n 'OnStage',\n 'Agatha Christie',\n 'Planters',\n 'Nordic Ware',\n 'SE',\n 'Seachem',\n 'Harrison Ford',\n 'MarineLand',\n 'William Shakespeare',\n 'LG',\n 'Bushnell',\n 'Elixir',\n 'Fender',\n 'Crest',\n 'BlackBerry',\n 'BLACKDECKER',\n 'Apple',\n 'Meguiars',\n 'Weber',\n 'Amazon Digital Services LLC',\n 'Atari',\n 'Clover',\n 'FisherPrice',\n 'Fellowes',\n 'Lisle',\n 'Rothco',\n 'Traditional Medicinals',\n 'Dremel',\n 'Metra',\n 'Bergan',\n 'Garmin',\n 'Rolodex',\n 'Twinings',\n 'DAddario Accessories',\n 'Black Mountain',\n 'Harbinger',\n 'Eureka',\n 'Vivendi Universal',\n 'Scotch',\n 'Ernie Ball',\n 'Meredith Corporation',\n 'Logitech',\n 'Activision',\n 'SPERRY',\n 'Nylabone',\n 'KitchenAid',\n 'George Lucas']"
     },
     "execution_count": 25,
     "metadata": {},
     "output_type": "execute_result"
    }
   ],
   "source": [
    "top_100_list"
   ],
   "metadata": {
    "collapsed": false,
    "pycharm": {
     "name": "#%%\n"
    }
   }
  },
  {
   "cell_type": "code",
   "execution_count": 26,
   "outputs": [],
   "source": [
    "df_tweets = pd.DataFrame(columns=['date', 'content', 'user','hashtags', 'coordinates', 'lang'])\n",
    "start_date = date(2015, 12, 31)\n",
    "end_date = date(2022, 8, 2)\n",
    "\n",
    "df_collect = pd.DataFrame(itertools.islice(sntwitter.TwitterSearchScraper(\n",
    "    f'{top_100[0]}  since:{start_date} until:{end_date} within: 10km' ).get_items(), 100))\n",
    "            #[['date', 'content', 'user','hashtags', 'coordinates', 'lang']]"
   ],
   "metadata": {
    "collapsed": false,
    "pycharm": {
     "name": "#%%\n"
    }
   }
  },
  {
   "cell_type": "code",
   "execution_count": 27,
   "outputs": [],
   "source": [
    "df_collect = pd.DataFrame(itertools.islice(sntwitter.TwitterSearchScraper(\n",
    "    f'geocode:53.81653,-3.03033,320km since:2022-07-01 until:2022-07-31').get_items(), 100))"
   ],
   "metadata": {
    "collapsed": false,
    "pycharm": {
     "name": "#%%\n"
    }
   }
  },
  {
   "cell_type": "code",
   "execution_count": 28,
   "outputs": [
    {
     "data": {
      "text/plain": "                                                  url  \\\n0   https://twitter.com/Imranicus/status/155353087...   \n1   https://twitter.com/DavidJCourt/status/1553530...   \n2   https://twitter.com/JKJeonEuphoria/status/1553...   \n3   https://twitter.com/Mofoman360/status/15535308...   \n4   https://twitter.com/sophielordx1/status/155353...   \n..                                                ...   \n95  https://twitter.com/gedtraynor41/status/155352...   \n96  https://twitter.com/Ian_Nutten/status/15535296...   \n97  https://twitter.com/___Mezzala/status/15535296...   \n98  https://twitter.com/hepolytes/status/155352960...   \n99  https://twitter.com/Twi5tedkitten/status/15535...   \n\n                        date  \\\n0  2022-07-30 23:59:57+00:00   \n1  2022-07-30 23:59:55+00:00   \n2  2022-07-30 23:59:50+00:00   \n3  2022-07-30 23:59:48+00:00   \n4  2022-07-30 23:59:47+00:00   \n..                       ...   \n95 2022-07-30 23:55:05+00:00   \n96 2022-07-30 23:55:05+00:00   \n97 2022-07-30 23:55:03+00:00   \n98 2022-07-30 23:54:54+00:00   \n99 2022-07-30 23:54:53+00:00   \n\n                                              content  \\\n0   #Tories looking at the state of the economy: h...   \n1   @TAGartwork I had a frustrating one.\\n\\n🟩🟩🟩⬜⬜\\...   \n2   They're obv gonna do this right? Meaning Chica...   \n3   Come on dudes who is looking forward to next w...   \n4                    Right. Ive bought a paddle board   \n..                                                ...   \n95  @Jsize18 Give me like till tmoz I’ll show ye s...   \n96                                       @mhdksafa 🙏🙏   \n97  Welcome back, lads ⚽️🔴 #LFC #CommunityShield h...   \n98  @Bandraidoir @GreenBagOG Too late if you're ov...   \n99  Yay...I'm back!, not that anyone noticed I'd g...   \n\n                                      renderedContent                   id  \\\n0   #Tories looking at the state of the economy: h...  1553530870732132353   \n1   @TAGartwork I had a frustrating one.\\n\\n🟩🟩🟩⬜⬜\\...  1553530864637808641   \n2   They're obv gonna do this right? Meaning Chica...  1553530842902822913   \n3   Come on dudes who is looking forward to next w...  1553530833381859328   \n4                    Right. Ive bought a paddle board  1553530829799923712   \n..                                                ...                  ...   \n95  @Jsize18 Give me like till tmoz I’ll show ye s...  1553529646590959617   \n96                                       @mhdksafa 🙏🙏  1553529646339293189   \n97  Welcome back, lads ⚽️🔴 #LFC #CommunityShield h...  1553529639095734272   \n98  @Bandraidoir @GreenBagOG Too late if you're ov...  1553529602110328834   \n99  Yay...I'm back!, not that anyone noticed I'd g...  1553529595349049344   \n\n                                                 user  replyCount  \\\n0   {'username': 'Imranicus', 'id': 11863826114317...           0   \n1   {'username': 'DavidJCourt', 'id': 6642372, 'di...           1   \n2   {'username': 'JKJeonEuphoria', 'id': 123198962...           0   \n3   {'username': 'Mofoman360', 'id': 20820445, 'di...           1   \n4   {'username': 'sophielordx1', 'id': 576408734, ...           0   \n..                                                ...         ...   \n95  {'username': 'gedtraynor41', 'id': 10327894383...           1   \n96  {'username': 'Ian_Nutten', 'id': 1411031857408...           0   \n97  {'username': '___Mezzala', 'id': 1346537588987...           1   \n98  {'username': 'hepolytes', 'id': 588800952, 'di...           0   \n99  {'username': 'Twi5tedkitten', 'id': 281010779,...           0   \n\n    retweetCount  likeCount  quoteCount  ...  \\\n0              0          2           0  ...   \n1              0          0           0  ...   \n2              0          1           0  ...   \n3              1          5           0  ...   \n4              0          0           0  ...   \n..           ...        ...         ...  ...   \n95             0          1           0  ...   \n96             0          0           0  ...   \n97             0          5           0  ...   \n98             0          0           0  ...   \n99             0          0           0  ...   \n\n                                                media retweetedTweet  \\\n0   [{'previewUrl': 'https://pbs.twimg.com/media/F...           None   \n1                                                None           None   \n2                                                None           None   \n3                                                None           None   \n4                                                None           None   \n..                                                ...            ...   \n95                                               None           None   \n96                                               None           None   \n97  [{'thumbnailUrl': 'https://pbs.twimg.com/ext_t...           None   \n98                                               None           None   \n99                                               None           None   \n\n   quotedTweet inReplyToTweetId  \\\n0         None              NaN   \n1         None     1.553519e+18   \n2         None              NaN   \n3         None              NaN   \n4         None              NaN   \n..         ...              ...   \n95        None     1.553529e+18   \n96        None     1.553478e+18   \n97        None              NaN   \n98        None     1.553101e+18   \n99        None              NaN   \n\n                                        inReplyToUser  \\\n0                                                None   \n1   {'username': 'TAGartwork', 'id': 221710311, 'd...   \n2                                                None   \n3                                                None   \n4                                                None   \n..                                                ...   \n95  {'username': 'Jsize18', 'id': 1436254643714240...   \n96  {'username': 'mhdksafa', 'id': 834078524277456...   \n97                                               None   \n98  {'username': 'Bandraidoir', 'id': 2982440403, ...   \n99                                               None   \n\n                                       mentionedUsers  \\\n0                                                None   \n1   [{'username': 'TAGartwork', 'id': 221710311, '...   \n2                                                None   \n3                                                None   \n4                                                None   \n..                                                ...   \n95  [{'username': 'Jsize18', 'id': 143625464371424...   \n96  [{'username': 'mhdksafa', 'id': 83407852427745...   \n97                                               None   \n98  [{'username': 'Bandraidoir', 'id': 2982440403,...   \n99                                               None   \n\n                                          coordinates  \\\n0     {'longitude': -2.659936, 'latitude': 51.399367}   \n1   {'longitude': -1.6128929, 'latitude': 52.3653979}   \n2    {'longitude': -2.0971002, 'latitude': 52.460709}   \n3    {'longitude': -1.706057, 'latitude': 53.7363694}   \n4    {'longitude': -2.5139084, 'latitude': 53.531967}   \n..                                                ...   \n95   {'longitude': -2.9179613, 'latitude': 53.539352}   \n96   {'longitude': -2.755316, 'latitude': 53.7152153}   \n97    {'longitude': -2.033651, 'latitude': 52.381063}   \n98    {'longitude': -2.206829, 'latitude': 52.543947}   \n99   {'longitude': -0.8604724, 'latitude': 51.973129}   \n\n                                                place  \\\n0   {'fullName': 'Bristol, England', 'name': 'Bris...   \n1   {'fullName': 'Coventry, England', 'name': 'Cov...   \n2   {'fullName': 'West Bromwich, England', 'name':...   \n3   {'fullName': 'Leeds, England', 'name': 'Leeds'...   \n4   {'fullName': 'Bolton, England', 'name': 'Bolto...   \n..                                                ...   \n95  {'fullName': 'Ormskirk, England', 'name': 'Orm...   \n96  {'fullName': 'Higher Penwortham, England', 'na...   \n97  {'fullName': 'Birmingham, England', 'name': 'B...   \n98  {'fullName': 'Wolverhampton, England', 'name':...   \n99  {'fullName': 'Milton Keynes, England', 'name':...   \n\n                                 hashtags cashtags  \n0                                [Tories]     None  \n1                                    None     None  \n2                                    None     None  \n3          [mot, alaw, lufc, LeedsUnited]     None  \n4                                    None     None  \n..                                    ...      ...  \n95                                   None     None  \n96                                   None     None  \n97                 [LFC, CommunityShield]     None  \n98                                   None     None  \n99  [NoteToSelf, TheCWordIsNaughty, HaHa]     None  \n\n[100 rows x 27 columns]",
      "text/html": "<div>\n<style scoped>\n    .dataframe tbody tr th:only-of-type {\n        vertical-align: middle;\n    }\n\n    .dataframe tbody tr th {\n        vertical-align: top;\n    }\n\n    .dataframe thead th {\n        text-align: right;\n    }\n</style>\n<table border=\"1\" class=\"dataframe\">\n  <thead>\n    <tr style=\"text-align: right;\">\n      <th></th>\n      <th>url</th>\n      <th>date</th>\n      <th>content</th>\n      <th>renderedContent</th>\n      <th>id</th>\n      <th>user</th>\n      <th>replyCount</th>\n      <th>retweetCount</th>\n      <th>likeCount</th>\n      <th>quoteCount</th>\n      <th>...</th>\n      <th>media</th>\n      <th>retweetedTweet</th>\n      <th>quotedTweet</th>\n      <th>inReplyToTweetId</th>\n      <th>inReplyToUser</th>\n      <th>mentionedUsers</th>\n      <th>coordinates</th>\n      <th>place</th>\n      <th>hashtags</th>\n      <th>cashtags</th>\n    </tr>\n  </thead>\n  <tbody>\n    <tr>\n      <th>0</th>\n      <td>https://twitter.com/Imranicus/status/155353087...</td>\n      <td>2022-07-30 23:59:57+00:00</td>\n      <td>#Tories looking at the state of the economy: h...</td>\n      <td>#Tories looking at the state of the economy: h...</td>\n      <td>1553530870732132353</td>\n      <td>{'username': 'Imranicus', 'id': 11863826114317...</td>\n      <td>0</td>\n      <td>0</td>\n      <td>2</td>\n      <td>0</td>\n      <td>...</td>\n      <td>[{'previewUrl': 'https://pbs.twimg.com/media/F...</td>\n      <td>None</td>\n      <td>None</td>\n      <td>NaN</td>\n      <td>None</td>\n      <td>None</td>\n      <td>{'longitude': -2.659936, 'latitude': 51.399367}</td>\n      <td>{'fullName': 'Bristol, England', 'name': 'Bris...</td>\n      <td>[Tories]</td>\n      <td>None</td>\n    </tr>\n    <tr>\n      <th>1</th>\n      <td>https://twitter.com/DavidJCourt/status/1553530...</td>\n      <td>2022-07-30 23:59:55+00:00</td>\n      <td>@TAGartwork I had a frustrating one.\\n\\n🟩🟩🟩⬜⬜\\...</td>\n      <td>@TAGartwork I had a frustrating one.\\n\\n🟩🟩🟩⬜⬜\\...</td>\n      <td>1553530864637808641</td>\n      <td>{'username': 'DavidJCourt', 'id': 6642372, 'di...</td>\n      <td>1</td>\n      <td>0</td>\n      <td>0</td>\n      <td>0</td>\n      <td>...</td>\n      <td>None</td>\n      <td>None</td>\n      <td>None</td>\n      <td>1.553519e+18</td>\n      <td>{'username': 'TAGartwork', 'id': 221710311, 'd...</td>\n      <td>[{'username': 'TAGartwork', 'id': 221710311, '...</td>\n      <td>{'longitude': -1.6128929, 'latitude': 52.3653979}</td>\n      <td>{'fullName': 'Coventry, England', 'name': 'Cov...</td>\n      <td>None</td>\n      <td>None</td>\n    </tr>\n    <tr>\n      <th>2</th>\n      <td>https://twitter.com/JKJeonEuphoria/status/1553...</td>\n      <td>2022-07-30 23:59:50+00:00</td>\n      <td>They're obv gonna do this right? Meaning Chica...</td>\n      <td>They're obv gonna do this right? Meaning Chica...</td>\n      <td>1553530842902822913</td>\n      <td>{'username': 'JKJeonEuphoria', 'id': 123198962...</td>\n      <td>0</td>\n      <td>0</td>\n      <td>1</td>\n      <td>0</td>\n      <td>...</td>\n      <td>None</td>\n      <td>None</td>\n      <td>None</td>\n      <td>NaN</td>\n      <td>None</td>\n      <td>None</td>\n      <td>{'longitude': -2.0971002, 'latitude': 52.460709}</td>\n      <td>{'fullName': 'West Bromwich, England', 'name':...</td>\n      <td>None</td>\n      <td>None</td>\n    </tr>\n    <tr>\n      <th>3</th>\n      <td>https://twitter.com/Mofoman360/status/15535308...</td>\n      <td>2022-07-30 23:59:48+00:00</td>\n      <td>Come on dudes who is looking forward to next w...</td>\n      <td>Come on dudes who is looking forward to next w...</td>\n      <td>1553530833381859328</td>\n      <td>{'username': 'Mofoman360', 'id': 20820445, 'di...</td>\n      <td>1</td>\n      <td>1</td>\n      <td>5</td>\n      <td>0</td>\n      <td>...</td>\n      <td>None</td>\n      <td>None</td>\n      <td>None</td>\n      <td>NaN</td>\n      <td>None</td>\n      <td>None</td>\n      <td>{'longitude': -1.706057, 'latitude': 53.7363694}</td>\n      <td>{'fullName': 'Leeds, England', 'name': 'Leeds'...</td>\n      <td>[mot, alaw, lufc, LeedsUnited]</td>\n      <td>None</td>\n    </tr>\n    <tr>\n      <th>4</th>\n      <td>https://twitter.com/sophielordx1/status/155353...</td>\n      <td>2022-07-30 23:59:47+00:00</td>\n      <td>Right. Ive bought a paddle board</td>\n      <td>Right. Ive bought a paddle board</td>\n      <td>1553530829799923712</td>\n      <td>{'username': 'sophielordx1', 'id': 576408734, ...</td>\n      <td>0</td>\n      <td>0</td>\n      <td>0</td>\n      <td>0</td>\n      <td>...</td>\n      <td>None</td>\n      <td>None</td>\n      <td>None</td>\n      <td>NaN</td>\n      <td>None</td>\n      <td>None</td>\n      <td>{'longitude': -2.5139084, 'latitude': 53.531967}</td>\n      <td>{'fullName': 'Bolton, England', 'name': 'Bolto...</td>\n      <td>None</td>\n      <td>None</td>\n    </tr>\n    <tr>\n      <th>...</th>\n      <td>...</td>\n      <td>...</td>\n      <td>...</td>\n      <td>...</td>\n      <td>...</td>\n      <td>...</td>\n      <td>...</td>\n      <td>...</td>\n      <td>...</td>\n      <td>...</td>\n      <td>...</td>\n      <td>...</td>\n      <td>...</td>\n      <td>...</td>\n      <td>...</td>\n      <td>...</td>\n      <td>...</td>\n      <td>...</td>\n      <td>...</td>\n      <td>...</td>\n      <td>...</td>\n    </tr>\n    <tr>\n      <th>95</th>\n      <td>https://twitter.com/gedtraynor41/status/155352...</td>\n      <td>2022-07-30 23:55:05+00:00</td>\n      <td>@Jsize18 Give me like till tmoz I’ll show ye s...</td>\n      <td>@Jsize18 Give me like till tmoz I’ll show ye s...</td>\n      <td>1553529646590959617</td>\n      <td>{'username': 'gedtraynor41', 'id': 10327894383...</td>\n      <td>1</td>\n      <td>0</td>\n      <td>1</td>\n      <td>0</td>\n      <td>...</td>\n      <td>None</td>\n      <td>None</td>\n      <td>None</td>\n      <td>1.553529e+18</td>\n      <td>{'username': 'Jsize18', 'id': 1436254643714240...</td>\n      <td>[{'username': 'Jsize18', 'id': 143625464371424...</td>\n      <td>{'longitude': -2.9179613, 'latitude': 53.539352}</td>\n      <td>{'fullName': 'Ormskirk, England', 'name': 'Orm...</td>\n      <td>None</td>\n      <td>None</td>\n    </tr>\n    <tr>\n      <th>96</th>\n      <td>https://twitter.com/Ian_Nutten/status/15535296...</td>\n      <td>2022-07-30 23:55:05+00:00</td>\n      <td>@mhdksafa 🙏🙏</td>\n      <td>@mhdksafa 🙏🙏</td>\n      <td>1553529646339293189</td>\n      <td>{'username': 'Ian_Nutten', 'id': 1411031857408...</td>\n      <td>0</td>\n      <td>0</td>\n      <td>0</td>\n      <td>0</td>\n      <td>...</td>\n      <td>None</td>\n      <td>None</td>\n      <td>None</td>\n      <td>1.553478e+18</td>\n      <td>{'username': 'mhdksafa', 'id': 834078524277456...</td>\n      <td>[{'username': 'mhdksafa', 'id': 83407852427745...</td>\n      <td>{'longitude': -2.755316, 'latitude': 53.7152153}</td>\n      <td>{'fullName': 'Higher Penwortham, England', 'na...</td>\n      <td>None</td>\n      <td>None</td>\n    </tr>\n    <tr>\n      <th>97</th>\n      <td>https://twitter.com/___Mezzala/status/15535296...</td>\n      <td>2022-07-30 23:55:03+00:00</td>\n      <td>Welcome back, lads ⚽️🔴 #LFC #CommunityShield h...</td>\n      <td>Welcome back, lads ⚽️🔴 #LFC #CommunityShield h...</td>\n      <td>1553529639095734272</td>\n      <td>{'username': '___Mezzala', 'id': 1346537588987...</td>\n      <td>1</td>\n      <td>0</td>\n      <td>5</td>\n      <td>0</td>\n      <td>...</td>\n      <td>[{'thumbnailUrl': 'https://pbs.twimg.com/ext_t...</td>\n      <td>None</td>\n      <td>None</td>\n      <td>NaN</td>\n      <td>None</td>\n      <td>None</td>\n      <td>{'longitude': -2.033651, 'latitude': 52.381063}</td>\n      <td>{'fullName': 'Birmingham, England', 'name': 'B...</td>\n      <td>[LFC, CommunityShield]</td>\n      <td>None</td>\n    </tr>\n    <tr>\n      <th>98</th>\n      <td>https://twitter.com/hepolytes/status/155352960...</td>\n      <td>2022-07-30 23:54:54+00:00</td>\n      <td>@Bandraidoir @GreenBagOG Too late if you're ov...</td>\n      <td>@Bandraidoir @GreenBagOG Too late if you're ov...</td>\n      <td>1553529602110328834</td>\n      <td>{'username': 'hepolytes', 'id': 588800952, 'di...</td>\n      <td>0</td>\n      <td>0</td>\n      <td>0</td>\n      <td>0</td>\n      <td>...</td>\n      <td>None</td>\n      <td>None</td>\n      <td>None</td>\n      <td>1.553101e+18</td>\n      <td>{'username': 'Bandraidoir', 'id': 2982440403, ...</td>\n      <td>[{'username': 'Bandraidoir', 'id': 2982440403,...</td>\n      <td>{'longitude': -2.206829, 'latitude': 52.543947}</td>\n      <td>{'fullName': 'Wolverhampton, England', 'name':...</td>\n      <td>None</td>\n      <td>None</td>\n    </tr>\n    <tr>\n      <th>99</th>\n      <td>https://twitter.com/Twi5tedkitten/status/15535...</td>\n      <td>2022-07-30 23:54:53+00:00</td>\n      <td>Yay...I'm back!, not that anyone noticed I'd g...</td>\n      <td>Yay...I'm back!, not that anyone noticed I'd g...</td>\n      <td>1553529595349049344</td>\n      <td>{'username': 'Twi5tedkitten', 'id': 281010779,...</td>\n      <td>0</td>\n      <td>0</td>\n      <td>0</td>\n      <td>0</td>\n      <td>...</td>\n      <td>None</td>\n      <td>None</td>\n      <td>None</td>\n      <td>NaN</td>\n      <td>None</td>\n      <td>None</td>\n      <td>{'longitude': -0.8604724, 'latitude': 51.973129}</td>\n      <td>{'fullName': 'Milton Keynes, England', 'name':...</td>\n      <td>[NoteToSelf, TheCWordIsNaughty, HaHa]</td>\n      <td>None</td>\n    </tr>\n  </tbody>\n</table>\n<p>100 rows × 27 columns</p>\n</div>"
     },
     "execution_count": 28,
     "metadata": {},
     "output_type": "execute_result"
    }
   ],
   "source": [
    "df_collect"
   ],
   "metadata": {
    "collapsed": false,
    "pycharm": {
     "name": "#%%\n"
    }
   }
  },
  {
   "cell_type": "code",
   "execution_count": 29,
   "outputs": [],
   "source": [
    "#https://stackoverflow.com/questions/11865685/handling-a-timeout-error-in-python-sockets\n",
    "import errno\n",
    "import os\n",
    "import signal\n",
    "import functools\n",
    "\n",
    "class TimeoutError(Exception):\n",
    "    pass\n",
    "\n",
    "def timeout(seconds=10, error_message=os.strerror(errno.ETIME)):\n",
    "    def decorator(func):\n",
    "        def _handle_timeout(signum, frame):\n",
    "            raise TimeoutError(error_message)\n",
    "\n",
    "        @functools.wraps(func)\n",
    "        def wrapper(*args, **kwargs):\n",
    "            signal.signal(signal.SIGALRM, _handle_timeout)\n",
    "            signal.alarm(seconds)\n",
    "            try:\n",
    "                result = func(*args, **kwargs)\n",
    "            finally:\n",
    "                signal.alarm(0)\n",
    "            return result\n",
    "\n",
    "        return wrapper\n",
    "\n",
    "    return decorator\n",
    "\n",
    "def daterange(start_date, end_date):\n",
    "    for n in range(int((end_date - start_date).days)):\n",
    "        yield start_date + timedelta(n)"
   ],
   "metadata": {
    "collapsed": false,
    "pycharm": {
     "name": "#%%\n"
    }
   }
  },
  {
   "cell_type": "code",
   "execution_count": 30,
   "outputs": [
    {
     "data": {
      "text/plain": "\"@timeout(60)\\ndef scrape_product(start, end, product):\\n    df_tweets = pd.DataFrame(columns=['date', 'content', 'user','hashtags', 'coordinates', 'lang','product'])\\n    df_collect = pd.DataFrame(itertools.islice(sntwitter.TwitterSearchScraper(\\n        f'{product} geocode:53.81653,-3.03033,320km since:{start} until:{end}').get_items(), 100000))\\n    df_collect['product'] = product\\n    df_tweets = pd.concat([df_tweets, df_collect])#, df_BBC, df_Amazon\\n    return df_tweets\\n\\nstart_date = date(2022, 5, 25)\\nend_date = date(2022, 8, 2)\\ndates = pd.date_range(start = start_date, end = end_date,freq='D').strftime('%Y-%m-%d').tolist()\\n\\ncount=1\\ndf_collected = pd.DataFrame(columns=['date', 'content', 'user','hashtags', 'coordinates', 'lang','product'])\\ndf_new = pd.DataFrame(columns=['date', 'content', 'user','hashtags', 'coordinates', 'lang','product'])\\nfor single_date in tqdm(daterange(start_date, end_date)):\\n    next_date = single_date + datetime.timedelta(days=1)\\n    df_new = df_new.drop(df_new.index,inplace=True)\\n    df_collected = df_collected.drop(df_collected.index,inplace=True)\\n    for product in tqdm(top_100_list):\\n        try:\\n            #print(f'doing, single {single_date} next {next_date} product {product}')\\n            df_new = scrape_product(single_date, next_date, product)\\n        except TimeoutError:\\n            print(f'timeout, single {single_date} next {next_date} product {product}')\\n            continue\\n        df_collected = pd.concat([df_collected, df_new])\\n    df_collected.to_csv(f'tweets/tweets{single_date}.csv', index=False)\""
     },
     "execution_count": 30,
     "metadata": {},
     "output_type": "execute_result"
    }
   ],
   "source": [
    "'''@timeout(60)\n",
    "def scrape_product(start, end, product):\n",
    "    df_tweets = pd.DataFrame(columns=['date', 'content', 'user','hashtags', 'coordinates', 'lang','product'])\n",
    "    df_collect = pd.DataFrame(itertools.islice(sntwitter.TwitterSearchScraper(\n",
    "        f'{product} geocode:53.81653,-3.03033,320km since:{start} until:{end}').get_items(), 100000))\n",
    "    df_collect['product'] = product\n",
    "    df_tweets = pd.concat([df_tweets, df_collect])#, df_BBC, df_Amazon\n",
    "    return df_tweets\n",
    "\n",
    "start_date = date(2022, 5, 25)\n",
    "end_date = date(2022, 8, 2)\n",
    "dates = pd.date_range(start = start_date, end = end_date,freq='D').strftime('%Y-%m-%d').tolist()\n",
    "\n",
    "count=1\n",
    "df_collected = pd.DataFrame(columns=['date', 'content', 'user','hashtags', 'coordinates', 'lang','product'])\n",
    "df_new = pd.DataFrame(columns=['date', 'content', 'user','hashtags', 'coordinates', 'lang','product'])\n",
    "for single_date in tqdm(daterange(start_date, end_date)):\n",
    "    next_date = single_date + datetime.timedelta(days=1)\n",
    "    df_new = df_new.drop(df_new.index,inplace=True)\n",
    "    df_collected = df_collected.drop(df_collected.index,inplace=True)\n",
    "    for product in tqdm(top_100_list):\n",
    "        try:\n",
    "            #print(f'doing, single {single_date} next {next_date} product {product}')\n",
    "            df_new = scrape_product(single_date, next_date, product)\n",
    "        except TimeoutError:\n",
    "            print(f'timeout, single {single_date} next {next_date} product {product}')\n",
    "            continue\n",
    "        df_collected = pd.concat([df_collected, df_new])\n",
    "    df_collected.to_csv(f'tweets/tweets{single_date}.csv', index=False)'''\n",
    "\n",
    "\n"
   ],
   "metadata": {
    "collapsed": false,
    "pycharm": {
     "name": "#%%\n"
    }
   }
  },
  {
   "cell_type": "code",
   "execution_count": null,
   "outputs": [
    {
     "name": "stderr",
     "output_type": "stream",
     "text": [
      "0it [00:00, ?it/s]\n",
      "  0%|          | 0/31 [00:00<?, ?it/s]\u001B[A\n",
      "  3%|▎         | 1/31 [00:01<00:31,  1.06s/it]\u001B[A\n",
      "  6%|▋         | 2/31 [00:03<00:45,  1.59s/it]\u001B[A\n",
      " 10%|▉         | 3/31 [00:03<00:36,  1.29s/it]\u001B[A\n",
      " 13%|█▎        | 4/31 [00:04<00:31,  1.15s/it]\u001B[A\n",
      " 16%|█▌        | 5/31 [00:05<00:27,  1.07s/it]\u001B[A\n",
      " 19%|█▉        | 6/31 [00:07<00:35,  1.40s/it]\u001B[A\n",
      " 23%|██▎       | 7/31 [00:08<00:30,  1.25s/it]\u001B[A\n",
      " 26%|██▌       | 8/31 [00:13<00:51,  2.22s/it]\u001B[A\n",
      " 29%|██▉       | 9/31 [00:16<00:55,  2.51s/it]\u001B[A\n",
      " 32%|███▏      | 10/31 [00:19<00:54,  2.60s/it]\u001B[A\n",
      " 35%|███▌      | 11/31 [00:24<01:06,  3.35s/it]\u001B[A\n",
      " 39%|███▊      | 12/31 [00:25<00:52,  2.78s/it]\u001B[A\n",
      " 42%|████▏     | 13/31 [00:31<01:07,  3.75s/it]\u001B[A"
     ]
    }
   ],
   "source": [
    "@timeout(60)\n",
    "def scrape_account(start, end, account):\n",
    "    df_tweets = pd.DataFrame(columns=['date', 'content', 'user','hashtags', 'coordinates', 'lang','account'])\n",
    "    df_collect = pd.DataFrame(itertools.islice(sntwitter.TwitterSearchScraper(\n",
    "        f'from:{account} since:{start} until:{end}').get_items(), 100000)) #geocode:53.81653,-3.03033,320km\n",
    "    df_collect['account'] = account\n",
    "    df_tweets = pd.concat([df_tweets, df_collect])#, df_BBC, df_Amazon\n",
    "    return df_tweets\n",
    "\n",
    "\n",
    "start_date = date(2020, 11, 29)\n",
    "end_date = date(2022, 8, 2)\n",
    "dates = pd.date_range(start = start_date, end = end_date,freq='D').strftime('%Y-%m-%d').tolist()\n",
    "\n",
    "count=1\n",
    "df_collected = pd.DataFrame(columns=['date', 'content', 'user','hashtags', 'coordinates', 'lang','account'])\n",
    "df_new = pd.DataFrame(columns=['date', 'content', 'user','hashtags', 'coordinates', 'lang','product'])\n",
    "accounts = ['BBCBreaking', 'BBCNews', '10DowningStreet', 'RoyalFamily', 'MayorofLondon', 'Tfl',\n",
    "'AmazonUK', 'British_Airways'\t, 'guardiannews', 'Telegraph', 'TheSun', 'thetimes', 'DailyMirror',\n",
    "'Daily_Express', 'ft', 'DailyMailUK', 'standardnews', 'EveningStandard', 'TheScotsman', 'MartinSLewis', 'MoneySavingExp', 'WhichUk',\n",
    "'Burberry', 'NandosUK', 'PenguinUKBooks', 'TopShop', 'ASOS', 'StellaMcCartney', 'NETAPORTER', 'unitedbus', 'BondandMayfairX',\n",
    "]\n",
    "for single_date in tqdm(daterange(start_date, end_date)):\n",
    "    next_date = single_date + datetime.timedelta(days=1)\n",
    "    df_new = df_new.drop(df_new.index,inplace=True)\n",
    "    df_collected = df_collected.drop(df_collected.index,inplace=True)\n",
    "    for account in tqdm(accounts):\n",
    "        try:\n",
    "            #print(f'doing, single {single_date} next {next_date} product {product}')\n",
    "            df_new = scrape_account(single_date, next_date, account)\n",
    "        except TimeoutError:\n",
    "            print(f'timeout, single {single_date} next {next_date} account {account}')\n",
    "            continue\n",
    "        df_collected = pd.concat([df_collected, df_new])\n",
    "    df_collected.to_csv(f'tweets/tweets{single_date}-accounts.csv', index=False)\n"
   ],
   "metadata": {
    "collapsed": false,
    "pycharm": {
     "name": "#%%\n",
     "is_executing": true
    }
   }
  },
  {
   "cell_type": "code",
   "execution_count": null,
   "outputs": [],
   "source": [
    "\n",
    "def scrape_any(start, end):\n",
    "    df_tweets = pd.DataFrame(columns=['date', 'content', 'user','hashtags', 'coordinates', 'lang','account'])\n",
    "    df_collect = pd.DataFrame(itertools.islice(sntwitter.TwitterSearchScraper(\n",
    "        f'geocode:53.81653,-3.03033,320km since:{start} until:{end}').get_items(), 1000)) #geocode:53.81653,-3.03033,320km\n",
    "    df_collect['any'] = 'any'\n",
    "    df_tweets = pd.concat([df_tweets, df_collect])#, df_BBC, df_Amazon\n",
    "    return df_tweets\n",
    "\n",
    "start_date = date(2015, 12, 31)\n",
    "end_date = date(2022, 8, 2)\n",
    "dates = pd.date_range(start = start_date, end = end_date,freq='D').strftime('%Y-%m-%d').tolist()\n",
    "\n",
    "count=1\n",
    "df_collected = pd.DataFrame(columns=['date', 'content', 'user','hashtags', 'coordinates', 'lang','account'])\n",
    "df_new = pd.DataFrame(columns=['date', 'content', 'user','hashtags', 'coordinates', 'lang','product'])\n",
    "\n",
    "for single_date in tqdm(daterange(start_date, end_date)):\n",
    "    next_date = single_date + datetime.timedelta(days=1)\n",
    "    df_new = df_new.drop(df_new.index,inplace=True)\n",
    "    df_collected = df_collected.drop(df_collected.index,inplace=True)\n",
    "    df_new = scrape_any(single_date, next_date)\n",
    "    df_collected = pd.concat([df_collected, df_new])\n",
    "    df_collected.to_csv(f'tweets/tweets{single_date}-any.csv', index=False)"
   ],
   "metadata": {
    "collapsed": false,
    "pycharm": {
     "name": "#%%\n",
     "is_executing": true
    }
   }
  },
  {
   "cell_type": "code",
   "execution_count": null,
   "outputs": [],
   "source": [],
   "metadata": {
    "collapsed": false,
    "pycharm": {
     "name": "#%%\n"
    }
   }
  }
 ],
 "metadata": {
  "kernelspec": {
   "display_name": "Python 3",
   "language": "python",
   "name": "python3"
  },
  "language_info": {
   "codemirror_mode": {
    "name": "ipython",
    "version": 2
   },
   "file_extension": ".py",
   "mimetype": "text/x-python",
   "name": "python",
   "nbconvert_exporter": "python",
   "pygments_lexer": "ipython2",
   "version": "2.7.6"
  }
 },
 "nbformat": 4,
 "nbformat_minor": 0
}